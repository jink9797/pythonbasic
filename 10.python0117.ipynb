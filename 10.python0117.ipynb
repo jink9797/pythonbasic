{
 "cells": [
  {
   "cell_type": "code",
   "execution_count": 9,
   "id": "76547ebf-b4df-4ea5-a5c4-9cfa0d2e5cbd",
   "metadata": {},
   "outputs": [],
   "source": [
    "import numpy as np"
   ]
  },
  {
   "cell_type": "markdown",
   "id": "b17a188d-e62f-42e7-9527-cae28eb1f1ff",
   "metadata": {},
   "source": [
    "### 230117 복습 ###"
   ]
  },
  {
   "cell_type": "code",
   "execution_count": 28,
   "id": "6e7c674b-1d75-4b0f-8fd9-5c604380ddf0",
   "metadata": {},
   "outputs": [],
   "source": [
    "# Q 현재까지 계산한 값을 속성 value(class속성으로 볼껀지, 인스턴스 속성으로 볼껀지)로 갖는 계산기 클래스 만들기\n",
    "#   range는 더할수가 없음. 값이 그때그때 바뀌어서\n",
    " \n",
    "class Calculator:                         \n",
    "    def __init__(self,value = 0):         # value 초기값은 '0'\n",
    "        self.value = value                 \n",
    "\n",
    "    def add(self,*args):                  # 가변인자( 활용\n",
    "        if len(args) == 0:                # 인수가 없는경우('0') 숫자 입력해줘 / 크기를 모르니 len() 활용\n",
    "            print(\"숫자를 입력해주세요\")\n",
    "            return                        # 인수가 없을때 처리를 하지 않는다\n",
    "        a = np.array(args)                # 변수주고 np\n",
    "        self.value += np.sum(a)           # value값에 인수로 받은 값을 가산 (NumPy sum활용)\n",
    "                                    \n",
    "    \n",
    "    def minus(self,*args):\n",
    "        if len(args) == 0:\n",
    "            print(\"숫자를 입력해주세요\")  \n",
    "            return\n",
    "        a = np.array(args)                \n",
    "        self.value -= np.sum(a)           # value값에 인수로 받은 값을 감산 (NumPy활용)\n",
    "\n",
    "    def show_value(self):\n",
    "        print(\"현재 값은\",self.value, \"입니다.\")\n",
    "        "
   ]
  },
  {
   "cell_type": "code",
   "execution_count": 29,
   "id": "b3b3514a-f765-43be-9509-e9cece986ca2",
   "metadata": {},
   "outputs": [],
   "source": [
    "c = Calculator()"
   ]
  },
  {
   "cell_type": "code",
   "execution_count": 30,
   "id": "004e89a5-e741-472d-b698-7e9e07a45985",
   "metadata": {},
   "outputs": [],
   "source": [
    "c.add(100)\n",
    "c.minus(20)"
   ]
  },
  {
   "cell_type": "code",
   "execution_count": 31,
   "id": "bb198188-4217-4382-9b00-b3049598e0ea",
   "metadata": {},
   "outputs": [
    {
     "name": "stdout",
     "output_type": "stream",
     "text": [
      "현재 값은 80 입니다.\n"
     ]
    }
   ],
   "source": [
    "c.show_value()    #80"
   ]
  },
  {
   "cell_type": "code",
   "execution_count": 32,
   "id": "2d2fe76c-85bf-47dd-a886-d39ececc2666",
   "metadata": {},
   "outputs": [
    {
     "name": "stdout",
     "output_type": "stream",
     "text": [
      "숫자를 입력해주세요\n"
     ]
    }
   ],
   "source": [
    "c.add()           #숫자를 입력해"
   ]
  },
  {
   "cell_type": "code",
   "execution_count": 33,
   "id": "b57da31d-9662-4df4-9fd1-d6558125fbfb",
   "metadata": {},
   "outputs": [],
   "source": [
    "c.minus([10,20])"
   ]
  },
  {
   "cell_type": "code",
   "execution_count": 34,
   "id": "b953fd4f-d8e7-4855-b88e-f97f28b72add",
   "metadata": {},
   "outputs": [
    {
     "name": "stdout",
     "output_type": "stream",
     "text": [
      "현재 값은 50 입니다.\n"
     ]
    }
   ],
   "source": [
    "c.show_value()     #50"
   ]
  },
  {
   "cell_type": "code",
   "execution_count": 35,
   "id": "e5cdb245-f6ba-4ec4-83c5-ea1067793770",
   "metadata": {},
   "outputs": [],
   "source": [
    "c.add(range(1,6))"
   ]
  },
  {
   "cell_type": "code",
   "execution_count": 36,
   "id": "b36de081-beb8-40aa-9adc-1c58ea53cdb4",
   "metadata": {},
   "outputs": [
    {
     "name": "stdout",
     "output_type": "stream",
     "text": [
      "현재 값은 65 입니다.\n"
     ]
    }
   ],
   "source": [
    "c.show_value()     #65"
   ]
  },
  {
   "cell_type": "markdown",
   "id": "864caf9a-08f5-4e17-a823-23f6e0fab7af",
   "metadata": {},
   "source": [
    "### NumPy\n",
    "- 크기만 알면 type만큼 더해서 그값이 나옴 -> 어떤 dimensions을 통해 깔끔하게 내놓을것인가"
   ]
  },
  {
   "cell_type": "markdown",
   "id": "adf01eaf-4583-42e2-9a1f-635f050de0c3",
   "metadata": {},
   "source": [
    "### 벡터화 연산\n",
    "- 넘파이 배열의 벡터화 연산은 간단하게 계산 가능 (%%time은 셀코드의 실행시간을 측정 : 아이파이썬, 매직아이)\n",
    "- 사칙 연산, 비교 연산, 논리 연산 모두 벡터화 연산이 가능하다\n",
    "- 배열의 각 원소들을 일일히 비교하는 것이 아닌, 배열의 모든 원소가 같은지 확인하려면 'all' 명령 사용 (np.all())"
   ]
  },
  {
   "cell_type": "markdown",
   "id": "ad3c543b-65c7-4026-8f87-e50fb8cc36b0",
   "metadata": {},
   "source": [
    "### 스칼라와 벡터/행렬의 곱셉\n",
    "- 넘파이 배열에서 스칼라와 벡터/행렬의 곱도 선형대수에서 사용하는 식과 같이 표현 가능"
   ]
  },
  {
   "cell_type": "markdown",
   "id": "cf10cd11-b280-452c-bcbc-e272c4f05704",
   "metadata": {},
   "source": [
    "### 브로드캐스팅  \n",
    "- 보통 배열끼리 산술 연산을 하려면 두 배열의 shapes가 정확히 같아야함.\n",
    "- 넘파이 배열은 모양이 다른 배열간의 연산이 가능. 배열의 크기를 변환(브로드캐스팅)지원\n",
    "- 넘파이가 산술 연산 중에 모양이 다른 배열을 처리하는 방법\n",
    "- 넘파이가 처리하는 브로드캐스팅의 방법은 더 작은 배열이 더 큰 배열에 호환되는 모양으로 확장\n",
    "- 넘파이 배열의 shape을 우측 정렬하고 각 차원별로 숫자를 비교\n",
    "#### 모든 경우에 브로드 캐스팅이 될수 있는가\n",
    "- 비교하는 모든 차원의 두 조건 중 하나에 충족되어야 브로드 캐스팅 가능\n",
    "-  a. 해당 차원 간의 숫자가 동일한 경우 /  b. 해당 차원중 하나가 1인 경우\n",
    "- 결국 1이거나 같거나\n",
    "- 3차원: 깊이x 행x 열 / 2차원: 행x 열 / 1차원: 열 (우측 정렬 후 확인)\n",
    "#### 브로드 캐스팅이 불가능할때\n",
    "- 각 차원의 숫자가 일치하지 않을 때( value error가 남 )\n",
    "#### 브로드 캐스팅 규칙\n",
    "- 배열과 스칼라 값이 연산에서 결합\n",
    "- 더 적은 메모리를 이용하기 때문에 스칼라 곱이 빠름"
   ]
  },
  {
   "cell_type": "code",
   "execution_count": 40,
   "id": "55b2a4ed-ba16-456b-a35b-e930e51231b9",
   "metadata": {},
   "outputs": [
    {
     "data": {
      "text/plain": [
       "array([2., 4., 6.])"
      ]
     },
     "execution_count": 40,
     "metadata": {},
     "output_type": "execute_result"
    }
   ],
   "source": [
    "# 스칼라 곱\n",
    "a = np.array([1.0,2.0,3.0])\n",
    "b = 2.0\n",
    "a*b"
   ]
  },
  {
   "cell_type": "markdown",
   "id": "2a3e97af-c4a7-4502-9b15-cf1039a48ecf",
   "metadata": {},
   "source": [
    "### 차원 축소 연산\n",
    "- 행렬의 하나의 행에 있는 원소들을 하나의 데이터 집합으로 보고, 그 집합의 평균을 구하면 각 행에 대해 하나의 숫자가 나옴\n",
    "- ex) 10 * 5 크기의 2차원 배열에 행-평균을 구하면 10개의 숫자를 가진 1차원 벡터가 나옴(차원축소연산)\n",
    "- 넘파이 차원축소 연산 명령 or  메서드를 지원\n",
    "- 최대/최소 : min, max, argmin, argmax\n",
    "- 통계 : sum, mean, median, std, var(분산)\n",
    "- 불리언 : all, any"
   ]
  },
  {
   "cell_type": "markdown",
   "id": "76f36ad7-1f0a-490f-aaa3-556f3a33e4b0",
   "metadata": {
    "tags": []
   },
   "source": [
    "### 차원축소 연산 - sum()\n",
    "- 해당 배열의 합산 결과 반환. 연산대상이 2차원 이상일 때에는 axis키워드 인수 사용\n",
    "- np.sum()과 ndarray.sum()은 동등한 메서드"
   ]
  },
  {
   "cell_type": "code",
   "execution_count": 106,
   "id": "94042adc-5f43-4eac-9977-1103c0eb252a",
   "metadata": {},
   "outputs": [
    {
     "data": {
      "text/plain": [
       "array([1, 2, 3, 4])"
      ]
     },
     "execution_count": 106,
     "metadata": {},
     "output_type": "execute_result"
    }
   ],
   "source": [
    "x = np.array([1,2,3,4])\n",
    "x"
   ]
  },
  {
   "cell_type": "code",
   "execution_count": 107,
   "id": "952404d1-a2fe-4758-8d79-40a40f5a8a60",
   "metadata": {},
   "outputs": [
    {
     "data": {
      "text/plain": [
       "10"
      ]
     },
     "execution_count": 107,
     "metadata": {},
     "output_type": "execute_result"
    }
   ],
   "source": [
    "np.sum(x)"
   ]
  },
  {
   "cell_type": "code",
   "execution_count": 108,
   "id": "d3a7d786-5fe9-4a56-87bf-dfa3f8b35ebb",
   "metadata": {},
   "outputs": [
    {
     "data": {
      "text/plain": [
       "10"
      ]
     },
     "execution_count": 108,
     "metadata": {},
     "output_type": "execute_result"
    }
   ],
   "source": [
    "x.sum()"
   ]
  },
  {
   "cell_type": "code",
   "execution_count": 109,
   "id": "d34e522e-49a8-476a-81f7-717c65a3d31d",
   "metadata": {},
   "outputs": [
    {
     "data": {
      "text/plain": [
       "array([[ 0,  1,  2,  3],\n",
       "       [ 4,  5,  6,  7],\n",
       "       [ 8,  9, 10, 11]])"
      ]
     },
     "execution_count": 109,
     "metadata": {},
     "output_type": "execute_result"
    }
   ],
   "source": [
    "x = np.arange(12).reshape(3,-1)\n",
    "x"
   ]
  },
  {
   "cell_type": "code",
   "execution_count": 110,
   "id": "e0488573-4c54-44a3-88d7-53593da10277",
   "metadata": {},
   "outputs": [
    {
     "data": {
      "text/plain": [
       "array([12, 15, 18, 21])"
      ]
     },
     "execution_count": 110,
     "metadata": {},
     "output_type": "execute_result"
    }
   ],
   "source": [
    "x.sum(axis = 0)         # axis = 0 은 행 간의 연산결과를 구함"
   ]
  },
  {
   "cell_type": "code",
   "execution_count": 111,
   "id": "0eb35b39-46b2-4f86-95bf-0237cb76a23e",
   "metadata": {},
   "outputs": [
    {
     "data": {
      "text/plain": [
       "array([ 6, 22, 38])"
      ]
     },
     "execution_count": 111,
     "metadata": {},
     "output_type": "execute_result"
    }
   ],
   "source": [
    "x.sum(axis = 1)         # axis = 0 은 행 간의 연산결과를 구함"
   ]
  },
  {
   "cell_type": "markdown",
   "id": "bfa031c7-52a3-4a1b-a355-e491c540981a",
   "metadata": {},
   "source": [
    "### 차원축소 연산 - min()\n",
    "- 해당 배열의 제일 작은 값의 결과를 반환. 2차원 이상일 때는 axis키워드 인수 사용\n"
   ]
  },
  {
   "cell_type": "code",
   "execution_count": 112,
   "id": "83bedf1d-45ac-4a69-b18c-5eb5548f0658",
   "metadata": {},
   "outputs": [
    {
     "data": {
      "text/plain": [
       "array([[[ 0,  1],\n",
       "        [ 2,  3],\n",
       "        [ 4,  5],\n",
       "        [ 6,  7],\n",
       "        [ 8,  9]],\n",
       "\n",
       "       [[10, 11],\n",
       "        [12, 13],\n",
       "        [14, 15],\n",
       "        [16, 17],\n",
       "        [18, 19]]])"
      ]
     },
     "execution_count": 112,
     "metadata": {},
     "output_type": "execute_result"
    }
   ],
   "source": [
    "x = np.arange(20).reshape(2,5,-1)\n",
    "x"
   ]
  },
  {
   "cell_type": "code",
   "execution_count": 113,
   "id": "f0b57c53-3a46-4c25-9b13-619d6dae091c",
   "metadata": {},
   "outputs": [
    {
     "data": {
      "text/plain": [
       "0"
      ]
     },
     "execution_count": 113,
     "metadata": {},
     "output_type": "execute_result"
    }
   ],
   "source": [
    "x.min()"
   ]
  },
  {
   "cell_type": "code",
   "execution_count": 114,
   "id": "896ee060-a8ff-4c7a-b442-f97b863fa947",
   "metadata": {},
   "outputs": [
    {
     "data": {
      "text/plain": [
       "0"
      ]
     },
     "execution_count": 114,
     "metadata": {},
     "output_type": "execute_result"
    }
   ],
   "source": [
    "np.min(x)"
   ]
  },
  {
   "cell_type": "code",
   "execution_count": 115,
   "id": "6dedd4fc-77b6-45e5-9c78-bded8d7f9fbc",
   "metadata": {},
   "outputs": [
    {
     "data": {
      "text/plain": [
       "array([[0, 1],\n",
       "       [2, 3],\n",
       "       [4, 5],\n",
       "       [6, 7],\n",
       "       [8, 9]])"
      ]
     },
     "execution_count": 115,
     "metadata": {},
     "output_type": "execute_result"
    }
   ],
   "source": [
    "x.min(axis = 0)"
   ]
  },
  {
   "cell_type": "code",
   "execution_count": 116,
   "id": "aa9dc9b3-5121-439a-9e7f-16966a7d1f0a",
   "metadata": {},
   "outputs": [
    {
     "data": {
      "text/plain": [
       "array([[ 0,  1],\n",
       "       [10, 11]])"
      ]
     },
     "execution_count": 116,
     "metadata": {},
     "output_type": "execute_result"
    }
   ],
   "source": [
    "np.min(x, axis = 1)"
   ]
  },
  {
   "cell_type": "code",
   "execution_count": 117,
   "id": "7a591de5-dbdd-4f3b-a6d6-62347a5f20a0",
   "metadata": {},
   "outputs": [
    {
     "data": {
      "text/plain": [
       "array([[ 0,  2,  4,  6,  8],\n",
       "       [10, 12, 14, 16, 18]])"
      ]
     },
     "execution_count": 117,
     "metadata": {},
     "output_type": "execute_result"
    }
   ],
   "source": [
    "x.min(axis = 2)"
   ]
  },
  {
   "cell_type": "markdown",
   "id": "34390ebc-2020-44fc-9b8f-05771a148b99",
   "metadata": {},
   "source": [
    "### 차원축소 연산 - argmin() \n",
    "- 해당 배열의 제일 작은 값의 인덱스를 반환. 2차원 이상일 때 동일"
   ]
  },
  {
   "cell_type": "markdown",
   "id": "9b324a80-1eae-46bf-bdac-a84d5dc5ca9f",
   "metadata": {},
   "source": [
    "### 차원축소 연산 - max()\n",
    "- 제일 큰 값의 결과를 반환. 2차원 동일"
   ]
  },
  {
   "cell_type": "markdown",
   "id": "065dac44-f7c3-4ca2-b377-ba320a0310a7",
   "metadata": {},
   "source": [
    "### 차원축소 연산 - argmax()\n",
    "- 제일 큰 값의 인덱스를 반환"
   ]
  },
  {
   "cell_type": "markdown",
   "id": "d4b78a8d-696c-4725-8d39-edb4d716dad6",
   "metadata": {},
   "source": [
    "### 차원축소 연산 \n",
    "- mean() 평균\n",
    "- median()중앙 값 \n",
    "- np.all().모든 요소가 T일때 T \n",
    "- np.any() 하나라도 T일때 T"
   ]
  },
  {
   "cell_type": "code",
   "execution_count": 118,
   "id": "99d3c258-e036-4a57-9dc6-1909a1e4a0bf",
   "metadata": {},
   "outputs": [],
   "source": [
    "practice = np.array([[1.1, 7.1, 8.0, 2.1, 6.5, 7.2],\n",
    "                     [2.7, 5.2, 3.3, 9.0, 7.7, 2.8],\n",
    "                     [0.7, 8.8, 4.2, 8.9, 4.3, 7.4],\n",
    "                     [8.2, 1.1, 5.4, 2.9, 6.9, 0.2],\n",
    "                     [7.4, 4.8, 2.7, 3.1, 2.8, 8.9]])\n"
   ]
  },
  {
   "cell_type": "code",
   "execution_count": 119,
   "id": "4af0b6b2-d278-4766-abb5-6ede20c58ad7",
   "metadata": {},
   "outputs": [
    {
     "data": {
      "text/plain": [
       "9.0"
      ]
     },
     "execution_count": 119,
     "metadata": {},
     "output_type": "execute_result"
    }
   ],
   "source": [
    "practice.max()"
   ]
  },
  {
   "cell_type": "code",
   "execution_count": 120,
   "id": "b480467a-cc21-4a1a-aab5-ffdb2067b80b",
   "metadata": {},
   "outputs": [
    {
     "data": {
      "text/plain": [
       "array([20.1, 27. , 23.6, 26. , 28.2, 26.5])"
      ]
     },
     "execution_count": 120,
     "metadata": {},
     "output_type": "execute_result"
    }
   ],
   "source": [
    "np.sum(practice, axis = 0)"
   ]
  },
  {
   "cell_type": "code",
   "execution_count": 121,
   "id": "53c32c32-16e2-4009-b79e-3eacdcfa447d",
   "metadata": {},
   "outputs": [
    {
     "data": {
      "text/plain": [
       "array([8.2, 8.8, 8. , 9. , 7.7, 8.9])"
      ]
     },
     "execution_count": 121,
     "metadata": {},
     "output_type": "execute_result"
    }
   ],
   "source": [
    "np.max(practice,axis = 0)"
   ]
  },
  {
   "cell_type": "code",
   "execution_count": 122,
   "id": "26c22902-8c02-4ae2-b14a-2736597c94dc",
   "metadata": {},
   "outputs": [
    {
     "data": {
      "text/plain": [
       "array([5.33333333, 5.11666667, 5.71666667, 4.11666667, 4.95      ])"
      ]
     },
     "execution_count": 122,
     "metadata": {},
     "output_type": "execute_result"
    }
   ],
   "source": [
    "np.mean(practice,axis = 1)"
   ]
  },
  {
   "cell_type": "code",
   "execution_count": 123,
   "id": "552ccc8b-0bda-4c9a-902f-fa39a8452d4b",
   "metadata": {},
   "outputs": [
    {
     "data": {
      "text/plain": [
       "array([1.1, 2.7, 0.7, 0.2, 2.7])"
      ]
     },
     "execution_count": 123,
     "metadata": {},
     "output_type": "execute_result"
    }
   ],
   "source": [
    "np.min(practice,axis = 1)"
   ]
  },
  {
   "cell_type": "markdown",
   "id": "dde1580d-867b-4806-8b8c-4f725aa9e82c",
   "metadata": {},
   "source": [
    "## 정렬\n",
    "- numpy.sort()를 사용. 배열 안의 원소를 크기에 따라 정렬 -> 새로운 배열을 만듬\n",
    "- 2차원 이상인 경우 == 행, 열을 각각 따로 'axis' 인수를 사용 (행을 정렬할건지, 열을 정렬할 건지 결정)\n",
    "1. axis = 0 이면 각각의 행을 따로 정렬\n",
    "2. axis = 1 이면 각각의 열을 따로 정렬\n",
    "3. axis = -1 디폴트 값은 -1 즉 가장 안쪽(나중)의 차원\n",
    "\n",
    "- ndarray.sort() 메서드는 해당 객체의 자료 자체가 변화하는 자체 변화(in-place) 메서드(주의필요)\n",
    "- 자료를 정렬하는 것이 아니라 순서만 알고싶다면 argsort명령 사용"
   ]
  },
  {
   "cell_type": "code",
   "execution_count": 157,
   "id": "d16358ad-3224-4b7e-9066-f30e1f17f05c",
   "metadata": {},
   "outputs": [
    {
     "data": {
      "text/plain": [
       "array([[ 4,  3,  5,  7],\n",
       "       [ 1, 12, 11,  9],\n",
       "       [ 2, 15,  1, 14]])"
      ]
     },
     "execution_count": 157,
     "metadata": {},
     "output_type": "execute_result"
    }
   ],
   "source": [
    "a = np.array([[4,3,5,7],\n",
    "              [1,12,11,9],\n",
    "              [2,15,1,14]])\n",
    "a"
   ]
  },
  {
   "cell_type": "code",
   "execution_count": 131,
   "id": "fffdd13d-1597-472e-b8e5-9ec469f5d84f",
   "metadata": {},
   "outputs": [
    {
     "data": {
      "text/plain": [
       "array([[ 3,  4,  5,  7],\n",
       "       [ 1,  9, 11, 12],\n",
       "       [ 1,  2, 14, 15]])"
      ]
     },
     "execution_count": 131,
     "metadata": {},
     "output_type": "execute_result"
    }
   ],
   "source": [
    "np.sort(a)       # axis = -1 과  axis = 1 과 동일"
   ]
  },
  {
   "cell_type": "code",
   "execution_count": 132,
   "id": "06b78b39-d42e-4f02-bb90-d713dc82ec14",
   "metadata": {},
   "outputs": [
    {
     "data": {
      "text/plain": [
       "array([[ 1,  3,  1,  7],\n",
       "       [ 2, 12,  5,  9],\n",
       "       [ 4, 15, 11, 14]])"
      ]
     },
     "execution_count": 132,
     "metadata": {},
     "output_type": "execute_result"
    }
   ],
   "source": [
    "np.sort(a, axis = 0) "
   ]
  },
  {
   "cell_type": "code",
   "execution_count": 144,
   "id": "5fd44130-0fd2-492d-9127-b93aa65ef55e",
   "metadata": {},
   "outputs": [
    {
     "data": {
      "text/plain": [
       "array([2, 3, 1, 0], dtype=int64)"
      ]
     },
     "execution_count": 144,
     "metadata": {},
     "output_type": "execute_result"
    }
   ],
   "source": [
    "a = np.array([42,38,12,25])\n",
    "j = np.argsort(a)             #순서를 가져올수 있음\n",
    "j                             # 작은것부터 순서대로"
   ]
  },
  {
   "cell_type": "code",
   "execution_count": 145,
   "id": "00f1c295-2293-4bb7-bc1d-de603cd376d0",
   "metadata": {},
   "outputs": [
    {
     "data": {
      "text/plain": [
       "array([12, 25, 38, 42])"
      ]
     },
     "execution_count": 145,
     "metadata": {},
     "output_type": "execute_result"
    }
   ],
   "source": [
    "a[j]                          # 인덱싱"
   ]
  },
  {
   "cell_type": "code",
   "execution_count": 146,
   "id": "75852aaf-9629-4b5f-9b09-509fec65b045",
   "metadata": {},
   "outputs": [
    {
     "data": {
      "text/plain": [
       "array([12, 25, 38, 42])"
      ]
     },
     "execution_count": 146,
     "metadata": {},
     "output_type": "execute_result"
    }
   ],
   "source": [
    "np.sort(a)"
   ]
  },
  {
   "cell_type": "markdown",
   "id": "acbea2a8-30ab-4397-a71e-42be0ad05e07",
   "metadata": {},
   "source": [
    "### 고급 인덱싱 - 인덱스 배열을 사용한 인덱싱"
   ]
  },
  {
   "cell_type": "code",
   "execution_count": 190,
   "id": "e4d3facd-4463-46f3-b368-301a9b0ae035",
   "metadata": {},
   "outputs": [
    {
     "data": {
      "text/plain": [
       "array([[1, 2],\n",
       "       [3, 4],\n",
       "       [5, 6]])"
      ]
     },
     "execution_count": 190,
     "metadata": {},
     "output_type": "execute_result"
    }
   ],
   "source": [
    "a = np.array([[1,2],[3,4],[5,6]])\n",
    "a"
   ]
  },
  {
   "cell_type": "code",
   "execution_count": 191,
   "id": "2779f81a-f1d5-4c4a-bfee-d5b86a5841e9",
   "metadata": {},
   "outputs": [
    {
     "name": "stdout",
     "output_type": "stream",
     "text": [
      "[1 4 5]\n"
     ]
    }
   ],
   "source": [
    "print(a[[0,1,2],[0,1,0]])    # # a[0,0] a[1,1] a[2,0]을 인덱스로 함 "
   ]
  },
  {
   "cell_type": "code",
   "execution_count": 192,
   "id": "b0f945b6-ac69-4044-9d6e-468043679545",
   "metadata": {},
   "outputs": [
    {
     "data": {
      "text/plain": [
       "array([[1, 2],\n",
       "       [3, 4],\n",
       "       [5, 6]])"
      ]
     },
     "execution_count": 192,
     "metadata": {},
     "output_type": "execute_result"
    }
   ],
   "source": [
    " a = np.array([[1,2],[3,4],[5,6]])\n",
    "a"
   ]
  },
  {
   "cell_type": "code",
   "execution_count": 193,
   "id": "39bf9051-2771-42b9-81b5-15d95be5f0cd",
   "metadata": {},
   "outputs": [
    {
     "name": "stdout",
     "output_type": "stream",
     "text": [
      "[[1 2 1]\n",
      " [3 4 3]\n",
      " [5 6 5]]\n"
     ]
    }
   ],
   "source": [
    "print(a[:,[0,1,0]])"
   ]
  },
  {
   "cell_type": "code",
   "execution_count": 218,
   "id": "b83d351b-5c02-40c1-b009-6be39152b569",
   "metadata": {},
   "outputs": [],
   "source": [
    "# Q 다음 배열은 첫번째행 (row)에 학번, 두번째 행에 영어성적, 세번째 행에 수학성적을 적은 배열이다.\n",
    "#   영어 성적을 기준으로 각 열(column)을 재정렬해라\n",
    "\n",
    "scores = np.array([[1,2,3,4,],\n",
    "                   [46,99,100,71],\n",
    "                   [81,59,90,100]])"
   ]
  },
  {
   "cell_type": "code",
   "execution_count": 215,
   "id": "3def7538-f626-413f-815a-5c019944f938",
   "metadata": {},
   "outputs": [
    {
     "name": "stdout",
     "output_type": "stream",
     "text": [
      "[[  1   4   2   3]\n",
      " [ 46  71  99 100]\n",
      " [ 81 100  59  90]]\n"
     ]
    }
   ],
   "source": [
    "# 1\n",
    "\n",
    "print(scores[:,[0,3,1,2]])    # [: 인덱스 전체 끝까지"
   ]
  },
  {
   "cell_type": "code",
   "execution_count": 219,
   "id": "2b6ea912-7e40-4760-9f21-279b7af17259",
   "metadata": {},
   "outputs": [
    {
     "name": "stdout",
     "output_type": "stream",
     "text": [
      "[[  1   4   2   3]\n",
      " [ 46  71  99 100]\n",
      " [ 81 100  59  90]]\n"
     ]
    }
   ],
   "source": [
    "# 2\n",
    "\n",
    "j = np.argsort(scores[1])\n",
    "print(scores[:,j])          # : <<-- [[0,1,2] : [0,3,1,2]]"
   ]
  },
  {
   "cell_type": "markdown",
   "id": "6f18f5eb-80ff-4610-bdeb-9b5b6386f11e",
   "metadata": {},
   "source": [
    "### 기술 통계\n",
    "#### 데이터 집합에 대해 간단한 통계를 계산하는 함수 제공 : 기술통계"
   ]
  },
  {
   "cell_type": "markdown",
   "id": "742a0520-6bad-454a-a74d-e23c64ee37cd",
   "metadata": {},
   "source": [
    "### 데이터의 개수\n",
    "#### len()함수로 구할수 있음    len(a)"
   ]
  },
  {
   "cell_type": "markdown",
   "id": "4d15678a-bcaf-48bb-bd96-e8c3ef1d29fe",
   "metadata": {},
   "source": [
    "### 표본 평균 \n",
    "#### 평균을 통계용어로 표본 평균이라고 함. np.mean(a) #평균"
   ]
  },
  {
   "cell_type": "markdown",
   "id": "b4344152-4d49-4ee6-b0c9-0f02e4dba251",
   "metadata": {},
   "source": [
    "### 표본 분산\n",
    "#### 데이터와 표본 평균간의 거리의 제곱의 평균    np.var()"
   ]
  },
  {
   "cell_type": "markdown",
   "id": "45335211-8a6a-48c2-9894-e721a43848e3",
   "metadata": {},
   "source": [
    "### 표본 표준편차\n",
    "#### 표본분산 np.std(a)"
   ]
  },
  {
   "cell_type": "markdown",
   "id": "153b4a58-067b-4f8e-a9b1-3ae35fd602d9",
   "metadata": {},
   "source": [
    "### 사분위수\n",
    "#### 가장 작은 수부터 가장 큰 수까지 크기가 커지는 순서대로 정렬 했을때 구간마다의 수치를 구하는 것. \n",
    "#### 2사분위수는 중앙값과 같다. # np.percentile(50)  # 2사분위수\n",
    "#### 백분위수를 사용하기도 한다. np.percentile(100) # 최대값"
   ]
  },
  {
   "cell_type": "markdown",
   "id": "b289ec3b-3bf7-4f29-8ee0-407ace8b84ec",
   "metadata": {},
   "source": [
    "### 난수 발생과 카운팅\n",
    "#### 데이터를 무적위로 섞거나 임의의 수 : 난수... 를 발생시키는 방법 NumPy의 random 서브 패키지에서 제공.(표준패키지랑 다름)"
   ]
  },
  {
   "cell_type": "markdown",
   "id": "ddd1ec4b-a158-42af-ba3c-313dbb02bf4a",
   "metadata": {},
   "source": [
    "### 시드 설정하기\n",
    "- 어떤 특정한 시작 숫자를 정하면 알고리즘에 의해 난수처럼 보이는 수열을 생성\n",
    "- 기준이 되는 시작 숫자를 시드(seed)라고 함\n",
    "- 생성된 난수는 다음 번 난수 생성을 위한 시드값이 됨 - > 시드값은 한 번만 정하자\n",
    "- np.random.seed(0)    - > 인수로는 0과 같거나 큰정수를 넣어준다"
   ]
  },
  {
   "cell_type": "code",
   "execution_count": 220,
   "id": "d70231fd-4835-433c-9d26-5922e9780cc1",
   "metadata": {},
   "outputs": [],
   "source": [
    "np.random.seed(0)"
   ]
  },
  {
   "cell_type": "code",
   "execution_count": 221,
   "id": "32cb14ed-4f24-445c-817e-7279fdce3e04",
   "metadata": {},
   "outputs": [
    {
     "data": {
      "text/plain": [
       "array([0.5488135 , 0.71518937, 0.60276338, 0.54488318, 0.4236548 ])"
      ]
     },
     "execution_count": 221,
     "metadata": {},
     "output_type": "execute_result"
    }
   ],
   "source": [
    "np.random.rand(5)"
   ]
  },
  {
   "cell_type": "code",
   "execution_count": 222,
   "id": "a5cb5017-5b10-4c57-ada5-76d63ef6b932",
   "metadata": {},
   "outputs": [
    {
     "data": {
      "text/plain": [
       "array([0.64589411, 0.43758721, 0.891773  , 0.96366276, 0.38344152,\n",
       "       0.79172504, 0.52889492, 0.56804456, 0.92559664, 0.07103606])"
      ]
     },
     "execution_count": 222,
     "metadata": {},
     "output_type": "execute_result"
    }
   ],
   "source": [
    "np.random.rand(10)"
   ]
  },
  {
   "cell_type": "code",
   "execution_count": 223,
   "id": "4b1555c4-0a1c-470f-b127-22121c3206e5",
   "metadata": {},
   "outputs": [
    {
     "data": {
      "text/plain": [
       "array([0.0871293 , 0.0202184 , 0.83261985, 0.77815675, 0.87001215,\n",
       "       0.97861834, 0.79915856, 0.46147936, 0.78052918, 0.11827443])"
      ]
     },
     "execution_count": 223,
     "metadata": {},
     "output_type": "execute_result"
    }
   ],
   "source": [
    "np.random.rand(10)"
   ]
  },
  {
   "cell_type": "markdown",
   "id": "4ff3dc59-b916-4d00-aadf-97b59410b226",
   "metadata": {},
   "source": [
    "### 데이터의 순서 바꾸기\n",
    "#### shuffle 함수 / 자체 변환 함수로 한번 사용하면 변수의 값이 바뀜(주의필요)\n",
    "- 순서를 랜덤하게 바꾸고 싶으면 shuffle함수를 사용"
   ]
  },
  {
   "cell_type": "code",
   "execution_count": 224,
   "id": "ad4039f8-c66b-45f5-9b2f-d163dd73dbd6",
   "metadata": {},
   "outputs": [
    {
     "data": {
      "text/plain": [
       "array([0, 1, 2, 3, 4, 5, 6, 7, 8, 9])"
      ]
     },
     "execution_count": 224,
     "metadata": {},
     "output_type": "execute_result"
    }
   ],
   "source": [
    "x = np.arange(10)\n",
    "x"
   ]
  },
  {
   "cell_type": "code",
   "execution_count": 225,
   "id": "604208e4-d2e1-4911-bc14-c5530a8ec76b",
   "metadata": {},
   "outputs": [
    {
     "data": {
      "text/plain": [
       "array([3, 6, 4, 5, 2, 9, 7, 8, 1, 0])"
      ]
     },
     "execution_count": 225,
     "metadata": {},
     "output_type": "execute_result"
    }
   ],
   "source": [
    "np.random.shuffle(x)\n",
    "x"
   ]
  },
  {
   "cell_type": "markdown",
   "id": "5c55cc71-aea8-4df2-862c-e11020a66591",
   "metadata": {},
   "source": [
    "### 데이터 샘플링\n",
    "#### 이미 있는 데이터 집합에서 일부를 무작위로 선택 : 표본선택 or 샘플링(sampling)\n",
    "- 샘플링에는 choice함수 사용 \n",
    "#### numpy.random.choice(a, size = None, replace = True, p = None)\n",
    "- a : 배열이면 원래의 데이터, 정수이면 arange(a)명령으로 데이터 생성\n",
    "- size : 정수. 샘플 숫자.\n",
    "- replace : 불리언. T면 한번 선택한 데이터를 다시 선택가능\n",
    "- p : 배열. 각 데이터가 선택될 수 있는 확률"
   ]
  },
  {
   "cell_type": "markdown",
   "id": "fdc5b689-0b3d-4ae8-ad52-faccc58c8b92",
   "metadata": {},
   "source": [
    "##### 첫인수를 정수 5로 전달하여 np.arange(5)의 결과 만들었다"
   ]
  },
  {
   "cell_type": "code",
   "execution_count": 226,
   "id": "371e8506-8dd1-42b1-9721-60351410a645",
   "metadata": {},
   "outputs": [
    {
     "data": {
      "text/plain": [
       "array([1, 4, 0, 3, 2])"
      ]
     },
     "execution_count": 226,
     "metadata": {},
     "output_type": "execute_result"
    }
   ],
   "source": [
    "np.random.choice(5,5,replace = False) # shuffle 명령과 같다"
   ]
  },
  {
   "cell_type": "code",
   "execution_count": 227,
   "id": "722f8311-86cb-4185-af3c-01aa746b55fa",
   "metadata": {},
   "outputs": [
    {
     "data": {
      "text/plain": [
       "array([2, 1, 3])"
      ]
     },
     "execution_count": 227,
     "metadata": {},
     "output_type": "execute_result"
    }
   ],
   "source": [
    "np.random.choice(5,3, replace = False) # 3개만 선택"
   ]
  },
  {
   "cell_type": "code",
   "execution_count": 231,
   "id": "2da21eca-ccae-41dc-850e-8f861c17588d",
   "metadata": {},
   "outputs": [
    {
     "data": {
      "text/plain": [
       "array([0, 1, 1, 3, 0, 0, 1, 2, 4, 2])"
      ]
     },
     "execution_count": 231,
     "metadata": {},
     "output_type": "execute_result"
    }
   ],
   "source": [
    "np.random.choice(5,10)           #반복해서 10개 선택"
   ]
  },
  {
   "cell_type": "code",
   "execution_count": 230,
   "id": "01ead542-14d0-4232-8e5f-1eb7e6401ab8",
   "metadata": {},
   "outputs": [
    {
     "data": {
      "text/plain": [
       "array([3, 3, 3, 3, 3, 3, 3, 3, 2, 3])"
      ]
     },
     "execution_count": 230,
     "metadata": {},
     "output_type": "execute_result"
    }
   ],
   "source": [
    "# \n",
    "np.random.choice(5,10,p=[0.1,0.,0.3,0.6,0])     # 선택 확률을 다르게 해서 10개 선택"
   ]
  },
  {
   "cell_type": "markdown",
   "id": "d3347e0c-131e-486b-9f33-1544665ce439",
   "metadata": {},
   "source": [
    "### 난수 생성\n",
    "#### 넘파이의 random서브패키지 중 난수생성하는 함수\n",
    "1. rand : 0부터 1사이의 균일 분포\n",
    "- 실수 난수를 생성. 숫자 인수는 생성할 난수의 크기. \n",
    "2. randn : 표준 정규 분포\n",
    "- 기대값(mean)이 0 이고 표준편차가 표준 정규 분포를 따르는 1인 난수를 생성\n",
    "3. randint : 균일 분포의 정수 난수\n",
    "- numpy.random.randint(low,high = None, size=None)\n",
    "- 만약 high 를 입력하지 않으면, 0과 low 사이의 숫자를 ///// // high를 입력하면, low와 high사이의 숫자 출력\n",
    "- size는 난수의 개수, high 의 범위는 포함하지 않음"
   ]
  },
  {
   "cell_type": "code",
   "execution_count": 242,
   "id": "0b8cc854-cf31-4d30-92dc-518b9968d06a",
   "metadata": {},
   "outputs": [
    {
     "data": {
      "text/plain": [
       "0.56"
      ]
     },
     "execution_count": 242,
     "metadata": {},
     "output_type": "execute_result"
    }
   ],
   "source": [
    "# Q 동전을 100번 던진 결과를 넘파이에 난수를 발생시켜서 시뮬레이션해보려 한다.\n",
    "# 앞면을 숫자 1, 뒷면을 숫자 0 으로 가정하고 난수를 발생시켜보세요. 이때 앞면이 나올 확률을 구하는 프로그램을 구현해보라.\n",
    "# (seed는 0으로)    # 0.56\n",
    "\n",
    "np.random.seed(0)\n",
    "num = np.random.randint(0,2,100)\n",
    "np.count_nonzero(num == 1)/100"
   ]
  },
  {
   "cell_type": "code",
   "execution_count": 250,
   "id": "89668cb9-f9fd-46c2-82d4-ca0efb7f9c25",
   "metadata": {},
   "outputs": [
    {
     "data": {
      "text/plain": [
       "0.56"
      ]
     },
     "execution_count": 250,
     "metadata": {},
     "output_type": "execute_result"
    }
   ],
   "source": [
    "#1\n",
    "sum(num)/ len(num)"
   ]
  },
  {
   "cell_type": "code",
   "execution_count": 251,
   "id": "5895f71a-073a-4556-b5ee-c775a088a9d3",
   "metadata": {},
   "outputs": [
    {
     "data": {
      "text/plain": [
       "0.56"
      ]
     },
     "execution_count": 251,
     "metadata": {},
     "output_type": "execute_result"
    }
   ],
   "source": [
    "#2\n",
    "\n",
    "np.sum(num)/100"
   ]
  },
  {
   "cell_type": "code",
   "execution_count": 252,
   "id": "6652839b-fdc5-472d-a526-bce42e77a419",
   "metadata": {},
   "outputs": [
    {
     "data": {
      "text/plain": [
       "0.56"
      ]
     },
     "execution_count": 252,
     "metadata": {},
     "output_type": "execute_result"
    }
   ],
   "source": [
    "#3\n",
    "\n",
    "list(num).count(1) / 100"
   ]
  },
  {
   "cell_type": "code",
   "execution_count": 253,
   "id": "09ee4e5d-80be-41c1-badc-ffb5430bad9e",
   "metadata": {},
   "outputs": [
    {
     "data": {
      "text/plain": [
       "3.42"
      ]
     },
     "execution_count": 253,
     "metadata": {},
     "output_type": "execute_result"
    }
   ],
   "source": [
    "# 주사위는 1부터 6까지의 숫자를 가진다. 이 주사위를 100번 던져서 나오는 숫자를 넘파이 난수를 발생시켜서 \n",
    "# 시뮬레이션하고 나오는 숫자의 평균을 구해봐라. (seed는 0으로 설정합니다)\n",
    "\n",
    "np.random.seed(0)\n",
    "num2 = np.random.randint(1,7,100)\n",
    "np.mean(num2)"
   ]
  },
  {
   "cell_type": "markdown",
   "id": "3fccd458-46ae-4d56-8538-86a6f3d4f505",
   "metadata": {},
   "source": [
    "### 정수 데이터 카운팅\n",
    "- 난수가 정수 값이면 unique 명령이나 bincount명령으로 데이터 값 분석 가능\n",
    "- unique() 함수는 중복된 값을 제거. 중복되지 않는 값의 리스트(몸통)를 출력\n",
    "- return_counts 인수를 True로 설정 시 -> 각 값의 데이터 개수 출력\n",
    "- 존재하는 값에 대해서만 개수를 counting함. 데이터가 없는 경우 정보를 주지 않음. \n",
    "- bincount함수는 0부터  minlength -1 까지의 숫자에 대해 각각 카운트를 한다.\n",
    "- (특정범위 안의 수인 경우 bincount함수는 minlength 인수를 설정해 사용:편리)"
   ]
  },
  {
   "cell_type": "code",
   "execution_count": 256,
   "id": "92033176-a49f-4ab1-97e2-cbc987ac762f",
   "metadata": {},
   "outputs": [
    {
     "data": {
      "text/plain": [
       "array([0, 2, 3, 1, 0, 0], dtype=int64)"
      ]
     },
     "execution_count": 256,
     "metadata": {},
     "output_type": "execute_result"
    }
   ],
   "source": [
    "np.bincount([1,1,2,2,2,3],minlength = 6)"
   ]
  },
  {
   "cell_type": "code",
   "execution_count": null,
   "id": "fccdd218-a19f-44d1-9c33-230bb0f7c09a",
   "metadata": {},
   "outputs": [],
   "source": []
  }
 ],
 "metadata": {
  "kernelspec": {
   "display_name": "Python 3 (ipykernel)",
   "language": "python",
   "name": "python3"
  },
  "language_info": {
   "codemirror_mode": {
    "name": "ipython",
    "version": 3
   },
   "file_extension": ".py",
   "mimetype": "text/x-python",
   "name": "python",
   "nbconvert_exporter": "python",
   "pygments_lexer": "ipython3",
   "version": "3.9.13"
  }
 },
 "nbformat": 4,
 "nbformat_minor": 5
}
