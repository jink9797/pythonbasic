{
 "cells": [
  {
   "cell_type": "code",
   "execution_count": 8,
   "id": "41f3a716-ceae-4d1e-a455-2b01f46c0611",
   "metadata": {},
   "outputs": [],
   "source": [
    "# 주석 사용하기\n",
    "x = 1 #여기서 =(등호) 기호는 수학의 같다는 의미와는 다르다.\n",
    "      # ... 우측 변의 리터럴을 좌측 변의 변수에 대입한다는 의미다.\n",
    "    \n",
    "text = \"# 이것은 주석이 아닙니다. 따옴표 안은 문자열 리터럴입니다.\""
   ]
  },
  {
   "cell_type": "code",
   "execution_count": 4,
   "id": "d480c385-7a9c-4477-aac9-2d881832a5a5",
   "metadata": {},
   "outputs": [
    {
     "name": "stdout",
     "output_type": "stream",
     "text": [
      "1\n"
     ]
    }
   ],
   "source": [
    "print(x)
   ]
  },
  {
   "cell_type": "code",
   "execution_count": 5,
   "id": "510d7714-3281-4952-a504-39ae80cf0360",
   "metadata": {},
   "outputs": [],
   "source": [
    "#이것은 주석이 아닙니다. 따옴표 안은 문자열 리터럴입니다."
   ]
  },
  {
   "cell_type": "code",
   "execution_count": 10,
   "id": "9a0d6102-0048-49c5-9bc4-440f0c8da5f3",
   "metadata": {},
   "outputs": [
    {
     "name": "stdout",
     "output_type": "stream",
     "text": [
      "Hello, world!\n",
      "Hello, world!\n",
      "Python Programming\n"
     ]
    }
   ],
   "source": [
    "print(\"Hello, world!\")\n",
    "print(\"Hello, world!\")\n",
    "print(\"Python Programming\")"
   ]
  },
  {
   "cell_type": "code",
   "execution_count": 13,
   "id": "5da103e6-47e3-4683-b9fa-dcb440b1b9c5",
   "metadata": {},
   "outputs": [
    {
     "data": {
      "text/plain": [
       "4"
      ]
     },
     "execution_count": 13,
     "metadata": {},
     "output_type": "execute_result"
    }
   ],
   "source": [
    "2+2"
   ]
  },
  {
   "cell_type": "code",
   "execution_count": 15,
   "id": "773dc6c2-6b03-4d67-bf98-69eb6a37ecf7",
   "metadata": {},
   "outputs": [
    {
     "data": {
      "text/plain": [
       "89"
      ]
     },
     "execution_count": 15,
     "metadata": {},
     "output_type": "execute_result"
    }
   ],
   "source": [
    "13+(22-3)*4"
   ]
  },
  {
   "cell_type": "code",
   "execution_count": 14,
   "id": "04c8f1c7-f2a6-4e5c-bfb6-088d47444b84",
   "metadata": {},
   "outputs": [
    {
     "data": {
      "text/plain": [
       "28.2"
      ]
     },
     "execution_count": 14,
     "metadata": {},
     "output_type": "execute_result"
    }
   ],
   "source": [
    "13+((22-3)*4)/5"
   ]
  },
  {
   "cell_type": "code",
   "execution_count": 16,
   "id": "28d37fe1-234b-447a-bdb0-8c25ab9dca4f",
   "metadata": {},
   "outputs": [
    {
     "data": {
      "text/plain": [
       "128"
      ]
     },
     "execution_count": 16,
     "metadata": {},
     "output_type": "execute_result"
    }
   ],
   "source": [
    "2**7"
   ]
  },
  {
   "cell_type": "code",
   "execution_count": 17,
   "id": "23b3eade-17af-4815-acda-c5b14034c833",
   "metadata": {},
   "outputs": [
    {
     "data": {
      "text/plain": [
       "1.7320508075688772"
      ]
     },
     "execution_count": 17,
     "metadata": {},
     "output_type": "execute_result"
    }
   ],
   "source": [
    "3**(1/2)"
   ]
  },
  {
   "cell_type": "code",
   "execution_count": 18,
   "id": "1e335e29-c404-4507-b6bd-f2c67cb76178",
   "metadata": {},
   "outputs": [],
   "source": [
    "# 정수 int\n",
    "# 실수 float"
   ]
  },
  {
   "cell_type": "code",
   "execution_count": 19,
   "id": "965fd6bd-77f6-4818-9795-2ef68757f8cb",
   "metadata": {},
   "outputs": [
    {
     "data": {
      "text/plain": [
       "3"
      ]
     },
     "execution_count": 19,
     "metadata": {},
     "output_type": "execute_result"
    }
   ],
   "source": [
    "int(3.3)"
   ]
  },
  {
   "cell_type": "code",
   "execution_count": 20,
   "id": "c092d418-d9f7-4e68-a079-7fcde50bc58e",
   "metadata": {},
   "outputs": [
    {
     "data": {
      "text/plain": [
       "2"
      ]
     },
     "execution_count": 20,
     "metadata": {},
     "output_type": "execute_result"
    }
   ],
   "source": [
    "int(5/2)"
   ]
  },
  {
   "cell_type": "code",
   "execution_count": 21,
   "id": "a019c2ec-0dc7-45cd-86a3-93e93a0557d2",
   "metadata": {},
   "outputs": [
    {
     "data": {
      "text/plain": [
       "104"
      ]
     },
     "execution_count": 21,
     "metadata": {},
     "output_type": "execute_result"
    }
   ],
   "source": [
    "int('104')"
   ]
  },
  {
   "cell_type": "code",
   "execution_count": 22,
   "id": "66e317a7-1f0f-4268-ada9-a5256ce9a6e5",
   "metadata": {},
   "outputs": [
    {
     "data": {
      "text/plain": [
       "3.0"
      ]
     },
     "execution_count": 22,
     "metadata": {},
     "output_type": "execute_result"
    }
   ],
   "source": [
    "float(3)"
   ]
  },
  {
   "cell_type": "markdown",
   "id": "665c2367-73e6-471b-834a-f28d8faa29ec",
   "metadata": {},
   "source": [
    "float(4*4)"
   ]
  },
  {
   "cell_type": "code",
   "execution_count": 24,
   "id": "1f5bc3d6-2347-4687-a298-36426cb083a3",
   "metadata": {},
   "outputs": [
    {
     "data": {
      "text/plain": [
       "2.14"
      ]
     },
     "execution_count": 24,
     "metadata": {},
     "output_type": "execute_result"
    }
   ],
   "source": [
    "float('2.14')"
   ]
  },
  {
   "cell_type": "code",
   "execution_count": 27,
   "id": "36467d1a-589c-4555-822e-d577cfd442ae",
   "metadata": {},
   "outputs": [
    {
     "name": "stdout",
     "output_type": "stream",
     "text": [
      "7\n"
     ]
    }
   ],
   "source": [
    "#x = print(int(0.2467*12+4.159))"
   ]
  },
  {
   "cell_type": "code",
   "execution_count": 35,
   "id": "966a7a0d-4e9f-4749-8d70-03446795e560",
   "metadata": {},
   "outputs": [],
   "source": [
    "x = int(0.2467*12+4.159)#"
   ]
  },
  {
   "cell_type": "code",
   "execution_count": 36,
   "id": "637693e3-3df2-4b0f-9f49-8c8cebc8a900",
   "metadata": {},
   "outputs": [
    {
     "name": "stdout",
     "output_type": "stream",
     "text": [
      "가장 시끄러운 층은 =  7 층\n"
     ]
    }
   ],
   "source": [
    "print(\"가장 시끄러운 층은 = \", x, \"층\")"
   ]
  },
  {
   "cell_type": "code",
   "execution_count": 40,
   "id": "be83f900-d064-4e03-ab6a-ad203b56aa49",
   "metadata": {},
   "outputs": [
    {
     "name": "stdout",
     "output_type": "stream",
     "text": [
      "가장 시끄러운 층은 =  7 층\n"
     ]
    }
   ],
   "source": [
    "#f = int(0.2467*12+4.159)\n",
    "print(\"가장 시끄러운 층은 = \",f, \"층\")"
   ]
  },
  {
   "cell_type": "code",
   "execution_count": 43,
   "id": "6e99e046-c5ae-4f54-b973-b5a3f9e6a7b1",
   "metadata": {},
   "outputs": [
    {
     "name": "stdout",
     "output_type": "stream",
     "text": [
      "냉장고 가격은 1272000 원 입니다\n"
     ]
    }
   ],
   "source": [
    "#r = int(53000*24)\n",
    "print(\"냉장고 가격은\", r,\"원 입니다\")"
   ]
  },
  {
   "cell_type": "code",
   "execution_count": 60,
   "id": "dde84b9e-3f8d-42af-b568-b2034652cbb8",
   "metadata": {},
   "outputs": [
    {
     "name": "stdout",
     "output_type": "stream",
     "text": [
      "총 지불 해야할 금액은 150000000.0 원 입니다\n"
     ]
    }
   ],
   "source": [
    "people = 250\n",
    "tax = 10 / 100\n",
    "print(\"총 지불 해야할 금액은\", people*20000*3/ \"원 입니다\")"
   ]
  },
  {
   "cell_type": "code",
   "execution_count": 45,
   "id": "d028fb41-1088-434d-ba03-232b3c9f93f6",
   "metadata": {},
   "outputs": [
    {
     "data": {
      "text/plain": [
       "12345000000.0"
      ]
     },
     "execution_count": 45,
     "metadata": {},
     "output_type": "execute_result"
    }
   ],
   "source": [
    "1.2345e10"
   ]
  },
  {
   "cell_type": "code",
   "execution_count": 46,
   "id": "a5ae42b8-30a3-47ed-b392-ef187a4a5e75",
   "metadata": {},
   "outputs": [
    {
     "data": {
      "text/plain": [
       "0.0012345"
      ]
     },
     "execution_count": 46,
     "metadata": {},
     "output_type": "execute_result"
    }
   ],
   "source": [
    "1.2345e-3"
   ]
  },
  {
   "cell_type": "code",
   "execution_count": 47,
   "id": "f6bbcffe-cc84-42b9-b5e1-bb3c53e2ca5c",
   "metadata": {},
   "outputs": [
    {
     "data": {
      "text/plain": [
       "17"
      ]
     },
     "execution_count": 47,
     "metadata": {},
     "output_type": "execute_result"
    }
   ],
   "source": [
    "0b10001"
   ]
  },
  {
   "cell_type": "code",
   "execution_count": 48,
   "id": "0ad17b72-5a27-48d5-903b-3260a9e8f939",
   "metadata": {},
   "outputs": [
    {
     "data": {
      "text/plain": [
       "22"
      ]
     },
     "execution_count": 48,
     "metadata": {},
     "output_type": "execute_result"
    }
   ],
   "source": [
    "0b10110"
   ]
  },
  {
   "cell_type": "code",
   "execution_count": 49,
   "id": "75728770-9c0f-4e6d-9a3f-71c56f63374d",
   "metadata": {},
   "outputs": [
    {
     "data": {
      "text/plain": [
       "'0b10001'"
      ]
     },
     "execution_count": 49,
     "metadata": {},
     "output_type": "execute_result"
    }
   ],
   "source": [
    "bin(17)"
   ]
  },
  {
   "cell_type": "code",
   "execution_count": 52,
   "id": "29689956-a3cf-4efa-8adc-b7559f5eeade",
   "metadata": {},
   "outputs": [
    {
     "data": {
      "text/plain": [
       "'0b10110'"
      ]
     },
     "execution_count": 52,
     "metadata": {},
     "output_type": "execute_result"
    }
   ],
   "source": [
    "bin(22)"
   ]
  },
  {
   "cell_type": "code",
   "execution_count": 53,
   "id": "18767808-5f2b-4e5e-ad84-f88e7c59336c",
   "metadata": {},
   "outputs": [
    {
     "data": {
      "text/plain": [
       "17"
      ]
     },
     "execution_count": 53,
     "metadata": {},
     "output_type": "execute_result"
    }
   ],
   "source": [
    "0o21"
   ]
  },
  {
   "cell_type": "code",
   "execution_count": 54,
   "id": "b62c01d0-5068-4eca-8fb7-434c27f3ba5a",
   "metadata": {},
   "outputs": [
    {
     "data": {
      "text/plain": [
       "31"
      ]
     },
     "execution_count": 54,
     "metadata": {},
     "output_type": "execute_result"
    }
   ],
   "source": [
    "0x1f"
   ]
  },
  {
   "cell_type": "code",
   "execution_count": 55,
   "id": "9acac8c1-1a12-4ff3-9a08-ec8bb25d47d0",
   "metadata": {},
   "outputs": [
    {
     "data": {
      "text/plain": [
       "22"
      ]
     },
     "execution_count": 55,
     "metadata": {},
     "output_type": "execute_result"
    }
   ],
   "source": [
    "0x16"
   ]
  },
  {
   "cell_type": "code",
   "execution_count": 56,
   "id": "10e462b1-41f7-4c67-b480-b0d4e590fb81",
   "metadata": {},
   "outputs": [
    {
     "data": {
      "text/plain": [
       "'0x1f'"
      ]
     },
     "execution_count": 56,
     "metadata": {},
     "output_type": "execute_result"
    }
   ],
   "source": [
    "hex(31)"
   ]
  },
  {
   "cell_type": "code",
   "execution_count": 57,
   "id": "4e8ecdb1-68f3-45ec-810d-713d054263f0",
   "metadata": {},
   "outputs": [
    {
     "data": {
      "text/plain": [
       "'0x16'"
      ]
     },
     "execution_count": 57,
     "metadata": {},
     "output_type": "execute_result"
    }
   ],
   "source": [
    "hex(22)"
   ]
  },
  {
   "cell_type": "code",
   "execution_count": 59,
   "id": "905399e4-1d89-4d50-b3b6-3064d0347679",
   "metadata": {},
   "outputs": [
    {
     "data": {
      "text/plain": [
       "483.0"
      ]
     },
     "execution_count": 59,
     "metadata": {},
     "output_type": "execute_result"
    }
   ],
   "source": [
    "380*0.6+255"
   ]
  },
  {
   "cell_type": "code",
   "execution_count": 61,
   "id": "c0c5b67f-2256-4346-9a1b-d5490ec772c5",
   "metadata": {},
   "outputs": [],
   "source": [
    "#변수 삭제"
   ]
  },
  {
   "cell_type": "code",
   "execution_count": 62,
   "id": "18213b47-96fe-4547-8ac3-bee34ef01577",
   "metadata": {},
   "outputs": [
    {
     "name": "stdout",
     "output_type": "stream",
     "text": [
      "30\n"
     ]
    }
   ],
   "source": [
    "# a 변수 선언 후 숫ㅅ자 리터럴 10 값을 할당\n",
    "a = 10\n",
    "\n",
    "# a 변수 값에 20을 더한 결과를 다시 a에 할당\n",
    "a = a + 20\n",
    "\n",
    "print(a)"
   ]
  },
  {
   "cell_type": "code",
   "execution_count": 63,
   "id": "44960673-d935-4929-9ce7-17938e6cf9b5",
   "metadata": {},
   "outputs": [
    {
     "ename": "NameError",
     "evalue": "name 'a' is not defined",
     "output_type": "error",
     "traceback": [
      "\u001b[1;31m---------------------------------------------------------------------------\u001b[0m",
      "\u001b[1;31mNameError\u001b[0m                                 Traceback (most recent call last)",
      "\u001b[1;32m~\\AppData\\Local\\Temp\\ipykernel_5320\\2210216928.py\u001b[0m in \u001b[0;36m<module>\u001b[1;34m\u001b[0m\n\u001b[0;32m      1\u001b[0m \u001b[1;31m# a 변수 삭제 후 a 변수를 출력해보기\u001b[0m\u001b[1;33m\u001b[0m\u001b[1;33m\u001b[0m\u001b[0m\n\u001b[0;32m      2\u001b[0m \u001b[1;32mdel\u001b[0m \u001b[0ma\u001b[0m\u001b[1;33m\u001b[0m\u001b[1;33m\u001b[0m\u001b[0m\n\u001b[1;32m----> 3\u001b[1;33m \u001b[0mprint\u001b[0m\u001b[1;33m(\u001b[0m\u001b[0ma\u001b[0m\u001b[1;33m)\u001b[0m\u001b[1;33m\u001b[0m\u001b[1;33m\u001b[0m\u001b[0m\n\u001b[0m",
      "\u001b[1;31mNameError\u001b[0m: name 'a' is not defined"
     ]
    }
   ],
   "source": [
    "# a 변수 삭제 후 a 변수를 출력해보기\n",
    "del a\n",
    "print(a)"
   ]
  },
  {
   "cell_type": "code",
   "execution_count": 67,
   "id": "46d25bfa-8dc0-4a62-bdae-5663574a47b4",
   "metadata": {},
   "outputs": [
    {
     "name": "stdout",
     "output_type": "stream",
     "text": [
      "10\n",
      "20\n"
     ]
    }
   ],
   "source": [
    "a=10\n",
    "#변수 a에 20 값을 더하ㅏ고 할당하지 않았을 때\n",
    "a+20\n",
    "print(a)\n",
    "\n",
    "a += 10 # a = a + 10과 같다\n",
    "print(a)"
   ]
  },
  {
   "cell_type": "code",
   "execution_count": 69,
   "id": "1295218e-b44a-41ab-9343-e5e748e32b26",
   "metadata": {},
   "outputs": [
    {
     "name": "stdout",
     "output_type": "stream",
     "text": [
      "None\n"
     ]
    }
   ],
   "source": [
    "# 다른 언어에서의  Null과 같음\n",
    "a = None\n",
    "print(a)"
   ]
  },
  {
   "cell_type": "code",
   "execution_count": 71,
   "id": "8087fa5b-5e81-4398-9cec-0e0683362204",
   "metadata": {},
   "outputs": [],
   "source": [
    "## bool type True False가 있다. \n",
    "# 반드시 첫 글자를 대문자로 하고 나머지는 소문자로 하는 True/False로만 입력 가능하다"
   ]
  },
  {
   "cell_type": "code",
   "execution_count": 73,
   "id": "4243a483-ef38-4a24-94fd-519439ed8d63",
   "metadata": {},
   "outputs": [
    {
     "name": "stdout",
     "output_type": "stream",
     "text": [
      "0\n"
     ]
    }
   ],
   "source": [
    "false = 0\n",
    "print(false)"
   ]
  },
  {
   "cell_type": "code",
   "execution_count": 74,
   "id": "6935eddb-08ab-452a-bf92-3fd67f28d96c",
   "metadata": {},
   "outputs": [],
   "source": [
    "# 논리 연산자\n",
    "# and / 논리곱 / A and B / A와 B가 모두 참일때만 참\n",
    "# or / '' / or / 하나라도 참이면 참\n",
    "# == 같다 / != 같지 않다 / "
   ]
  },
  {
   "cell_type": "code",
   "execution_count": 75,
   "id": "282c75cc-173d-4ac4-85e0-ec203ec08622",
   "metadata": {},
   "outputs": [
    {
     "name": "stdout",
     "output_type": "stream",
     "text": [
      "이것은 문자열입니다.\n",
      "<class 'str'>\n",
      "이것은 문자열입니다.\n",
      "<class 'str'>\n"
     ]
    }
   ],
   "source": [
    "text = '이것은 문자열입니다.'\n",
    "text2 = \"이것은 문자열입니다.\"\n",
    "\n",
    "print(text)\n",
    "print(type(text))\n",
    "\n",
    "print(text2)\n",
    "print(type(text2))"
   ]
  },
  {
   "cell_type": "code",
   "execution_count": 78,
   "id": "b7f2137c-12c9-463c-a735-898e3dca7077",
   "metadata": {},
   "outputs": [
    {
     "name": "stdout",
     "output_type": "stream",
     "text": [
      "don't do that\n",
      "<class 'str'>\n",
      "don't do that\n",
      "<class 'str'>\n"
     ]
    }
   ],
   "source": [
    "text3 = 'don\\'t do that'\n",
    "text4 = \"don\\'t do that\"\n",
    "\n",
    "print(text3)\n",
    "print(type(text3))\n",
    "\n",
    "print(text4)\n",
    "print(type(text4))"
   ]
  },
  {
   "cell_type": "code",
   "execution_count": 81,
   "id": "e213c843-4c39-4090-8dd5-97e85a881bce",
   "metadata": {},
   "outputs": [
    {
     "name": "stdout",
     "output_type": "stream",
     "text": [
      "\"안녕?\"이라는 그 인사를 듣고 나는 '누구지?'라고 생각했다.\n",
      "<class 'str'>\n"
     ]
    }
   ],
   "source": [
    "text5 = \"\\\"안녕?\\\"이라는 그 인사를 듣고 나는 '누구지?'라고 생각했다.\" \n",
    "print(text5)\n",
    "print(type(text5))"
   ]
  },
  {
   "cell_type": "code",
   "execution_count": 82,
   "id": "200ac660-3f69-4de8-9f9b-da4627e836cc",
   "metadata": {},
   "outputs": [
    {
     "name": "stdout",
     "output_type": "stream",
     "text": [
      "First line. \n",
      "Second line.\n"
     ]
    }
   ],
   "source": [
    "# 문자열 리터럴\n",
    "# \\n (개행문자) 는 줄바꿈을 의미합니다.\n",
    "s = 'First line. \\nSecond line.'\n",
    "print(s)"
   ]
  },
  {
   "cell_type": "code",
   "execution_count": 84,
   "id": "ad50512f-1ee2-49b4-860f-6b3ecc772766",
   "metadata": {},
   "outputs": [
    {
     "name": "stdout",
     "output_type": "stream",
     "text": [
      "c:\\name\n",
      "c:\\name\n"
     ]
    }
   ],
   "source": [
    "# raw string 으로 표현 가능/ r 을 맨 앞에 붙여넣는다\n",
    "s1 = r'c:\\name'\n",
    "s2 = 'c:\\\\name'\n",
    "print(s1)\n",
    "print(s2)"
   ]
  },
  {
   "cell_type": "code",
   "execution_count": 86,
   "id": "f8a255aa-2a8d-467b-b54f-645d98741559",
   "metadata": {},
   "outputs": [
    {
     "name": "stdout",
     "output_type": "stream",
     "text": [
      "\n",
      "안녕하세요.\n",
      "나는 파이썬을 공부하고 있습니다.\n",
      "반갑습니다.\n",
      "\n"
     ]
    }
   ],
   "source": [
    "# 삼중 따옴표를 사용하면 여러줄로 확장 해 문자열 리터럴을 만들 수 있다.\n",
    "# enter 로 바꾼 줄 바꿈 그대로 출력된다\n",
    "s3 = \"\"\"\n",
    "안녕하세요.\n",
    "나는 파이썬을 공부하고 있습니다.\n",
    "반갑습니다.\n",
    "\"\"\"\n",
    "print(s3)"
   ]
  },
  {
   "cell_type": "code",
   "execution_count": 87,
   "id": "02f66a50-6a85-4957-bce6-dbf8537c9213",
   "metadata": {},
   "outputs": [
    {
     "name": "stdout",
     "output_type": "stream",
     "text": [
      "안녕하세요.\n",
      "나는 파이썬을 공부하고 있습니다.\n",
      "반갑습니다.\n",
      "\n"
     ]
    }
   ],
   "source": [
    "s4 = \"\"\"\\\n",
    "안녕하세요.\n",
    "나는 파이썬을 공부하고 있습니다.\n",
    "반갑습니다.\n",
    "\"\"\"\n",
    "print(s4)"
   ]
  },
  {
   "cell_type": "code",
   "execution_count": 96,
   "id": "31def059-7faa-447b-93b6-5ba75e289a4b",
   "metadata": {},
   "outputs": [
    {
     "name": "stdout",
     "output_type": "stream",
     "text": [
      "안녕하세요.\n",
      "나는 파이썬을 공부하고 있습니다.\n",
      "반갑습니다.\n"
     ]
    }
   ],
   "source": [
    "##########EOF(end of file), 파일이 끝날 때까지도 삼중따옴표의 영역이 끝나질 않는다는 말\n",
    "s5 = \"\"\"\\\n",
    "안녕하세요.\n",
    "나는 파이썬을 공부하고 있습니다.\n",
    "반갑습니다.\\\n",
    "\"\"\"\n",
    "print(s5)"
   ]
  },
  {
   "cell_type": "code",
   "execution_count": 104,
   "id": "b1739cfe-71b5-44a3-b5b7-14dc7f39498c",
   "metadata": {},
   "outputs": [
    {
     "name": "stdout",
     "output_type": "stream",
     "text": [
      "\"안녕하세요.\"\n",
      "나는 파이썬을 공부하고 있습니다.\n",
      "반갑습니다.\n"
     ]
    }
   ],
   "source": [
    "###삼중 따옴표가 나오기 전까지 \n",
    "s6 = \"\"\"\\\n",
    "\"안녕하세요.\"\n",
    "나는 파이썬을 공부하고 있습니다.\n",
    "반갑습니다.\\\n",
    "\"\"\"\n",
    "print(s6)"
   ]
  },
  {
   "cell_type": "code",
   "execution_count": 105,
   "id": "152c62a6-4710-44ec-800f-19970d853067",
   "metadata": {},
   "outputs": [
    {
     "name": "stdout",
     "output_type": "stream",
     "text": [
      "너무 너무 너무 너무 너무 너무 너무 너무 너무 너무 너무 너무 너무 너무 너무 너무 너무 너무 너무 너무 너무 너무 너무 너무 너무 너무 너무 너무 너무 너무 너무 너무 너무 너무 너무 너무 너무 너무 너무 너무 너무 너무 너무 너무 너무 너무 너무 너무 너무 너무 너무 너무 너무 너무 너무 너무 너무 너무 너무 너무 너무 너무 너무 너무 너무 너무 너무 너무 너무 너무 너무 너무 너무 너무 너무 너무 너무 너무 너무 너무 너무 너무 너무 너무 너무 너무 너무 너무 너무 너무 너무 너무 너무 너무 너무 너무 너무 너무 너무 너무 파이썬 공부가 즐겁습니다\n"
     ]
    }
   ],
   "source": [
    "## + 를 사용하면 문자열과 문자열을 이을 수 있습니다.\n",
    "s7 = \"너무 \" *100 + \"파이썬 공부가 즐겁습니다\"\n",
    "print(s7)"
   ]
  },
  {
   "cell_type": "code",
   "execution_count": 106,
   "id": "ccb34b54-e5dd-40b5-8edd-ba5a26e70fc9",
   "metadata": {},
   "outputs": [],
   "source": [
    "#시퀀스 자료형-순서에 따라 연속적으로 값들을 갖는 자료형\n",
    "#불변(str)/ 가변(list) / 불변(tuple)/ 불변(range)/////불변(bytes)/ 가변(bytearray)"
   ]
  },
  {
   "cell_type": "code",
   "execution_count": 110,
   "id": "75e8906c-2de4-4d73-b693-287dffc604f6",
   "metadata": {},
   "outputs": [
    {
     "name": "stdout",
     "output_type": "stream",
     "text": [
      "p\n",
      "p\n",
      "n\n",
      "n\n",
      "p\n"
     ]
    }
   ],
   "source": [
    "#인덱스 (index) - 0으로 부터시작 / -순서가져 각 요소마다 순서를 통해 접근 가능 /인덱스가 -1인 항목이 제일 마지막 항목입니다.\n",
    "#변수 인덱스\n",
    "word = 'python'\n",
    "print(word[0])\n",
    "\n",
    "word = 'python'\n",
    "# 인덱스는 0부터 시작된다.\n",
    "print(word[0])\n",
    "print(word[5])\n",
    "# 음수는 뒤에서부터 셉니다.\n",
    "print(word[-1])\n",
    "print(word[-6])"
   ]
  },
  {
   "cell_type": "code",
   "execution_count": 113,
   "id": "c91dc70a-97a4-4936-ac29-a4bc36a9f7c2",
   "metadata": {},
   "outputs": [
    {
     "name": "stdout",
     "output_type": "stream",
     "text": [
      "꺾\n"
     ]
    }
   ],
   "source": [
    "sentence = \"중요한 것은 꺾이지 않는 마음\"\n",
    "print(sentence[7])"
   ]
  },
  {
   "cell_type": "code",
   "execution_count": 117,
   "id": "41d5d8dc-88d6-4c4e-a68e-ac78560a2a64",
   "metadata": {},
   "outputs": [
    {
     "name": "stdout",
     "output_type": "stream",
     "text": [
      "py\n",
      "pyth\n",
      "pto\n"
     ]
    }
   ],
   "source": [
    "# 문자열 슬라이싱 - \n",
    "word = 'python'\n",
    "print(word[0:2]) #0:2  >>> 0이상 2미만\n",
    "\n",
    "print(word[0:4])\n",
    "\n",
    "# [시작 숫자(이상):끝 숫자(미만):증감크기] 슬라이싱 구분자 콜론 ...//첫요소부터 포함이면 시작 숫자 생략 가능/ 마지막 요소까지 포함할때 끝 숫자 생략 가능/\n",
    "# 증감크기1 일때 생략 가능\n",
    "\n",
    "print(word[::2])\n"
   ]
  },
  {
   "cell_type": "code",
   "execution_count": 119,
   "id": "8238f118-d1af-4d03-9115-67bfc6c3c698",
   "metadata": {},
   "outputs": [
    {
     "name": "stdout",
     "output_type": "stream",
     "text": [
      "한 것은 꺾이지 않는 마음\n"
     ]
    }
   ],
   "source": [
    "sentence = \"중요한 것은 꺾이지 않는 마음\"\n",
    "print(sentence[2:42])"
   ]
  },
  {
   "cell_type": "code",
   "execution_count": 122,
   "id": "3d234fa2-7ecc-4ae6-a15d-8874b5e0dad1",
   "metadata": {},
   "outputs": [
    {
     "name": "stdout",
     "output_type": "stream",
     "text": [
      "꺾이지 않는 마음\n"
     ]
    }
   ],
   "source": [
    "sentence = \"중요한 것은 꺾이지 않는 마음\"\n",
    "print(sentence[7:])"
   ]
  },
  {
   "cell_type": "code",
   "execution_count": 136,
   "id": "215e0bf3-d6a9-4015-8f1e-05cef9e63f02",
   "metadata": {},
   "outputs": [
    {
     "name": "stdout",
     "output_type": "stream",
     "text": [
      "한요중\n"
     ]
    }
   ],
   "source": [
    "sentence = \"중요한 것은 꺾이지 않는 마음\"\n",
    "print(sentence[2::-1])"
   ]
  },
  {
   "cell_type": "code",
   "execution_count": 137,
   "id": "bedb09d8-92bf-4861-a89f-0c6cbdd63dbf",
   "metadata": {},
   "outputs": [
    {
     "ename": "TypeError",
     "evalue": "'str' object does not support item assignment",
     "output_type": "error",
     "traceback": [
      "\u001b[1;31m---------------------------------------------------------------------------\u001b[0m",
      "\u001b[1;31mTypeError\u001b[0m                                 Traceback (most recent call last)",
      "\u001b[1;32m~\\AppData\\Local\\Temp\\ipykernel_5320\\2434154369.py\u001b[0m in \u001b[0;36m<module>\u001b[1;34m\u001b[0m\n\u001b[0;32m      1\u001b[0m \u001b[1;31m#문자열 변경 불가 예제(인덱스)\u001b[0m\u001b[1;33m\u001b[0m\u001b[1;33m\u001b[0m\u001b[0m\n\u001b[0;32m      2\u001b[0m \u001b[1;31m#문자열은 불변의 특징을 가짐, 문자열을 인덱스로 접근 해 값을 변경할수없다\u001b[0m\u001b[1;33m\u001b[0m\u001b[1;33m\u001b[0m\u001b[0m\n\u001b[1;32m----> 3\u001b[1;33m \u001b[0msentence\u001b[0m\u001b[1;33m[\u001b[0m\u001b[1;36m0\u001b[0m\u001b[1;33m]\u001b[0m \u001b[1;33m=\u001b[0m \u001b[1;34m\"한\"\u001b[0m\u001b[1;33m\u001b[0m\u001b[1;33m\u001b[0m\u001b[0m\n\u001b[0m",
      "\u001b[1;31mTypeError\u001b[0m: 'str' object does not support item assignment"
     ]
    }
   ],
   "source": [
    "#문자열 변경 불가 예제(인덱스)\n",
    "#문자열은 불변의 특징을 가짐, 문자열을 인덱스로 접근 해 값을 변경할수없다\n",
    "sentence[0] = \"한\""
   ]
  },
  {
   "cell_type": "code",
   "execution_count": 139,
   "id": "553e323f-ab45-436f-acca-2baf7b999dba",
   "metadata": {},
   "outputs": [],
   "source": [
    "## 에러메세지를 확인해보면 str 객체는 할당을 지원하지 않는다고 알려줌"
   ]
  },
  {
   "cell_type": "code",
   "execution_count": 140,
   "id": "864df4a0-2ad4-4762-9f3c-1f23a061849e",
   "metadata": {},
   "outputs": [
    {
     "name": "stdout",
     "output_type": "stream",
     "text": [
      "대단한 것은 꺾이지 않는 마음\n"
     ]
    }
   ],
   "source": [
    "##문자열을 변경하고 싶을때 >> 새로운 문자열 리터럴을 만들어 변수 값에 다시 할당해 변경해주면 된다\n",
    "\n",
    "sentence = \"대단한\" + sentence[3:]\n",
    "print(sentence)"
   ]
  },
  {
   "cell_type": "code",
   "execution_count": 143,
   "id": "3d3bd6e5-c441-423d-aa5e-85810de7031b",
   "metadata": {},
   "outputs": [],
   "source": [
    "### 시퀀스 크기를 알아내는 방법 >> len 함수 이용\n",
    "\n",
    "### 리스트 - python언어에ㅐ서 가장 융통성 있는 자료형 중 하나\n",
    "###서로 다른 형의 항목들을 포함 할 수 있다"
   ]
  },
  {
   "cell_type": "code",
   "execution_count": 145,
   "id": "eb360746-bdb6-4ead-a546-c8b506d94f6a",
   "metadata": {},
   "outputs": [
    {
     "name": "stdout",
     "output_type": "stream",
     "text": [
      "5\n"
     ]
    }
   ],
   "source": [
    "letters = ['a','b','c','d','e']\n",
    "print(len(letters))"
   ]
  },
  {
   "cell_type": "code",
   "execution_count": 153,
   "id": "5da65dcc-fdcf-469c-8dc8-67c790436ef2",
   "metadata": {},
   "outputs": [
    {
     "name": "stdout",
     "output_type": "stream",
     "text": [
      "[['a', 'b', 'c'], [1, 2, 3]]\n",
      "['a', 'b', 'c']\n",
      "b\n"
     ]
    }
   ],
   "source": [
    "## 리스트 안에 리스트 인덱스로 접근가능\n",
    "a = ['a','b','c']\n",
    "n = [1, 2, 3]\n",
    "x = [a, n]\n",
    "print(x)\n",
    "\n",
    "print(x[0])\n",
    "\n",
    "print(x[0][1])"
   ]
  },
  {
   "cell_type": "code",
   "execution_count": 154,
   "id": "a91bfed3-73ea-4c51-a698-8d1b6fe85014",
   "metadata": {},
   "outputs": [
    {
     "name": "stdout",
     "output_type": "stream",
     "text": [
      "True\n",
      "False\n"
     ]
    }
   ],
   "source": [
    "# in 이라는 키워드를 통해 내부 요소에 포함여부를 확인할 수 있습니다. \n",
    "numbers = [1, 2, 3, 4, 5, 6, 7]\n",
    "print(5 in numbers)\n",
    "print(10 in numbers)"
   ]
  },
  {
   "cell_type": "code",
   "execution_count": null,
   "id": "1c32c53c-128d-41bd-adef-b30439378bc9",
   "metadata": {},
   "outputs": [],
   "source": []
  }
 ],
 "metadata": {
  "kernelspec": {
   "display_name": "Python 3 (ipykernel)",
   "language": "python",
   "name": "python3"
  },
  "language_info": {
   "codemirror_mode": {
    "name": "ipython",
    "version": 3
   },
   "file_extension": ".py",
   "mimetype": "text/x-python",
   "name": "python",
   "nbconvert_exporter": "python",
   "pygments_lexer": "ipython3",
   "version": "3.9.13"
  }
 },
 "nbformat": 4,
 "nbformat_minor": 5
}
