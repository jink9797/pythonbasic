{
 "cells": [
  {
   "cell_type": "markdown",
   "id": "d20ec4e3-ec24-49ca-8dd7-f30d8d4eb380",
   "metadata": {},
   "source": [
    "# 1. 마크다운 학습"
   ]
  },
  {
   "cell_type": "markdown",
   "id": "eb74d16f-3fe7-4f4a-b011-079ad6b637b2",
   "metadata": {},
   "source": [
    "## 1.1 일반 텍스트"
   ]
  },
  {
   "cell_type": "markdown",
   "id": "67bac78f-362b-4c60-ad41-f849b2a21925",
   "metadata": {},
   "source": [
    "일반텍스트는 그냥 입력하시면 됩니다.  \n",
    "**굵은 글씨**는 이렇게 사용합니다.  \n",
    "*기울인 글씨*는 이렇게 씁니다.  \n",
    "~~취소선~~은 이렇게 씁니다."
   ]
  },
  {
   "cell_type": "markdown",
   "id": "b05c26db-ba20-4273-a7c0-cc6b7ccbdad8",
   "metadata": {},
   "source": [
    "> 구획이  \n",
    "> 잡힌  \n",
    "> 글입니다."
   ]
  },
  {
   "cell_type": "markdown",
   "id": "578bbfc6-26f0-42f7-977c-8e51b645fab4",
   "metadata": {},
   "source": [
    "- 목록1  \n",
    "- 목록2  \n",
    "- 목록3"
   ]
  },
  {
   "cell_type": "markdown",
   "id": "b91bf2bf-a6c5-43ca-9506-646693303d43",
   "metadata": {},
   "source": [
    "1. 순서가 있는 목록1  \n",
    "2. 순서가 있는 목록2  \n",
    "3. 순서가 있는 목록3"
   ]
  },
  {
   "cell_type": "markdown",
   "id": "c91715f8-c65a-4b93-87a1-8752731f99f3",
   "metadata": {},
   "source": [
    "[google](www.google.com)"
   ]
  },
  {
   "cell_type": "markdown",
   "id": "8266c7b0-54cd-4ab0-9a5e-71857aec9b81",
   "metadata": {},
   "source": [
    "![스누피!](https://search.pstatic.net/common/?src=http%3A%2F%2Fshopping.phinf.naver.net%2Fmain_3646903%2F36469036628.20221212152319.jpg&type=sc960_832)\n"
   ]
  },
  {
   "cell_type": "markdown",
   "id": "19c00859-3170-4106-87ae-ce1f74c18c6e",
   "metadata": {},
   "source": [
    "|제목 셀 |제목 셀 |제목 셀|\n",
    "|:--|--: |:--:|\n",
    "|값1|값2|값3|"
   ]
  },
  {
   "cell_type": "markdown",
   "id": "07b34cc6-f05f-45a9-97eb-ff5c4b5c655e",
   "metadata": {},
   "source": [
    "```python\n",
    "x = int(input(\"인사를 몇 번 할까요?\"))\n",
    "for _ in range(X):\n",
    "    print(\"Hello world\")\n",
    "```"
   ]
  },
  {
   "cell_type": "code",
   "execution_count": null,
   "id": "bdacbfd7-b75c-454b-aa4e-8297b702f40a",
   "metadata": {},
   "outputs": [],
   "source": []
  }
 ],
 "metadata": {
  "kernelspec": {
   "display_name": "Python 3 (ipykernel)",
   "language": "python",
   "name": "python3"
  },
  "language_info": {
   "codemirror_mode": {
    "name": "ipython",
    "version": 3
   },
   "file_extension": ".py",
   "mimetype": "text/x-python",
   "name": "python",
   "nbconvert_exporter": "python",
   "pygments_lexer": "ipython3",
   "version": "3.9.13"
  }
 },
 "nbformat": 4,
 "nbformat_minor": 5
}
