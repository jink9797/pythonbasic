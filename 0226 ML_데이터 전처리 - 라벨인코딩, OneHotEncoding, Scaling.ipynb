{
 "cells": [
  {
   "cell_type": "markdown",
   "metadata": {},
   "source": [
    "### 데이터 인코딩"
   ]
  },
  {
   "cell_type": "markdown",
   "metadata": {},
   "source": [
    "* 레이블 인코딩(Label encoding)"
   ]
  },
  {
   "cell_type": "code",
   "execution_count": 3,
   "metadata": {},
   "outputs": [
    {
     "data": {
      "text/html": [
       "<style>#sk-container-id-2 {color: black;background-color: white;}#sk-container-id-2 pre{padding: 0;}#sk-container-id-2 div.sk-toggleable {background-color: white;}#sk-container-id-2 label.sk-toggleable__label {cursor: pointer;display: block;width: 100%;margin-bottom: 0;padding: 0.3em;box-sizing: border-box;text-align: center;}#sk-container-id-2 label.sk-toggleable__label-arrow:before {content: \"▸\";float: left;margin-right: 0.25em;color: #696969;}#sk-container-id-2 label.sk-toggleable__label-arrow:hover:before {color: black;}#sk-container-id-2 div.sk-estimator:hover label.sk-toggleable__label-arrow:before {color: black;}#sk-container-id-2 div.sk-toggleable__content {max-height: 0;max-width: 0;overflow: hidden;text-align: left;background-color: #f0f8ff;}#sk-container-id-2 div.sk-toggleable__content pre {margin: 0.2em;color: black;border-radius: 0.25em;background-color: #f0f8ff;}#sk-container-id-2 input.sk-toggleable__control:checked~div.sk-toggleable__content {max-height: 200px;max-width: 100%;overflow: auto;}#sk-container-id-2 input.sk-toggleable__control:checked~label.sk-toggleable__label-arrow:before {content: \"▾\";}#sk-container-id-2 div.sk-estimator input.sk-toggleable__control:checked~label.sk-toggleable__label {background-color: #d4ebff;}#sk-container-id-2 div.sk-label input.sk-toggleable__control:checked~label.sk-toggleable__label {background-color: #d4ebff;}#sk-container-id-2 input.sk-hidden--visually {border: 0;clip: rect(1px 1px 1px 1px);clip: rect(1px, 1px, 1px, 1px);height: 1px;margin: -1px;overflow: hidden;padding: 0;position: absolute;width: 1px;}#sk-container-id-2 div.sk-estimator {font-family: monospace;background-color: #f0f8ff;border: 1px dotted black;border-radius: 0.25em;box-sizing: border-box;margin-bottom: 0.5em;}#sk-container-id-2 div.sk-estimator:hover {background-color: #d4ebff;}#sk-container-id-2 div.sk-parallel-item::after {content: \"\";width: 100%;border-bottom: 1px solid gray;flex-grow: 1;}#sk-container-id-2 div.sk-label:hover label.sk-toggleable__label {background-color: #d4ebff;}#sk-container-id-2 div.sk-serial::before {content: \"\";position: absolute;border-left: 1px solid gray;box-sizing: border-box;top: 0;bottom: 0;left: 50%;z-index: 0;}#sk-container-id-2 div.sk-serial {display: flex;flex-direction: column;align-items: center;background-color: white;padding-right: 0.2em;padding-left: 0.2em;position: relative;}#sk-container-id-2 div.sk-item {position: relative;z-index: 1;}#sk-container-id-2 div.sk-parallel {display: flex;align-items: stretch;justify-content: center;background-color: white;position: relative;}#sk-container-id-2 div.sk-item::before, #sk-container-id-2 div.sk-parallel-item::before {content: \"\";position: absolute;border-left: 1px solid gray;box-sizing: border-box;top: 0;bottom: 0;left: 50%;z-index: -1;}#sk-container-id-2 div.sk-parallel-item {display: flex;flex-direction: column;z-index: 1;position: relative;background-color: white;}#sk-container-id-2 div.sk-parallel-item:first-child::after {align-self: flex-end;width: 50%;}#sk-container-id-2 div.sk-parallel-item:last-child::after {align-self: flex-start;width: 50%;}#sk-container-id-2 div.sk-parallel-item:only-child::after {width: 0;}#sk-container-id-2 div.sk-dashed-wrapped {border: 1px dashed gray;margin: 0 0.4em 0.5em 0.4em;box-sizing: border-box;padding-bottom: 0.4em;background-color: white;}#sk-container-id-2 div.sk-label label {font-family: monospace;font-weight: bold;display: inline-block;line-height: 1.2em;}#sk-container-id-2 div.sk-label-container {text-align: center;}#sk-container-id-2 div.sk-container {/* jupyter's `normalize.less` sets `[hidden] { display: none; }` but bootstrap.min.css set `[hidden] { display: none !important; }` so we also need the `!important` here to be able to override the default hidden behavior on the sphinx rendered scikit-learn.org. See: https://github.com/scikit-learn/scikit-learn/issues/21755 */display: inline-block !important;position: relative;}#sk-container-id-2 div.sk-text-repr-fallback {display: none;}</style><div id=\"sk-container-id-2\" class=\"sk-top-container\"><div class=\"sk-text-repr-fallback\"><pre>LabelEncoder()</pre><b>In a Jupyter environment, please rerun this cell to show the HTML representation or trust the notebook. <br />On GitHub, the HTML representation is unable to render, please try loading this page with nbviewer.org.</b></div><div class=\"sk-container\" hidden><div class=\"sk-item\"><div class=\"sk-estimator sk-toggleable\"><input class=\"sk-toggleable__control sk-hidden--visually\" id=\"sk-estimator-id-2\" type=\"checkbox\" checked><label for=\"sk-estimator-id-2\" class=\"sk-toggleable__label sk-toggleable__label-arrow\">LabelEncoder</label><div class=\"sk-toggleable__content\"><pre>LabelEncoder()</pre></div></div></div></div></div>"
      ],
      "text/plain": [
       "LabelEncoder()"
      ]
     },
     "execution_count": 3,
     "metadata": {},
     "output_type": "execute_result"
    }
   ],
   "source": [
    "from sklearn.preprocessing import LabelEncoder\n",
    "\n",
    "items =['TV','냉장고','전자렌지','컴퓨터','선풍기','선풍기','믹서','믹서']\n",
    "\n",
    "encoder = LabelEncoder()\n",
    "encoder.fit(items)"
   ]
  },
  {
   "cell_type": "code",
   "execution_count": 5,
   "metadata": {},
   "outputs": [
    {
     "data": {
      "text/plain": [
       "array([0, 1, 4, 5, 3, 3, 2, 2])"
      ]
     },
     "execution_count": 5,
     "metadata": {},
     "output_type": "execute_result"
    }
   ],
   "source": [
    "labels = encoder.transform(items)\n",
    "labels"
   ]
  },
  {
   "cell_type": "code",
   "execution_count": 6,
   "metadata": {},
   "outputs": [
    {
     "data": {
      "text/plain": [
       "array(['TV', '냉장고', '믹서', '선풍기', '전자렌지', '컴퓨터'], dtype='<U4')"
      ]
     },
     "execution_count": 6,
     "metadata": {},
     "output_type": "execute_result"
    }
   ],
   "source": [
    "# 라벨 인코딩 규칙\n",
    "encoder.classes_"
   ]
  },
  {
   "cell_type": "code",
   "execution_count": 7,
   "metadata": {},
   "outputs": [
    {
     "data": {
      "text/plain": [
       "array(['TV', '냉장고', '전자렌지', '컴퓨터', '선풍기', '선풍기', '믹서', '믹서'], dtype='<U4')"
      ]
     },
     "execution_count": 7,
     "metadata": {},
     "output_type": "execute_result"
    }
   ],
   "source": [
    "# 원본값 확인\n",
    "encoder.inverse_transform(labels)"
   ]
  },
  {
   "cell_type": "markdown",
   "metadata": {},
   "source": [
    "* 원-핫 인코딩(One-Hot encoding) : 하나만 참이있는걸로 변환시킴"
   ]
  },
  {
   "cell_type": "code",
   "execution_count": 27,
   "metadata": {},
   "outputs": [
    {
     "data": {
      "text/plain": [
       "array([[1., 0., 0., 0., 0., 0.],\n",
       "       [0., 1., 0., 0., 0., 0.],\n",
       "       [0., 0., 0., 0., 1., 0.],\n",
       "       [0., 0., 0., 0., 0., 1.],\n",
       "       [0., 0., 0., 1., 0., 0.],\n",
       "       [0., 0., 0., 1., 0., 0.],\n",
       "       [0., 0., 1., 0., 0., 0.],\n",
       "       [0., 0., 1., 0., 0., 0.]])"
      ]
     },
     "execution_count": 27,
     "metadata": {},
     "output_type": "execute_result"
    }
   ],
   "source": [
    "# 먼저 라벨 인코딩으로 변환 후 원핫인코딩으로 변환\n",
    "from sklearn.preprocessing import LabelEncoder\n",
    "from sklearn.preprocessing import OneHotEncoder\n",
    "import numpy as np\n",
    "items = ['TV', '냉장고', '전자레인지', '컴퓨터', '선풍기', '선풍기', '믹서', '믹서']\n",
    "# 라벨 인코딩\n",
    "encoder = LabelEncoder()\n",
    "encoder.fit(items)\n",
    "labels = encoder.transform(items) # 1차원 array\n",
    "# 원핫 인코딩으로 변환하기 전에 2차원 배열로 구조 변경\n",
    "# 한 행에 열이 1개만 있도록 만들기\n",
    "labels = labels.reshape((-1, 1))\n",
    "# 원핫 인코딩 # 사이킷럿은 2차원 배열로 만들어야 실행 가능하기에\n",
    "oh_encoder = OneHotEncoder()\n",
    "oh_encoder.fit(labels)\n",
    "oh_labels = oh_encoder.transform(labels)\n",
    "oh_labels.toarray()"
   ]
  },
  {
   "cell_type": "code",
   "execution_count": 28,
   "metadata": {},
   "outputs": [
    {
     "data": {
      "text/plain": [
       "array([[0],\n",
       "       [1],\n",
       "       [4],\n",
       "       [5],\n",
       "       [3],\n",
       "       [3],\n",
       "       [2],\n",
       "       [2]])"
      ]
     },
     "execution_count": 28,
     "metadata": {},
     "output_type": "execute_result"
    }
   ],
   "source": [
    "oh_encoder.inverse_transform(oh_labels)"
   ]
  },
  {
   "cell_type": "code",
   "execution_count": 29,
   "metadata": {},
   "outputs": [
    {
     "data": {
      "text/plain": [
       "array([ 0,  1,  2,  3,  4,  5,  6,  7,  8,  9, 10, 11])"
      ]
     },
     "execution_count": 29,
     "metadata": {},
     "output_type": "execute_result"
    }
   ],
   "source": [
    "a2 = np.array(range(0,12))\n",
    "a2"
   ]
  },
  {
   "cell_type": "code",
   "execution_count": 30,
   "metadata": {},
   "outputs": [
    {
     "data": {
      "text/plain": [
       "array([[ 0,  1,  2,  3],\n",
       "       [ 4,  5,  6,  7],\n",
       "       [ 8,  9, 10, 11]])"
      ]
     },
     "execution_count": 30,
     "metadata": {},
     "output_type": "execute_result"
    }
   ],
   "source": [
    "a2.reshape((3,-1))"
   ]
  },
  {
   "cell_type": "code",
   "execution_count": 32,
   "metadata": {},
   "outputs": [
    {
     "data": {
      "text/html": [
       "<div>\n",
       "<style scoped>\n",
       "    .dataframe tbody tr th:only-of-type {\n",
       "        vertical-align: middle;\n",
       "    }\n",
       "\n",
       "    .dataframe tbody tr th {\n",
       "        vertical-align: top;\n",
       "    }\n",
       "\n",
       "    .dataframe thead th {\n",
       "        text-align: right;\n",
       "    }\n",
       "</style>\n",
       "<table border=\"1\" class=\"dataframe\">\n",
       "  <thead>\n",
       "    <tr style=\"text-align: right;\">\n",
       "      <th></th>\n",
       "      <th>items</th>\n",
       "    </tr>\n",
       "  </thead>\n",
       "  <tbody>\n",
       "    <tr>\n",
       "      <th>0</th>\n",
       "      <td>TV</td>\n",
       "    </tr>\n",
       "    <tr>\n",
       "      <th>1</th>\n",
       "      <td>냉장고</td>\n",
       "    </tr>\n",
       "    <tr>\n",
       "      <th>2</th>\n",
       "      <td>전자렌지</td>\n",
       "    </tr>\n",
       "    <tr>\n",
       "      <th>3</th>\n",
       "      <td>컴퓨터</td>\n",
       "    </tr>\n",
       "    <tr>\n",
       "      <th>4</th>\n",
       "      <td>선풍기</td>\n",
       "    </tr>\n",
       "    <tr>\n",
       "      <th>5</th>\n",
       "      <td>선풍기</td>\n",
       "    </tr>\n",
       "    <tr>\n",
       "      <th>6</th>\n",
       "      <td>믹서</td>\n",
       "    </tr>\n",
       "    <tr>\n",
       "      <th>7</th>\n",
       "      <td>믹서</td>\n",
       "    </tr>\n",
       "  </tbody>\n",
       "</table>\n",
       "</div>"
      ],
      "text/plain": [
       "  items\n",
       "0    TV\n",
       "1   냉장고\n",
       "2  전자렌지\n",
       "3   컴퓨터\n",
       "4   선풍기\n",
       "5   선풍기\n",
       "6    믹서\n",
       "7    믹서"
      ]
     },
     "execution_count": 32,
     "metadata": {},
     "output_type": "execute_result"
    }
   ],
   "source": [
    "# pandas를 활용한 원핫 인코딩 만들기 - get_dummies()\n",
    "import pandas as pd\n",
    "df = pd.DataFrame({'items':['TV','냉장고','전자렌지','컴퓨터','선풍기','선풍기','믹서','믹서']})\n",
    "df"
   ]
  },
  {
   "cell_type": "code",
   "execution_count": 33,
   "metadata": {},
   "outputs": [
    {
     "data": {
      "text/html": [
       "<div>\n",
       "<style scoped>\n",
       "    .dataframe tbody tr th:only-of-type {\n",
       "        vertical-align: middle;\n",
       "    }\n",
       "\n",
       "    .dataframe tbody tr th {\n",
       "        vertical-align: top;\n",
       "    }\n",
       "\n",
       "    .dataframe thead th {\n",
       "        text-align: right;\n",
       "    }\n",
       "</style>\n",
       "<table border=\"1\" class=\"dataframe\">\n",
       "  <thead>\n",
       "    <tr style=\"text-align: right;\">\n",
       "      <th></th>\n",
       "      <th>items_TV</th>\n",
       "      <th>items_냉장고</th>\n",
       "      <th>items_믹서</th>\n",
       "      <th>items_선풍기</th>\n",
       "      <th>items_전자렌지</th>\n",
       "      <th>items_컴퓨터</th>\n",
       "    </tr>\n",
       "  </thead>\n",
       "  <tbody>\n",
       "    <tr>\n",
       "      <th>0</th>\n",
       "      <td>1</td>\n",
       "      <td>0</td>\n",
       "      <td>0</td>\n",
       "      <td>0</td>\n",
       "      <td>0</td>\n",
       "      <td>0</td>\n",
       "    </tr>\n",
       "    <tr>\n",
       "      <th>1</th>\n",
       "      <td>0</td>\n",
       "      <td>1</td>\n",
       "      <td>0</td>\n",
       "      <td>0</td>\n",
       "      <td>0</td>\n",
       "      <td>0</td>\n",
       "    </tr>\n",
       "    <tr>\n",
       "      <th>2</th>\n",
       "      <td>0</td>\n",
       "      <td>0</td>\n",
       "      <td>0</td>\n",
       "      <td>0</td>\n",
       "      <td>1</td>\n",
       "      <td>0</td>\n",
       "    </tr>\n",
       "    <tr>\n",
       "      <th>3</th>\n",
       "      <td>0</td>\n",
       "      <td>0</td>\n",
       "      <td>0</td>\n",
       "      <td>0</td>\n",
       "      <td>0</td>\n",
       "      <td>1</td>\n",
       "    </tr>\n",
       "    <tr>\n",
       "      <th>4</th>\n",
       "      <td>0</td>\n",
       "      <td>0</td>\n",
       "      <td>0</td>\n",
       "      <td>1</td>\n",
       "      <td>0</td>\n",
       "      <td>0</td>\n",
       "    </tr>\n",
       "    <tr>\n",
       "      <th>5</th>\n",
       "      <td>0</td>\n",
       "      <td>0</td>\n",
       "      <td>0</td>\n",
       "      <td>1</td>\n",
       "      <td>0</td>\n",
       "      <td>0</td>\n",
       "    </tr>\n",
       "    <tr>\n",
       "      <th>6</th>\n",
       "      <td>0</td>\n",
       "      <td>0</td>\n",
       "      <td>1</td>\n",
       "      <td>0</td>\n",
       "      <td>0</td>\n",
       "      <td>0</td>\n",
       "    </tr>\n",
       "    <tr>\n",
       "      <th>7</th>\n",
       "      <td>0</td>\n",
       "      <td>0</td>\n",
       "      <td>1</td>\n",
       "      <td>0</td>\n",
       "      <td>0</td>\n",
       "      <td>0</td>\n",
       "    </tr>\n",
       "  </tbody>\n",
       "</table>\n",
       "</div>"
      ],
      "text/plain": [
       "   items_TV  items_냉장고  items_믹서  items_선풍기  items_전자렌지  items_컴퓨터\n",
       "0         1          0         0          0           0          0\n",
       "1         0          1         0          0           0          0\n",
       "2         0          0         0          0           1          0\n",
       "3         0          0         0          0           0          1\n",
       "4         0          0         0          1           0          0\n",
       "5         0          0         0          1           0          0\n",
       "6         0          0         1          0           0          0\n",
       "7         0          0         1          0           0          0"
      ]
     },
     "execution_count": 33,
     "metadata": {},
     "output_type": "execute_result"
    }
   ],
   "source": [
    "result = pd.get_dummies(df)\n",
    "result"
   ]
  },
  {
   "cell_type": "code",
   "execution_count": 34,
   "metadata": {},
   "outputs": [
    {
     "data": {
      "text/plain": [
       "array([[1, 0, 0, 0, 0, 0],\n",
       "       [0, 1, 0, 0, 0, 0],\n",
       "       [0, 0, 0, 0, 1, 0],\n",
       "       [0, 0, 0, 0, 0, 1],\n",
       "       [0, 0, 0, 1, 0, 0],\n",
       "       [0, 0, 0, 1, 0, 0],\n",
       "       [0, 0, 1, 0, 0, 0],\n",
       "       [0, 0, 1, 0, 0, 0]], dtype=uint8)"
      ]
     },
     "execution_count": 34,
     "metadata": {},
     "output_type": "execute_result"
    }
   ],
   "source": [
    "result.values"
   ]
  },
  {
   "cell_type": "code",
   "execution_count": null,
   "metadata": {},
   "outputs": [],
   "source": []
  },
  {
   "cell_type": "markdown",
   "metadata": {
    "tags": []
   },
   "source": [
    "### 피처 스케일링과 정규화"
   ]
  },
  {
   "cell_type": "markdown",
   "metadata": {},
   "source": [
    "* StandardScaler"
   ]
  },
  {
   "cell_type": "code",
   "execution_count": 38,
   "metadata": {
    "scrolled": true,
    "tags": []
   },
   "outputs": [],
   "source": [
    "from sklearn.datasets import load_iris\n",
    "\n",
    "import pandas as pd\n",
    "\n",
    "iris = load_iris()\n",
    "iris_data = iris.data\n",
    "iris_df = pd.DataFrame(data= iris_data, columns = iris.feature_names)"
   ]
  },
  {
   "cell_type": "code",
   "execution_count": 36,
   "metadata": {},
   "outputs": [
    {
     "data": {
      "text/html": [
       "<div>\n",
       "<style scoped>\n",
       "    .dataframe tbody tr th:only-of-type {\n",
       "        vertical-align: middle;\n",
       "    }\n",
       "\n",
       "    .dataframe tbody tr th {\n",
       "        vertical-align: top;\n",
       "    }\n",
       "\n",
       "    .dataframe thead th {\n",
       "        text-align: right;\n",
       "    }\n",
       "</style>\n",
       "<table border=\"1\" class=\"dataframe\">\n",
       "  <thead>\n",
       "    <tr style=\"text-align: right;\">\n",
       "      <th></th>\n",
       "      <th>0</th>\n",
       "      <th>1</th>\n",
       "      <th>2</th>\n",
       "      <th>3</th>\n",
       "    </tr>\n",
       "  </thead>\n",
       "  <tbody>\n",
       "    <tr>\n",
       "      <th>count</th>\n",
       "      <td>150.000000</td>\n",
       "      <td>150.000000</td>\n",
       "      <td>150.000000</td>\n",
       "      <td>150.000000</td>\n",
       "    </tr>\n",
       "    <tr>\n",
       "      <th>mean</th>\n",
       "      <td>5.843333</td>\n",
       "      <td>3.057333</td>\n",
       "      <td>3.758000</td>\n",
       "      <td>1.199333</td>\n",
       "    </tr>\n",
       "    <tr>\n",
       "      <th>std</th>\n",
       "      <td>0.828066</td>\n",
       "      <td>0.435866</td>\n",
       "      <td>1.765298</td>\n",
       "      <td>0.762238</td>\n",
       "    </tr>\n",
       "    <tr>\n",
       "      <th>min</th>\n",
       "      <td>4.300000</td>\n",
       "      <td>2.000000</td>\n",
       "      <td>1.000000</td>\n",
       "      <td>0.100000</td>\n",
       "    </tr>\n",
       "    <tr>\n",
       "      <th>25%</th>\n",
       "      <td>5.100000</td>\n",
       "      <td>2.800000</td>\n",
       "      <td>1.600000</td>\n",
       "      <td>0.300000</td>\n",
       "    </tr>\n",
       "    <tr>\n",
       "      <th>50%</th>\n",
       "      <td>5.800000</td>\n",
       "      <td>3.000000</td>\n",
       "      <td>4.350000</td>\n",
       "      <td>1.300000</td>\n",
       "    </tr>\n",
       "    <tr>\n",
       "      <th>75%</th>\n",
       "      <td>6.400000</td>\n",
       "      <td>3.300000</td>\n",
       "      <td>5.100000</td>\n",
       "      <td>1.800000</td>\n",
       "    </tr>\n",
       "    <tr>\n",
       "      <th>max</th>\n",
       "      <td>7.900000</td>\n",
       "      <td>4.400000</td>\n",
       "      <td>6.900000</td>\n",
       "      <td>2.500000</td>\n",
       "    </tr>\n",
       "  </tbody>\n",
       "</table>\n",
       "</div>"
      ],
      "text/plain": [
       "                0           1           2           3\n",
       "count  150.000000  150.000000  150.000000  150.000000\n",
       "mean     5.843333    3.057333    3.758000    1.199333\n",
       "std      0.828066    0.435866    1.765298    0.762238\n",
       "min      4.300000    2.000000    1.000000    0.100000\n",
       "25%      5.100000    2.800000    1.600000    0.300000\n",
       "50%      5.800000    3.000000    4.350000    1.300000\n",
       "75%      6.400000    3.300000    5.100000    1.800000\n",
       "max      7.900000    4.400000    6.900000    2.500000"
      ]
     },
     "execution_count": 36,
     "metadata": {},
     "output_type": "execute_result"
    }
   ],
   "source": [
    "df = pd.DataFrame(data = iris.data)\n",
    "df.describe()"
   ]
  },
  {
   "cell_type": "code",
   "execution_count": 44,
   "metadata": {
    "scrolled": true,
    "tags": []
   },
   "outputs": [
    {
     "data": {
      "text/html": [
       "<div>\n",
       "<style scoped>\n",
       "    .dataframe tbody tr th:only-of-type {\n",
       "        vertical-align: middle;\n",
       "    }\n",
       "\n",
       "    .dataframe tbody tr th {\n",
       "        vertical-align: top;\n",
       "    }\n",
       "\n",
       "    .dataframe thead th {\n",
       "        text-align: right;\n",
       "    }\n",
       "</style>\n",
       "<table border=\"1\" class=\"dataframe\">\n",
       "  <thead>\n",
       "    <tr style=\"text-align: right;\">\n",
       "      <th></th>\n",
       "      <th>0</th>\n",
       "      <th>1</th>\n",
       "      <th>2</th>\n",
       "      <th>3</th>\n",
       "    </tr>\n",
       "  </thead>\n",
       "  <tbody>\n",
       "    <tr>\n",
       "      <th>count</th>\n",
       "      <td>150.00000</td>\n",
       "      <td>150.00000</td>\n",
       "      <td>150.00000</td>\n",
       "      <td>150.00000</td>\n",
       "    </tr>\n",
       "    <tr>\n",
       "      <th>mean</th>\n",
       "      <td>-0.00000</td>\n",
       "      <td>-0.00000</td>\n",
       "      <td>-0.00000</td>\n",
       "      <td>-0.00000</td>\n",
       "    </tr>\n",
       "    <tr>\n",
       "      <th>std</th>\n",
       "      <td>1.00335</td>\n",
       "      <td>1.00335</td>\n",
       "      <td>1.00335</td>\n",
       "      <td>1.00335</td>\n",
       "    </tr>\n",
       "    <tr>\n",
       "      <th>min</th>\n",
       "      <td>-1.87002</td>\n",
       "      <td>-2.43395</td>\n",
       "      <td>-1.56758</td>\n",
       "      <td>-1.44708</td>\n",
       "    </tr>\n",
       "    <tr>\n",
       "      <th>25%</th>\n",
       "      <td>-0.90068</td>\n",
       "      <td>-0.59237</td>\n",
       "      <td>-1.22655</td>\n",
       "      <td>-1.18381</td>\n",
       "    </tr>\n",
       "    <tr>\n",
       "      <th>50%</th>\n",
       "      <td>-0.05251</td>\n",
       "      <td>-0.13198</td>\n",
       "      <td>0.33648</td>\n",
       "      <td>0.13251</td>\n",
       "    </tr>\n",
       "    <tr>\n",
       "      <th>75%</th>\n",
       "      <td>0.67450</td>\n",
       "      <td>0.55861</td>\n",
       "      <td>0.76276</td>\n",
       "      <td>0.79067</td>\n",
       "    </tr>\n",
       "    <tr>\n",
       "      <th>max</th>\n",
       "      <td>2.49202</td>\n",
       "      <td>3.09078</td>\n",
       "      <td>1.78583</td>\n",
       "      <td>1.71210</td>\n",
       "    </tr>\n",
       "  </tbody>\n",
       "</table>\n",
       "</div>"
      ],
      "text/plain": [
       "              0         1         2         3\n",
       "count 150.00000 150.00000 150.00000 150.00000\n",
       "mean   -0.00000  -0.00000  -0.00000  -0.00000\n",
       "std     1.00335   1.00335   1.00335   1.00335\n",
       "min    -1.87002  -2.43395  -1.56758  -1.44708\n",
       "25%    -0.90068  -0.59237  -1.22655  -1.18381\n",
       "50%    -0.05251  -0.13198   0.33648   0.13251\n",
       "75%     0.67450   0.55861   0.76276   0.79067\n",
       "max     2.49202   3.09078   1.78583   1.71210"
      ]
     },
     "execution_count": 44,
     "metadata": {},
     "output_type": "execute_result"
    }
   ],
   "source": [
    "from sklearn.preprocessing import StandardScaler\n",
    "\n",
    "scaler = StandardScaler()\n",
    "scaler.fit(iris_df)\n",
    "iris_scaled = scaler.transform(iris_df)\n",
    "np.set_printoptions(precision = 6, suppress = True)\n",
    "iris_scaled\n",
    "iris_scaled_df = pd.DataFrame(iris_scaled)\n",
    "pd.options.display.float_format = '{:.5f}'.format\n",
    "iris_scaled_df.describe()"
   ]
  },
  {
   "cell_type": "markdown",
   "metadata": {},
   "source": [
    "* MinMaxScaler"
   ]
  },
  {
   "cell_type": "code",
   "execution_count": 46,
   "metadata": {
    "scrolled": true,
    "tags": []
   },
   "outputs": [
    {
     "data": {
      "text/plain": [
       "array([[0.222222, 0.625   , 0.067797, 0.041667],\n",
       "       [0.166667, 0.416667, 0.067797, 0.041667],\n",
       "       [0.111111, 0.5     , 0.050847, 0.041667],\n",
       "       [0.083333, 0.458333, 0.084746, 0.041667],\n",
       "       [0.194444, 0.666667, 0.067797, 0.041667],\n",
       "       [0.305556, 0.791667, 0.118644, 0.125   ],\n",
       "       [0.083333, 0.583333, 0.067797, 0.083333],\n",
       "       [0.194444, 0.583333, 0.084746, 0.041667],\n",
       "       [0.027778, 0.375   , 0.067797, 0.041667],\n",
       "       [0.166667, 0.458333, 0.084746, 0.      ],\n",
       "       [0.305556, 0.708333, 0.084746, 0.041667],\n",
       "       [0.138889, 0.583333, 0.101695, 0.041667],\n",
       "       [0.138889, 0.416667, 0.067797, 0.      ],\n",
       "       [0.      , 0.416667, 0.016949, 0.      ],\n",
       "       [0.416667, 0.833333, 0.033898, 0.041667],\n",
       "       [0.388889, 1.      , 0.084746, 0.125   ],\n",
       "       [0.305556, 0.791667, 0.050847, 0.125   ],\n",
       "       [0.222222, 0.625   , 0.067797, 0.083333],\n",
       "       [0.388889, 0.75    , 0.118644, 0.083333],\n",
       "       [0.222222, 0.75    , 0.084746, 0.083333],\n",
       "       [0.305556, 0.583333, 0.118644, 0.041667],\n",
       "       [0.222222, 0.708333, 0.084746, 0.125   ],\n",
       "       [0.083333, 0.666667, 0.      , 0.041667],\n",
       "       [0.222222, 0.541667, 0.118644, 0.166667],\n",
       "       [0.138889, 0.583333, 0.152542, 0.041667],\n",
       "       [0.194444, 0.416667, 0.101695, 0.041667],\n",
       "       [0.194444, 0.583333, 0.101695, 0.125   ],\n",
       "       [0.25    , 0.625   , 0.084746, 0.041667],\n",
       "       [0.25    , 0.583333, 0.067797, 0.041667],\n",
       "       [0.111111, 0.5     , 0.101695, 0.041667],\n",
       "       [0.138889, 0.458333, 0.101695, 0.041667],\n",
       "       [0.305556, 0.583333, 0.084746, 0.125   ],\n",
       "       [0.25    , 0.875   , 0.084746, 0.      ],\n",
       "       [0.333333, 0.916667, 0.067797, 0.041667],\n",
       "       [0.166667, 0.458333, 0.084746, 0.041667],\n",
       "       [0.194444, 0.5     , 0.033898, 0.041667],\n",
       "       [0.333333, 0.625   , 0.050847, 0.041667],\n",
       "       [0.166667, 0.666667, 0.067797, 0.      ],\n",
       "       [0.027778, 0.416667, 0.050847, 0.041667],\n",
       "       [0.222222, 0.583333, 0.084746, 0.041667],\n",
       "       [0.194444, 0.625   , 0.050847, 0.083333],\n",
       "       [0.055556, 0.125   , 0.050847, 0.083333],\n",
       "       [0.027778, 0.5     , 0.050847, 0.041667],\n",
       "       [0.194444, 0.625   , 0.101695, 0.208333],\n",
       "       [0.222222, 0.75    , 0.152542, 0.125   ],\n",
       "       [0.138889, 0.416667, 0.067797, 0.083333],\n",
       "       [0.222222, 0.75    , 0.101695, 0.041667],\n",
       "       [0.083333, 0.5     , 0.067797, 0.041667],\n",
       "       [0.277778, 0.708333, 0.084746, 0.041667],\n",
       "       [0.194444, 0.541667, 0.067797, 0.041667],\n",
       "       [0.75    , 0.5     , 0.627119, 0.541667],\n",
       "       [0.583333, 0.5     , 0.59322 , 0.583333],\n",
       "       [0.722222, 0.458333, 0.661017, 0.583333],\n",
       "       [0.333333, 0.125   , 0.508475, 0.5     ],\n",
       "       [0.611111, 0.333333, 0.610169, 0.583333],\n",
       "       [0.388889, 0.333333, 0.59322 , 0.5     ],\n",
       "       [0.555556, 0.541667, 0.627119, 0.625   ],\n",
       "       [0.166667, 0.166667, 0.389831, 0.375   ],\n",
       "       [0.638889, 0.375   , 0.610169, 0.5     ],\n",
       "       [0.25    , 0.291667, 0.491525, 0.541667],\n",
       "       [0.194444, 0.      , 0.423729, 0.375   ],\n",
       "       [0.444444, 0.416667, 0.542373, 0.583333],\n",
       "       [0.472222, 0.083333, 0.508475, 0.375   ],\n",
       "       [0.5     , 0.375   , 0.627119, 0.541667],\n",
       "       [0.361111, 0.375   , 0.440678, 0.5     ],\n",
       "       [0.666667, 0.458333, 0.576271, 0.541667],\n",
       "       [0.361111, 0.416667, 0.59322 , 0.583333],\n",
       "       [0.416667, 0.291667, 0.525424, 0.375   ],\n",
       "       [0.527778, 0.083333, 0.59322 , 0.583333],\n",
       "       [0.361111, 0.208333, 0.491525, 0.416667],\n",
       "       [0.444444, 0.5     , 0.644068, 0.708333],\n",
       "       [0.5     , 0.333333, 0.508475, 0.5     ],\n",
       "       [0.555556, 0.208333, 0.661017, 0.583333],\n",
       "       [0.5     , 0.333333, 0.627119, 0.458333],\n",
       "       [0.583333, 0.375   , 0.559322, 0.5     ],\n",
       "       [0.638889, 0.416667, 0.576271, 0.541667],\n",
       "       [0.694444, 0.333333, 0.644068, 0.541667],\n",
       "       [0.666667, 0.416667, 0.677966, 0.666667],\n",
       "       [0.472222, 0.375   , 0.59322 , 0.583333],\n",
       "       [0.388889, 0.25    , 0.423729, 0.375   ],\n",
       "       [0.333333, 0.166667, 0.474576, 0.416667],\n",
       "       [0.333333, 0.166667, 0.457627, 0.375   ],\n",
       "       [0.416667, 0.291667, 0.491525, 0.458333],\n",
       "       [0.472222, 0.291667, 0.694915, 0.625   ],\n",
       "       [0.305556, 0.416667, 0.59322 , 0.583333],\n",
       "       [0.472222, 0.583333, 0.59322 , 0.625   ],\n",
       "       [0.666667, 0.458333, 0.627119, 0.583333],\n",
       "       [0.555556, 0.125   , 0.576271, 0.5     ],\n",
       "       [0.361111, 0.416667, 0.525424, 0.5     ],\n",
       "       [0.333333, 0.208333, 0.508475, 0.5     ],\n",
       "       [0.333333, 0.25    , 0.576271, 0.458333],\n",
       "       [0.5     , 0.416667, 0.610169, 0.541667],\n",
       "       [0.416667, 0.25    , 0.508475, 0.458333],\n",
       "       [0.194444, 0.125   , 0.389831, 0.375   ],\n",
       "       [0.361111, 0.291667, 0.542373, 0.5     ],\n",
       "       [0.388889, 0.416667, 0.542373, 0.458333],\n",
       "       [0.388889, 0.375   , 0.542373, 0.5     ],\n",
       "       [0.527778, 0.375   , 0.559322, 0.5     ],\n",
       "       [0.222222, 0.208333, 0.338983, 0.416667],\n",
       "       [0.388889, 0.333333, 0.525424, 0.5     ],\n",
       "       [0.555556, 0.541667, 0.847458, 1.      ],\n",
       "       [0.416667, 0.291667, 0.694915, 0.75    ],\n",
       "       [0.777778, 0.416667, 0.830508, 0.833333],\n",
       "       [0.555556, 0.375   , 0.779661, 0.708333],\n",
       "       [0.611111, 0.416667, 0.813559, 0.875   ],\n",
       "       [0.916667, 0.416667, 0.949153, 0.833333],\n",
       "       [0.166667, 0.208333, 0.59322 , 0.666667],\n",
       "       [0.833333, 0.375   , 0.898305, 0.708333],\n",
       "       [0.666667, 0.208333, 0.813559, 0.708333],\n",
       "       [0.805556, 0.666667, 0.864407, 1.      ],\n",
       "       [0.611111, 0.5     , 0.694915, 0.791667],\n",
       "       [0.583333, 0.291667, 0.728814, 0.75    ],\n",
       "       [0.694444, 0.416667, 0.762712, 0.833333],\n",
       "       [0.388889, 0.208333, 0.677966, 0.791667],\n",
       "       [0.416667, 0.333333, 0.694915, 0.958333],\n",
       "       [0.583333, 0.5     , 0.728814, 0.916667],\n",
       "       [0.611111, 0.416667, 0.762712, 0.708333],\n",
       "       [0.944444, 0.75    , 0.966102, 0.875   ],\n",
       "       [0.944444, 0.25    , 1.      , 0.916667],\n",
       "       [0.472222, 0.083333, 0.677966, 0.583333],\n",
       "       [0.722222, 0.5     , 0.79661 , 0.916667],\n",
       "       [0.361111, 0.333333, 0.661017, 0.791667],\n",
       "       [0.944444, 0.333333, 0.966102, 0.791667],\n",
       "       [0.555556, 0.291667, 0.661017, 0.708333],\n",
       "       [0.666667, 0.541667, 0.79661 , 0.833333],\n",
       "       [0.805556, 0.5     , 0.847458, 0.708333],\n",
       "       [0.527778, 0.333333, 0.644068, 0.708333],\n",
       "       [0.5     , 0.416667, 0.661017, 0.708333],\n",
       "       [0.583333, 0.333333, 0.779661, 0.833333],\n",
       "       [0.805556, 0.416667, 0.813559, 0.625   ],\n",
       "       [0.861111, 0.333333, 0.864407, 0.75    ],\n",
       "       [1.      , 0.75    , 0.915254, 0.791667],\n",
       "       [0.583333, 0.333333, 0.779661, 0.875   ],\n",
       "       [0.555556, 0.333333, 0.694915, 0.583333],\n",
       "       [0.5     , 0.25    , 0.779661, 0.541667],\n",
       "       [0.944444, 0.416667, 0.864407, 0.916667],\n",
       "       [0.555556, 0.583333, 0.779661, 0.958333],\n",
       "       [0.583333, 0.458333, 0.762712, 0.708333],\n",
       "       [0.472222, 0.416667, 0.644068, 0.708333],\n",
       "       [0.722222, 0.458333, 0.745763, 0.833333],\n",
       "       [0.666667, 0.458333, 0.779661, 0.958333],\n",
       "       [0.722222, 0.458333, 0.694915, 0.916667],\n",
       "       [0.416667, 0.291667, 0.694915, 0.75    ],\n",
       "       [0.694444, 0.5     , 0.830508, 0.916667],\n",
       "       [0.666667, 0.541667, 0.79661 , 1.      ],\n",
       "       [0.666667, 0.416667, 0.711864, 0.916667],\n",
       "       [0.555556, 0.208333, 0.677966, 0.75    ],\n",
       "       [0.611111, 0.416667, 0.711864, 0.791667],\n",
       "       [0.527778, 0.583333, 0.745763, 0.916667],\n",
       "       [0.444444, 0.416667, 0.694915, 0.708333]])"
      ]
     },
     "execution_count": 46,
     "metadata": {},
     "output_type": "execute_result"
    }
   ],
   "source": [
    "from sklearn.preprocessing import MinMaxScaler\n",
    "\n",
    "scaler = MinMaxScaler()\n",
    "scaler.fit(iris.data)\n",
    "scaler.transform(iris.data)"
   ]
  },
  {
   "cell_type": "markdown",
   "metadata": {},
   "source": [
    "* Scaler를 이용하여 학습 데이터와 테스트 데이터에 fit(), transform(), fit_transform() 적용 시 유의사항. "
   ]
  },
  {
   "cell_type": "code",
   "execution_count": null,
   "metadata": {},
   "outputs": [],
   "source": []
  },
  {
   "cell_type": "code",
   "execution_count": null,
   "metadata": {},
   "outputs": [],
   "source": []
  },
  {
   "cell_type": "code",
   "execution_count": null,
   "metadata": {},
   "outputs": [],
   "source": []
  },
  {
   "cell_type": "code",
   "execution_count": null,
   "metadata": {},
   "outputs": [],
   "source": []
  }
 ],
 "metadata": {
  "kernelspec": {
   "display_name": "Python 3 (ipykernel)",
   "language": "python",
   "name": "python3"
  },
  "language_info": {
   "codemirror_mode": {
    "name": "ipython",
    "version": 3
   },
   "file_extension": ".py",
   "mimetype": "text/x-python",
   "name": "python",
   "nbconvert_exporter": "python",
   "pygments_lexer": "ipython3",
   "version": "3.9.13"
  }
 },
 "nbformat": 4,
 "nbformat_minor": 4
}
