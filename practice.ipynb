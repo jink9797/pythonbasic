{
 "cells": [
  {
   "cell_type": "markdown",
   "id": "85c6e3cd-85ae-4a92-9168-b3727a0a3947",
   "metadata": {},
   "source": [
    "### 공부하기 ###"
   ]
  },
  {
   "cell_type": "code",
   "execution_count": 10,
   "id": "986f7690-36c6-41ae-afa7-e229d36de1cf",
   "metadata": {},
   "outputs": [
    {
     "name": "stdout",
     "output_type": "stream",
     "text": [
      "1\n"
     ]
    }
   ],
   "source": [
    "a = [1.2, 2.5,3.7,4.6]\n",
    "a = list(map(int,a))\n",
    "print(a[0])"
   ]
  },
  {
   "cell_type": "code",
   "execution_count": 14,
   "id": "1c1c8c1e-68f5-479d-9349-c8006cb1eaa3",
   "metadata": {},
   "outputs": [
    {
     "name": "stdin",
     "output_type": "stream",
     "text": [
      "자연수 하나 입력해주세요: 10\n"
     ]
    },
    {
     "name": "stdout",
     "output_type": "stream",
     "text": [
      "0\n"
     ]
    }
   ],
   "source": [
    "num = int(input(\"자연수 하나 입력해주세요:\"))\n",
    "n = num - 50\n",
    "if n < 0:\n",
    "    n = 0\n",
    "print(n)"
   ]
  },
  {
   "cell_type": "code",
   "execution_count": 19,
   "id": "ca888091-8f84-48b7-be17-b45a9756bc4b",
   "metadata": {},
   "outputs": [
    {
     "name": "stdin",
     "output_type": "stream",
     "text": [
      "자연수 하나 입력해주세요: 21\n"
     ]
    },
    {
     "name": "stdout",
     "output_type": "stream",
     "text": [
      "홀수\n"
     ]
    }
   ],
   "source": [
    "num = int(input(\"자연수 하나 입력해주세요:\"))\n",
    "\n",
    "if num % 2 == 0:\n",
    "    print(\"짝수\")\n",
    "else:\n",
    "    print(\"홀수\")\n"
   ]
  },
  {
   "cell_type": "code",
   "execution_count": 30,
   "id": "9424ab15-079b-498d-8368-3dd833cfe6e8",
   "metadata": {},
   "outputs": [
    {
     "name": "stdin",
     "output_type": "stream",
     "text": [
      "소프트웨어 설계 점수를 입력하세요 -7\n",
      "소프트웨어 개발 점수를 입력하세요 50\n",
      "데이터베이스 구축 점수를 입력하세요 40\n",
      "프로그래밍 언어 활용 점수를 입력하세요 30\n",
      "정보시스템 구축관리 점수를 입력하세요 70\n"
     ]
    },
    {
     "name": "stdout",
     "output_type": "stream",
     "text": [
      "잘못된 점수 입니다\n",
      "\n"
     ]
    }
   ],
   "source": [
    "soft = int(input(\"소프트웨어 설계 점수를 입력하세요\"))\n",
    "sof = int(input(\"소프트웨어 개발 점수를 입력하세요\"))\n",
    "data = int(input(\"데이터베이스 구축 점수를 입력하세요\"))\n",
    "prog = int(input(\"프로그래밍 언어 활용 점수를 입력하세요\"))\n",
    "syst = int(input(\"정보시스템 구축관리 점수를 입력하세요\"))\n",
    "\n",
    "total = soft + sof + data + prog + syst\n",
    "evg = total / 5\n",
    "\n",
    "if 0 <= total <= 100:\n",
    "    if evg >= 60:\n",
    "        print(\"합격입니다\")\n",
    "    else:\n",
    "        print(\"불합격\")\n",
    "else:\n",
    "    print(\"잘못된 점수 입니다\")\n",
    "print()"
   ]
  },
  {
   "cell_type": "code",
   "execution_count": null,
   "id": "51f5d08d-669f-4786-aac0-6fc4b5a9dfbc",
   "metadata": {},
   "outputs": [],
   "source": [
    "\n"
   ]
  },
  {
   "cell_type": "code",
   "execution_count": null,
   "id": "0054f7e2-4498-42ff-9ebc-020ed625d559",
   "metadata": {},
   "outputs": [],
   "source": []
  }
 ],
 "metadata": {
  "kernelspec": {
   "display_name": "Python 3 (ipykernel)",
   "language": "python",
   "name": "python3"
  },
  "language_info": {
   "codemirror_mode": {
    "name": "ipython",
    "version": 3
   },
   "file_extension": ".py",
   "mimetype": "text/x-python",
   "name": "python",
   "nbconvert_exporter": "python",
   "pygments_lexer": "ipython3",
   "version": "3.9.13"
  }
 },
 "nbformat": 4,
 "nbformat_minor": 5
}
