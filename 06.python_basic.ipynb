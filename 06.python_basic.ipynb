{
 "cells": [
  {
   "cell_type": "markdown",
   "id": "2617a2fd-1a3f-49f0-855b-409d3e8eedc8",
   "metadata": {},
   "source": [
    "#### 딕셔너리 자료형\n",
    "#### 리스트"
   ]
  },
  {
   "cell_type": "code",
   "execution_count": 2,
   "id": "dc76bc52-01b3-4d66-b602-86d2999c34e2",
   "metadata": {},
   "outputs": [
    {
     "name": "stdout",
     "output_type": "stream",
     "text": [
      "<class 'dict'>\n",
      "{'key': 'value'}\n"
     ]
    }
   ],
   "source": [
    "dic_var = {'key':'value'}\n",
    "print(type(dic_var))\n",
    "print(dic_var)"
   ]
  },
  {
   "cell_type": "code",
   "execution_count": 3,
   "id": "e08daf37-ad6f-467b-af11-0807d72218cd",
   "metadata": {},
   "outputs": [
    {
     "name": "stdout",
     "output_type": "stream",
     "text": [
      "[<class 'str'>, <class 'int'>, <class 'float'>, <class 'tuple'>]\n"
     ]
    }
   ],
   "source": [
    "dic_var = {'key':'value',\n",
    "           1: 'value2',\n",
    "           1.1: 'value3',\n",
    "           True: 'value4',\n",
    "           (\"key\", 1, 1.1, True): ' value2'}\n",
    "print(list(map(type, dic_var.keys())))"
   ]
  },
  {
   "cell_type": "code",
   "execution_count": 10,
   "id": "db94159c-2819-4c64-8362-619e1bd88879",
   "metadata": {},
   "outputs": [
    {
     "name": "stdin",
     "output_type": "stream",
     "text": [
      "과일 이름을 입력하세요. 사과\n"
     ]
    },
    {
     "name": "stdout",
     "output_type": "stream",
     "text": [
      "사과의 가격은 1000원 입니다\n"
     ]
    }
   ],
   "source": [
    "# Q input() 함수를 통해 원하는 과일 이름을 입력하면 가격이 출력되는 프로그램을 구현해보자.\n",
    "#   과일 이름(str)을 key로 만들고 가격(int)을 value로 해서 딕셔너리 자료형을 만듭니다.\n",
    "#  - 사과 1000원, 바나나 700원, 오렌지 1500원, 파인애플 2000원\n",
    "# 실행결과 : 과일이름을 입력하세요. 사과\n",
    "#           사과의 가격은 1000원입니다.\n",
    "dict_fruits = {\"사과\" : 1000, \"바나나\" : 700, \"오렌지\" : 1500, \"파인애플\" : 2000}\n",
    "input_fruits = input(\"과일 이름을 입력하세요.\")\n",
    "print(f'{input_fruits}의 가격은 {dict_fruits[input_fruits]}원 입니다')"
   ]
  },
  {
   "cell_type": "code",
   "execution_count": 11,
   "id": "e8c3d382-52f6-49e6-be83-5b42187bf52e",
   "metadata": {},
   "outputs": [
    {
     "name": "stdin",
     "output_type": "stream",
     "text": [
      "이름을 기입해 주세요. 뽀로로 루피 크롱 스누피\n",
      "몸무게를 입력해주세요. 20.4 16.2 22.3 5.2\n"
     ]
    },
    {
     "name": "stdout",
     "output_type": "stream",
     "text": [
      "{'뽀로로': 20.4, '루피': 16.2, '크롱': 22.3, '스누피': 5.2}\n"
     ]
    }
   ],
   "source": [
    "# Q input() 함수를 통해 이름 값 여럿을 입력 받습니다. 이름을 입력 받고 난 후에 이름 순서와 개수를 동일하게 몸무게 값을 입력받습니다.\n",
    "#   이름(str)을 키(key)로 몸무게(float)를 값(value)아ㅡ로 하는 딕셔너리 자료형을 만들고 그 결과를 출력해보세요\n",
    "# 실행결과: 이름을 기입해주세요. 뽀로로 루피 크롱 스누피\n",
    "#          몸무게를 입력해주세요. 20.4 16.2 22.3 5.2\n",
    "name = input(\"이름을 기입해 주세요.\").split()\n",
    "weight = map(float,input(\"몸무게를 입력해주세요.\").split())\n",
    "\n",
    "dict_name = dict(zip(name, weight))\n",
    "print(dict_name)"
   ]
  },
  {
   "cell_type": "code",
   "execution_count": 16,
   "id": "238fe7cd-ee78-4ec0-afc9-af20d3fc254c",
   "metadata": {},
   "outputs": [
    {
     "name": "stdin",
     "output_type": "stream",
     "text": [
      "이름을 입력하세요 : 뽀로로 루피 크롱 스누피\n",
      "몸무게를 입력해주세요. 20.4 16.2 22.3 5.2\n"
     ]
    },
    {
     "name": "stdout",
     "output_type": "stream",
     "text": [
      "{'뽀로로': 20.4, '루피': 16.2, '크롱': 22.3, '스누피': 5.2}\n"
     ]
    }
   ],
   "source": [
    "name = input('이름을 입력하세요 :').split()\n",
    "weight = list(map(float, input('몸무게를 입력해주세요.').split()))\n",
    "\n",
    "dict_f = {}   # dict_f = dict()\n",
    "\n",
    "for i in range(len(name)) :\n",
    "    dict_f[name[i]] = weight[i]\n",
    "    \n",
    "print(dict_f)"
   ]
  },
  {
   "cell_type": "code",
   "execution_count": 25,
   "id": "8329ef9e-52be-4b2f-9fc0-c6fb2662a902",
   "metadata": {},
   "outputs": [
    {
     "name": "stdout",
     "output_type": "stream",
     "text": [
      "['a', 'b', 'c', 'd']\n"
     ]
    }
   ],
   "source": [
    "list_sample = \"a b c d\".split()\n",
    "print(list_sample)"
   ]
  },
  {
   "cell_type": "code",
   "execution_count": 35,
   "id": "5eab5b11-ad50-4571-a53e-f3eff39ee3c3",
   "metadata": {},
   "outputs": [],
   "source": [
    "# list comprehension 리스트 컴프리헨션\n",
    "#list_variable = [expression for 변수 in iterable]\n",
    "# - 동작 순 -\n",
    "# 1. 반복가능한 객체(interable)로부터 값을 하나 꺼내와 변수에 담음\n",
    "# 2. 요소를 담은 변수를 활용해서 표현식(expression)을 실행(변수는 활용할 수도 활용하지 않을 수도 있다.)\n",
    "# 3. 표현식 결과 값을 리스트 요소에 넣음\n",
    "# 4. 반복 가능한 객체로부터 값이 없을 때까지 1~3과정을 반복\n"
   ]
  },
  {
   "cell_type": "code",
   "execution_count": 27,
   "id": "9cb02e22-3322-4ff5-8769-d033f3709ff4",
   "metadata": {},
   "outputs": [
    {
     "name": "stdout",
     "output_type": "stream",
     "text": [
      "[1, 4, 9, 16, 25, 36, 49, 64, 81]\n"
     ]
    }
   ],
   "source": [
    "# range --> 0, 1, 2, ..9\n",
    "# _ --> _ = 1, ..._ = 9\n",
    "list_a = [_** 2 for _ in range(1,10)]\n",
    "print(list_a)"
   ]
  },
  {
   "cell_type": "code",
   "execution_count": 33,
   "id": "122c39d1-d9a4-4586-95b8-0bbe19438cc1",
   "metadata": {
    "collapsed": true,
    "jupyter": {
     "outputs_hidden": true
    },
    "tags": []
   },
   "outputs": [
    {
     "name": "stdout",
     "output_type": "stream",
     "text": [
      "hello world\n",
      "hello world\n",
      "hello world\n",
      "hello world\n",
      "hello world\n",
      "hello world\n",
      "hello world\n",
      "hello world\n",
      "hello world\n",
      "hello world\n"
     ]
    }
   ],
   "source": [
    "list_b = [print(\"hello world\") for _ in range(10)]"
   ]
  },
  {
   "cell_type": "code",
   "execution_count": 36,
   "id": "1fe6923e-f0e9-4b1f-b835-7e6cd6ff5b43",
   "metadata": {},
   "outputs": [
    {
     "name": "stdout",
     "output_type": "stream",
     "text": [
      "[0, 1, 4, 9, 16, 25, 36, 49, 64, 81]\n"
     ]
    }
   ],
   "source": [
    "list_c = []\n",
    "for _ in range(10):\n",
    "    list_c.append(_**2)\n",
    "print(list_c)"
   ]
  },
  {
   "cell_type": "code",
   "execution_count": 41,
   "id": "fd84875d-ef29-4622-99e0-c77dd2408a6b",
   "metadata": {},
   "outputs": [
    {
     "name": "stdout",
     "output_type": "stream",
     "text": [
      "[1, 4, 9, 16, 25, 36, 49, 64, 81]\n"
     ]
    }
   ],
   "source": [
    "# list comprehension\n",
    "list_d = [_ ** 2 for _ in range(1,10)]\n",
    "print(list_d)"
   ]
  },
  {
   "cell_type": "code",
   "execution_count": 42,
   "id": "57ba50f7-5b4f-4ad3-bd91-de7604ce1406",
   "metadata": {},
   "outputs": [
    {
     "name": "stdout",
     "output_type": "stream",
     "text": [
      "<class 'list'>\n",
      "[1, 4, 9, 16, 25, 36, 49, 64, 81]\n"
     ]
    }
   ],
   "source": [
    "prac_result = [_ ** 2 for _ in range(1,10)]\n",
    "print(type(prac_result))\n",
    "print(prac_result)"
   ]
  },
  {
   "cell_type": "code",
   "execution_count": null,
   "id": "558930cc-71e9-4d18-80e2-610bfdb64045",
   "metadata": {},
   "outputs": [],
   "source": []
  }
 ],
 "metadata": {
  "kernelspec": {
   "display_name": "Python 3 (ipykernel)",
   "language": "python",
   "name": "python3"
  },
  "language_info": {
   "codemirror_mode": {
    "name": "ipython",
    "version": 3
   },
   "file_extension": ".py",
   "mimetype": "text/x-python",
   "name": "python",
   "nbconvert_exporter": "python",
   "pygments_lexer": "ipython3",
   "version": "3.9.13"
  }
 },
 "nbformat": 4,
 "nbformat_minor": 5
}
