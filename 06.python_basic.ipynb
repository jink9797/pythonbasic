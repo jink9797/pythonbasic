{
 "cells": [
  {
   "cell_type": "markdown",
   "id": "2617a2fd-1a3f-49f0-855b-409d3e8eedc8",
   "metadata": {},
   "source": [
    "#### 딕셔너리 자료형\n",
    "#### 리스트"
   ]
  },
  {
   "cell_type": "code",
   "execution_count": 30,
   "id": "dc76bc52-01b3-4d66-b602-86d2999c34e2",
   "metadata": {},
   "outputs": [
    {
     "name": "stdout",
     "output_type": "stream",
     "text": [
      "<class 'dict'>\n",
      "{'key': 'value'}\n"
     ]
    }
   ],
   "source": [
    "dic_var = {'key':'value'}\n",
    "print(type(dic_var))\n",
    "print(dic_var)"
   ]
  },
  {
   "cell_type": "code",
   "execution_count": 31,
   "id": "e08daf37-ad6f-467b-af11-0807d72218cd",
   "metadata": {},
   "outputs": [
    {
     "name": "stdout",
     "output_type": "stream",
     "text": [
      "[<class 'str'>, <class 'int'>, <class 'float'>, <class 'tuple'>]\n"
     ]
    }
   ],
   "source": [
    "dic_var = {'key':'value',\n",
    "           1: 'value2',\n",
    "           1.1: 'value3',\n",
    "           True: 'value4',\n",
    "           (\"key\", 1, 1.1, True): ' value2'}\n",
    "print(list(map(type, dic_var.keys())))"
   ]
  },
  {
   "cell_type": "code",
   "execution_count": 10,
   "id": "db94159c-2819-4c64-8362-619e1bd88879",
   "metadata": {},
   "outputs": [
    {
     "name": "stdin",
     "output_type": "stream",
     "text": [
      "과일 이름을 입력하세요. 사과\n"
     ]
    },
    {
     "name": "stdout",
     "output_type": "stream",
     "text": [
      "사과의 가격은 1000원 입니다\n"
     ]
    }
   ],
   "source": [
    "# Q input() 함수를 통해 원하는 과일 이름을 입력하면 가격이 출력되는 프로그램을 구현해보자.\n",
    "#   과일 이름(str)을 key로 만들고 가격(int)을 value로 해서 딕셔너리 자료형을 만듭니다.\n",
    "#  - 사과 1000원, 바나나 700원, 오렌지 1500원, 파인애플 2000원\n",
    "# 실행결과 : 과일이름을 입력하세요. 사과\n",
    "#           사과의 가격은 1000원입니다.\n",
    "dict_fruits = {\"사과\" : 1000, \"바나나\" : 700, \"오렌지\" : 1500, \"파인애플\" : 2000}\n",
    "input_fruits = input(\"과일 이름을 입력하세요.\")\n",
    "print(f'{input_fruits}의 가격은 {dict_fruits[input_fruits]}원 입니다')"
   ]
  },
  {
   "cell_type": "code",
   "execution_count": 11,
   "id": "e8c3d382-52f6-49e6-be83-5b42187bf52e",
   "metadata": {},
   "outputs": [
    {
     "name": "stdin",
     "output_type": "stream",
     "text": [
      "이름을 기입해 주세요. 뽀로로 루피 크롱 스누피\n",
      "몸무게를 입력해주세요. 20.4 16.2 22.3 5.2\n"
     ]
    },
    {
     "name": "stdout",
     "output_type": "stream",
     "text": [
      "{'뽀로로': 20.4, '루피': 16.2, '크롱': 22.3, '스누피': 5.2}\n"
     ]
    }
   ],
   "source": [
    "# Q input() 함수를 통해 이름 값 여럿을 입력 받습니다. 이름을 입력 받고 난 후에 이름 순서와 개수를 동일하게 몸무게 값을 입력받습니다.\n",
    "#   이름(str)을 키(key)로 몸무게(float)를 값(value)아ㅡ로 하는 딕셔너리 자료형을 만들고 그 결과를 출력해보세요\n",
    "# 실행결과: 이름을 기입해주세요. 뽀로로 루피 크롱 스누피\n",
    "#          몸무게를 입력해주세요. 20.4 16.2 22.3 5.2\n",
    "name = input(\"이름을 기입해 주세요.\").split()\n",
    "weight = map(float,input(\"몸무게를 입력해주세요.\").split())\n",
    "\n",
    "dict_name = dict(zip(name, weight))\n",
    "print(dict_name)"
   ]
  },
  {
   "cell_type": "code",
   "execution_count": 16,
   "id": "238fe7cd-ee78-4ec0-afc9-af20d3fc254c",
   "metadata": {},
   "outputs": [
    {
     "name": "stdin",
     "output_type": "stream",
     "text": [
      "이름을 입력하세요 : 뽀로로 루피 크롱 스누피\n",
      "몸무게를 입력해주세요. 20.4 16.2 22.3 5.2\n"
     ]
    },
    {
     "name": "stdout",
     "output_type": "stream",
     "text": [
      "{'뽀로로': 20.4, '루피': 16.2, '크롱': 22.3, '스누피': 5.2}\n"
     ]
    }
   ],
   "source": [
    "name = input('이름을 입력하세요 :').split()\n",
    "weight = list(map(float, input('몸무게를 입력해주세요.').split()))\n",
    "\n",
    "dict_f = {}   # dict_f = dict()\n",
    "\n",
    "for i in range(len(name)) :\n",
    "    dict_f[name[i]] = weight[i]\n",
    "    \n",
    "print(dict_f)"
   ]
  },
  {
   "cell_type": "code",
   "execution_count": 25,
   "id": "8329ef9e-52be-4b2f-9fc0-c6fb2662a902",
   "metadata": {},
   "outputs": [
    {
     "name": "stdout",
     "output_type": "stream",
     "text": [
      "['a', 'b', 'c', 'd']\n"
     ]
    }
   ],
   "source": [
    "list_sample = \"a b c d\".split()\n",
    "print(list_sample)"
   ]
  },
  {
   "cell_type": "code",
   "execution_count": 35,
   "id": "5eab5b11-ad50-4571-a53e-f3eff39ee3c3",
   "metadata": {},
   "outputs": [],
   "source": [
    "# list comprehension 리스트 컴프리헨션\n",
    "#list_variable = [expression for 변수 in iterable]\n",
    "# - 동작 순 -\n",
    "# 1. 반복가능한 객체(interable)로부터 값을 하나 꺼내와 변수에 담음\n",
    "# 2. 요소를 담은 변수를 활용해서 표현식(expression)을 실행(변수는 활용할 수도 활용하지 않을 수도 있다.)\n",
    "# 3. 표현식 결과 값을 리스트 요소에 넣음\n",
    "# 4. 반복 가능한 객체로부터 값이 없을 때까지 1~3과정을 반복\n"
   ]
  },
  {
   "cell_type": "code",
   "execution_count": 27,
   "id": "9cb02e22-3322-4ff5-8769-d033f3709ff4",
   "metadata": {},
   "outputs": [
    {
     "name": "stdout",
     "output_type": "stream",
     "text": [
      "[1, 4, 9, 16, 25, 36, 49, 64, 81]\n"
     ]
    }
   ],
   "source": [
    "# range --> 0, 1, 2, ..9\n",
    "# _ --> _ = 1, ..._ = 9\n",
    "list_a = [_** 2 for _ in range(1,10)]\n",
    "print(list_a)"
   ]
  },
  {
   "cell_type": "code",
   "execution_count": 33,
   "id": "122c39d1-d9a4-4586-95b8-0bbe19438cc1",
   "metadata": {
    "collapsed": true,
    "jupyter": {
     "outputs_hidden": true
    },
    "tags": []
   },
   "outputs": [
    {
     "name": "stdout",
     "output_type": "stream",
     "text": [
      "hello world\n",
      "hello world\n",
      "hello world\n",
      "hello world\n",
      "hello world\n",
      "hello world\n",
      "hello world\n",
      "hello world\n",
      "hello world\n",
      "hello world\n"
     ]
    }
   ],
   "source": [
    "list_b = [print(\"hello world\") for _ in range(10)]"
   ]
  },
  {
   "cell_type": "code",
   "execution_count": 36,
   "id": "1fe6923e-f0e9-4b1f-b835-7e6cd6ff5b43",
   "metadata": {},
   "outputs": [
    {
     "name": "stdout",
     "output_type": "stream",
     "text": [
      "[0, 1, 4, 9, 16, 25, 36, 49, 64, 81]\n"
     ]
    }
   ],
   "source": [
    "list_c = []\n",
    "for _ in range(10):\n",
    "    list_c.append(_**2)\n",
    "print(list_c)"
   ]
  },
  {
   "cell_type": "code",
   "execution_count": 41,
   "id": "fd84875d-ef29-4622-99e0-c77dd2408a6b",
   "metadata": {},
   "outputs": [
    {
     "name": "stdout",
     "output_type": "stream",
     "text": [
      "[1, 4, 9, 16, 25, 36, 49, 64, 81]\n"
     ]
    }
   ],
   "source": [
    "# list comprehension\n",
    "list_d = [_ ** 2 for _ in range(1,10)]\n",
    "print(list_d)"
   ]
  },
  {
   "cell_type": "code",
   "execution_count": 42,
   "id": "57ba50f7-5b4f-4ad3-bd91-de7604ce1406",
   "metadata": {},
   "outputs": [
    {
     "name": "stdout",
     "output_type": "stream",
     "text": [
      "<class 'list'>\n",
      "[1, 4, 9, 16, 25, 36, 49, 64, 81]\n"
     ]
    }
   ],
   "source": [
    "prac_result = [_ ** 2 for _ in range(1,10)]\n",
    "print(type(prac_result))\n",
    "print(prac_result)"
   ]
  },
  {
   "cell_type": "code",
   "execution_count": 1,
   "id": "558930cc-71e9-4d18-80e2-610bfdb64045",
   "metadata": {},
   "outputs": [
    {
     "name": "stdout",
     "output_type": "stream",
     "text": [
      "[1, 3, 5, 7, 9]\n"
     ]
    }
   ],
   "source": [
    "prac_result2 = [_ for _ in range(1,10,2)]\n",
    "print(prac_result2)"
   ]
  },
  {
   "cell_type": "code",
   "execution_count": 8,
   "id": "9aa3986d-f009-4935-b121-cd3902a2f8f3",
   "metadata": {},
   "outputs": [
    {
     "name": "stdout",
     "output_type": "stream",
     "text": [
      "['a', 'b', 'c', 'd', 'e', 'f', 'g', 'h', 'i', 'j', 'k', 'l', 'm', 'n', 'o', 'p', 'q', 'r', 's', 't', 'u', 'v', 'w', 'x', 'x', 'y', 'z']\n"
     ]
    }
   ],
   "source": [
    "\n",
    "prac_result3 = [n for n in 'abcdefghijklmnopqrstuvwxxyz']\n",
    "print(prac_result3)"
   ]
  },
  {
   "cell_type": "code",
   "execution_count": 21,
   "id": "09748bd5-6ad5-4b25-8716-706b4b169fae",
   "metadata": {},
   "outputs": [
    {
     "name": "stdout",
     "output_type": "stream",
     "text": [
      "['2', '3', '4', '5', '6', '7', '8', '9', '10', 'j', 'q', 'k', 'a']\n"
     ]
    }
   ],
   "source": [
    "# Q 리스트 컴프리헨션을 활용해서 2부터 10까지의 숫자 리스트와 j, q, k ,a 를 갖는 리스트를 만들어 합쳐보기.\n",
    "#   - 문자열 'jqka를 만들어서 활용\n",
    "#   - 숫자를 문자열로 만드는 함수는 str(숫자) 입니다.\n",
    "\n",
    "eng_result = [str(n) for n in range(2,11)] + [i for i in 'jqka']\n",
    "print(eng_result)"
   ]
  },
  {
   "cell_type": "code",
   "execution_count": 27,
   "id": "94924226-ca23-47ef-b019-a39972f6426c",
   "metadata": {},
   "outputs": [
    {
     "name": "stdout",
     "output_type": "stream",
     "text": [
      "[['2', '3', '4', '5', '6', '7', '8', '9', '10', 'j', 'q', 'k', 'a'], ['2', '3', '4', '5', '6', '7', '8', '9', '10', 'j', 'q', 'k', 'a'], ['2', '3', '4', '5', '6', '7', '8', '9', '10', 'j', 'q', 'k', 'a'], ['2', '3', '4', '5', '6', '7', '8', '9', '10', 'j', 'q', 'k', 'a']]\n"
     ]
    }
   ],
   "source": [
    "eng_result1 = [eng_result for _ in range(4)]\n",
    "print(eng_result1)"
   ]
  },
  {
   "cell_type": "code",
   "execution_count": 28,
   "id": "17dc41f6-7028-4927-a6dc-48fd55f9e4b3",
   "metadata": {},
   "outputs": [
    {
     "name": "stdout",
     "output_type": "stream",
     "text": [
      "['two', '3', '4', '5', '6', '7', '8', '9', '10', 'j', 'q', 'k', 'a']\n"
     ]
    }
   ],
   "source": [
    "eng_result[0] = 'two'\n",
    "print(eng_result)"
   ]
  },
  {
   "cell_type": "code",
   "execution_count": 29,
   "id": "b2a3706e-6790-41b0-80ed-97428ee8685e",
   "metadata": {},
   "outputs": [
    {
     "name": "stdout",
     "output_type": "stream",
     "text": [
      "[['two', '3', '4', '5', '6', '7', '8', '9', '10', 'j', 'q', 'k', 'a'], ['two', '3', '4', '5', '6', '7', '8', '9', '10', 'j', 'q', 'k', 'a'], ['two', '3', '4', '5', '6', '7', '8', '9', '10', 'j', 'q', 'k', 'a'], ['two', '3', '4', '5', '6', '7', '8', '9', '10', 'j', 'q', 'k', 'a']]\n"
     ]
    }
   ],
   "source": [
    "print(eng_result1)"
   ]
  },
  {
   "cell_type": "markdown",
   "id": "2e88132e-73ef-493e-b4f4-9e733428468a",
   "metadata": {},
   "source": [
    "#### id() 내장함수\n",
    "##### 객체마다 구분가능한 정수값(메모리주소)가짐. --> 이걸 조회하는게 id() 내장함수 (id()로 가져온 정수값이 같으면 같은 객체"
   ]
  },
  {
   "cell_type": "code",
   "execution_count": 32,
   "id": "05a24546-6745-49cb-84ac-369a3f717c25",
   "metadata": {},
   "outputs": [],
   "source": [
    "prac_result6 = [eng_result[:] for _ in range(4)] # 0 ~ 3 반복\n",
    "\n",
    "# print(\"eng_result의 id:\", id(eng_result))\n",
    "# for i, v in enumerate(prac_result6):\n",
    "#     print(\"prac_result6\""
   ]
  },
  {
   "cell_type": "code",
   "execution_count": 42,
   "id": "739b35f8-c1c2-435c-b161-5b7d064a24fe",
   "metadata": {},
   "outputs": [
    {
     "name": "stdout",
     "output_type": "stream",
     "text": [
      "2102373126784\n",
      "2102373220608\n",
      "False\n",
      "True\n"
     ]
    }
   ],
   "source": [
    "# [1, 2, 3, 4, 5, 6, 7, 8, 9]\n",
    "old_list = list(range(10))     # 0 ~ 9\n",
    "new_list = old_list[:]       # [:] 하게되면 생략되었기 때문에 0\n",
    "\n",
    "print(id(old_list))\n",
    "print(id(new_list))                          #'str'\n",
    "print(old_list is new_list)            # type( ) is ''' (str)\n",
    "print(old_list == new_list)            # 리스트의 경우 슬라이싱으로 복사한 객체는 새로운 객체를 가져온다\n",
    "                                       # 리스트 슬라이싱은 복사가 된다\n",
    "# range(시작,끝,증감)\n",
    "# 시퀀스자료형변수[시작:끝:증감]\n",
    "# 시작생략 = 시작부터 끝 생략 = 마지막까지 증감 += 1"
   ]
  },
  {
   "cell_type": "code",
   "execution_count": 45,
   "id": "130f5051-ff55-4b1f-a53b-655c6b9a2844",
   "metadata": {},
   "outputs": [],
   "source": [
    "# tuple. str은 is 연산자의 결과가 다를 수 있다.\n",
    "# 불변의 특징을 가짐. 요소가 동일할 시 재사용가능. 효율위해 복사가능\n",
    "\n",
    "# java 에서는  == 연산자 : 완전 동일한 객체인가 비교"
   ]
  },
  {
   "cell_type": "code",
   "execution_count": 46,
   "id": "85ed5037-4a1a-40ea-b2db-827fe7347e31",
   "metadata": {},
   "outputs": [
    {
     "name": "stdout",
     "output_type": "stream",
     "text": [
      "2102335237104\n",
      "2102335237104\n"
     ]
    }
   ],
   "source": [
    "str_a = \"hello\"\n",
    "str_b = \"hello\"\n",
    "print(id(str_a))\n",
    "print(id(str_b))"
   ]
  },
  {
   "cell_type": "markdown",
   "id": "ce996b1c-878a-48bd-9f47-f0b8ea09ba3d",
   "metadata": {},
   "source": [
    "#### 리스트 복사(copy() 메서드)"
   ]
  },
  {
   "cell_type": "markdown",
   "id": "911f2fc3-98f1-46f4-ac1c-6bd5d312d025",
   "metadata": {},
   "source": [
    "###### 리스트.copy() 메서드는 리스트 객체를 새롭게 복사\n",
    "###### 복사한 객체는 새로운 객체가 됨\n",
    "###### "
   ]
  },
  {
   "cell_type": "markdown",
   "id": "d21b1cfc-98eb-40cf-84f0-3a267615b296",
   "metadata": {},
   "source": [
    "##### 얕은 복사(Shallow copy)"
   ]
  },
  {
   "cell_type": "markdown",
   "id": "ebe58120-8bee-44b5-9050-2d030b7d299d",
   "metadata": {},
   "source": [
    "###### 행렬이 아님"
   ]
  },
  {
   "cell_type": "code",
   "execution_count": 55,
   "id": "8b3beb4c-2ad1-4481-b3f9-9666e50fea2e",
   "metadata": {},
   "outputs": [
    {
     "name": "stdout",
     "output_type": "stream",
     "text": [
      "[[0], [0], [0]]\n",
      "[[999], [999], [999]]\n"
     ]
    }
   ],
   "source": [
    "list_i = [[0]] * 3\n",
    "print(list_i)\n",
    "list_i[0][0] = 999\n",
    "print(list_i)"
   ]
  },
  {
   "cell_type": "markdown",
   "id": "3ac43368-0c3b-46b3-b532-6a8ede172b8f",
   "metadata": {},
   "source": [
    "###### 슬라이싱으로 복사"
   ]
  },
  {
   "cell_type": "code",
   "execution_count": 59,
   "id": "ce345fe1-96b5-4076-ac63-b7643815e3f2",
   "metadata": {},
   "outputs": [
    {
     "name": "stdout",
     "output_type": "stream",
     "text": [
      "False\n",
      "True\n"
     ]
    }
   ],
   "source": [
    "# list_[0] --> list 객체\n",
    "# list_j[1] --> list 객체\n",
    "list_j = [[1,2],[3,4]]\n",
    "list_k = list_j[:]\n",
    "print(list_k is list_j)\n",
    "print(list_k[0] is list_j[0])"
   ]
  },
  {
   "cell_type": "markdown",
   "id": "88e8927e-3c3c-4ba5-a472-5d2e9f0fb79a",
   "metadata": {},
   "source": [
    "###### 깊은 복사(Deep copy)"
   ]
  },
  {
   "cell_type": "markdown",
   "id": "c375f8f8-2fba-4345-ae08-59601be3a943",
   "metadata": {},
   "source": [
    "###### deepcopy()를 위해서 copy  라이브러리를 필요로 함. (import copy)/copyt.deepcopy(list2)"
   ]
  },
  {
   "cell_type": "code",
   "execution_count": 60,
   "id": "c191c58b-11c3-44c8-a01e-4709710b3004",
   "metadata": {},
   "outputs": [],
   "source": [
    "import copy"
   ]
  },
  {
   "cell_type": "code",
   "execution_count": 61,
   "id": "086c60a9-5880-46bf-b7ef-4c448f642762",
   "metadata": {},
   "outputs": [],
   "source": [
    "list_n = [[9, 10],[11,12]]"
   ]
  },
  {
   "cell_type": "code",
   "execution_count": 62,
   "id": "90705f6f-5142-4be9-99a7-7aef30af942c",
   "metadata": {},
   "outputs": [
    {
     "name": "stdout",
     "output_type": "stream",
     "text": [
      "False\n",
      "False\n"
     ]
    }
   ],
   "source": [
    "## deep copy는 반환값으로 완전히 새로운 객체를 반환함\n",
    "list_o = copy.deepcopy(list_n)\n",
    "print(list_n is list_o)\n",
    "print(list_n[0] is list_o[0])"
   ]
  },
  {
   "cell_type": "markdown",
   "id": "6429b46f-cf49-4980-9ca2-b78183eeb5f3",
   "metadata": {},
   "source": [
    "##### 리스트 컴프리헨션(comprehension)     -------------->   변수에서 조건식으로                          \n",
    "###### list_variable = [expression for 변수 iterable if 조건식]   / True일때만 expression으로 조건수행 / \n",
    "###### ------------------------------- iterable에서 변수로<-- --"
   ]
  },
  {
   "cell_type": "code",
   "execution_count": 64,
   "id": "fbf366f5-55a6-4469-80de-2816a2985c67",
   "metadata": {},
   "outputs": [
    {
     "name": "stdout",
     "output_type": "stream",
     "text": [
      "[0, 3, 6, 9]\n"
     ]
    }
   ],
   "source": [
    "list_p = [i for i in range(10) if i % 3 == 0]\n",
    "print(list_p)"
   ]
  },
  {
   "cell_type": "markdown",
   "id": "53f76047-e577-4fcb-9453-2d2892a51ff2",
   "metadata": {},
   "source": [
    "###### 중첩 리스트 사용"
   ]
  },
  {
   "cell_type": "code",
   "execution_count": 65,
   "id": "bf436bed-f00d-4538-94f2-8f29a95fa512",
   "metadata": {},
   "outputs": [
    {
     "name": "stdout",
     "output_type": "stream",
     "text": [
      "1\n",
      "2\n",
      "3\n",
      "4\n",
      "5\n",
      "3\n",
      "4\n"
     ]
    }
   ],
   "source": [
    "easy_list = [[1,2,3,4,5],[3,4]]\n",
    "for item in easy_list:\n",
    "    for i in item:\n",
    "        print(i)"
   ]
  },
  {
   "cell_type": "code",
   "execution_count": 68,
   "id": "e20c578e-f654-43ae-9426-9b7d13ae01df",
   "metadata": {},
   "outputs": [
    {
     "name": "stdout",
     "output_type": "stream",
     "text": [
      "1\n",
      "2\n",
      "3\n",
      "4\n",
      "5\n",
      "3\n",
      "4\n"
     ]
    }
   ],
   "source": [
    "# while 문으로 looping 해도 동일. 요소로 가져온 값이 리스트. 인덱싱으로 값을 꺼내올 뿐\n",
    "easy_list = [[1,2,3,4,5],[3,4]]\n",
    "i = 0\n",
    "\n",
    "while i < len(easy_list):\n",
    "    j = 0                # easy_list[0],\n",
    "    while j < len(easy_list[i]):\n",
    "        print(easy_list[i][j])\n",
    "        j += 1\n",
    "    i += 1"
   ]
  },
  {
   "cell_type": "markdown",
   "id": "e2cc1069-4a49-4dfe-b2b7-dee2cac0bda7",
   "metadata": {},
   "source": [
    "##### 리스트 메서드 - 메서드라는 것은 객체에 '.'을 찍음.\n",
    "##### 튜플 메서드 - 값, 순서 고정 / index(요소), count(요소) 사용"
   ]
  },
  {
   "cell_type": "markdown",
   "id": "f0b49a68-fad2-4bb9-8d01-a6b74dd52a30",
   "metadata": {},
   "source": [
    "###### 빈튜플(empty tukple)"
   ]
  },
  {
   "cell_type": "markdown",
   "id": "ba15a8a1-7a9b-455b-aa77-0a6f40264444",
   "metadata": {},
   "source": [
    "##### 제너레이터 컴프리헨션(generator comprehension)\n",
    "###### generator_variable = expreesion for 변수 in iterable"
   ]
  },
  {
   "cell_type": "code",
   "execution_count": 77,
   "id": "351589da-d848-4f80-9cfc-94435024f819",
   "metadata": {},
   "outputs": [
    {
     "name": "stdout",
     "output_type": "stream",
     "text": [
      "['alpha', 'bravo', 'delta', 'hotel', 'india']\n"
     ]
    }
   ],
   "source": [
    "a = ['alpha', 'bravo', ' charlie', 'delta', 'echo', 'foxtrot', 'golf', 'hotel', 'india']\n",
    "b = [n for n in a if len(n) == 5 ]\n",
    "print(b)"
   ]
  },
  {
   "cell_type": "markdown",
   "id": "a3f2bd61-d865-433f-9412-d23ba652c15f",
   "metadata": {},
   "source": [
    "#### random 라이브러리"
   ]
  },
  {
   "cell_type": "markdown",
   "id": "9f800182-b937-434b-8daf-1ea62e11aa75",
   "metadata": {},
   "source": [
    "##### 난수를 만들기 위해 randint를 씀\n",
    "###### random.randint(시작숫자,끝숫자) # 끝숫자는 포함이 된다"
   ]
  },
  {
   "cell_type": "code",
   "execution_count": 1,
   "id": "5cbfaa7b-79ab-40d3-928c-81f081c42a5d",
   "metadata": {},
   "outputs": [
    {
     "name": "stdout",
     "output_type": "stream",
     "text": [
      "[1, 1, 2, 1, 2, 1, 1, 2, 2, 1]\n"
     ]
    }
   ],
   "source": [
    "import random\n",
    "random_list = [random.randint(1,2) for _ in range(10)]\n",
    "print(random_list)"
   ]
  },
  {
   "cell_type": "code",
   "execution_count": 37,
   "id": "6734fe6b-f052-4c24-ad07-9e527acc15d6",
   "metadata": {},
   "outputs": [
    {
     "name": "stdin",
     "output_type": "stream",
     "text": [
      "로또 번호 몇 개 드릴까요? 5\n"
     ]
    },
    {
     "name": "stdout",
     "output_type": "stream",
     "text": [
      "[2, 3, 4, 18, 21, 26]\n",
      "[13, 18, 21, 23, 30, 33]\n",
      "[5, 16, 26, 29, 35, 36]\n",
      "[1, 17, 26, 27, 39, 44]\n",
      "[5, 26, 32, 38, 39, 45]\n"
     ]
    }
   ],
   "source": [
    "# Q 사용자가 원하는 개수만큼의 로또 번호 생성기를 만들고자 합니다. 로또 번호 규칙은 다음과 같습니다.\n",
    "# - 조건 - 1. 번호의 범위는 1 ~ 45사이(random.randint()) / \n",
    "#          2. 총 6개의 번호를 생성한다. / \n",
    "#          3. 생성된 번호는 오름차순으로 정리한다. / \n",
    "#          4. 생성된 번호들에 중복이 있어서는 안된다.\n",
    "\n",
    "import random\n",
    "count = int(input(\"로또 번호 몇 개 드릴까요?\"))\n",
    "\n",
    "for i in range(count):\n",
    "    lotto_numbers = []\n",
    "    while len(lotto_numbers) < 6:\n",
    "        lotto_number = random.randint(1, 45)\n",
    "        if lotto_number not in lotto_numbers:\n",
    "            lotto_numbers.append(lotto_number)\n",
    "    lotto_numbers.sort()\n",
    "    print(lotto_numbers)"
   ]
  },
  {
   "cell_type": "code",
   "execution_count": 53,
   "id": "0b59b61c-e2d8-4447-970f-cdf417f59ccf",
   "metadata": {},
   "outputs": [
    {
     "name": "stdin",
     "output_type": "stream",
     "text": [
      "로또 번호 몇 개 드릴까요? 5\n"
     ]
    },
    {
     "name": "stdout",
     "output_type": "stream",
     "text": [
      "[15, 17, 26, 34, 42, 43]\n",
      "[20, 23, 32, 41, 42, 45]\n",
      "[12, 18, 22, 26, 30, 34]\n",
      "[2, 9, 14, 22, 28, 41]\n",
      "[3, 14, 15, 27, 35, 40]\n"
     ]
    }
   ],
   "source": [
    "import random\n",
    "count = int(input(\"로또 번호 몇 개 드릴까요?\"))\n",
    "for i in range(count):\n",
    "    lotto = [j for j in range(1,46)]\n",
    "    lotto_numbers = []   # 반복문 후 list 초기화. 또다시 생성\n",
    "    \n",
    "    for _ in range(6):\n",
    "        lotto_number = lotto[random.randint(1, len(lotto)-1)]\n",
    "        lotto_numbers.append(lotto_number)\n",
    "        lotto.remove(lotto_number)\n",
    "        lotto_numbers.sort()\n",
    "    print(lotto_numbers)"
   ]
  },
  {
   "cell_type": "markdown",
   "id": "022f0e6e-451e-4131-af4a-455eb88702dc",
   "metadata": {
    "tags": []
   },
   "source": [
    "### 세트 자료형(Set)\n",
    "###### 집합(수학)을 영어로 set. 합집합, 교집합, 차집합과 같은 처리가 가능\n",
    "###### set는 dictionary처럼 ({})를 쓴다\n",
    "###### set comprehension이 가능하다. 대괄호([])면 리스트, 중괄호({})면 세트. 작성방법은 비슷하다\n",
    "\n",
    "### 세트 메서드로 add()가 있음. 세트 자료형에 값을 추가할 수 있다. \n",
    "###### 사용하는 방법은 세트 자료형.add(요소). add 메서드는 한번에 하나의 값만\n",
    "### 세트 자료형(set) - 요소 삭제하기 remove()\n",
    "###### 요소를 삭제하는 방법 2가지 - 1. remove() 세트자료형.remove() 입력 2. discard() 세트자료형.discard(요소) 입력. \n",
    "###### 요소 임의 삭제 pop() - 요소를 랜덤하게 삭제. 세트자료형.pop() 삭제하려는 요소를 임의로 선택하고 반환한 뒤 삭제\n",
    "###### 요소 전체 삭제 clear() - 세트자료형.clear()"
   ]
  },
  {
   "cell_type": "markdown",
   "id": "18c1d52a-fce6-408e-aa9b-0f9f1086f32b",
   "metadata": {
    "tags": []
   },
   "source": [
    "### 세트 - 요소 개수(크기) 구하기 len()\n",
    "### 합집합: union() 혹은 vertical bar(|)\n",
    "###### : set.union(세트 자료형1, 세트 자료형2) 중복을 제거\n",
    "### 교집합 : intersection() or &\n",
    "###### set.intersection(세트 자료형1, 세트 자료형2)\n",
    "### 차집합: difference() 혹은 - \n",
    "###### : set.difference(세트 자료형1, 세트 자료형2)   차집합을 반환 hyphen(-,dash)을 활용\n",
    "### 대칭 차집합 symmertric_difference() 혹은 ^\n",
    "###### : set.symmetric_difference(세트 자료형1, 세트 자료형2)   /세트자료형1과 세트 자료형2 전체 중 중복되지 않는 부분을 반환\n",
    "###### : circumflex(^)을 활용\n",
    "### update() 혹은 |=\n",
    "###### : 세트자료형1.update(세트자료형2)\n",
    "### intersection_update() 혹은 &=\n",
    "###### 세트자료형1.intersection_update()(세트자료형2)\n",
    "###### : 겹치지 않는 전체요소 대입. 반환값은 없음\n",
    "### 부분집합 issubset()\n",
    "###### : 세트자료형1.inssubset(세트자료형2)\n",
    "###### : 셋1이 셋2의 부분집합이면 T. 아니면 F 반환\n",
    "###### : subset의 범위는 같다는 것도 포함 (<= >=)\n",
    "### 상위집합 issuperset()\n",
    "###### : 셋1.issuperset(셋2) \n",
    "### 진부분집합과 진상위집합 > , <\n",
    "###### 부분(상위)짖ㅂ합이면서 같지 않을 때를 이야기한다. <> 활용하여 표현 가능\n",
    "### 세트가 겹치지 않는지 확인 isdisjoint()\n",
    "###### 서로 겹치지 않는지(교집)확인 가능. 셋1.isdisjoint(셋2)"
   ]
  },
  {
   "cell_type": "code",
   "execution_count": 58,
   "id": "4086e9e7-c8ea-4a6b-92b9-ec24c16249b9",
   "metadata": {},
   "outputs": [
    {
     "name": "stdout",
     "output_type": "stream",
     "text": [
      "[4, 6, 21, 22, 32, 42]\n"
     ]
    }
   ],
   "source": [
    "# 중복 제거\n",
    "import random\n",
    "lotto = set()\n",
    "while len(lotto) != 6:               #개수가 6개가 아니게 될때\n",
    "    lotto = {random.randint(1,45) for n in range(6)}  #1~ 45 / 만약 중복이 나온다면 개수가 6개가 아니게 됨\n",
    "result = list(lotto)\n",
    "result.sort()    #오름차순\n",
    "print(result)"
   ]
  },
  {
   "cell_type": "code",
   "execution_count": 59,
   "id": "9bd92cad-5b67-4609-951a-d9579e0fcf8c",
   "metadata": {},
   "outputs": [
    {
     "name": "stdout",
     "output_type": "stream",
     "text": [
      "{1, 2, 3, 4}\n"
     ]
    }
   ],
   "source": [
    "list_sample = [1, 2, 2, 3, 3, 3, 4, 4, 4, 4]\n",
    "print(set(list_sample))"
   ]
  },
  {
   "cell_type": "code",
   "execution_count": 61,
   "id": "0fb2ad29-2c4a-415b-a076-74b1b6902695",
   "metadata": {},
   "outputs": [
    {
     "name": "stdout",
     "output_type": "stream",
     "text": [
      "{75, 45, 15, 90, 60, 30}\n"
     ]
    }
   ],
   "source": [
    "# Q 집합 컴프리헨션을 활용해서 1 ~ 100 사이의 3의 공배수를 구하고 set_3 변수에 담는다.\n",
    "#   집합 컴프리헨션을 활용해서 1 ~ 100 사이의 5의 공배수를 구하고 set_5 변수에 담는다.\n",
    "#   이들의 교집합을 구하고 result_set 변수에 담는다.\n",
    "#   result_set을 출력해라    - set의 특성상 출력된 값의 순서는 상관 없다 -  {75,45,15,90,60,30}\n",
    "\n",
    "set_3 = {n for n in range(1,101) if n % 3 == 0}\n",
    "set_5 = {n for n in range(1,101) if n % 5 == 0}\n",
    "result_set = set.intersection(set_3,set_5)\n",
    "print(result_set)\n"
   ]
  },
  {
   "cell_type": "code",
   "execution_count": 66,
   "id": "393c6eb5-1472-4da6-825c-6fc6577dfab1",
   "metadata": {},
   "outputs": [
    {
     "name": "stdout",
     "output_type": "stream",
     "text": [
      "['개인정보 조회', '구매 관리', '근태 관리', '시스템 관리', '인사 관리', '회계 관리']\n"
     ]
    }
   ],
   "source": [
    "# Q 시스템 관리자이자 겸직으로 인사팀에 있는 A씨의 권한은 role_admin, role_hr, role_user를 가짐.\n",
    "# 이때 이때 권한마다 갖는 홈페이지 메뉴가 다음과 같다.\n",
    "# - role_admin = (\"회계 관리\",\"인사 관리\",\"구매 관리\",\"시스템 관리\")\n",
    "# - role_hr = (\"인사 관리\", \"개인정보 조회\", \"회계 관리\",\"근태 관리\")\n",
    "# - role_user = (\"개인정보 조회\", \"근태관리\")\n",
    "# 세개 권한으로 부터 가질수 있는 메뉴들을 중복 없이 오름차순으로 출력\n",
    "# -구조- 1. tuple 3개를 concatenate(+) 하고 set으로 만들어 중복을 제거 \n",
    "#       2. 중복 제거한 set을 다시 list로 만들고 오름차순으로 정렬\n",
    "#       3. 실행 결과와 같이 출력        - 개인정보 조회, 구매관리, 근태관리,\n",
    "#                                         근태관리, 시스템 관리, 인사 관리, 회계 관리\n",
    "\n",
    "role_admin = (\"회계 관리\",\"인사 관리\",\"구매 관리\",\"시스템 관리\")\n",
    "role_hr = (\"인사 관리\", \"개인정보 조회\", \"회계 관리\",\"근태 관리\")\n",
    "role_user = (\"개인정보 조회\", \"근태 관리\")\n",
    "\n",
    "con = set(role_admin + role_hr + role_user)\n",
    "high = list(con)\n",
    "high.sort()\n",
    "print(high)"
   ]
  },
  {
   "cell_type": "code",
   "execution_count": 69,
   "id": "27d1182f-5a6a-4427-8240-5b4a2e0c1a1f",
   "metadata": {},
   "outputs": [
    {
     "name": "stdout",
     "output_type": "stream",
     "text": [
      "개인정보 조회, 구매 관리, 근태 관리, 시스템 관리, 인사 관리, 회계 관리"
     ]
    }
   ],
   "source": [
    "con = list(set(role_admin + role_hr + role_user))\n",
    "con.sort()   #none\n",
    "end_char = \", \"\n",
    "for n in con:\n",
    "    if con[-1] == n:\n",
    "        end_char = \"\"\n",
    "    print(n, end = end_char)"
   ]
  },
  {
   "cell_type": "code",
   "execution_count": null,
   "id": "23c0294c-ccc7-4dfd-a653-69f0c631c0e7",
   "metadata": {},
   "outputs": [],
   "source": [
    "1%n=0"
   ]
  },
  {
   "cell_type": "code",
   "execution_count": 85,
   "id": "89e9d6ab-91da-41ab-8aeb-a22c67c786e1",
   "metadata": {},
   "outputs": [],
   "source": [
    "# Q 2부터 입력받은 수까지의 소수를 한줄에 7개씩 보여주는 프로그램을 작성\n",
    "#   - 소수 : 1보다 큰 자연수 중 1과 그 수 자신만을 약수로 갖는 자연수\n",
    "#   - 모든 소수의 약수는 2개임"
   ]
  },
  {
   "cell_type": "code",
   "execution_count": null,
   "id": "c364505e-d0ab-4e68-96c7-876aff6e2f25",
   "metadata": {},
   "outputs": [],
   "source": []
  }
 ],
 "metadata": {
  "kernelspec": {
   "display_name": "Python 3 (ipykernel)",
   "language": "python",
   "name": "python3"
  },
  "language_info": {
   "codemirror_mode": {
    "name": "ipython",
    "version": 3
   },
   "file_extension": ".py",
   "mimetype": "text/x-python",
   "name": "python",
   "nbconvert_exporter": "python",
   "pygments_lexer": "ipython3",
   "version": "3.9.13"
  }
 },
 "nbformat": 4,
 "nbformat_minor": 5
}
