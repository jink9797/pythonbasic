{
 "cells": [
  {
   "cell_type": "markdown",
   "id": "9a62f719-bde0-465e-a13b-25e617aa0186",
   "metadata": {},
   "source": [
    "### 문자열 메서드 join()"
   ]
  },
  {
   "cell_type": "code",
   "execution_count": 1,
   "id": "2aee5fa5-162a-4476-8efe-de2c624d02ca",
   "metadata": {},
   "outputs": [
    {
     "name": "stdout",
     "output_type": "stream",
     "text": [
      "list_strs = ['a', 'b', 'c', 'd', 'e', 'f', 'g', 'h', 'i', 'j', 'k', 'l', 'm', 'n', 'o', 'p', 'q', 'r', 's', 't', 'u', 'v', 'w', 'x', 'y', 'z']\n",
      "\n",
      "whole_str = a*b*c*d*e*f*g*h*i*j*k*l*m*n*o*p*q*r*s*t*u*v*w*x*y*z\n"
     ]
    }
   ],
   "source": [
    "list_strs = [_ for _ in \"abcdefghijklmnopqrstuvwxyz\"]\n",
    "print(f'list_strs = {list_strs}')\n",
    "\n",
    "#str.join(list)\n",
    "#str 요소들로 이뤄진 list를 합쳐 하나의 문자열로 만듭니다.\n",
    "whole_str = \"*\".join(list_strs)\n",
    "print(f'\\nwhole_str = {whole_str}')"
   ]
  },
  {
   "cell_type": "code",
   "execution_count": 3,
   "id": "2277928a-5578-4439-9011-5e12eadcb951",
   "metadata": {},
   "outputs": [
    {
     "name": "stdin",
     "output_type": "stream",
     "text": [
      "1 ~ 100 중 숫자를 맞춰보세요 50\n"
     ]
    },
    {
     "name": "stdout",
     "output_type": "stream",
     "text": [
      "그보다 작습니다\n"
     ]
    },
    {
     "name": "stdin",
     "output_type": "stream",
     "text": [
      "1 ~ 100 중 숫자를 맞춰보세요 40\n"
     ]
    },
    {
     "name": "stdout",
     "output_type": "stream",
     "text": [
      "그보다 작습니다\n"
     ]
    },
    {
     "name": "stdin",
     "output_type": "stream",
     "text": [
      "1 ~ 100 중 숫자를 맞춰보세요 30\n"
     ]
    },
    {
     "name": "stdout",
     "output_type": "stream",
     "text": [
      "그보다 큽니다\n"
     ]
    },
    {
     "name": "stdin",
     "output_type": "stream",
     "text": [
      "1 ~ 100 중 숫자를 맞춰보세요 35\n"
     ]
    },
    {
     "name": "stdout",
     "output_type": "stream",
     "text": [
      "그보다 큽니다\n"
     ]
    },
    {
     "name": "stdin",
     "output_type": "stream",
     "text": [
      "1 ~ 100 중 숫자를 맞춰보세요 38\n"
     ]
    },
    {
     "name": "stdout",
     "output_type": "stream",
     "text": [
      "그보다 큽니다\n"
     ]
    },
    {
     "name": "stdin",
     "output_type": "stream",
     "text": [
      "1 ~ 100 중 숫자를 맞춰보세요 39\n"
     ]
    },
    {
     "name": "stdout",
     "output_type": "stream",
     "text": [
      "맞췄습니다!\n",
      "5번만에 맞추셨습니다\n",
      "입력한 숫자는 다음과 같습니다. 50,40,30,35,38\n"
     ]
    }
   ],
   "source": [
    "# Q 1부터 100까지 범위의 업다운 게임을 완성해보세요.                 시작,끝\n",
    "# 1. 게임을 시작할 때 랜덤하게 숫자를 만듭니다(PSL의 random.randint() 활용)\n",
    "# 2. 사용자로부터 값을 입력을 받습니다.\n",
    "#   -1. 입력받은 값이 랜덤 숫자보다 크면 '그보다 작습니다' 출력\n",
    "#   -2. 입력받은 값이 랜덤 숫자보다 작으면 '그보다 큽니다' 출력\n",
    "#   -3. 범위를 벗어난 값을 입력하면 ' 1 ~ 100 사이의 숫자를 입력하세요' 를 출력\n",
    "#   -4. 입력받은 값과 랜덤 숫자가 같다면 '맞췄습니다!'를 출력\n",
    "# 3. 몇 번만에 맞췄는지 출력 '6번만에 맞추셨습니다'\n",
    "# 4. 그동안 입력했던 숫자를 출력합니다.\n",
    "#    ' 입력한 숫자는 다음과 같습니다. '-1, 101, 50, 10, 5, 3' (str.join(list)활용)\n",
    "\n",
    "import random\n",
    "\n",
    "game_r = random.randint(1,100)\n",
    "numList = []\n",
    "count = 0\n",
    "while True:\n",
    "    num = int(input('1 ~ 100 중 숫자를 맞춰보세요'))\n",
    "    if 100 < num or 1 > num:\n",
    "        print('1 ~ 100사이의 숫자를 입력하세요')\n",
    "    elif num == game_r:\n",
    "        print('맞췄습니다!')\n",
    "        break\n",
    "    elif num > game_r:\n",
    "        print('그보다 작습니다')\n",
    "    elif num < game_r:\n",
    "        print('그보다 큽니다')\n",
    "    count += 1\n",
    "    numList.append(num)  # 리스트에 입력한 값을 하나씩 추가\n",
    "    \n",
    "numList = list(map(str,numList))\n",
    "numbers = \",\".join(numList)\n",
    "print(f'{count}번만에 맞추셨습니다')\n",
    "print(f'입력한 숫자는 다음과 같습니다. {numbers}')"
   ]
  },
  {
   "cell_type": "code",
   "execution_count": 4,
   "id": "85dff347-86e3-4502-81b0-a9bd11f945fb",
   "metadata": {},
   "outputs": [],
   "source": [
    "# Q 화씨온도를 섭씨 온도로 변경하는 함수를 만들어보세요. 화씨 온도를 섭씨 온도로 변경하는 공식은 아래와 같습니다.\n",
    "#   c = (f - 32) * 5/9\n",
    "#   함수명: to_celsius\n",
    "#   인자: fahrengeit\n",
    "#   반환: 섭씨 온도\n",
    "\n",
    "def to_celsius(fahrengeit):\n",
    "    return (fahrengeit - 32)* 5/9"
   ]
  },
  {
   "cell_type": "code",
   "execution_count": 5,
   "id": "6701edff-ae2a-4a25-9570-06109cc162d6",
   "metadata": {},
   "outputs": [
    {
     "data": {
      "text/plain": [
       "21.11111111111111"
      ]
     },
     "execution_count": 5,
     "metadata": {},
     "output_type": "execute_result"
    }
   ],
   "source": [
    "to_celsius(70)"
   ]
  },
  {
   "cell_type": "code",
   "execution_count": 6,
   "id": "05511c23-2f2d-40e8-9499-4a9cbcbf76d3",
   "metadata": {},
   "outputs": [],
   "source": [
    "# Q 자연수를 인수로 전달하면 짝수일 때 \"짝수\"라는 문자열을, 홀수일 때 \"홀수\"라는 문자열을 반환하는 함수를 만들어보자\n",
    "# - 자연수에 대해서만 \"짝수\",\"홀수\" 반환한다\n",
    "# - 자연수가 아닌 값이 들어왔을 때 반환값 없이 함수를 즉시 종료한다. \n",
    "\n",
    "# 함수에서 return을 만나면 함수 즉시 빠져나감. --> 빠져나가면 함수를 호출한 부분부터 다시 시작됨\n",
    "\n",
    "def odd_even(n):\n",
    "    \"\"\"number가 짝수면 \"짝수\", 홀수면 \"홀수\" 반환\"\"\"\n",
    "    if type(n) is not int:          # int가 아닐때\n",
    "        return\n",
    "    elif n % 2 == 0:    \n",
    "        return \"짝수\"\n",
    "    elif n % 2 != 0:\n",
    "        return \"홀수\"\n",
    "                               # None 은 '반환값없이' 라는 뜻"
   ]
  },
  {
   "cell_type": "code",
   "execution_count": 7,
   "id": "c401e33b-9edc-4c7b-b546-14a52b3c6663",
   "metadata": {},
   "outputs": [
    {
     "name": "stdout",
     "output_type": "stream",
     "text": [
      "number가 짝수면 \"짝수\", 홀수면 \"홀수\" 반환\n",
      "짝수\n",
      "홀수\n",
      "None\n"
     ]
    }
   ],
   "source": [
    "print(odd_even.__doc__)\n",
    "print(odd_even(10))\n",
    "print(odd_even(9))\n",
    "print(odd_even(\"가\"))"
   ]
  },
  {
   "cell_type": "code",
   "execution_count": 8,
   "id": "9ec0dcc4-1ba2-4ebe-aaad-c9f4b621585f",
   "metadata": {},
   "outputs": [],
   "source": [
    "# 강사님이 푸신것\n",
    "def odd_even(n):\n",
    "    \"\"\"number가 짝수면 \"짝수\", 홀수면 \"홀수\" 반환\"\"\"\n",
    "    if type(n) is int and n >0:\n",
    "        return \"짝수\" * (n % 2 == 0) or \"홀수\"        # 논리연산자 or은 앞에 값이 T 라면, 뒤에 값도 T\n",
    "    else:\n",
    "        return"
   ]
  },
  {
   "cell_type": "code",
   "execution_count": 9,
   "id": "0154414d-15a1-4dbc-8592-84307642b816",
   "metadata": {},
   "outputs": [
    {
     "name": "stdout",
     "output_type": "stream",
     "text": [
      "number가 짝수면 \"짝수\", 홀수면 \"홀수\" 반환\n",
      "짝수\n",
      "홀수\n",
      "None\n"
     ]
    }
   ],
   "source": [
    "print(odd_even.__doc__)\n",
    "print(odd_even(10))\n",
    "print(odd_even(9))\n",
    "print(odd_even(\"가\"))"
   ]
  },
  {
   "cell_type": "code",
   "execution_count": 10,
   "id": "1ed88fd7-b5c6-4609-8b01-57da32bc923c",
   "metadata": {},
   "outputs": [],
   "source": [
    "# Q 인수로 연도 값을 입력 받습니다. 윤년을 나타나는 연도가 입력되면 윤년이라는 문자열을 반환하고,\n",
    "#   그렇지 않은 수가 입력되면 평년이라는 문자열을 반환하는 함수를 만들어보세요\n",
    "# - 윤년은 기본적으로 4로 나눠지는 연도입니다.\n",
    "# - 예외사항: 100으로 나눠지면서 400으로 나눠지지 않는 연도는 평년입니다.\n",
    "\n",
    "def check_leap_year(n):\n",
    "    if n % 100 == 0 and n % 400 != 0:\n",
    "        return \"평년\"\n",
    "    elif n % 4 == 0:\n",
    "        return \"윤년\" "
   ]
  },
  {
   "cell_type": "code",
   "execution_count": 11,
   "id": "a2078847-5c88-4d38-80d5-27bba6efd5df",
   "metadata": {},
   "outputs": [
    {
     "data": {
      "text/plain": [
       "'평년'"
      ]
     },
     "execution_count": 11,
     "metadata": {},
     "output_type": "execute_result"
    }
   ],
   "source": [
    "check_leap_year(1900)"
   ]
  },
  {
   "cell_type": "code",
   "execution_count": 12,
   "id": "af2ad112-bd54-4aab-8609-aaf3c0bcb7d5",
   "metadata": {},
   "outputs": [],
   "source": [
    "# Q 연도가 평년일 때 1월, 3월, 5월, 7월, 8월, 10월, 12월은 31일, 4월, 6월, 9월, 11월은 30일, 2월은 28일입니다.\n",
    "#   월을 나타내는 숫자를 인수로 전달하면 그 달의 날짜 개수를 반환하는 함수 days를 만들어보세요.\n",
    "\n",
    "month1 = [1, 3, 5, 7, 8, 10, 12]\n",
    "month2 = [4, 6, 9, 11]\n",
    "month3 = [2]\n",
    "\n",
    "def days(n):\n",
    "    if n in month1:\n",
    "        return 31\n",
    "    elif n in month3:\n",
    "        return 28\n",
    "    elif n in month2:\n",
    "        return 30"
   ]
  },
  {
   "cell_type": "code",
   "execution_count": 13,
   "id": "20d0c920-63d2-47fc-bbf5-7a6a0da97abe",
   "metadata": {},
   "outputs": [
    {
     "data": {
      "text/plain": [
       "28"
      ]
     },
     "execution_count": 13,
     "metadata": {},
     "output_type": "execute_result"
    }
   ],
   "source": [
    "days(2)"
   ]
  },
  {
   "cell_type": "code",
   "execution_count": 14,
   "id": "965080fb-f4a1-425c-979f-53d6f9038a9e",
   "metadata": {},
   "outputs": [],
   "source": [
    "# Q 연도를 나타내는 숫자와 월을 나타내는 숫자를 인수 값으로 각각 전달하면 그 달의 날짜 개수를 반환하는 함수 days를 만들어보자\n",
    "#   -윤년(2 ~ 29)/-평년(2 ~ 28) 도 계산해야 함\n",
    "month1 = [1, 3, 5, 7, 8, 10, 12]\n",
    "month2 = [4, 6, 9, 11]\n",
    "month3 = [2]\n",
    "\n",
    "def mon_y(y,m):\n",
    "    if m in month1:\n",
    "        return 31\n",
    "    elif m in month2:\n",
    "        return 30\n",
    "    elif m in month3:\n",
    "        if y % 100 == 0 and y % 400 != 0:\n",
    "            return 28\n",
    "        else :\n",
    "            return 29"
   ]
  },
  {
   "cell_type": "code",
   "execution_count": 15,
   "id": "e56374e3-406c-4a61-b5aa-c7bbdaf7d43b",
   "metadata": {},
   "outputs": [
    {
     "data": {
      "text/plain": [
       "30"
      ]
     },
     "execution_count": 15,
     "metadata": {},
     "output_type": "execute_result"
    }
   ],
   "source": [
    "mon_y(1900,11)"
   ]
  },
  {
   "cell_type": "code",
   "execution_count": 16,
   "id": "59dd04e5-b5f7-4771-9e11-a520876789db",
   "metadata": {},
   "outputs": [
    {
     "data": {
      "text/plain": [
       "31"
      ]
     },
     "execution_count": 16,
     "metadata": {},
     "output_type": "execute_result"
    }
   ],
   "source": [
    "mon_y(2004,10)"
   ]
  },
  {
   "cell_type": "code",
   "execution_count": 17,
   "id": "2a1f0db3-f5e4-4e78-88c3-ea455ddb15af",
   "metadata": {},
   "outputs": [
    {
     "data": {
      "text/plain": [
       "28"
      ]
     },
     "execution_count": 17,
     "metadata": {},
     "output_type": "execute_result"
    }
   ],
   "source": [
    "mon_y(1900,2)"
   ]
  },
  {
   "cell_type": "code",
   "execution_count": 18,
   "id": "d49fe3ca-3ddf-488a-a699-955dedb60fc4",
   "metadata": {},
   "outputs": [
    {
     "data": {
      "text/plain": [
       "29"
      ]
     },
     "execution_count": 18,
     "metadata": {},
     "output_type": "execute_result"
    }
   ],
   "source": [
    "mon_y(2000,2)"
   ]
  },
  {
   "cell_type": "code",
   "execution_count": 19,
   "id": "8b1c8cba-0198-498e-a2b4-22e00016e3c6",
   "metadata": {},
   "outputs": [
    {
     "name": "stdout",
     "output_type": "stream",
     "text": [
      "몫:3,나머지:1\n"
     ]
    }
   ],
   "source": [
    "x = 10\n",
    "y = 3\n",
    "\n",
    "def get_quotient_remainder(n,i):\n",
    "    return n // i, n % i\n",
    "quitient, remainder = get_quotient_remainder(x,y)  # 함수 호출 / 반환을 한게 리턴 / 좌에 unpackingretrun \n",
    "print(f'몫:{quitient},나머지:{remainder}')"
   ]
  },
  {
   "cell_type": "markdown",
   "id": "d4a4b5cb-bb98-4a74-86a9-bb6604a23621",
   "metadata": {},
   "source": [
    "##### divmod(나눠질 수, 나눌 수):\n",
    "##### -----return '''',''''"
   ]
  },
  {
   "cell_type": "markdown",
   "id": "0334ec6f-e74c-4ad5-a989-11bf024e12e3",
   "metadata": {},
   "source": [
    "### 변수\n",
    "###### 전역 변수(global variable) -\n",
    "###### 지역 변수(local variable) - \n",
    "###### 지역 범위에서 전역 변수 할당하기"
   ]
  },
  {
   "cell_type": "code",
   "execution_count": 20,
   "id": "551136e8-774f-40e3-829a-1b4998329556",
   "metadata": {},
   "outputs": [],
   "source": [
    "# 함수 중첩 \n",
    "def level1():\n",
    "    message = 'this is level 1.'\n",
    "    def level2():\n",
    "        print(message)\n",
    "    level2()"
   ]
  },
  {
   "cell_type": "code",
   "execution_count": 21,
   "id": "9a60ca60-2eb4-4cb7-80ef-b4e554d8b2f1",
   "metadata": {},
   "outputs": [
    {
     "name": "stdout",
     "output_type": "stream",
     "text": [
      "this is level 1.\n"
     ]
    }
   ],
   "source": [
    "level1()"
   ]
  },
  {
   "cell_type": "code",
   "execution_count": 22,
   "id": "c0102f86-1815-466b-8bd1-ac536ae3a5f8",
   "metadata": {},
   "outputs": [],
   "source": [
    "def level1():\n",
    "    message = 'this is level 1.'\n",
    "    def level2():\n",
    "        nonlocal message \n",
    "        message = 'level2 is better than level1'\n",
    "    level2()\n",
    "    print(message)"
   ]
  },
  {
   "cell_type": "code",
   "execution_count": 23,
   "id": "6b336a28-5e4f-45eb-ab83-0b1cc1b6a9d3",
   "metadata": {},
   "outputs": [
    {
     "name": "stdout",
     "output_type": "stream",
     "text": [
      "level2 is better than level1\n"
     ]
    }
   ],
   "source": [
    "level1()"
   ]
  },
  {
   "cell_type": "markdown",
   "id": "808b197b-10db-4e38-8d24-d873b0d5ed8e",
   "metadata": {},
   "source": [
    "### global, nonlocal 특징과 권고사항 ###\n",
    "- global키워드: 함수의 중첩된 정도와 상관없이 전역 범위의 변수를 매칭\n",
    "- 중첩된 함수마다 같은 이름의 변수가 있다면 : nonlocal키워드는 제일 가까운 바깥 변수를 매칭\n",
    "- 가급적 함수마다 이름이 같은 변수를 사용하기보단 다른 변수명을 사용하는게 좋다"
   ]
  },
  {
   "cell_type": "markdown",
   "id": "26c41aca-3401-4d71-b55a-b213916f0912",
   "metadata": {},
   "source": [
    "### 변수 범위 정리 ###\n",
    "- 선언한 변수(함수안에서) 함수를 호출 해 실행되는 동안만 사용가능\n",
    "- 범위마다 같은 이름의 변수를 사용해도 각각 독립적으로 동작\n",
    "- 지역 변수를 저장하는 이름 공간 -> 지역 영역(local scope)\n",
    "- 전역 변수를 저장하는 이름 공간 -> 전역 영역(global scope)\n",
    "- 내장 영역(built-in scope): python자체에서 정의한 이름 공간\n",
    "- 함수에서 변수를 호출하면 지역 영역 -> 전역 영역 -> 내장 영역 순으로 해당하는 변수 확인"
   ]
  },
  {
   "cell_type": "code",
   "execution_count": 24,
   "id": "708119a5-76b4-4572-b8c6-c783cfc9c4e2",
   "metadata": {},
   "outputs": [
    {
     "name": "stdout",
     "output_type": "stream",
     "text": [
      "전역 변수입니다.\n"
     ]
    }
   ],
   "source": [
    "# 지역 범위(local scope) 전역 변수(global variable)에 접근 출력\n",
    "global_v = \"전역 변수입니다.\"\n",
    "\n",
    "def local_scope():     #호출\n",
    "    print(global_v)\n",
    "    \n",
    "local_scope()           "
   ]
  },
  {
   "cell_type": "code",
   "execution_count": 25,
   "id": "c99cf7ba-e639-45b9-b320-c25f4dac9680",
   "metadata": {},
   "outputs": [
    {
     "name": "stdout",
     "output_type": "stream",
     "text": [
      "전역 변수입니다.\n"
     ]
    }
   ],
   "source": [
    "# 지역 범위(local scope) 전역 변수(global variable)에 접근 후 재 할당\n",
    "global_v2 = \"전역 변수입니다.\"\n",
    "\n",
    "def local_scope2():     \n",
    "    global_v2 = '지역 범위입니다.'\n",
    "    \n",
    "local_scope2()\n",
    "print(global_v2)\n",
    "\n",
    "# 사실은 전역 범위에서 global_v2를 만들어 할당한 것과\n",
    "# 로컬 범위에서 global_v2를 만들어 할당한 것\n",
    "# 두 가지 일을 각각 독립적으로 실행한 결과를 확인했다."
   ]
  },
  {
   "cell_type": "code",
   "execution_count": 26,
   "id": "15e0e349-77b5-4d7b-ba53-3583132157dc",
   "metadata": {},
   "outputs": [
    {
     "name": "stdout",
     "output_type": "stream",
     "text": [
      "지역 범위입니다.\n"
     ]
    }
   ],
   "source": [
    "# 지역 범위(local scope) 전역 변수(global variable)에 접근 후 재 할당\n",
    "global_v3 = \"전역 변수입니다.\"\n",
    "\n",
    "def local_scope3():         # global 키워드를 사용함으로 값이 해당이 되게 만듬\n",
    "    global global_v3        # 전역 범위에 있는 전역 변수인 global_v3를 사용하겠다.\n",
    "    global_v3 = '지역 범위입니다.'\n",
    "    \n",
    "local_scope3()\n",
    "print(global_v3)\n",
    "# global 키워드를 활용하면 지역 범위에 있어도 \n",
    "# 전역 변수에 대한 변경이 가능하도록 할 수 있었다."
   ]
  },
  {
   "cell_type": "code",
   "execution_count": 27,
   "id": "37421abe-9b6a-4160-a863-b1ff6be41093",
   "metadata": {},
   "outputs": [
    {
     "name": "stdout",
     "output_type": "stream",
     "text": [
      "바깥 지역 범위입니다.\n"
     ]
    }
   ],
   "source": [
    "# 지역 범위(local scope) 안에 지역 범위가 중첩되어 있을 경우\n",
    "# 비교적 바깥에 있는 지역 범위의 지역 변수에 접근하여 출력\n",
    "global_v2 = \"전역 변수입니다.\"\n",
    "\n",
    "def local_scope4():     \n",
    "    global_v4 = '바깥 지역 범위입니다.'        # local 범위 안에 있어서 출력가능\n",
    "    def local_scope5():\n",
    "        print(global_v4)\n",
    "    local_scope5()\n",
    "    \n",
    "local_scope4()"
   ]
  },
  {
   "cell_type": "code",
   "execution_count": 28,
   "id": "c0a746e6-370d-41cb-bfc2-f49a3ecac255",
   "metadata": {},
   "outputs": [
    {
     "ename": "NameError",
     "evalue": "name 'global_v4' is not defined",
     "output_type": "error",
     "traceback": [
      "\u001b[1;31m---------------------------------------------------------------------------\u001b[0m",
      "\u001b[1;31mNameError\u001b[0m                                 Traceback (most recent call last)",
      "\u001b[1;32m~\\AppData\\Local\\Temp\\ipykernel_13368\\4098267204.py\u001b[0m in \u001b[0;36m<module>\u001b[1;34m\u001b[0m\n\u001b[0;32m      9\u001b[0m \u001b[1;33m\u001b[0m\u001b[0m\n\u001b[0;32m     10\u001b[0m     \u001b[0mlocal_scope5\u001b[0m\u001b[1;33m(\u001b[0m\u001b[1;33m)\u001b[0m\u001b[1;33m\u001b[0m\u001b[1;33m\u001b[0m\u001b[0m\n\u001b[1;32m---> 11\u001b[1;33m \u001b[0mprint\u001b[0m\u001b[1;33m(\u001b[0m\u001b[0mglobal_v4\u001b[0m\u001b[1;33m)\u001b[0m   \u001b[1;31m# 접근 불가. 없음\u001b[0m\u001b[1;33m\u001b[0m\u001b[1;33m\u001b[0m\u001b[0m\n\u001b[0m\u001b[0;32m     12\u001b[0m \u001b[1;33m\u001b[0m\u001b[0m\n\u001b[0;32m     13\u001b[0m \u001b[1;31m#지역 범위 안에 있는 지역 변수는 그 함수 실행과 반환 사이동안만 살아있었다.\u001b[0m\u001b[1;33m\u001b[0m\u001b[1;33m\u001b[0m\u001b[0m\n",
      "\u001b[1;31mNameError\u001b[0m: name 'global_v4' is not defined"
     ]
    }
   ],
   "source": [
    "# 지역 범위(local scope) 안에 지역 범위가 중첩되어 있을 경우\n",
    "# 비교적 바깥에 있는 지역 범위의 지역 변수에 접근하여 출력\n",
    "global_v2 = \"전역 변수입니다.\"\n",
    "\n",
    "def local_scope4():     \n",
    "    global_v4 = '바깥 지역 범위입니다.'        \n",
    "    def local_scope5():\n",
    "        print(global_v4)\n",
    "    \n",
    "    local_scope5()\n",
    "print(global_v4)   # 접근 불가. 없음\n",
    "\n",
    "#지역 범위 안에 있는 지역 변수는 그 함수 실행과 반환 사이동안만 살아있었다.\n",
    " \n",
    "local_scope4()"
   ]
  },
  {
   "cell_type": "code",
   "execution_count": 29,
   "id": "5e0848c5-d30e-46ca-a6ec-da45beac18b0",
   "metadata": {},
   "outputs": [
    {
     "name": "stdout",
     "output_type": "stream",
     "text": [
      "바깥 지역 범위입니다.\n"
     ]
    }
   ],
   "source": [
    "# 지역 범위(local scope) 안에 지역 범위가 중첩되어 있을 경우\n",
    "# 비교적 바깥에 있는 지역 범위의 지역 변수에 접근하여 출력\n",
    "global_v2 = \"전역 변수입니다.\"\n",
    "                                                 # 각각의 v5가 독립적으로 존재했다\n",
    "def local_scope6():    \n",
    "    global_v5 = '바깥 지역 범위입니다.'        # 더 넓은 범위의 로컬 변수로 선언\n",
    "    def local_scope7():\n",
    "        global_v5 = '안쪽 지역 범위입니다.'    # 더 좁은 범위의 로컬 변수로 선언\n",
    "    local_scope7()\n",
    "    print(global_v5)\n",
    "    \n",
    "local_scope6()\n",
    "\n",
    "# 그래서 local_scope6 범위의 global_v5는\n",
    "# local_scope7 범위의 global_v5와 각각 독립적으로 생성이 된 것을 봤다"
   ]
  },
  {
   "cell_type": "code",
   "execution_count": 30,
   "id": "1a140dd4-b446-4e4d-abc7-c03a6a79e7a3",
   "metadata": {},
   "outputs": [
    {
     "name": "stdout",
     "output_type": "stream",
     "text": [
      "안쪽 지역 범위입니다.\n"
     ]
    }
   ],
   "source": [
    "# 지역 범위(local scope) 안에 지역 범위가 중첩되어 있을 경우\n",
    "# 비교적 바깥에 있는 지역 범위의 지역 변수에 접근하여 출력\n",
    "                               \n",
    "def local_scope8():     \n",
    "    global_v6 = '바깥 지역 범위입니다.'       \n",
    "    def local_scope9():                    # 현 영역 (지금의 로컬 영역 바깥의 변수 global_v6 를 찾아서 사용하겠다.)\n",
    "        nonlocal global_v6                 \n",
    "        global_v6 = '안쪽 지역 범위입니다.'    \n",
    "    local_scope9()\n",
    "    print(global_v6)\n",
    "    \n",
    "local_scope8()"
   ]
  },
  {
   "cell_type": "markdown",
   "id": "4924ec28-0197-455d-9929-e5192f160671",
   "metadata": {},
   "source": [
    "#### 람다(Lambda)\n",
    "- 호출될 때 값이 구해지는 하나의 표현식. 이름이 없는 인라인 함수\n",
    "- 표현식과 정의절의 차이점 -> 람다는 이름이 없다\n",
    "- 소괄호로 람다식을 호출. 소괄호 닫고 인수를 넣으면 됨\n",
    "- 람다로 만든 익명함수 호출하려면, 변수에 할당해 사용(python에서 함수는 객체)\n",
    "- 람다 expression 부분은 변수 없이 식 한 줄로 표현 가능(인라인). 표현식 안에 새 변수 만들 수 있음. 변수 필요한 경우 def를 써서 함수 정의해라\n",
    "###### lambda [parameters]:expression  ---> Lambda표현식\n",
    "###### ---------매개변수지정 -----반환값으로 사용할 식\n",
    "###### 일반 함수 정의절 ---> def func(parameters):\n",
    "###### --------------------(들여쓰기) return expression"
   ]
  },
  {
   "cell_type": "code",
   "execution_count": 32,
   "id": "3b1dc1e3-ce37-46f1-928e-ba35e34560e0",
   "metadata": {},
   "outputs": [
    {
     "data": {
      "text/plain": [
       "20"
      ]
     },
     "execution_count": 32,
     "metadata": {},
     "output_type": "execute_result"
    }
   ],
   "source": [
    "(lambda x : x + 10)(10)"
   ]
  },
  {
   "cell_type": "markdown",
   "id": "8eab7f61-1a87-4b35-af67-f657de2adabe",
   "metadata": {},
   "source": [
    "#### (lambda [parameters] : expression)(arguments) ####"
   ]
  },
  {
   "cell_type": "code",
   "execution_count": 33,
   "id": "8ee2c87a-2657-48ec-a95b-e392925bd3f2",
   "metadata": {},
   "outputs": [
    {
     "name": "stdout",
     "output_type": "stream",
     "text": [
      "20\n"
     ]
    }
   ],
   "source": [
    "twice = lambda x : x * 2\n",
    "print(twice(10))"
   ]
  },
  {
   "cell_type": "markdown",
   "id": "5736b70d-2b5b-4af8-9a9a-5ddd64900626",
   "metadata": {},
   "source": [
    "#### 조건 표현식(comditional expression).inline if else\n",
    "- 인라인으로 이루어져서 if와 else를 한줄로 작성해야함 (무조건 같이 사용, 중첩은 가독성좋게)\n",
    "#### T 일때 값 if 조건식 else F 일때 값#### if 조건식이 T일 때 왼쪽, 반대일 경우 F라서 오른쪽\n"
   ]
  },
  {
   "cell_type": "code",
   "execution_count": 34,
   "id": "dcdecd38-bfba-4d8d-b4a6-4e0de3d4dca5",
   "metadata": {},
   "outputs": [
    {
     "data": {
      "text/plain": [
       "'b'"
      ]
     },
     "execution_count": 34,
     "metadata": {},
     "output_type": "execute_result"
    }
   ],
   "source": [
    "score = 90\n",
    "'a' if 90 < score <= 100 else 'b' if 80 < score else 'c'\n",
    "\n",
    "# 굳이 이렇게 중첩을 많이 안써도 된다. 한눈에 보기 어려움"
   ]
  },
  {
   "cell_type": "markdown",
   "id": "f1763e2d-5b1d-4b9f-b853-c7f05dce7031",
   "metadata": {},
   "source": [
    "#### 람다(Lambda) feat. map()\n",
    "- 람다와 map() 함수를 같이 쓸 때 사용.\n",
    "- 필요에 따라 parameter와 iterable의 개수를 맞춰 사용\n",
    "- 길이가 짧아도 상관없이 동작. 길이가 작은 쪽에 맞춰 값을 반환(iterable길이)"
   ]
  },
  {
   "cell_type": "markdown",
   "id": "70466998-926d-41dd-aa9e-04398032aa55",
   "metadata": {},
   "source": [
    "#### map(lambda parameter1, parameter2,....:expression,\n",
    "#### iterable1, iterable2,...)"
   ]
  },
  {
   "cell_type": "code",
   "execution_count": 36,
   "id": "d276290d-7314-4430-83e7-57be8f5e8566",
   "metadata": {},
   "outputs": [
    {
     "name": "stdout",
     "output_type": "stream",
     "text": [
      "[2, 8, 18, 32, 50]\n"
     ]
    }
   ],
   "source": [
    "a = [ n for n in range(1,6)]\n",
    "b = [ n for n in range(2,11,2)]\n",
    "print(list(map(lambda x, y : x * y, a, b)))"
   ]
  },
  {
   "cell_type": "code",
   "execution_count": 37,
   "id": "10aa50a7-3cb1-4239-82a8-6c4bea5149ab",
   "metadata": {},
   "outputs": [
    {
     "name": "stdout",
     "output_type": "stream",
     "text": [
      "[0, 4, 12, 24, 40]\n",
      "100\n"
     ]
    }
   ],
   "source": [
    "a = [ _ for _ in range(5)] # 0, 1, 2, 3, 4\n",
    "b = [ _ for _ in range(2, 11, 2)] # 2, 4, 6, 8, 10\n",
    "\n",
    "c = list(map(lambda x, y : x * y, a, b))\n",
    "\n",
    "print(c)\n",
    "print((lambda x : x ** 2)(10))"
   ]
  },
  {
   "cell_type": "markdown",
   "id": "e4c6bb48-1ff4-4d17-9298-c04e512577c5",
   "metadata": {},
   "source": [
    "#### 람다(Lambda) feat. filter()\n",
    "- filter의 첫인수로 들어가는 반환 값이 T일때만 해당 요소를 가져욤\n",
    "- 리스트 컴프리헨션으로도 표현 가능(속도와 가독성 모두 list comprehension이 나음)\n",
    "#### map(lambda parameter : expression, iterable)"
   ]
  },
  {
   "cell_type": "code",
   "execution_count": 38,
   "id": "dc0cd742-020b-4c83-bb86-50c7d94eabe7",
   "metadata": {},
   "outputs": [
    {
     "data": {
      "text/plain": [
       "[3, 9, 9]"
      ]
     },
     "execution_count": 38,
     "metadata": {},
     "output_type": "execute_result"
    }
   ],
   "source": [
    "a = [3, 2, 8, 22, 10, 7, 0, 11, 9, 9]\n",
    "list(filter(lambda x : x % 3 == 0 and 0 < x < 10, a))"
   ]
  },
  {
   "cell_type": "markdown",
   "id": "aa3fa1c1-2650-48a6-88d5-d964e13a95d6",
   "metadata": {},
   "source": [
    "#### 객체 지향(Object Oriented) 프로그래밍\n",
    "- 복잡한 문제를 잘게 나누어 객체로 만듬 -> 객체를 조합해 문제 해결\n",
    "- 복잡한 문제 처리 유용하고, 기능을 개선 발전 시 클래스만 수정하면 됨( 큰 프로젝트 유지보수에 효율적 )\n",
    "- 객체가 가진 데이터를 클래스의 속성(Attribute)이라 부름. \n",
    "- 객체가 갖는 기능을 메서드(Method)라고 부름"
   ]
  },
  {
   "cell_type": "markdown",
   "id": "31a02d79-e2d8-4b9f-a80f-39e7cf195ff1",
   "metadata": {},
   "source": [
    "### 클래스(class)\n",
    "- 사용자 정의 객체를 만들기 위한 주형(이라고 생각하면 된다)\n",
    "- 정의는 보통 클래스의 인스턴스를 대상으로 연산하는 메스드 정의를 포함\n",
    "- class ClassName:                    ----> 클래스명은 주로 PascalCase(UpperCamelCase)를 씁니다.\n",
    "-  (들여쓰기) def method_name(self):   \n",
    "-            (들여쓰기) method_body\n",
    "\n",
    "-  (들여쓰기)class_body\n",
    "-  ....."
   ]
  },
  {
   "cell_type": "markdown",
   "id": "9e7a553d-acf7-4ce5-801d-97645fed3230",
   "metadata": {},
   "source": [
    "#### 클래스(class)\n",
    "- int, list, dict 등도 클래스 : \n",
    "#### 객체? 인스턴스?\n",
    "- 인스턴스(Instance)는 특정 클래스로부터 만들어진 실체로 언급을 많이 한다.\n",
    "- 인스턴스 생성 -> 클래스명 오른편에 소괄호를 붙여서 만듬\n",
    "###### instance_variable = ClassName()"
   ]
  },
  {
   "cell_type": "markdown",
   "id": "44b79c90-0c13-4b2b-bd22-4190281cb3d5",
   "metadata": {},
   "source": [
    "### 메서드(Method)\n",
    "- 클래스 바디 안에서 정의되는 함수\n",
    "- 클래스의 인스턴스의 어트리뷰트(attribute)로서 호출되면... -> 첫번째 인자로 인스턴스 객체(self)를 받는다\n",
    "- 첫번째 인자를 설정 안하면 에러 발생 (첫 번째 인자를 'self'라고 쓴다)"
   ]
  },
  {
   "cell_type": "code",
   "execution_count": 39,
   "id": "c9dd16a4-0a3a-446b-86a5-e5e238418391",
   "metadata": {},
   "outputs": [],
   "source": [
    "class Student:\n",
    "    def __init__(self):                # __(언더바두번): double under score : 던더라고 부름\n",
    "        pass"
   ]
  },
  {
   "cell_type": "code",
   "execution_count": 40,
   "id": "5a5b4f84-61ef-4ace-ba03-a5a6e190a43a",
   "metadata": {},
   "outputs": [],
   "source": [
    "ji = Student()  # 독립적인 값을 보장하는 인스턴스로 생성된다."
   ]
  },
  {
   "cell_type": "code",
   "execution_count": 41,
   "id": "feadc7e5-6b51-42ee-bc95-bacdea613f80",
   "metadata": {},
   "outputs": [],
   "source": [
    "class Person:\n",
    "    def __init__(self):\n",
    "        self.hello = \"안녕하세요\""
   ]
  },
  {
   "cell_type": "code",
   "execution_count": 42,
   "id": "3c70b700-621e-4791-bc1c-dcebf881e6b3",
   "metadata": {},
   "outputs": [],
   "source": [
    "james = Person()"
   ]
  },
  {
   "cell_type": "code",
   "execution_count": 43,
   "id": "a330d376-8f3b-49e8-9eb4-ce60a0d2b217",
   "metadata": {},
   "outputs": [
    {
     "name": "stdout",
     "output_type": "stream",
     "text": [
      "안녕하세요\n"
     ]
    }
   ],
   "source": [
    "print(james.hello)"
   ]
  },
  {
   "cell_type": "markdown",
   "id": "bf8bb3d0-b152-48db-a9b8-81f6d4cdc22e",
   "metadata": {},
   "source": [
    "#### 클래스 속성(Attribute)\n",
    "- __init__ 메서드는 james = Person()처럼 클래스에 소괄호를 붙여 인스턴스를 만들때 호출되는 special method, magic method이다\n",
    "- __init__은 initialize의 줄임말. 인스턴스(객체)를 초기화(메모리에 공간을 할당,값을 부여)한다\n",
    "- __(언더바두번): double under score : 던더라고 부름. 파이썬이 자동으로 부여하는 메서드\n",
    "- 속성 : __init__은 메서드에서 만듬. self에 마침표(.) 를 붙여 속성명 부여. 값을 할당 (클래스 바디에도 동일하게)"
   ]
  },
  {
   "cell_type": "markdown",
   "id": "70b878ad-bf84-4399-a8a0-4403c5dd7faa",
   "metadata": {},
   "source": [
    "#### self란 \n",
    "- self : 인스턴스 자기 자신을 의미\n",
    "- 인스턴스 생성 될 때 self.hello = 'hi' 처럼 자신에 대해 속성을 추가해 사용\n",
    "- __init__의 매개변수 self에 들어가는 값은 Person()인스턴스라고 할 수 있음(예제참고). self 완성 이후 변수에 할당 됨\n",
    "- 이후 메서드 호출 시 현 인스턴스가 자동으로 매개변수 self에 들어옴"
   ]
  },
  {
   "cell_type": "code",
   "execution_count": 45,
   "id": "590bc889-52e6-4540-bc70-375e08086167",
   "metadata": {},
   "outputs": [
    {
     "name": "stdout",
     "output_type": "stream",
     "text": [
      "안녕하세요\n"
     ]
    }
   ],
   "source": [
    "class Person:\n",
    "    def __init__(self):\n",
    "        self.hello = \"안녕하세요\"\n",
    "        \n",
    "    def greeting(self):\n",
    "        print(self.hello)\n",
    "        \n",
    "james = Person()\n",
    "james.greeting()"
   ]
  },
  {
   "cell_type": "code",
   "execution_count": 46,
   "id": "964e261a-a92a-46b6-aea9-e36cc069df24",
   "metadata": {},
   "outputs": [
    {
     "name": "stdout",
     "output_type": "stream",
     "text": [
      "안녕하세요\n"
     ]
    }
   ],
   "source": [
    "bebe = Person()\n",
    "bebe.greeting()"
   ]
  },
  {
   "cell_type": "code",
   "execution_count": null,
   "id": "d1e1a4ce-7c34-455f-9236-99e5d21a0671",
   "metadata": {},
   "outputs": [],
   "source": []
  }
 ],
 "metadata": {
  "kernelspec": {
   "display_name": "Python 3 (ipykernel)",
   "language": "python",
   "name": "python3"
  },
  "language_info": {
   "codemirror_mode": {
    "name": "ipython",
    "version": 3
   },
   "file_extension": ".py",
   "mimetype": "text/x-python",
   "name": "python",
   "nbconvert_exporter": "python",
   "pygments_lexer": "ipython3",
   "version": "3.9.13"
  }
 },
 "nbformat": 4,
 "nbformat_minor": 5
}
