{
 "cells": [
  {
   "cell_type": "markdown",
   "id": "923b581e-04b1-46c6-a415-c482726e87b2",
   "metadata": {},
   "source": [
    "동혁이는 오래된 창고를 뒤지다가 낡은 체스판과 피스를 발견했다.\n",
    "\n",
    "체스판의 먼지를 털어내고 걸레로 닦으니 그럭저럭 쓸만한 체스판이 되었다. \n",
    "하지만, 검정색 피스는 모두 있었으나, 흰색 피스는 개수가 올바르지 않았다.\n",
    "\n",
    "체스는 총 16개의 피스를 사용하며, 킹 1개, 퀸 1개, 룩 2개, 비숍 2개, 나이트 2개, 폰 8개로 구성되어 있다.\n",
    "\n",
    "동혁이가 발견한 흰색 피스의 개수가 주어졌을 때, 몇 개를 더하거나 \n",
    "빼야 올바른 세트가 되는지 구하는 프로그램을 작성하시오.\n",
    "\n",
    "입력\n",
    "첫째 줄에 동혁이가 찾은 흰색 킹, 퀸, 룩, 비숍, 나이트, 폰의 개수가 주어진다.\n",
    "이 값은 0보다 크거나 같고 10보다 작거나 같은 정수이다.\n",
    "\n",
    "출력\n",
    "첫째 줄에 입력에서 주어진 순서대로 몇 개의 피\n",
    "스를 더하거나 빼야 되는지를 출력한다.\n",
    "만약 수가 양수라면 동혁이는 그 개수 만큼 피스를 더해야 하는 것이고, 음수라면 제거해야 하는 것이다."
   ]
  },
  {
   "cell_type": "markdown",
   "id": "14b986de-4b49-4ec4-a99a-048e6efe56db",
   "metadata": {},
   "source": [
    "#### 0 1 2 2 2 7(입력)2 1 2 1 2 1\n",
    "\n",
    "#### 1 0 0 0 0 1(출력)-1 0 0 1 0 7"
   ]
  },
  {
   "cell_type": "code",
   "execution_count": null,
   "id": "c17fc525-4c7b-4485-9dd7-3449889a643e",
   "metadata": {},
   "outputs": [],
   "source": [
    "# 검은색 ㅇㅋ/ 흰색 개수 모자름\n",
    "# 체스: 총 16개 / 킹 1, 퀸 1, 룩 2, 비숍 2, 나이트 2, 폰 8\n",
    "# 흰색 개수가 주어질 때(+-해서) 올바른 세트가 되는지 구하기\n",
    "\n",
    "g_set = [1, 1, 2, 2, 2, 8]\n",
    "\n",
    "bo_game = list(map(int,input().split()))\n",
    "for n in range(6):\n",
    "    if"
   ]
  },
  {
   "cell_type": "markdown",
   "id": "f8134b88-6570-4da1-b99f-6e15a3e37437",
   "metadata": {},
   "source": [
    "(A+B)%C는 ((A%C) + (B%C))%C 와 같을까?\n",
    "\n",
    "(A×B)%C는 ((A%C) × (B%C))%C 와 같을까?\n",
    "\n",
    "세 수 A, B, C가 주어졌을 때, 위의 네 가지 값을 구하는 프로그램을 작성하시오.\n",
    "\n",
    "입력\n",
    "첫째 줄에 A, B, C가 순서대로 주어진다. (2 ≤ A, B, C ≤ 10000)\n",
    "\n",
    "출력\n",
    "첫째 줄에 (A+B)%C, 둘째 줄에 ((A%C) + (B%C))%C, 셋째 줄에 (A×B)%C, 넷째 줄에 ((A%C) × (B%C))%C를 출력한다."
   ]
  },
  {
   "cell_type": "code",
   "execution_count": 9,
   "id": "e54b3902-d1f1-47a4-b425-d002b945ef10",
   "metadata": {},
   "outputs": [
    {
     "name": "stdin",
     "output_type": "stream",
     "text": [
      " 5 8 4\n"
     ]
    },
    {
     "name": "stdout",
     "output_type": "stream",
     "text": [
      "1\n",
      "1\n",
      "0\n",
      "0\n"
     ]
    }
   ],
   "source": [
    "A, B, C = map(int,input().split())\n",
    "print((A+B)%C)\n",
    "print(((A%C) + (B%C))%C)\n",
    "print((A*B)%C)\n",
    "print(((A%C) * (B%C))%C)"
   ]
  },
  {
   "cell_type": "code",
   "execution_count": 43,
   "id": "8ee304d6-a584-4234-9630-cd7a55674bac",
   "metadata": {},
   "outputs": [
    {
     "name": "stdout",
     "output_type": "stream",
     "text": [
      "\\    /\\ \n",
      " )  ( ')\n",
      "(  /  ) \n",
      " \\(__)| \n"
     ]
    }
   ],
   "source": [
    "print(\"\\    /\\ \")\n",
    "print(\" )  ( ')\")\n",
    "print(\"(  /  ) \")\n",
    "print(\" \\(__)| \")"
   ]
  },
  {
   "attachments": {
    "71f42f3a-2b87-4bbd-9e08-8dbdd6d03a9b.png": {
     "image/png": "[encoded data removed]"
    },
    "f843694d-5f5f-41f6-93e7-d28d512ff3f0.png": {
     "image/png": "[encoded data removed]"
    }
   },
   "cell_type": "markdown",
   "id": "81f0827d-c633-464b-ade8-4836e71caa31",
   "metadata": {},
   "source": [
    "![image.png](attachment:71f42f3a-2b87-4bbd-9e08-8dbdd6d03a9b.png)![image.png](attachment:f843694d-5f5f-41f6-93e7-d28d512ff3f0.png)"
   ]
  },
  {
   "cell_type": "code",
   "execution_count": 67,
   "id": "668586d6-06bc-4cef-b4b7-ce6233785867",
   "metadata": {},
   "outputs": [
    {
     "name": "stdout",
     "output_type": "stream",
     "text": [
      "|\\_/|     \n",
      "|q p|    /}\n",
      "( 0 )\"\"\"\\\n",
      "|\"^\"`    |\n",
      "||_/=\\\\__|\n"
     ]
    }
   ],
   "source": [
    "print(\"|\\_/|     \")  \n",
    "print(\"|q p|    /}\")\n",
    "print(\"( 0 )\\\"\\\"\\\"\\\\\")    #역슬래시를 넣어야함\n",
    "print(\"|\\\"^\\\"`    |\")\n",
    "print(\"||_/=\\\\\\__|\")"
   ]
  },
  {
   "cell_type": "code",
   "execution_count": null,
   "id": "ed85468b-619b-4c1f-ac05-71409d80058a",
   "metadata": {},
   "outputs": [],
   "source": []
  }
 ],
 "metadata": {
  "kernelspec": {
   "display_name": "Python 3 (ipykernel)",
   "language": "python",
   "name": "python3"
  },
  "language_info": {
   "codemirror_mode": {
    "name": "ipython",
    "version": 3
   },
   "file_extension": ".py",
   "mimetype": "text/x-python",
   "name": "python",
   "nbconvert_exporter": "python",
   "pygments_lexer": "ipython3",
   "version": "3.9.13"
  }
 },
 "nbformat": 4,
 "nbformat_minor": 5
}
