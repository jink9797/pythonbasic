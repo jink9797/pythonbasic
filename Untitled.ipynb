{
 "cells": [
  {
   "cell_type": "markdown",
   "id": "923b581e-04b1-46c6-a415-c482726e87b2",
   "metadata": {},
   "source": [
    "동혁이는 오래된 창고를 뒤지다가 낡은 체스판과 피스를 발견했다.\n",
    "\n",
    "체스판의 먼지를 털어내고 걸레로 닦으니 그럭저럭 쓸만한 체스판이 되었다. \n",
    "하지만, 검정색 피스는 모두 있었으나, 흰색 피스는 개수가 올바르지 않았다.\n",
    "\n",
    "체스는 총 16개의 피스를 사용하며, 킹 1개, 퀸 1개, 룩 2개, 비숍 2개, 나이트 2개, 폰 8개로 구성되어 있다.\n",
    "\n",
    "동혁이가 발견한 흰색 피스의 개수가 주어졌을 때, 몇 개를 더하거나 \n",
    "빼야 올바른 세트가 되는지 구하는 프로그램을 작성하시오.\n",
    "\n",
    "입력\n",
    "첫째 줄에 동혁이가 찾은 흰색 킹, 퀸, 룩, 비숍, 나이트, 폰의 개수가 주어진다.\n",
    "이 값은 0보다 크거나 같고 10보다 작거나 같은 정수이다.\n",
    "\n",
    "출력\n",
    "첫째 줄에 입력에서 주어진 순서대로 몇 개의 피\n",
    "스를 더하거나 빼야 되는지를 출력한다.\n",
    "만약 수가 양수라면 동혁이는 그 개수 만큼 피스를 더해야 하는 것이고, 음수라면 제거해야 하는 것이다."
   ]
  },
  {
   "cell_type": "markdown",
   "id": "14b986de-4b49-4ec4-a99a-048e6efe56db",
   "metadata": {},
   "source": [
    "#### 0 1 2 2 2 7(입력)2 1 2 1 2 1\n",
    "\n",
    "#### 1 0 0 0 0 1(출력)-1 0 0 1 0 7"
   ]
  },
  {
   "cell_type": "code",
   "execution_count": 78,
   "id": "c17fc525-4c7b-4485-9dd7-3449889a643e",
   "metadata": {},
   "outputs": [
    {
     "name": "stdin",
     "output_type": "stream",
     "text": [
      " 0 1 2 2 2 7\n"
     ]
    },
    {
     "name": "stdout",
     "output_type": "stream",
     "text": [
      "1 0 0 0 0 1 "
     ]
    }
   ],
   "source": [
    "# 검은색 ㅇㅋ/ 흰색 개수 모자름\n",
    "# 체스: 총 16개 / 킹 1, 퀸 1, 룩 2, 비숍 2, 나이트 2, 폰 8\n",
    "# 흰색 개수가 주어질 때(+-해서) 올바른 세트가 되는지 구하기\n",
    "\n",
    "g_set = [1, 1, 2, 2, 2, 8]\n",
    "\n",
    "bo_game = list(map(int,input().split()))\n",
    "for n in range(6):\n",
    "    print(g_set[n] - bo_game[n],end = \" \")"
   ]
  },
  {
   "cell_type": "code",
   "execution_count": 79,
   "id": "40d75897-1094-4f9f-ba26-a741c79e0e46",
   "metadata": {},
   "outputs": [
    {
     "name": "stdin",
     "output_type": "stream",
     "text": [
      " 2 1 2 1 2 1\n"
     ]
    },
    {
     "name": "stdout",
     "output_type": "stream",
     "text": [
      "-1 0 0 1 0 7\n"
     ]
    }
   ],
   "source": [
    "king, queen, rook, bishop, knight, pawn = map(int, input('').split())\n",
    "print(1 - king, 1 - queen, 2 - rook, 2 - bishop, 2 - knight, 8 - pawn)"
   ]
  },
  {
   "cell_type": "code",
   "execution_count": 80,
   "id": "8584b99c-a5fb-4e2e-9fe1-bb1cfbeb0590",
   "metadata": {},
   "outputs": [
    {
     "name": "stdin",
     "output_type": "stream",
     "text": [
      " 0 1 2 2 2 7\n"
     ]
    },
    {
     "name": "stdout",
     "output_type": "stream",
     "text": [
      "1 0 0 0 0 1\n"
     ]
    }
   ],
   "source": [
    "chess = [1, 1, 2, 2, 2, 8]\n",
    "mine1 = list(map(int, input('').split()))\n",
    "print(1 - mine1[0], 1 - mine1[1], 2 - mine1[2], 2 - mine1[3], 2 - mine1[4], 8 - mine1[5])"
   ]
  },
  {
   "cell_type": "markdown",
   "id": "f8134b88-6570-4da1-b99f-6e15a3e37437",
   "metadata": {},
   "source": [
    "(A+B)%C는 ((A%C) + (B%C))%C 와 같을까?\n",
    "\n",
    "(A×B)%C는 ((A%C) × (B%C))%C 와 같을까?\n",
    "\n",
    "세 수 A, B, C가 주어졌을 때, 위의 네 가지 값을 구하는 프로그램을 작성하시오.\n",
    "\n",
    "입력\n",
    "첫째 줄에 A, B, C가 순서대로 주어진다. (2 ≤ A, B, C ≤ 10000)\n",
    "\n",
    "출력\n",
    "첫째 줄에 (A+B)%C, 둘째 줄에 ((A%C) + (B%C))%C, 셋째 줄에 (A×B)%C, 넷째 줄에 ((A%C) × (B%C))%C를 출력한다."
   ]
  },
  {
   "cell_type": "code",
   "execution_count": 9,
   "id": "e54b3902-d1f1-47a4-b425-d002b945ef10",
   "metadata": {},
   "outputs": [
    {
     "name": "stdin",
     "output_type": "stream",
     "text": [
      " 5 8 4\n"
     ]
    },
    {
     "name": "stdout",
     "output_type": "stream",
     "text": [
      "1\n",
      "1\n",
      "0\n",
      "0\n"
     ]
    }
   ],
   "source": [
    "A, B, C = map(int,input().split())\n",
    "print((A+B)%C)\n",
    "print(((A%C) + (B%C))%C)\n",
    "print((A*B)%C)\n",
    "print(((A%C) * (B%C))%C)"
   ]
  },
  {
   "cell_type": "code",
   "execution_count": 89,
   "id": "8ee304d6-a584-4234-9630-cd7a55674bac",
   "metadata": {},
   "outputs": [
    {
     "name": "stdout",
     "output_type": "stream",
     "text": [
      "\\    /\\ \n",
      " )  ( ')\n",
      "(  /  ) \n",
      " \\(__)| \n"
     ]
    }
   ],
   "source": [
    "print(\"\\    /\\ \")\n",
    "print(\" )  ( ')\")\n",
    "print(\"(  /  ) \")\n",
    "print(\" \\(__)| \")"
   ]
  },
  {
   "attachments": {
    "71f42f3a-2b87-4bbd-9e08-8dbdd6d03a9b.png": {
     "image/png": "[encoded data removed]"
    },
    "f843694d-5f5f-41f6-93e7-d28d512ff3f0.png": {
     "image/png": "[encoded data removed]"
    }
   },
   "cell_type": "markdown",
   "id": "81f0827d-c633-464b-ade8-4836e71caa31",
   "metadata": {},
   "source": [
    "![image.png](attachment:71f42f3a-2b87-4bbd-9e08-8dbdd6d03a9b.png)![image.png](attachment:f843694d-5f5f-41f6-93e7-d28d512ff3f0.png)"
   ]
  },
  {
   "cell_type": "code",
   "execution_count": 84,
   "id": "668586d6-06bc-4cef-b4b7-ce6233785867",
   "metadata": {},
   "outputs": [
    {
     "name": "stdout",
     "output_type": "stream",
     "text": [
      "|\\_/|\n",
      "|q p|   /}\n",
      "( 0 )\"\"\"\\\n",
      "|\"^\"`    |\n",
      "||_/=\\\\__|\n"
     ]
    }
   ],
   "source": [
    "print(\"|\\_/|\")  \n",
    "print(\"|q p|   /}\")\n",
    "print(\"( 0 )\\\"\\\"\\\"\\\\\")\n",
    "print(\"|\\\"^\\\"`    |\")\n",
    "print(\"||_/=\\\\\\__|\")"
   ]
  },
  {
   "cell_type": "markdown",
   "id": "c316f9e3-d5d9-4f05-b3de-f84c61465e5f",
   "metadata": {},
   "source": [
    "- :두꺼운_확인_표시: 입력 형식 차이\n",
    "- (1) A = int(input(''))\n",
    "   B = int(input('')) 코드의 입력 형식 : 472\n",
    "                                          385 (세로)\n",
    "- (2) A, B = map(int, input('').split())의 경우 입력 형식 : 472 385 (가로)"
   ]
  },
  {
   "attachments": {
    "f3ff2c2a-f20c-4258-9fc2-49b4e51567fb.png": {
     "image/png": "[encoded data removed]"
    }
   },
   "cell_type": "markdown",
   "id": "89e989df-a6e8-40f6-8573-550e2e7d5f05",
   "metadata": {},
   "source": [
    "![image.png](attachment:f3ff2c2a-f20c-4258-9fc2-49b4e51567fb.png)"
   ]
  },
  {
   "cell_type": "code",
   "execution_count": 82,
   "id": "ed85468b-619b-4c1f-ac05-71409d80058a",
   "metadata": {
    "tags": []
   },
   "outputs": [
    {
     "name": "stdin",
     "output_type": "stream",
     "text": [
      " 472\n",
      " 385\n"
     ]
    },
    {
     "name": "stdout",
     "output_type": "stream",
     "text": [
      "2360\n",
      "3776\n",
      "1416\n",
      "181720\n"
     ]
    }
   ],
   "source": [
    "A = int(input(''))\n",
    "B = int(input(''))\n",
    "first = B % 1000 // 100   # 나머지 : 세자리 전체 나옴 --> 100으로 나눈 몫 : 첫째 자리\n",
    "second = B % 100 // 10  # 나머지 : 두자리 나옴 --> 10으로 나눈 몫 : 둘째 자리\n",
    "third = B % 10\n",
    "print(A * third, A * second, A * first, A * B, sep='\\n')  # 곱셈하는 형식대로 코드 진행\n"
   ]
  },
  {
   "cell_type": "code",
   "execution_count": 90,
   "id": "0ac21d9f-1b78-4e65-bc5b-ae9833ee9d81",
   "metadata": {},
   "outputs": [
    {
     "name": "stdout",
     "output_type": "stream",
     "text": [
      "         ,r'\"7\n",
      "r`-_   ,'  ,/\n",
      " \\. \". L_r'\n",
      "   `~\\/\n",
      "      |\n",
      "      |\n"
     ]
    }
   ],
   "source": [
    "print(\"         ,r'\\\"7\")\n",
    "print(\"r`-_   ,'  ,/\")\n",
    "print(\" \\. \\\". L_r\\'\")\n",
    "print(\"   `~\\/\")\n",
    "print(\"      |\")\n",
    "print(\"      |\")"
   ]
  },
  {
   "cell_type": "code",
   "execution_count": 10,
   "id": "ab50a677-4d2e-4bf1-a52b-b38779119fd7",
   "metadata": {},
   "outputs": [
    {
     "name": "stdin",
     "output_type": "stream",
     "text": [
      " 14 30\n",
      " 20\n"
     ]
    },
    {
     "name": "stdout",
     "output_type": "stream",
     "text": [
      "14 50\n"
     ]
    }
   ],
   "source": [
    "# 조건문 - 2525번(오븐시계)\n",
    "A, B = map(int, input().split())\n",
    "C = int(input())\n",
    "if (B + C) >= 60:\n",
    "    if A+((B+C)//60) < 24:\n",
    "        print(f'{A+((B+C)//60)} {(B+C)%60}')\n",
    "    else:\n",
    "        print(f'{(A+(B+C)//60)-24} {(B+C)%60}')\n",
    "else:\n",
    "    print(f'{A} {(B+C)}')"
   ]
  },
  {
   "cell_type": "code",
   "execution_count": 22,
   "id": "ad3c3437-d839-4725-8ac2-9ec3099240b2",
   "metadata": {},
   "outputs": [
    {
     "name": "stdin",
     "output_type": "stream",
     "text": [
      " 3 3 6\n"
     ]
    },
    {
     "name": "stdout",
     "output_type": "stream",
     "text": [
      "1300\n"
     ]
    }
   ],
   "source": [
    "A, B, C = map(int, input().split())\n",
    "# 3개 모두 같은 수\n",
    "if A == B == C :\n",
    "    print(10000 + A * 1000)\n",
    "# 2개가 같은 수\n",
    "elif A == B or B == C or C == A :\n",
    "    # A와 B가 같으면 A를 뽑아 출력한다.\n",
    "    if A == B :\n",
    "        print(1000 + A * 100)\n",
    "    elif B == C :\n",
    "        print(1000 + B * 100)\n",
    "    else :\n",
    "        print(1000 + C * 100)\n",
    "# 모두 다른 수\n",
    "else:\n",
    "    # 서로의 크기 비교\n",
    "    print(100 * max(x, y, z))"
   ]
  },
  {
   "cell_type": "code",
   "execution_count": null,
   "id": "a196994e-dc85-4af1-b0f1-2d914867aac0",
   "metadata": {},
   "outputs": [],
   "source": []
  }
 ],
 "metadata": {
  "kernelspec": {
   "display_name": "Python 3 (ipykernel)",
   "language": "python",
   "name": "python3"
  },
  "language_info": {
   "codemirror_mode": {
    "name": "ipython",
    "version": 3
   },
   "file_extension": ".py",
   "mimetype": "text/x-python",
   "name": "python",
   "nbconvert_exporter": "python",
   "pygments_lexer": "ipython3",
   "version": "3.9.13"
  }
 },
 "nbformat": 4,
 "nbformat_minor": 5
}
