{
 "cells": [
  {
   "cell_type": "code",
   "execution_count": 3,
   "id": "f9d9b16a-0318-4680-80ab-699d23078e2c",
   "metadata": {},
   "outputs": [
    {
     "name": "stdout",
     "output_type": "stream",
     "text": [
      "pt\n"
     ]
    }
   ],
   "source": [
    "\n",
    "language = 'python'\n",
    "print(language[0],language[2], sep = \"\")"
   ]
  },
  {
   "cell_type": "code",
   "execution_count": 17,
   "id": "7ddc3f90-ac3f-4b67-85b2-115053ab5d92",
   "metadata": {},
   "outputs": [
    {
     "name": "stdout",
     "output_type": "stream",
     "text": [
      "*****\n",
      "*****\n",
      "*****\n",
      "*****\n",
      "*****\n"
     ]
    }
   ],
   "source": [
    "for n in range(5):\n",
    "    for j in range(5):\n",
    "        print(\"*\",end=\"\")\n",
    "    print()"
   ]
  },
  {
   "cell_type": "code",
   "execution_count": 18,
   "id": "9234c516-15a7-43da-a8bd-5382bb3636e1",
   "metadata": {
    "collapsed": true,
    "jupyter": {
     "outputs_hidden": true
    },
    "tags": []
   },
   "outputs": [
    {
     "name": "stdout",
     "output_type": "stream",
     "text": [
      "hello \n",
      "hello \n",
      "hello \n",
      "hello \n",
      "hello \n",
      "hello \n",
      "hello \n",
      "hello \n",
      "hello \n",
      "hello \n",
      "hello \n",
      "hello \n",
      "hello \n",
      "hello \n",
      "hello \n",
      "hello \n",
      "hello \n",
      "hello \n",
      "hello \n",
      "hello \n",
      "hello \n",
      "hello \n",
      "hello \n",
      "hello \n",
      "hello \n",
      "hello \n",
      "hello \n",
      "hello \n",
      "hello \n",
      "hello \n",
      "hello \n",
      "hello \n",
      "hello \n",
      "hello \n",
      "hello \n",
      "hello \n",
      "hello \n",
      "hello \n",
      "hello \n",
      "hello \n",
      "hello \n",
      "hello \n",
      "hello \n",
      "hello \n",
      "hello \n",
      "hello \n",
      "hello \n",
      "hello \n",
      "hello \n",
      "hello \n",
      "hello \n",
      "hello \n",
      "hello \n",
      "hello \n",
      "hello \n",
      "hello \n",
      "hello \n",
      "hello \n",
      "hello \n",
      "hello \n",
      "hello \n",
      "hello \n",
      "hello \n",
      "hello \n",
      "hello \n",
      "hello \n",
      "hello \n",
      "hello \n",
      "hello \n",
      "hello \n",
      "hello \n",
      "hello \n",
      "hello \n",
      "hello \n",
      "hello \n",
      "hello \n",
      "hello \n",
      "hello \n",
      "hello \n",
      "hello \n",
      "hello \n",
      "hello \n",
      "hello \n",
      "hello \n",
      "hello \n",
      "hello \n",
      "hello \n",
      "hello \n",
      "hello \n",
      "hello \n",
      "hello \n",
      "hello \n",
      "hello \n",
      "hello \n",
      "hello \n",
      "hello \n",
      "hello \n",
      "hello \n",
      "hello \n",
      "hello \n"
     ]
    }
   ],
   "source": [
    "#while문으로 100회 출력하기\n",
    "i = 0\n",
    "while i <100:\n",
    "    print('hello ')\n",
    "    i += 1"
   ]
  },
  {
   "cell_type": "code",
   "execution_count": 21,
   "id": "83e48eca-4f63-4c53-a91f-4f0a5b1da52a",
   "metadata": {},
   "outputs": [
    {
     "name": "stdin",
     "output_type": "stream",
     "text": [
      "반복할 횟수를 입력하세요: 3\n"
     ]
    },
    {
     "name": "stdout",
     "output_type": "stream",
     "text": [
      "hello world 3\n",
      "hello world 2\n",
      "hello world 1\n"
     ]
    }
   ],
   "source": [
    "#\n",
    "count = int(input(\"반복할 횟수를 입력하세요:\"))\n",
    "while count > 0 :\n",
    "    print(\"hello world\",count)\n",
    "    count -= 1"
   ]
  },
  {
   "cell_type": "code",
   "execution_count": 27,
   "id": "23792daa-99fe-4da1-ae4e-e69e031558b3",
   "metadata": {
    "tags": []
   },
   "outputs": [
    {
     "name": "stdout",
     "output_type": "stream",
     "text": [
      "2\t4\t6\t8\t10\t12\t14\t16\t18\t20\t22\t24\t26\t28\t30\t32\t34\t36\t38\t40\t42\t44\t46\t48\t50\t52\t54\t56\t58\t60\t62\t64\t66\t68\t70\t72\t74\t76\t78\t80\t82\t84\t86\t88\t90\t92\t94\t96\t98\t100\t"
     ]
    }
   ],
   "source": [
    "i = 2\n",
    "while 0 < i <=100:\n",
    "    print(i,end=\"\\t\")\n",
    "    i += 2"
   ]
  },
  {
   "cell_type": "markdown",
   "id": "40a31500-a304-470c-95c5-c9a51837d018",
   "metadata": {},
   "source": [
    "#### 선생님이 풀어주신 해답"
   ]
  },
  {
   "cell_type": "code",
   "execution_count": 88,
   "id": "d5ad052a-36f5-4636-a1a9-19536d6a2379",
   "metadata": {
    "collapsed": true,
    "jupyter": {
     "outputs_hidden": true
    },
    "tags": []
   },
   "outputs": [
    {
     "name": "stdout",
     "output_type": "stream",
     "text": [
      "2\t4\t6\t8\t10\t12\t14\t16\t18\t20\t22\t24\t26\t28\t30\t32\t34\t36\t38\t40\t42\t44\t46\t48\t50\t52\t54\t56\t58\t60\t62\t64\t66\t68\t70\t72\t74\t76\t78\t80\t82\t84\t86\t88\t90\t92\t94\t96\t98\t100\t"
     ]
    }
   ],
   "source": [
    "i = 1\n",
    "while i <= 50:\n",
    "    print(i * 2, end = \"\\t\")\n",
    "    i += 1"
   ]
  },
  {
   "cell_type": "code",
   "execution_count": 32,
   "id": "9aca027e-dbad-4959-8fc1-5706d4155827",
   "metadata": {
    "collapsed": true,
    "jupyter": {
     "outputs_hidden": true
    },
    "tags": []
   },
   "outputs": [
    {
     "name": "stdin",
     "output_type": "stream",
     "text": [
      "구구단을 알려드립니다. 숫자를 입력하세요 9\n"
     ]
    },
    {
     "name": "stdout",
     "output_type": "stream",
     "text": [
      "9 * 1 = 9\n",
      "9 * 2 = 18\n",
      "9 * 3 = 27\n",
      "9 * 4 = 36\n",
      "9 * 5 = 45\n",
      "9 * 6 = 54\n",
      "9 * 7 = 63\n",
      "9 * 8 = 72\n",
      "9 * 9 = 81\n"
     ]
    }
   ],
   "source": [
    "p = int(input(\"구구단을 알려드립니다. 숫자를 입력하세요\"))\n",
    "m = 1\n",
    "while m < 10:           # while 어디 조건까지 반복\n",
    "    print(p, \"*\", m,\"=\",p * m)\n",
    "    m += 1"
   ]
  },
  {
   "cell_type": "markdown",
   "id": "13a4aed9-553a-4538-801b-fad98a8776f7",
   "metadata": {},
   "source": [
    "#### 선생님이 풀어주신 해답"
   ]
  },
  {
   "cell_type": "code",
   "execution_count": 89,
   "id": "89268d0b-6c1c-4e5d-8b48-c0fc40c0d760",
   "metadata": {
    "collapsed": true,
    "jupyter": {
     "outputs_hidden": true
    },
    "tags": []
   },
   "outputs": [
    {
     "name": "stdin",
     "output_type": "stream",
     "text": [
      "구구단을 알려드립니다. 숫자를 입력하세요 9\n"
     ]
    },
    {
     "name": "stdout",
     "output_type": "stream",
     "text": [
      "9 * 1 = 9\n",
      "9 * 2 = 18\n",
      "9 * 3 = 27\n",
      "9 * 4 = 36\n",
      "9 * 5 = 45\n",
      "9 * 6 = 54\n",
      "9 * 7 = 63\n",
      "9 * 8 = 72\n",
      "9 * 9 = 81\n"
     ]
    }
   ],
   "source": [
    "# while문\n",
    "num = int(input(\"구구단을 알려드립니다. 숫자를 입력하세요\"))\n",
    "i = 1\n",
    "while i <= 9:\n",
    "    print(num, \"*\", i,\"=\",num * i)\n",
    "    i +=1"
   ]
  },
  {
   "cell_type": "code",
   "execution_count": 92,
   "id": "f2b10656-52b2-4e85-b946-d1fb6f385fe4",
   "metadata": {
    "collapsed": true,
    "jupyter": {
     "outputs_hidden": true
    },
    "tags": []
   },
   "outputs": [
    {
     "name": "stdin",
     "output_type": "stream",
     "text": [
      "구구단을 알려드립니다. 숫자를 입력하세요 9\n"
     ]
    },
    {
     "name": "stdout",
     "output_type": "stream",
     "text": [
      "9 * 1 = 9\n",
      "9 * 2 = 18\n",
      "9 * 3 = 27\n",
      "9 * 4 = 36\n",
      "9 * 5 = 45\n",
      "9 * 6 = 54\n",
      "9 * 7 = 63\n",
      "9 * 8 = 72\n",
      "9 * 9 = 81\n"
     ]
    }
   ],
   "source": [
    "# for문\n",
    "num = int(input(\"구구단을 알려드립니다. 숫자를 입력하세요\"))\n",
    "for n in range(1,10):\n",
    "    print(num, \"*\", n,\"=\",num * n)"
   ]
  },
  {
   "cell_type": "code",
   "execution_count": 51,
   "id": "004c1503-120a-4fc1-a7fc-8fcba1f857ba",
   "metadata": {},
   "outputs": [
    {
     "name": "stdin",
     "output_type": "stream",
     "text": [
      "학생의 수:\n",
      " 3\n",
      "1학생의 점수: 77\n",
      "2학생의 점수: 88\n",
      "3학생의 점수: 99\n"
     ]
    },
    {
     "name": "stdout",
     "output_type": "stream",
     "text": [
      "88.0\n"
     ]
    }
   ],
   "source": [
    "#  i = input(str(1)+\"번 학생의 점수 :\\n\")\n",
    "#e = input(str(2)+\"번 학생의 점수 :\\n\")\n",
    "#o = input(str(3)+\"번 학생의 점수 :\\n\")\n",
    "\n",
    "score = int(input(\"학생의 수:\\n\"))      # input 에 인자값을 여러개 넣으면 오류가 남 # 학생의 수 / 평균\n",
    "grae = []\n",
    "k = 1                                  # 3번 반복한걸 하나로 줄임\n",
    "\n",
    "while score > 0:            \n",
    "    h = int(input(str(k)+\"학생의 점수:\"))\n",
    "    grae.append(h)\n",
    "    k = k+1\n",
    "    score = score-1\n",
    "ev = (grae[0]+grae[1]+grae[2])/3\n",
    "print(ev)"
   ]
  },
  {
   "cell_type": "code",
   "execution_count": 52,
   "id": "9dfd0b63-5fb1-492d-9ad4-15ff4d031aa5",
   "metadata": {
    "tags": []
   },
   "outputs": [],
   "source": [
    "# 해답\n",
    "\n",
    "tot = 0\n",
    "sn = int(input(\"학생의 수 :\"))\n",
    "i = 1\n",
    "while <= sn:\n",
    "    tot += int(input(str(i) +\"번 학생의 점수 : \"))\n",
    "    i += 1\n",
    "print(\"평균:\","
   ]
  },
  {
   "cell_type": "code",
   "execution_count": null,
   "id": "d22d061c-0767-4a5f-a7af-d8c84fd8a422",
   "metadata": {},
   "outputs": [],
   "source": []
  },
  {
   "cell_type": "code",
   "execution_count": 54,
   "id": "d7fc2ec4-4c71-44ce-a99c-e745e4eeeb68",
   "metadata": {
    "tags": []
   },
   "outputs": [
    {
     "name": "stdout",
     "output_type": "stream",
     "text": [
      "79.0\n"
     ]
    }
   ],
   "source": [
    "# A학급의 수학 점수가 다음과 같을 때 while문 조건식에 len()함수를 사용하여 이 학급의 평균 점수를 구하는 프로그램을 구현해보세요.\n",
    "\n",
    "class_a = (70, 60, 55, 75, 95, 90, 80, 80, 85, 100)\n",
    "i = 0\n",
    "evg = 0\n",
    "while i < len(class_a):\n",
    "    num = class_a[i]\n",
    "    i += 1\n",
    "    evg += num\n",
    "evg = evg / 10\n",
    "print(evg)"
   ]
  },
  {
   "cell_type": "code",
   "execution_count": 55,
   "id": "e5120ed4-649e-486f-995b-9a28e7a8ea22",
   "metadata": {},
   "outputs": [
    {
     "name": "stdout",
     "output_type": "stream",
     "text": [
      "5050\n"
     ]
    }
   ],
   "source": [
    "# 0부터 100까지의 자연수의 총합을 구하는 프로그램을 구현해보세요.\n",
    "# - while문과 break활용\n",
    "\n",
    "i = 0\n",
    "total = 0\n",
    "while True:\n",
    "    total += i\n",
    "    i = i + 1\n",
    "    if i > 100:\n",
    "        break\n",
    "print(total)"
   ]
  },
  {
   "cell_type": "code",
   "execution_count": 56,
   "id": "dc57c980-f112-4778-b3df-1cda932283d1",
   "metadata": {},
   "outputs": [
    {
     "name": "stdout",
     "output_type": "stream",
     "text": [
      "3 13 23 33 43 53 63 73 83 93 "
     ]
    }
   ],
   "source": [
    "# 아래 소스코드를 완성하여 0부터 100사이의 숫자 중 3으로 끝나는 숫자만 출력되게 만드세요\n",
    "# / 10 ==3 / 슬라이싱            # 3으로 끝나는 숫자만 나열\n",
    "i = 0\n",
    "while True:\n",
    "    if i % 10 != 3:\n",
    "        if i == 100:\n",
    "            break\n",
    "        i += 1\n",
    "        continue\n",
    "    print(i, end = ' ')\n",
    "    i += 1"
   ]
  },
  {
   "cell_type": "code",
   "execution_count": 57,
   "id": "a98ec97f-3a76-4646-ace2-ac528c1f65b5",
   "metadata": {},
   "outputs": [
    {
     "name": "stdout",
     "output_type": "stream",
     "text": [
      "3 13 23 33 43 53 63 73 83 93 "
     ]
    }
   ],
   "source": [
    "# 선생님 해답\n",
    "i = 0\n",
    "while True:\n",
    "    if i % 10 != 3:\n",
    "        i +=1\n",
    "        continue\n",
    "    if i > 100:\n",
    "        break\n",
    "    print(i, end = ' ')\n",
    "    i += 1"
   ]
  },
  {
   "cell_type": "code",
   "execution_count": 60,
   "id": "8b7ccbe1-85ff-4c12-8047-edac98bc0683",
   "metadata": {},
   "outputs": [
    {
     "name": "stdout",
     "output_type": "stream",
     "text": [
      "1   2   3   4   5   6   7   8   9   10   "
     ]
    }
   ],
   "source": [
    "# Q 1부터 10까지의 순서대로 줄을 바꾸지 않고 출력 값마다 뒤에 공백을 표시합니다.\n",
    "#(for/while)\n",
    "i = 0\n",
    "while i < 10:\n",
    "    i += 1\n",
    "    print(i,' ', end = ' ')"
   ]
  },
  {
   "cell_type": "code",
   "execution_count": 61,
   "id": "94c8e3e8-8c79-4d2a-91b6-52a84b38dd6e",
   "metadata": {},
   "outputs": [
    {
     "name": "stdout",
     "output_type": "stream",
     "text": [
      "1   2   3   4   5   6   7   8   9   10   "
     ]
    }
   ],
   "source": [
    "for i in range(1,11):\n",
    "    print(i,' ', end = ' ')"
   ]
  },
  {
   "cell_type": "code",
   "execution_count": 67,
   "id": "d7ca00f4-2b71-4b6f-a4ef-e65cecb49628",
   "metadata": {},
   "outputs": [
    {
     "name": "stdin",
     "output_type": "stream",
     "text": [
      "시작하는 정수 입력: 1\n",
      "끝나는 정수 입력: 10\n"
     ]
    },
    {
     "name": "stdout",
     "output_type": "stream",
     "text": [
      "1부터 10까지의 합은 55입니다.\n"
     ]
    }
   ],
   "source": [
    "n = int(input(\"시작하는 정수 입력:\"))\n",
    "m = int(input(\"끝나는 정수 입력:\"))\n",
    "total = 0\n",
    "i = n\n",
    "while i <= m:\n",
    "    total += i\n",
    "    i += 1\n",
    "print(f'{n}부터 {m}까지의 합은 {total}입니다.')"
   ]
  },
  {
   "cell_type": "code",
   "execution_count": 68,
   "id": "b7816545-aee9-4472-9887-c6cb818c8378",
   "metadata": {},
   "outputs": [
    {
     "name": "stdin",
     "output_type": "stream",
     "text": [
      "시작하는 정수 입력: 1\n",
      "끝나는 정수 입력: 10\n"
     ]
    },
    {
     "name": "stdout",
     "output_type": "stream",
     "text": [
      "1부터 10까지의 합은 55입니다.\n"
     ]
    }
   ],
   "source": [
    "n = int(input(\"시작하는 정수 입력:\"))\n",
    "m = int(input(\"끝나는 정수 입력:\"))\n",
    "total = 0\n",
    "for j in range(n,m + 1):\n",
    "    total += j\n",
    "print(f'{n}부터 {m}까지의 합은 {total}입니다.')"
   ]
  },
  {
   "cell_type": "code",
   "execution_count": 73,
   "id": "7d7d479e-b734-43d8-8519-eabdaa26fdfb",
   "metadata": {},
   "outputs": [
    {
     "name": "stdin",
     "output_type": "stream",
     "text": [
      "시작하는 정수 입력: 3\n",
      "끝나는 정수 입력: 7\n"
     ]
    },
    {
     "name": "stdout",
     "output_type": "stream",
     "text": [
      "3부터 7까지의 짝수 제곱의 합은 52입니다.\n"
     ]
    }
   ],
   "source": [
    "n = int(input(\"시작하는 정수 입력:\"))\n",
    "m = int(input(\"끝나는 정수 입력:\"))\n",
    "total = 0\n",
    "i = n\n",
    "while i <= m:\n",
    "    if i % 2 == 0:\n",
    "        total += (i ** 2)\n",
    "    i += 1\n",
    "print(f'{n}부터 {m}까지의 짝수 제곱의 합은 {total}입니다.')"
   ]
  },
  {
   "cell_type": "code",
   "execution_count": 76,
   "id": "b5d22b43-dba1-43fa-a8d9-db2cac9b146e",
   "metadata": {},
   "outputs": [
    {
     "name": "stdin",
     "output_type": "stream",
     "text": [
      "시작하는 정수 입력: 4\n",
      "끝나는 정수 입력: 7\n"
     ]
    },
    {
     "name": "stdout",
     "output_type": "stream",
     "text": [
      "4부터 7까지의 짝수 제곱의 합은 52입니다.\n"
     ]
    }
   ],
   "source": [
    "n = int(input(\"시작하는 정수 입력:\"))\n",
    "m = int(input(\"끝나는 정수 입력:\"))\n",
    "total = 0\n",
    "for j in range(n,m + 1):\n",
    "    if j % 2 == 0:\n",
    "        total += (j ** 2)\n",
    "print(f'{n}부터 {m}까지의 짝수 제곱의 합은 {total}입니다.')"
   ]
  },
  {
   "cell_type": "code",
   "execution_count": 78,
   "id": "6b69ee95-d136-4759-8cde-1d46a9519bff",
   "metadata": {},
   "outputs": [
    {
     "name": "stdout",
     "output_type": "stream",
     "text": [
      "79.0\n"
     ]
    }
   ],
   "source": [
    "#어떤 학급의 국어 점수가 다음과 같을 때 반복문을 이용하여 A학급의 평균 점수 구하기. =79.0\n",
    "\n",
    "kor = [70, 60, 55, 75, 95, 90, 80, 80, 85, 100]\n",
    "i = 0\n",
    "evg = 0\n",
    "while i < len(kor):\n",
    "    nn = kor[i]\n",
    "    i += 1\n",
    "    evg += nn\n",
    "evg = evg /10\n",
    "print(evg)"
   ]
  },
  {
   "cell_type": "code",
   "execution_count": 79,
   "id": "c264e75e-74c9-4ade-b174-fced18e72a16",
   "metadata": {},
   "outputs": [
    {
     "name": "stdout",
     "output_type": "stream",
     "text": [
      "79.0\n"
     ]
    }
   ],
   "source": [
    "kor = [70, 60, 55, 75, 95, 90, 80, 80, 85, 100]\n",
    "total = 0                            #합\n",
    "for n in range(len(kor)):            \n",
    "    to = kor[n]                      # \n",
    "    total += to\n",
    "    n += 1\n",
    "    \n",
    "total = total / len(kor)\n",
    "print(total)"
   ]
  },
  {
   "cell_type": "code",
   "execution_count": 87,
   "id": "6de25820-9cc4-4435-94d9-94807ee9d14b",
   "metadata": {},
   "outputs": [
    {
     "name": "stdout",
     "output_type": "stream",
     "text": [
      "결과는 233168 입니다\n"
     ]
    }
   ],
   "source": [
    "# Q 10미만의 자연수에서 3과 5의 배수를 구하면 3,5,6,9\n",
    "#   이들의 총합은 23입니다.          >>  233168\n",
    "# 1000미만의 자연수에서 3의 배수와 5의 배수의 총합을 구하세요. if/ a%3 ==0: / a % 5 ==0:\n",
    "\n",
    "total = 0\n",
    "n = 1                     # 1을 설정해줌 기본값\n",
    "while n < 1000:           # 1000미만이 될때까지 계속 반복이야\n",
    "    if n % 3 == 0:\n",
    "        total += n\n",
    "    elif n % 5 == 0:\n",
    "        total += n\n",
    "    n += 1\n",
    "print(f'결과는 {total} 입니다')"
   ]
  },
  {
   "cell_type": "code",
   "execution_count": 86,
   "id": "98b6202e-982b-4de3-8280-a76d3be1681d",
   "metadata": {},
   "outputs": [
    {
     "name": "stdout",
     "output_type": "stream",
     "text": [
      "결과는 233168 입니다\n"
     ]
    }
   ],
   "source": [
    "total = 0             \n",
    "for n in range(1,1000): \n",
    "    if n % 3 == 0:\n",
    "        total += n\n",
    "    elif n % 5 == 0:\n",
    "        total += n\n",
    "print(f'결과는 {total} 입니다')"
   ]
  },
  {
   "cell_type": "code",
   "execution_count": null,
   "id": "72c8f1d9-75e9-458e-ba58-5b4f3727b1b7",
   "metadata": {},
   "outputs": [],
   "source": []
  }
 ],
 "metadata": {
  "kernelspec": {
   "display_name": "Python 3 (ipykernel)",
   "language": "python",
   "name": "python3"
  },
  "language_info": {
   "codemirror_mode": {
    "name": "ipython",
    "version": 3
   },
   "file_extension": ".py",
   "mimetype": "text/x-python",
   "name": "python",
   "nbconvert_exporter": "python",
   "pygments_lexer": "ipython3",
   "version": "3.9.13"
  }
 },
 "nbformat": 4,
 "nbformat_minor": 5
}
