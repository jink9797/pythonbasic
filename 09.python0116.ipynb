{
 "cells": [
  {
   "cell_type": "markdown",
   "id": "ed37bfab-48a8-4150-ba20-40340e97e475",
   "metadata": {},
   "source": [
    "### 지난주 복습 230109 ~ 230113 ###"
   ]
  },
  {
   "cell_type": "code",
   "execution_count": null,
   "id": "38e0d904-fec2-4a55-99c7-d2d781a34b3f",
   "metadata": {},
   "outputs": [],
   "source": [
    "#class\n",
    "class Student:\n",
    "    def __init__(self):                 # self를 넣어줌으로 hello라는 속성을 부여함\n",
    "        self.hello = \"안녕하세요\""
   ]
  },
  {
   "cell_type": "code",
   "execution_count": 33,
   "id": "1b140901-60c7-451d-85eb-76d32c868e5c",
   "metadata": {},
   "outputs": [],
   "source": [
    "# stu_a, stu_b는 독립적인 존재\n",
    "stu_a = Student() # 클래스로부터 인스턴스 초기화\n",
    "stu_b = Student() # 클래스로부터 인스턴스 초기화"
   ]
  },
  {
   "cell_type": "code",
   "execution_count": 34,
   "id": "40a497ff-a9c3-499e-9282-36a171e3fac6",
   "metadata": {},
   "outputs": [],
   "source": [
    "stu_a.hello = \"안녕하세요\""
   ]
  },
  {
   "cell_type": "code",
   "execution_count": 35,
   "id": "26f78bb1-5261-4c4f-9133-1c1a913132e5",
   "metadata": {},
   "outputs": [],
   "source": [
    "stu_a.hello = \"학생A\""
   ]
  },
  {
   "cell_type": "code",
   "execution_count": 36,
   "id": "4ad98d58-7011-4687-97e8-e4340ea38b79",
   "metadata": {},
   "outputs": [
    {
     "name": "stdout",
     "output_type": "stream",
     "text": [
      "학생A\n"
     ]
    }
   ],
   "source": [
    "print(stu_a.hello)"
   ]
  },
  {
   "cell_type": "code",
   "execution_count": 37,
   "id": "855ed294-07d7-4204-abb6-431dbf76ae9b",
   "metadata": {},
   "outputs": [
    {
     "name": "stdout",
     "output_type": "stream",
     "text": [
      "안녕하세요\n"
     ]
    }
   ],
   "source": [
    "print(stu_b.hello)"
   ]
  },
  {
   "cell_type": "code",
   "execution_count": 63,
   "id": "407546ce-b6f3-40a0-a961-1110db5467be",
   "metadata": {},
   "outputs": [],
   "source": [
    "# class\n",
    "class Student:\n",
    "    def __init__(self):                   # self를 넣어줌으로 hello라는 속성을 부여함\n",
    "                 self.hello = \"안녕하세요\"\n",
    "    def greeting(self):\n",
    "        print(self.hello)"
   ]
  },
  {
   "cell_type": "code",
   "execution_count": 64,
   "id": "6501a082-e480-4e3f-beef-de6dc14b2aef",
   "metadata": {},
   "outputs": [],
   "source": [
    "stu_a.greetiong = \"안녕하세요\""
   ]
  },
  {
   "cell_type": "code",
   "execution_count": 65,
   "id": "27e99c2f-13f4-4f26-ac35-c93a54647a9a",
   "metadata": {},
   "outputs": [],
   "source": [
    "stu_b.greetiong = \"안녕하세요\""
   ]
  },
  {
   "cell_type": "code",
   "execution_count": 66,
   "id": "c692a62f-5d93-41a3-8300-a42449fcfded",
   "metadata": {},
   "outputs": [],
   "source": [
    "class Person:\n",
    "    def __init__(self,name,age):                   # self를 넣어줌으로 hello라는 속성을 부여함\n",
    "        self.name = name\n",
    "        self.age = age"
   ]
  },
  {
   "cell_type": "code",
   "execution_count": 69,
   "id": "eb9f56d5-ce29-405a-a3ef-9487ea255106",
   "metadata": {},
   "outputs": [],
   "source": [
    "p1 = Person(\"name1\",40)\n",
    "p2 = Person(\"name2\",32)"
   ]
  },
  {
   "cell_type": "code",
   "execution_count": 73,
   "id": "bc88be34-f71f-4371-a415-ab3800501c21",
   "metadata": {},
   "outputs": [
    {
     "data": {
      "text/plain": [
       "{'name': 'name1', 'age': 40}"
      ]
     },
     "execution_count": 73,
     "metadata": {},
     "output_type": "execute_result"
    }
   ],
   "source": [
    "p1. __dict__     # __dict__속성을 볼수 있음"
   ]
  },
  {
   "cell_type": "code",
   "execution_count": 71,
   "id": "718b4e45-de24-4773-b8dd-7b9620986197",
   "metadata": {},
   "outputs": [
    {
     "data": {
      "text/plain": [
       "{'name': 'name2', 'age': 32}"
      ]
     },
     "execution_count": 71,
     "metadata": {},
     "output_type": "execute_result"
    }
   ],
   "source": [
    "p2. __dict__"
   ]
  },
  {
   "cell_type": "code",
   "execution_count": 74,
   "id": "539576d8-4bd0-4055-9dd2-3cc07383595f",
   "metadata": {},
   "outputs": [],
   "source": [
    "# p1. name = \"name1\"\n",
    "# p1. age = 40\n",
    "\n",
    "# p2. name = \"name2\"\n",
    "# p2. age = 32"
   ]
  },
  {
   "cell_type": "code",
   "execution_count": 75,
   "id": "431e7f23-8924-4845-b6bc-34dbe3a8f625",
   "metadata": {},
   "outputs": [],
   "source": [
    "class Person2:\n",
    "    def __init__(self, name, age, address):\n",
    "        self.hello = \"안녕하세요\"\n",
    "        self. name = name\n",
    "        self. age = age\n",
    "        self. address = address\n",
    "    def greeting(self):\n",
    "        print(f'{self.hello} 제 이름은 {self. name}입니다.')"
   ]
  },
  {
   "cell_type": "code",
   "execution_count": 76,
   "id": "6b6e01fb-db8d-49a5-9a5a-07ab12c22999",
   "metadata": {},
   "outputs": [
    {
     "name": "stdout",
     "output_type": "stream",
     "text": [
      "안녕하세요 제 이름은 마리아입니다.\n"
     ]
    }
   ],
   "source": [
    "maria = Person2(\"마리아\", 23, \"서울시 마포구\")\n",
    "maria.greeting()"
   ]
  },
  {
   "cell_type": "code",
   "execution_count": 126,
   "id": "c6d591f9-9330-46ad-882e-0a614798ad34",
   "metadata": {},
   "outputs": [],
   "source": [
    "# Person 클래스로 maria, james라는 인스턴스를 생성합니다. \n",
    "# maria james 두 사람의 나이, 이름, 주소를 받아와 객체에 저장하고 화면에 출력\n",
    "\n",
    "class Person:\n",
    "    def __init__(self,second):\n",
    "        self.name = input('이름은 무엇인가요?:')\n",
    "        self.age = input('나이은 무엇인가요?:')\n",
    "        self.address = input('주소는 무엇인가요?:')\n",
    "        self.second = second\n",
    "    def greeting(self):\n",
    "        print(f'{self.second}이름:{self.name}', f'\\n{self.second}나이:{self.age}', f'\\n{self.second}주소:{self.address}')"
   ]
  },
  {
   "cell_type": "code",
   "execution_count": 129,
   "id": "262c606c-c2a3-4fff-9302-1fca88cbb9c5",
   "metadata": {},
   "outputs": [
    {
     "name": "stdin",
     "output_type": "stream",
     "text": [
      "이름은 무엇인가요?: 마리아\n",
      "나이은 무엇인가요?: 20\n",
      "주소는 무엇인가요?: 서울시 강남구\n",
      "이름은 무엇인가요?: 제임스\n",
      "나이은 무엇인가요?: 21\n",
      "주소는 무엇인가요?: 서울시 구로구\n"
     ]
    },
    {
     "name": "stdout",
     "output_type": "stream",
     "text": [
      "첫번째이름:마리아 \n",
      "첫번째나이:20 \n",
      "첫번째주소:서울시 강남구\n",
      "두번째이름:제임스 \n",
      "두번째나이:21 \n",
      "두번째주소:서울시 구로구\n"
     ]
    }
   ],
   "source": [
    "maria = Person('첫번째')\n",
    "james = Person('두번째')\n",
    "maria.greeting()\n",
    "james.greeting()"
   ]
  },
  {
   "cell_type": "markdown",
   "id": "adc77aa6-1eaa-462a-833a-0a20d2b7f11a",
   "metadata": {},
   "source": [
    "### Class 비공개 속성 사용하기\n",
    "#### 인스턴스.속성 = 값 을 통해 새롭게 인스턴트 속성값을 변경 못하도록 막고 싶을 때는 비공개 속성을 사용\n",
    "#### 사용법은 (__) 던더를 사용하면 됨"
   ]
  },
  {
   "cell_type": "code",
   "execution_count": 145,
   "id": "bcca706b-a736-486a-bdac-7bafa0f1e1ce",
   "metadata": {},
   "outputs": [],
   "source": [
    "class Person3:\n",
    "    def __init__(self, name, age, address, wallet):\n",
    "        self.hello = \"안녕하세요.\"\n",
    "        self.name = name\n",
    "        self.age = age\n",
    "        self.address = address\n",
    "        self.__wallet = wallet          ### 변수 앞에 __를 붙여서 비공개 속성으로 전환\n",
    "    def greeting(self):\n",
    "        print(f\"{self.hello} 제 이름은 {self.name}입니다.\")\n",
    "    def amount(self):\n",
    "        print(self.__wallet)"
   ]
  },
  {
   "cell_type": "code",
   "execution_count": 146,
   "id": "6bb286f9-c57a-4d7c-aad8-0432fb4353b9",
   "metadata": {},
   "outputs": [
    {
     "name": "stdout",
     "output_type": "stream",
     "text": [
      "10000\n"
     ]
    }
   ],
   "source": [
    "jink.amount()"
   ]
  },
  {
   "cell_type": "code",
   "execution_count": 144,
   "id": "51017d2a-28ea-4404-9509-632123164915",
   "metadata": {
    "tags": []
   },
   "outputs": [
    {
     "name": "stdout",
     "output_type": "stream",
     "text": [
      "안녕하세요.\n",
      "강지인\n",
      "97\n",
      "경기도 의정부\n"
     ]
    },
    {
     "ename": "AttributeError",
     "evalue": "'Person3' object has no attribute '__wallet'",
     "output_type": "error",
     "traceback": [
      "\u001b[1;31m---------------------------------------------------------------------------\u001b[0m",
      "\u001b[1;31mAttributeError\u001b[0m                            Traceback (most recent call last)",
      "\u001b[1;32m~\\AppData\\Local\\Temp\\ipykernel_2000\\4034818943.py\u001b[0m in \u001b[0;36m<module>\u001b[1;34m\u001b[0m\n\u001b[0;32m      4\u001b[0m \u001b[0mprint\u001b[0m\u001b[1;33m(\u001b[0m\u001b[0mjink\u001b[0m\u001b[1;33m.\u001b[0m\u001b[0mage\u001b[0m\u001b[1;33m)\u001b[0m\u001b[1;33m\u001b[0m\u001b[1;33m\u001b[0m\u001b[0m\n\u001b[0;32m      5\u001b[0m \u001b[0mprint\u001b[0m\u001b[1;33m(\u001b[0m\u001b[0mjink\u001b[0m\u001b[1;33m.\u001b[0m\u001b[0maddress\u001b[0m\u001b[1;33m)\u001b[0m\u001b[1;33m\u001b[0m\u001b[1;33m\u001b[0m\u001b[0m\n\u001b[1;32m----> 6\u001b[1;33m \u001b[0mprint\u001b[0m\u001b[1;33m(\u001b[0m\u001b[0mjink\u001b[0m\u001b[1;33m.\u001b[0m\u001b[0m__wallet\u001b[0m\u001b[1;33m)\u001b[0m    \u001b[1;31m## (__ 으로 속성을 비공개로 클래스 영역 바깥에서는 사용할 수 없다)\u001b[0m\u001b[1;33m\u001b[0m\u001b[1;33m\u001b[0m\u001b[0m\n\u001b[0m",
      "\u001b[1;31mAttributeError\u001b[0m: 'Person3' object has no attribute '__wallet'"
     ]
    }
   ],
   "source": [
    "jink = Person3('강지인',97, \"경기도 의정부\", 10000)\n",
    "print(jink.hello)\n",
    "print(jink.name)\n",
    "print(jink.age)\n",
    "print(jink.address)\n",
    "print(jink.__wallet)    ## (__ 으로 속성을 비공개로 클래스 영역 바깥에서는 사용할 수 없다)"
   ]
  },
  {
   "cell_type": "code",
   "execution_count": 148,
   "id": "31da56ee-7328-4036-9754-5c858725889c",
   "metadata": {},
   "outputs": [],
   "source": [
    "class Person3:\n",
    "    def __init__(self, name, age, address, wallet):\n",
    "        self.hello = \"안녕하세요.\"\n",
    "        self.name = name\n",
    "        self.age = age\n",
    "        self.address = address\n",
    "        self.__wallet = wallet          ### 변수 앞에 __를 붙여서 비공개 속성으로 전환\n",
    "    \n",
    "    def pay(self, amount):\n",
    "        if self.__wallet < amount:\n",
    "            print(\"돈이 모자랍니다.\")\n",
    "            return\n",
    "        self.__wallet -= amount"
   ]
  },
  {
   "cell_type": "code",
   "execution_count": 149,
   "id": "7661a9db-f222-4ad4-965e-e49da7ed0e86",
   "metadata": {},
   "outputs": [
    {
     "name": "stdout",
     "output_type": "stream",
     "text": [
      "10000\n"
     ]
    }
   ],
   "source": [
    "jink.amount()"
   ]
  },
  {
   "cell_type": "code",
   "execution_count": null,
   "id": "d3746cce-5c50-4208-9806-ef8010fd2242",
   "metadata": {},
   "outputs": [],
   "source": [
    "input(\"체력, 마나, ap를 입력하세요.\")"
   ]
  },
  {
   "cell_type": "code",
   "execution_count": 165,
   "id": "7dc34175-eb91-4d26-a4be-3fb9cfd8de2c",
   "metadata": {},
   "outputs": [],
   "source": [
    "# 사용자로부터 체력, 마나, ap를 입력 받아옵니다. 주어진 코드에서 애니(annie)클래스를 작성하고 티버(tibbers)스킬의 피해량이 출력되게 만들어보라.\n",
    "# 티버의 피해량은 ap*0.65 + 400이며 ap는 마법 능력치를 뜻한다.    #511.68 334.0 298\n",
    "\n",
    "class Annie:\n",
    "    def __init__(self, hp, mp, ap, dps):\n",
    "        self.hp = hp #input(\"체력, 마나, ap를 입력하세요.\")\n",
    "        self.mp = mp\n",
    "        self.ap = ap\n",
    "        self.dps = dps\n",
    "        \n",
    "    def lol(self):\n",
    "        print(f'티버: 피해량 {self.dps}')"
   ]
  },
  {
   "cell_type": "code",
   "execution_count": 166,
   "id": "4129ccba-e417-4315-b5fc-e8949a6b71d2",
   "metadata": {},
   "outputs": [
    {
     "name": "stdin",
     "output_type": "stream",
     "text": [
      "체력, 마나, ap를 입력하세요. 511.68 334.0 298\n"
     ]
    },
    {
     "name": "stdout",
     "output_type": "stream",
     "text": [
      "티버: 피해량 593.7\n"
     ]
    }
   ],
   "source": [
    "hp,mp,ap = map(float,input(\"체력, 마나, ap를 입력하세요.\").split())\n",
    "dps = ap * 0.65 + 400\n",
    "game = Annie(hp,mp,ap,dps)\n",
    "game.lol()"
   ]
  },
  {
   "cell_type": "code",
   "execution_count": 169,
   "id": "9b3e4d63-d585-4329-9f67-b45a88e9c1d5",
   "metadata": {},
   "outputs": [],
   "source": [
    "class Annie:\n",
    "    def __init__(self, hp, mp, ap):\n",
    "        self.hp = hp #input(\"체력, 마나, ap를 입력하세요.\")\n",
    "        self.mp = mp\n",
    "        self.ap = ap\n",
    "        self.dps = dps\n",
    "        \n",
    "    def lol(self):\n",
    "        print(f'티버: 피해량 {self.dps * 0.65 + 400}')\n",
    "        "
   ]
  },
  {
   "cell_type": "code",
   "execution_count": 171,
   "id": "6f1dd947-20d6-4199-8a24-eca2f28689f8",
   "metadata": {},
   "outputs": [
    {
     "name": "stdin",
     "output_type": "stream",
     "text": [
      "체력, 마나, ap를 입력하세요. 511.68 334.0 298\n"
     ]
    },
    {
     "name": "stdout",
     "output_type": "stream",
     "text": [
      "티버: 피해량 785.905\n"
     ]
    }
   ],
   "source": [
    "hp,mp,ap = map(float,input(\"체력, 마나, ap를 입력하세요.\").split())\n",
    "game = Annie(hp =hp, mp = mp, ap = ap)\n",
    "game.lol()"
   ]
  },
  {
   "cell_type": "code",
   "execution_count": 173,
   "id": "83dbd8b5-80d1-458e-b0e4-3075a7d1371c",
   "metadata": {},
   "outputs": [],
   "source": [
    "class Person3:\n",
    "    def __init__(self, name, age, address, wallet):\n",
    "        self.hello = \"안녕하세요.\"\n",
    "        self.name = name\n",
    "        self.age = age\n",
    "        self.address = address\n",
    "        self.__wallet = wallet          ### 변수 앞에 __를 붙여서 비공개 속성으로 전환\n",
    "    \n",
    "    def pay(self, amount):\n",
    "        if self.__wallet < amount:\n",
    "            print(\"돈이 모자랍니다.\")\n",
    "            return\n",
    "        self.__wallet -= amount\n",
    "        \n",
    "    @classmethod\n",
    "    def from_string(cls, str):\n",
    "        name, age, address, __wallet = string.split(',')\n",
    "        return cls(name, age, address, __wallet)\n",
    "    \n",
    "    # @staticmethod\n",
    "    # def (self, cls 안쓰는 경우)"
   ]
  },
  {
   "cell_type": "markdown",
   "id": "3e91e590-28d9-418a-b7e3-e0fb3936b97d",
   "metadata": {},
   "source": [
    "## 넘파이 배열(NumPy)\n",
    "- python 내장 모듈이 아님 -> 별도로 설치 요구 (anaconda를 환경으로 꾸렸기 때문에 NumPy 패키지를 설치없이 사용가능\n",
    "- 공식 홈페이지 numpy.org\n",
    "- 숫자 데이터 효과적으로 다룰수 있음 -> 데이터를 주로 다룸. 데이터 과학 및 데이터 분석에 많이 사용\n",
    "- 다차원 배열 자료구조 클래스인 ndarray클래스를 지원 -> 백터와 행렬을 사용하는 선형대수 계산에 사용\n",
    "- 배열(Array)이란 순서가 있는 같은 종류(type)의 데이터가 저장되는 자료형\n",
    "- python리스트(좋은 자료형 맞음)보다 넘파이 배열이 구조적으로 속도가 빠르고, 메모리를 더 적게 사용"
   ]
  },
  {
   "cell_type": "markdown",
   "id": "606f1eac-061e-4352-8fe8-9c72bdc9d730",
   "metadata": {},
   "source": [
    "- data : 이진 데이터\n",
    "- dimensions : 배열 구조\n",
    "- strides : 증감\n",
    "- 크기(type의 크기)\n",
    "- length : 시퀀스 길이\n",
    "- items : 요소(주소)"
   ]
  },
  {
   "cell_type": "markdown",
   "id": "ae047200-401e-4f3e-8c00-dc2c1f91f967",
   "metadata": {},
   "source": [
    "#### 넘파이 배열 \n",
    "- 넘파이 패키지의 배열(Array)는 리스트보다 적은 메모리로 많은 데이터를 빠르게 처리 가능\n",
    "1. 모든 요소(items)가 같은 자료형(type)이어야 함 (리스트는 다양한 자료형을 섞어서 사용가능)\n",
    "2. \n",
    "- 넘파이의 배열 연산은 C로 구현된 내부 반복문을 사용 -> python 반복문보다 속도가 빠름\n",
    "- 백터화 연산을 이용해 간단한 코드로 복잡한 연산 수행 가능\n",
    "- 배열 인덱싱을 사용한 질의 기능을 이용 -> 간단한 코드로 복잡한 수식 계산"
   ]
  },
  {
   "cell_type": "markdown",
   "id": "1377db2e-ad53-4857-b904-f344f36056f3",
   "metadata": {},
   "source": [
    "### 넘파이 패키지 임포트하기\n",
    "- 별칭은 np <- 라는 이름으로 임포트 하는 것이 관례(np : NumPy 패키지)\n",
    "- 임포트 하는 코드는 < import numpy as np >"
   ]
  },
  {
   "cell_type": "markdown",
   "id": "e3bbb74f-e8cf-4dd5-a53d-cf259298a34d",
   "metadata": {},
   "source": [
    "#### 1차원 배열 만들기\n",
    "- 배열 객체인 ndarray는 N - dimensional Array 의 약자\n",
    "- 1차~3차원 배열\n",
    "- np의 array메서드 인수(np.array(시퀀스))로 시퀀스 자료형을 넣으면 넘파이 배열로 변환\n",
    "- ndarray 객체의 표현식을 보면 바깥쪽에 array() 붙어있음. 배열 객체와 리스트는 많은 차이가 있다.\n",
    "- np 배열 객체의 속성 중 shape을 사용하면 np배열의 모양을 확인할 수 있다"
   ]
  },
  {
   "cell_type": "code",
   "execution_count": 174,
   "id": "687f6a82-5596-4947-9dfc-e23d98776223",
   "metadata": {
    "collapsed": true,
    "jupyter": {
     "outputs_hidden": true
    },
    "tags": []
   },
   "outputs": [
    {
     "name": "stdout",
     "output_type": "stream",
     "text": [
      "# packages in environment at C:\\Users\\Playdata\\anaconda3:\n",
      "#\n",
      "# Name                    Version                   Build  Channel\n",
      "_ipyw_jlab_nb_ext_conf    0.1.0            py39haa95532_0  \n",
      "alabaster                 0.7.12             pyhd3eb1b0_0  \n",
      "anaconda                  2022.10                  py39_0  \n",
      "anaconda-client           1.11.0           py39haa95532_0  \n",
      "anaconda-navigator        2.3.1            py39haa95532_0  \n",
      "anaconda-project          0.11.1           py39haa95532_0  \n",
      "anyio                     3.5.0            py39haa95532_0  \n",
      "appdirs                   1.4.4              pyhd3eb1b0_0  \n",
      "argon2-cffi               21.3.0             pyhd3eb1b0_0  \n",
      "argon2-cffi-bindings      21.2.0           py39h2bbff1b_0  \n",
      "arrow                     1.2.2              pyhd3eb1b0_0  \n",
      "astroid                   2.11.7           py39haa95532_0  \n",
      "astropy                   5.1              py39h080aedc_0  \n",
      "atomicwrites              1.4.0                      py_0  \n",
      "attrs                     21.4.0             pyhd3eb1b0_0  \n",
      "automat                   20.2.0                     py_0  \n",
      "autopep8                  1.6.0              pyhd3eb1b0_1  \n",
      "babel                     2.9.1              pyhd3eb1b0_0  \n",
      "backcall                  0.2.0              pyhd3eb1b0_0  \n",
      "backports                 1.1                pyhd3eb1b0_0  \n",
      "backports.functools_lru_cache 1.6.4              pyhd3eb1b0_0  \n",
      "backports.tempfile        1.0                pyhd3eb1b0_1  \n",
      "backports.weakref         1.0.post1                  py_1  \n",
      "bcrypt                    3.2.0            py39h2bbff1b_1  \n",
      "beautifulsoup4            4.11.1           py39haa95532_0  \n",
      "binaryornot               0.4.4              pyhd3eb1b0_1  \n",
      "bitarray                  2.5.1            py39h2bbff1b_0  \n",
      "bkcharts                  0.2              py39haa95532_1  \n",
      "black                     22.6.0           py39haa95532_0  \n",
      "blas                      1.0                         mkl  \n",
      "bleach                    4.1.0              pyhd3eb1b0_0  \n",
      "blosc                     1.21.0               h19a0ad4_1  \n",
      "bokeh                     2.4.3            py39haa95532_0  \n",
      "boto3                     1.24.28          py39haa95532_0  \n",
      "botocore                  1.27.28          py39haa95532_0  \n",
      "bottleneck                1.3.5            py39h080aedc_0  \n",
      "brotli                    1.0.9                h2bbff1b_7  \n",
      "brotli-bin                1.0.9                h2bbff1b_7  \n",
      "brotlipy                  0.7.0           py39h2bbff1b_1003  \n",
      "bzip2                     1.0.8                he774522_0  \n",
      "ca-certificates           2022.07.19           haa95532_0  \n",
      "certifi                   2022.9.14        py39haa95532_0  \n",
      "cffi                      1.15.1           py39h2bbff1b_0  \n",
      "cfitsio                   3.470                h2bbff1b_7  \n",
      "chardet                   4.0.0           py39haa95532_1003  \n",
      "charls                    2.2.0                h6c2663c_0  \n",
      "charset-normalizer        2.0.4              pyhd3eb1b0_0  \n",
      "click                     8.0.4            py39haa95532_0  \n",
      "cloudpickle               2.0.0              pyhd3eb1b0_0  \n",
      "clyent                    1.2.2            py39haa95532_1  \n",
      "colorama                  0.4.5            py39haa95532_0  \n",
      "colorcet                  3.0.0            py39haa95532_0  \n",
      "comtypes                  1.1.10          py39haa95532_1002  \n",
      "conda                     22.9.0           py39haa95532_0  \n",
      "conda-build               3.22.0           py39haa95532_0  \n",
      "conda-content-trust       0.1.3            py39haa95532_0  \n",
      "conda-env                 2.6.0                haa95532_1  \n",
      "conda-pack                0.6.0              pyhd3eb1b0_0  \n",
      "conda-package-handling    1.9.0            py39h8cc25b3_0  \n",
      "conda-repo-cli            1.0.20           py39haa95532_0  \n",
      "conda-token               0.4.0              pyhd3eb1b0_0  \n",
      "conda-verify              3.4.2                      py_1  \n",
      "console_shortcut          0.1.1                         4  \n",
      "constantly                15.1.0             pyh2b92418_0  \n",
      "cookiecutter              1.7.3              pyhd3eb1b0_0  \n",
      "cryptography              37.0.1           py39h21b164f_0  \n",
      "cssselect                 1.1.0              pyhd3eb1b0_0  \n",
      "curl                      7.84.0               h2bbff1b_0  \n",
      "cycler                    0.11.0             pyhd3eb1b0_0  \n",
      "cython                    0.29.32          py39hd77b12b_0  \n",
      "cytoolz                   0.11.0           py39h2bbff1b_0  \n",
      "daal4py                   2021.6.0         py39h757b272_1  \n",
      "dal                       2021.6.0           h59b6b97_874  \n",
      "dask                      2022.7.0         py39haa95532_0  \n",
      "dask-core                 2022.7.0         py39haa95532_0  \n",
      "dataclasses               0.8                pyh6d0b6a4_7  \n",
      "datashader                0.14.1           py39haa95532_0  \n",
      "datashape                 0.5.4            py39haa95532_1  \n",
      "debugpy                   1.5.1            py39hd77b12b_0  \n",
      "decorator                 5.1.1              pyhd3eb1b0_0  \n",
      "defusedxml                0.7.1              pyhd3eb1b0_0  \n",
      "diff-match-patch          20200713           pyhd3eb1b0_0  \n",
      "dill                      0.3.4              pyhd3eb1b0_0  \n",
      "distributed               2022.7.0         py39haa95532_0  \n",
      "docutils                  0.18.1           py39haa95532_3  \n",
      "entrypoints               0.4              py39haa95532_0  \n",
      "et_xmlfile                1.1.0            py39haa95532_0  \n",
      "fftw                      3.3.9                h2bbff1b_1  \n",
      "filelock                  3.6.0              pyhd3eb1b0_0  \n",
      "flake8                    4.0.1              pyhd3eb1b0_1  \n",
      "flask                     1.1.2              pyhd3eb1b0_0  \n",
      "fonttools                 4.25.0             pyhd3eb1b0_0  \n",
      "freetype                  2.10.4               hd328e21_0  \n",
      "fsspec                    2022.7.1         py39haa95532_0  \n",
      "future                    0.18.2           py39haa95532_1  \n",
      "gensim                    4.1.2            py39hd77b12b_0  \n",
      "giflib                    5.2.1                h62dcd97_0  \n",
      "glob2                     0.7                pyhd3eb1b0_0  \n",
      "greenlet                  1.1.1            py39hd77b12b_0  \n",
      "h5py                      3.7.0            py39h3de5c98_0  \n",
      "hdf5                      1.10.6               h1756f20_1  \n",
      "heapdict                  1.0.1              pyhd3eb1b0_0  \n",
      "holoviews                 1.15.0           py39haa95532_0  \n",
      "hvplot                    0.8.0            py39haa95532_0  \n",
      "hyperlink                 21.0.0             pyhd3eb1b0_0  \n",
      "icc_rt                    2022.1.0             h6049295_2  \n",
      "icu                       58.2                 ha925a31_3  \n",
      "idna                      3.3                pyhd3eb1b0_0  \n",
      "imagecodecs               2021.8.26        py39hc0a7faf_1  \n",
      "imageio                   2.19.3           py39haa95532_0  \n",
      "imagesize                 1.4.1            py39haa95532_0  \n",
      "importlib-metadata        4.11.3           py39haa95532_0  \n",
      "importlib_metadata        4.11.3               hd3eb1b0_0  \n",
      "incremental               21.3.0             pyhd3eb1b0_0  \n",
      "inflection                0.5.1            py39haa95532_0  \n",
      "iniconfig                 1.1.1              pyhd3eb1b0_0  \n",
      "intake                    0.6.5              pyhd3eb1b0_0  \n",
      "intel-openmp              2021.4.0          haa95532_3556  \n",
      "intervaltree              3.1.0              pyhd3eb1b0_0  \n",
      "ipykernel                 6.15.2           py39haa95532_0  \n",
      "ipython                   7.31.1           py39haa95532_1  \n",
      "ipython_genutils          0.2.0              pyhd3eb1b0_1  \n",
      "ipywidgets                7.6.5              pyhd3eb1b0_1  \n",
      "isort                     5.9.3              pyhd3eb1b0_0  \n",
      "itemadapter               0.3.0              pyhd3eb1b0_0  \n",
      "itemloaders               1.0.4              pyhd3eb1b0_1  \n",
      "itsdangerous              2.0.1              pyhd3eb1b0_0  \n",
      "jdcal                     1.4.1              pyhd3eb1b0_0  \n",
      "jedi                      0.18.1           py39haa95532_1  \n",
      "jellyfish                 0.9.0            py39h2bbff1b_0  \n",
      "jinja2                    2.11.3             pyhd3eb1b0_0  \n",
      "jinja2-time               0.2.0              pyhd3eb1b0_3  \n",
      "jmespath                  0.10.0             pyhd3eb1b0_0  \n",
      "joblib                    1.1.0              pyhd3eb1b0_0  \n",
      "jpeg                      9e                   h2bbff1b_0  \n",
      "jq                        1.6                  haa95532_1  \n",
      "json5                     0.9.6              pyhd3eb1b0_0  \n",
      "jsonschema                4.16.0           py39haa95532_0  \n",
      "jupyter                   1.0.0            py39haa95532_8  \n",
      "jupyter_client            7.3.4            py39haa95532_0  \n",
      "jupyter_console           6.4.3              pyhd3eb1b0_0  \n",
      "jupyter_core              4.11.1           py39haa95532_0  \n",
      "jupyter_server            1.18.1           py39haa95532_0  \n",
      "jupyterlab                3.4.4            py39haa95532_0  \n",
      "jupyterlab_pygments       0.1.2                      py_0  \n",
      "jupyterlab_server         2.10.3             pyhd3eb1b0_1  \n",
      "jupyterlab_widgets        1.0.0              pyhd3eb1b0_1  \n",
      "keyring                   23.4.0           py39haa95532_0  \n",
      "kiwisolver                1.4.2            py39hd77b12b_0  \n",
      "lazy-object-proxy         1.6.0            py39h2bbff1b_0  \n",
      "lcms2                     2.12                 h83e58a3_0  \n",
      "lerc                      3.0                  hd77b12b_0  \n",
      "libaec                    1.0.4                h33f27b4_1  \n",
      "libarchive                3.6.1                hebabd0d_0  \n",
      "libbrotlicommon           1.0.9                h2bbff1b_7  \n",
      "libbrotlidec              1.0.9                h2bbff1b_7  \n",
      "libbrotlienc              1.0.9                h2bbff1b_7  \n",
      "libcurl                   7.84.0               h86230a5_0  \n",
      "libdeflate                1.8                  h2bbff1b_5  \n",
      "libiconv                  1.16                 h2bbff1b_2  \n",
      "liblief                   0.11.5               hd77b12b_1  \n",
      "libpng                    1.6.37               h2a8f88b_0  \n",
      "libsodium                 1.0.18               h62dcd97_0  \n",
      "libspatialindex           1.9.3                h6c2663c_0  \n",
      "libssh2                   1.10.0               hcd4344a_0  \n",
      "libtiff                   4.4.0                h8a3f274_0  \n",
      "libwebp                   1.2.2                h2bbff1b_0  \n",
      "libxml2                   2.9.14               h0ad7f3c_0  \n",
      "libxslt                   1.1.35               h2bbff1b_0  \n",
      "libzopfli                 1.0.3                ha925a31_0  \n",
      "llvmlite                  0.38.0           py39h23ce68f_0  \n",
      "locket                    1.0.0            py39haa95532_0  \n",
      "lxml                      4.9.1            py39h1985fb9_0  \n",
      "lz4                       3.1.3            py39h2bbff1b_0  \n",
      "lz4-c                     1.9.3                h2bbff1b_1  \n",
      "lzo                       2.10                 he774522_2  \n",
      "m2-msys2-runtime          2.5.0.17080.65c939c               3  \n",
      "m2-patch                  2.7.5                         2  \n",
      "m2w64-libwinpthread-git   5.0.0.4634.697f757               2  \n",
      "markdown                  3.3.4            py39haa95532_0  \n",
      "markupsafe                2.0.1            py39h2bbff1b_0  \n",
      "matplotlib                3.5.2            py39haa95532_0  \n",
      "matplotlib-base           3.5.2            py39hd77b12b_0  \n",
      "matplotlib-inline         0.1.6            py39haa95532_0  \n",
      "mccabe                    0.6.1            py39haa95532_2  \n",
      "menuinst                  1.4.19           py39h59b6b97_0  \n",
      "mistune                   0.8.4           py39h2bbff1b_1000  \n",
      "mkl                       2021.4.0           haa95532_640  \n",
      "mkl-service               2.4.0            py39h2bbff1b_0  \n",
      "mkl_fft                   1.3.1            py39h277e83a_0  \n",
      "mkl_random                1.2.2            py39hf11a4ad_0  \n",
      "mock                      4.0.3              pyhd3eb1b0_0  \n",
      "mpmath                    1.2.1            py39haa95532_0  \n",
      "msgpack-python            1.0.3            py39h59b6b97_0  \n",
      "msys2-conda-epoch         20160418                      1  \n",
      "multipledispatch          0.6.0            py39haa95532_0  \n",
      "munkres                   1.1.4                      py_0  \n",
      "mypy_extensions           0.4.3            py39haa95532_1  \n",
      "navigator-updater         0.3.0            py39haa95532_0  \n",
      "nbclassic                 0.3.5              pyhd3eb1b0_0  \n",
      "nbclient                  0.5.13           py39haa95532_0  \n",
      "nbconvert                 6.4.4            py39haa95532_0  \n",
      "nbformat                  5.5.0            py39haa95532_0  \n",
      "nest-asyncio              1.5.5            py39haa95532_0  \n",
      "networkx                  2.8.4            py39haa95532_0  \n",
      "nltk                      3.7                pyhd3eb1b0_0  \n",
      "nose                      1.3.7           pyhd3eb1b0_1008  \n",
      "notebook                  6.4.12           py39haa95532_0  \n",
      "numba                     0.55.1           py39hf11a4ad_0  \n",
      "numexpr                   2.8.3            py39hb80d3ca_0  \n",
      "numpy                     1.21.5           py39h7a0a035_3  \n",
      "numpy-base                1.21.5           py39hca35cd5_3  \n",
      "numpydoc                  1.4.0            py39haa95532_0  \n",
      "olefile                   0.46               pyhd3eb1b0_0  \n",
      "openjpeg                  2.4.0                h4fc8c34_0  \n",
      "openpyxl                  3.0.10           py39h2bbff1b_0  \n",
      "openssl                   1.1.1q               h2bbff1b_0  \n",
      "packaging                 21.3               pyhd3eb1b0_0  \n",
      "pandas                    1.4.4            py39hd77b12b_0  \n",
      "pandocfilters             1.5.0              pyhd3eb1b0_0  \n",
      "panel                     0.13.1           py39haa95532_0  \n",
      "param                     1.12.0             pyhd3eb1b0_0  \n",
      "paramiko                  2.8.1              pyhd3eb1b0_0  \n",
      "parsel                    1.6.0            py39haa95532_0  \n",
      "parso                     0.8.3              pyhd3eb1b0_0  \n",
      "partd                     1.2.0              pyhd3eb1b0_1  \n",
      "pathlib                   1.0.1              pyhd3eb1b0_1  \n",
      "pathspec                  0.9.0            py39haa95532_0  \n",
      "patsy                     0.5.2            py39haa95532_1  \n",
      "pep8                      1.7.1            py39haa95532_1  \n",
      "pexpect                   4.8.0              pyhd3eb1b0_3  \n",
      "pickleshare               0.7.5           pyhd3eb1b0_1003  \n",
      "pillow                    9.2.0            py39hdc2b20a_1  \n",
      "pip                       22.2.2           py39haa95532_0  \n",
      "pkginfo                   1.8.2              pyhd3eb1b0_0  \n",
      "platformdirs              2.5.2            py39haa95532_0  \n",
      "plotly                    5.9.0            py39haa95532_0  \n",
      "pluggy                    1.0.0            py39haa95532_1  \n",
      "powershell_shortcut       0.0.1                         3  \n",
      "poyo                      0.5.0              pyhd3eb1b0_0  \n",
      "prometheus_client         0.14.1           py39haa95532_0  \n",
      "prompt-toolkit            3.0.20             pyhd3eb1b0_0  \n",
      "prompt_toolkit            3.0.20               hd3eb1b0_0  \n",
      "protego                   0.1.16                     py_0  \n",
      "psutil                    5.9.0            py39h2bbff1b_0  \n",
      "ptyprocess                0.7.0              pyhd3eb1b0_2  \n",
      "py                        1.11.0             pyhd3eb1b0_0  \n",
      "py-lief                   0.11.5           py39hd77b12b_1  \n",
      "pyasn1                    0.4.8              pyhd3eb1b0_0  \n",
      "pyasn1-modules            0.2.8                      py_0  \n",
      "pycodestyle               2.8.0              pyhd3eb1b0_0  \n",
      "pycosat                   0.6.3            py39h2bbff1b_0  \n",
      "pycparser                 2.21               pyhd3eb1b0_0  \n",
      "pyct                      0.4.8            py39haa95532_1  \n",
      "pycurl                    7.45.1           py39hcd4344a_0  \n",
      "pydispatcher              2.0.5            py39haa95532_2  \n",
      "pydocstyle                6.1.1              pyhd3eb1b0_0  \n",
      "pyerfa                    2.0.0            py39h2bbff1b_0  \n",
      "pyflakes                  2.4.0              pyhd3eb1b0_0  \n",
      "pygments                  2.11.2             pyhd3eb1b0_0  \n",
      "pyhamcrest                2.0.2              pyhd3eb1b0_2  \n",
      "pyjwt                     2.4.0            py39haa95532_0  \n",
      "pylint                    2.14.5           py39haa95532_0  \n",
      "pyls-spyder               0.4.0              pyhd3eb1b0_0  \n",
      "pynacl                    1.5.0            py39h8cc25b3_0  \n",
      "pyodbc                    4.0.34           py39hd77b12b_0  \n",
      "pyopenssl                 22.0.0             pyhd3eb1b0_0  \n",
      "pyparsing                 3.0.9            py39haa95532_0  \n",
      "pyqt                      5.9.2            py39hd77b12b_6  \n",
      "pyrsistent                0.18.0           py39h196d8e1_0  \n",
      "pysocks                   1.7.1            py39haa95532_0  \n",
      "pytables                  3.6.1            py39h56d22b6_1  \n",
      "pytest                    7.1.2            py39haa95532_0  \n",
      "python                    3.9.13               h6244533_1  \n",
      "python-dateutil           2.8.2              pyhd3eb1b0_0  \n",
      "python-fastjsonschema     2.16.2           py39haa95532_0  \n",
      "python-libarchive-c       2.9                pyhd3eb1b0_1  \n",
      "python-lsp-black          1.0.0              pyhd3eb1b0_0  \n",
      "python-lsp-jsonrpc        1.0.0              pyhd3eb1b0_0  \n",
      "python-lsp-server         1.3.3              pyhd3eb1b0_0  \n",
      "python-slugify            5.0.2              pyhd3eb1b0_0  \n",
      "python-snappy             0.6.0            py39hd77b12b_3  \n",
      "pytz                      2022.1           py39haa95532_0  \n",
      "pyviz_comms               2.0.2              pyhd3eb1b0_0  \n",
      "pywavelets                1.3.0            py39h2bbff1b_0  \n",
      "pywin32                   302              py39h2bbff1b_2  \n",
      "pywin32-ctypes            0.2.0           py39haa95532_1000  \n",
      "pywinpty                  2.0.2            py39h5da7b33_0  \n",
      "pyyaml                    6.0              py39h2bbff1b_1  \n",
      "pyzmq                     23.2.0           py39hd77b12b_0  \n",
      "qdarkstyle                3.0.2              pyhd3eb1b0_0  \n",
      "qstylizer                 0.1.10             pyhd3eb1b0_0  \n",
      "qt                        5.9.7            vc14h73c81de_0  \n",
      "qtawesome                 1.0.3              pyhd3eb1b0_0  \n",
      "qtconsole                 5.2.2              pyhd3eb1b0_0  \n",
      "qtpy                      2.2.0            py39haa95532_0  \n",
      "queuelib                  1.5.0            py39haa95532_0  \n",
      "regex                     2022.7.9         py39h2bbff1b_0  \n",
      "requests                  2.28.1           py39haa95532_0  \n",
      "requests-file             1.5.1              pyhd3eb1b0_0  \n",
      "rope                      0.22.0             pyhd3eb1b0_0  \n",
      "rtree                     0.9.7            py39h2eaa2aa_1  \n",
      "ruamel_yaml               0.15.100         py39h2bbff1b_0  \n",
      "s3transfer                0.6.0            py39haa95532_0  \n",
      "scikit-image              0.19.2           py39hf11a4ad_0  \n",
      "scikit-learn              1.0.2            py39hf11a4ad_1  \n",
      "scikit-learn-intelex      2021.6.0         py39haa95532_0  \n",
      "scipy                     1.9.1            py39he11b74f_0  \n",
      "scrapy                    2.6.2            py39haa95532_0  \n",
      "seaborn                   0.11.2             pyhd3eb1b0_0  \n",
      "send2trash                1.8.0              pyhd3eb1b0_1  \n",
      "service_identity          18.1.0             pyhd3eb1b0_1  \n",
      "setuptools                63.4.1           py39haa95532_0  \n",
      "sip                       4.19.13          py39hd77b12b_0  \n",
      "six                       1.16.0             pyhd3eb1b0_1  \n",
      "smart_open                5.2.1            py39haa95532_0  \n",
      "snappy                    1.1.9                h6c2663c_0  \n",
      "sniffio                   1.2.0            py39haa95532_1  \n",
      "snowballstemmer           2.2.0              pyhd3eb1b0_0  \n",
      "sortedcollections         2.1.0              pyhd3eb1b0_0  \n",
      "sortedcontainers          2.4.0              pyhd3eb1b0_0  \n",
      "soupsieve                 2.3.1              pyhd3eb1b0_0  \n",
      "sphinx                    5.0.2            py39haa95532_0  \n",
      "sphinxcontrib-applehelp   1.0.2              pyhd3eb1b0_0  \n",
      "sphinxcontrib-devhelp     1.0.2              pyhd3eb1b0_0  \n",
      "sphinxcontrib-htmlhelp    2.0.0              pyhd3eb1b0_0  \n",
      "sphinxcontrib-jsmath      1.0.1              pyhd3eb1b0_0  \n",
      "sphinxcontrib-qthelp      1.0.3              pyhd3eb1b0_0  \n",
      "sphinxcontrib-serializinghtml 1.1.5              pyhd3eb1b0_0  \n",
      "spyder                    5.2.2            py39haa95532_1  \n",
      "spyder-kernels            2.2.1            py39haa95532_0  \n",
      "sqlalchemy                1.4.39           py39h2bbff1b_0  \n",
      "sqlite                    3.39.3               h2bbff1b_0  \n",
      "statsmodels               0.13.2           py39h2bbff1b_0  \n",
      "sympy                     1.10.1           py39haa95532_0  \n",
      "tabulate                  0.8.10           py39haa95532_0  \n",
      "tbb                       2021.6.0             h59b6b97_0  \n",
      "tbb4py                    2021.6.0         py39h59b6b97_0  \n",
      "tblib                     1.7.0              pyhd3eb1b0_0  \n",
      "tenacity                  8.0.1            py39haa95532_1  \n",
      "terminado                 0.13.1           py39haa95532_0  \n",
      "testpath                  0.6.0            py39haa95532_0  \n",
      "text-unidecode            1.3                pyhd3eb1b0_0  \n",
      "textdistance              4.2.1              pyhd3eb1b0_0  \n",
      "threadpoolctl             2.2.0              pyh0d69192_0  \n",
      "three-merge               0.1.1              pyhd3eb1b0_0  \n",
      "tifffile                  2021.7.2           pyhd3eb1b0_2  \n",
      "tinycss                   0.4             pyhd3eb1b0_1002  \n",
      "tk                        8.6.12               h2bbff1b_0  \n",
      "tldextract                3.2.0              pyhd3eb1b0_0  \n",
      "toml                      0.10.2             pyhd3eb1b0_0  \n",
      "tomli                     2.0.1            py39haa95532_0  \n",
      "tomlkit                   0.11.1           py39haa95532_0  \n",
      "toolz                     0.11.2             pyhd3eb1b0_0  \n",
      "tornado                   6.1              py39h2bbff1b_0  \n",
      "tqdm                      4.64.1           py39haa95532_0  \n",
      "traitlets                 5.1.1              pyhd3eb1b0_0  \n",
      "twisted                   22.2.0           py39h2bbff1b_1  \n",
      "twisted-iocpsupport       1.0.2            py39h2bbff1b_0  \n",
      "typing-extensions         4.3.0            py39haa95532_0  \n",
      "typing_extensions         4.3.0            py39haa95532_0  \n",
      "tzdata                    2022c                h04d1e81_0  \n",
      "ujson                     5.4.0            py39hd77b12b_0  \n",
      "unidecode                 1.2.0              pyhd3eb1b0_0  \n",
      "urllib3                   1.26.11          py39haa95532_0  \n",
      "vc                        14.2                 h21ff451_1  \n",
      "vs2015_runtime            14.27.29016          h5e58377_2  \n",
      "w3lib                     1.21.0             pyhd3eb1b0_0  \n",
      "watchdog                  2.1.6            py39haa95532_0  \n",
      "wcwidth                   0.2.5              pyhd3eb1b0_0  \n",
      "webencodings              0.5.1            py39haa95532_1  \n",
      "websocket-client          0.58.0           py39haa95532_4  \n",
      "werkzeug                  2.0.3              pyhd3eb1b0_0  \n",
      "wheel                     0.37.1             pyhd3eb1b0_0  \n",
      "widgetsnbextension        3.5.2            py39haa95532_0  \n",
      "win_inet_pton             1.1.0            py39haa95532_0  \n",
      "win_unicode_console       0.5              py39haa95532_0  \n",
      "wincertstore              0.2              py39haa95532_2  \n",
      "winpty                    0.4.3                         4  \n",
      "wrapt                     1.14.1           py39h2bbff1b_0  \n",
      "xarray                    0.20.1             pyhd3eb1b0_1  \n",
      "xlrd                      2.0.1              pyhd3eb1b0_0  \n",
      "xlsxwriter                3.0.3              pyhd3eb1b0_0  \n",
      "xlwings                   0.27.15          py39haa95532_0  \n",
      "xz                        5.2.6                h8cc25b3_0  \n",
      "yaml                      0.2.5                he774522_0  \n",
      "yapf                      0.31.0             pyhd3eb1b0_0  \n",
      "zeromq                    4.3.4                hd77b12b_0  \n",
      "zfp                       0.5.5                hd77b12b_6  \n",
      "zict                      2.1.0            py39haa95532_0  \n",
      "zipp                      3.8.0            py39haa95532_0  \n",
      "zlib                      1.2.12               h8cc25b3_3  \n",
      "zope                      1.0              py39haa95532_1  \n",
      "zope.interface            5.4.0            py39h2bbff1b_0  \n",
      "zstd                      1.5.2                h19a0ad4_0  \n"
     ]
    }
   ],
   "source": [
    "!conda list"
   ]
  },
  {
   "cell_type": "code",
   "execution_count": 193,
   "id": "63766fd2-5553-45e1-82e0-a952c0b3c8c8",
   "metadata": {},
   "outputs": [],
   "source": [
    "# NumPy를 임포트\n",
    "# jupyter lab에서 1회만 실행하면 그 아래 코드에서는 다 사용 가능\n",
    "import numpy as np"
   ]
  },
  {
   "cell_type": "code",
   "execution_count": 194,
   "id": "e488fa77-4bb4-46b2-a15d-ea640fd0fc84",
   "metadata": {},
   "outputs": [
    {
     "data": {
      "text/plain": [
       "array([0, 1, 2, 3, 4, 5, 6, 7, 8, 9])"
      ]
     },
     "execution_count": 194,
     "metadata": {},
     "output_type": "execute_result"
    }
   ],
   "source": [
    "ar = np.array([_ for _ in range(10)])\n",
    "ar"
   ]
  },
  {
   "cell_type": "code",
   "execution_count": 195,
   "id": "cf35076c-6028-4df4-86a1-77f932999075",
   "metadata": {},
   "outputs": [
    {
     "data": {
      "text/plain": [
       "(10,)"
      ]
     },
     "execution_count": 195,
     "metadata": {},
     "output_type": "execute_result"
    }
   ],
   "source": [
    "ar.shape"
   ]
  },
  {
   "cell_type": "code",
   "execution_count": 196,
   "id": "e6f10681-cae4-4d5f-a637-39204c3c9bcd",
   "metadata": {},
   "outputs": [
    {
     "data": {
      "text/plain": [
       "numpy.ndarray"
      ]
     },
     "execution_count": 196,
     "metadata": {},
     "output_type": "execute_result"
    }
   ],
   "source": [
    "type(ar)"
   ]
  },
  {
   "cell_type": "code",
   "execution_count": 197,
   "id": "30860b1d-ebbb-413b-8e13-21ae31b42d16",
   "metadata": {},
   "outputs": [
    {
     "data": {
      "text/plain": [
       "array([1.2, 2. , 5. , 7. , 6.2])"
      ]
     },
     "execution_count": 197,
     "metadata": {},
     "output_type": "execute_result"
    }
   ],
   "source": [
    "ar2 = np.array([1.2, 2, 5, 7, 6.2])\n",
    "ar2"
   ]
  },
  {
   "cell_type": "markdown",
   "id": "1bd15a2a-f567-4fe1-83db-42e2da47057f",
   "metadata": {},
   "source": [
    "### 넘파이의 자료형\n",
    "- 넘파이의 배열인 ndarray클래스는 요소가 모두 같은 자료형을 가짐\n",
    "- np.array()함수로 배열을 만들때 자료형을 명시적으로 작성해야 함 -> 키워드 인자로 dtype을 사용\n",
    "- 반대로 dtype 키워드 인수가 없으면 데이터 자료형을 동적 타이핑한다\n",
    "- 만들어진 넘파이 배열의 자료형을 확인 시 dtype 속성 활용"
   ]
  },
  {
   "cell_type": "code",
   "execution_count": 198,
   "id": "7cc0bb57-8d89-4244-aee0-4bf15e043b24",
   "metadata": {},
   "outputs": [
    {
     "data": {
      "text/plain": [
       "dtype('int32')"
      ]
     },
     "execution_count": 198,
     "metadata": {},
     "output_type": "execute_result"
    }
   ],
   "source": [
    "ar.dtype"
   ]
  },
  {
   "cell_type": "code",
   "execution_count": 199,
   "id": "dd239591-cbdf-45bd-959c-c2d5cadb7f82",
   "metadata": {},
   "outputs": [
    {
     "data": {
      "text/plain": [
       "dtype('float64')"
      ]
     },
     "execution_count": 199,
     "metadata": {},
     "output_type": "execute_result"
    }
   ],
   "source": [
    "ar2.dtype"
   ]
  },
  {
   "cell_type": "code",
   "execution_count": 200,
   "id": "12503b27-c949-448f-a74d-279027526b0f",
   "metadata": {},
   "outputs": [],
   "source": [
    "# 01010101 -> 8bits == 1byte"
   ]
  },
  {
   "cell_type": "markdown",
   "id": "35dec5f8-9dd2-4b8a-94b7-a2ae562a4ecc",
   "metadata": {},
   "source": [
    "#### 넘파이의 자료형 ->책 p122 '?' boolean type 이게 맞음\n",
    "- np.array() 메서드를 쓸 때 dtype 키워드 인수로 지정할 자료형의 값\n",
    "- 무한대를 표현하기 위한 np.inf(infinity)\n",
    "- 정의할 수 없는 숫자 np.nan(not a number)를 사용\n",
    "- ex) 1을 0으로 나누려고 하거나 0에 대한 로그 값을 계산하면 무한대인 np.inf가 나옴 -> 0을 0으로 나누려고 시도하면 np.nan이 나옴"
   ]
  },
  {
   "cell_type": "code",
   "execution_count": 215,
   "id": "6a1e8b00-a2e0-4f80-99a2-a5598046279a",
   "metadata": {},
   "outputs": [
    {
     "name": "stdout",
     "output_type": "stream",
     "text": [
      "[3 6 9]\n",
      "int64\n"
     ]
    }
   ],
   "source": [
    "ar3 = np.array([_ for _ in range(3, 10, 3)],\"i8\")   # int8bytes -->  * 8bit\n",
    "ar3\n",
    "print(ar3)\n",
    "print(ar3.dtype)"
   ]
  },
  {
   "cell_type": "code",
   "execution_count": 216,
   "id": "179ee5d0-27b2-4d46-a0b4-c3c2dbd51d54",
   "metadata": {},
   "outputs": [
    {
     "name": "stdout",
     "output_type": "stream",
     "text": [
      "[2. 4. 6. 8.]\n",
      "float64\n"
     ]
    }
   ],
   "source": [
    "ar4 = np.array([_ for _ in range(2, 10, 2)],\"f8\")\n",
    "print(ar4)\n",
    "print(ar4.dtype)"
   ]
  },
  {
   "cell_type": "code",
   "execution_count": 217,
   "id": "eb096d8c-5b69-426d-9d9c-217233108b11",
   "metadata": {},
   "outputs": [
    {
     "name": "stdout",
     "output_type": "stream",
     "text": [
      "['가나다라마' '가나다라마' '가나다라마' '가나다라마' '가나다라마']\n",
      "<U5\n"
     ]
    }
   ],
   "source": [
    "ar5 = np.array([\"가나다라마\" for _ in range(5)],\"U5\")      #\n",
    "\n",
    "print(ar5)         \n",
    "print(ar5.dtype)        # <U8은 최대 8글자의 유니코드 자료형\n",
    "                       #### [유니코드 8글자 자료형을 명시적으로 선언"
   ]
  },
  {
   "cell_type": "markdown",
   "id": "1397d7fe-6899-4b73-a910-b14af14eebff",
   "metadata": {},
   "source": [
    "### 백터화 연산(Vectorized Operation)\n",
    "- 배열의 각 요소에 대한 반복 연산을 하나의 명령어로 처리하는 벡터화 연산을 지원\n",
    "- 리스트 내 모든 요소 데이터를 모두 2배 해야하는 경우\n",
    "- for 반복문이 없이 간단. 단 한번의 연산식으로 표현\n",
    "- 벡터화 연산은 비교 연산과 논리 연산을 포함한 모든 종류의 수학 연산에 대해 적용"
   ]
  },
  {
   "cell_type": "code",
   "execution_count": 231,
   "id": "2a78deb2-5d5a-474e-8a05-71550958ce57",
   "metadata": {},
   "outputs": [
    {
     "data": {
      "text/plain": [
       "[0, 2, 4, 6, 8, 10, 12, 14, 16, 18]"
      ]
     },
     "execution_count": 231,
     "metadata": {},
     "output_type": "execute_result"
    }
   ],
   "source": [
    "# 데이터 2배\n",
    "data = [0, 1, 2, 3, 4, 5, 6, 7, 8, 9]\n",
    "answer = [2 * d for d in data ]\n",
    "answer"
   ]
  },
  {
   "cell_type": "code",
   "execution_count": 232,
   "id": "d65b93f3-7601-4ba5-aa48-df0bb51fe5b0",
   "metadata": {},
   "outputs": [
    {
     "data": {
      "text/plain": [
       "array([ 0,  2,  4,  6,  8, 10, 12, 14, 16, 18])"
      ]
     },
     "execution_count": 232,
     "metadata": {},
     "output_type": "execute_result"
    }
   ],
   "source": [
    "# for 없이\n",
    "x = np.array(data)\n",
    "x\n",
    "2 * x"
   ]
  },
  {
   "cell_type": "code",
   "execution_count": 233,
   "id": "0d4258d8-06cc-4d54-a46c-c050627d80c8",
   "metadata": {},
   "outputs": [
    {
     "name": "stdout",
     "output_type": "stream",
     "text": [
      "[0, 1, 2, 0, 1, 2, 0, 1, 2, 0, 1, 2, 0, 1, 2]\n"
     ]
    }
   ],
   "source": [
    "list_samp = [_ for _ in range(3)]\n",
    "print(list_samp *5)     # 0,1,2 5번 반복"
   ]
  },
  {
   "cell_type": "code",
   "execution_count": 235,
   "id": "3463046d-40ca-492e-8963-6e8d94222fae",
   "metadata": {},
   "outputs": [],
   "source": [
    "a = np.array([1,2,3])\n",
    "b = np.array([10,20,30])"
   ]
  },
  {
   "cell_type": "code",
   "execution_count": 236,
   "id": "1e341e2a-9aa1-461a-94a8-97e16c5e34b6",
   "metadata": {},
   "outputs": [
    {
     "data": {
      "text/plain": [
       "array([12, 24, 36])"
      ]
     },
     "execution_count": 236,
     "metadata": {},
     "output_type": "execute_result"
    }
   ],
   "source": [
    "2 * a + b"
   ]
  },
  {
   "cell_type": "code",
   "execution_count": 237,
   "id": "726f936f-67f5-4921-bf6b-ab6459bc36bf",
   "metadata": {},
   "outputs": [
    {
     "data": {
      "text/plain": [
       "array([False,  True, False])"
      ]
     },
     "execution_count": 237,
     "metadata": {},
     "output_type": "execute_result"
    }
   ],
   "source": [
    "a == 2"
   ]
  },
  {
   "cell_type": "code",
   "execution_count": 238,
   "id": "2f13cc4f-9806-4e7d-9059-dc0985369aa7",
   "metadata": {},
   "outputs": [
    {
     "data": {
      "text/plain": [
       "array([False,  True,  True])"
      ]
     },
     "execution_count": 238,
     "metadata": {},
     "output_type": "execute_result"
    }
   ],
   "source": [
    "b > 10"
   ]
  },
  {
   "cell_type": "code",
   "execution_count": 243,
   "id": "ee082e45-c299-4ee8-8848-80e7460c98a3",
   "metadata": {},
   "outputs": [
    {
     "data": {
      "text/plain": [
       "array([False,  True, False])"
      ]
     },
     "execution_count": 243,
     "metadata": {},
     "output_type": "execute_result"
    }
   ],
   "source": [
    "(a == 2 ) & (b > 10)    # &는 bit 연산자"
   ]
  },
  {
   "cell_type": "markdown",
   "id": "80e0abee-b4d9-44a7-b9af-73c384d1e315",
   "metadata": {},
   "source": [
    "### 2차원 배열\n",
    "- 수학에서 행렬로 말함\n",
    "- 리스트를 중첩 해 list of list를 이용해 2차원 배열처럼 생성\n",
    "- 안쪽 리스트의 길이는 행렬의 열의 수 (가로크기)\n",
    "- 바깥쪽 리스트는 행렬의 수 (세로크기)"
   ]
  },
  {
   "cell_type": "code",
   "execution_count": 248,
   "id": "8e6d184c-f8c5-4b21-af9f-4fd41997f141",
   "metadata": {},
   "outputs": [],
   "source": [
    "c = np.array([[1,2,3],\n",
    "             [4,5,6]])"
   ]
  },
  {
   "cell_type": "code",
   "execution_count": 249,
   "id": "d8e7d96f-c3bd-461c-aea5-0a07fbccd91b",
   "metadata": {},
   "outputs": [
    {
     "data": {
      "text/plain": [
       "(2, 3)"
      ]
     },
     "execution_count": 249,
     "metadata": {},
     "output_type": "execute_result"
    }
   ],
   "source": [
    "c.shape"
   ]
  },
  {
   "cell_type": "code",
   "execution_count": 250,
   "id": "58cdd8a4-a977-4e0d-b20a-7254dee3216d",
   "metadata": {},
   "outputs": [
    {
     "data": {
      "text/plain": [
       "2"
      ]
     },
     "execution_count": 250,
     "metadata": {},
     "output_type": "execute_result"
    }
   ],
   "source": [
    "len(c)"
   ]
  },
  {
   "cell_type": "code",
   "execution_count": 251,
   "id": "9907d081-e25d-4c87-af20-51e5cf8389b8",
   "metadata": {},
   "outputs": [
    {
     "data": {
      "text/plain": [
       "3"
      ]
     },
     "execution_count": 251,
     "metadata": {},
     "output_type": "execute_result"
    }
   ],
   "source": [
    "len(c[0])"
   ]
  },
  {
   "cell_type": "code",
   "execution_count": 258,
   "id": "75b88d8d-76d2-46ea-bbdc-131a92732f73",
   "metadata": {},
   "outputs": [
    {
     "data": {
      "text/plain": [
       "array([[10, 20, 30, 40],\n",
       "       [50, 60, 70, 80]])"
      ]
     },
     "execution_count": 258,
     "metadata": {},
     "output_type": "execute_result"
    }
   ],
   "source": [
    "np.array([[10,20,30,40],\n",
    "        [50,60,70,80]])"
   ]
  },
  {
   "cell_type": "markdown",
   "id": "56ce937b-ff98-4b78-9baf-bd3311e4e5af",
   "metadata": {},
   "source": [
    "### 3차원 배열\n",
    "- 행렬을 겹겹이 쌓아 올린 구조 생각해보기\n",
    "- 구조는 깊이 * 행 * 열 의 모양\n",
    "- axis 0는 깊이를 의미,  axis 1는 행, axis 2는 열"
   ]
  },
  {
   "cell_type": "code",
   "execution_count": 271,
   "id": "d7da8243-80dd-4cce-8a0a-05a151723adc",
   "metadata": {},
   "outputs": [],
   "source": [
    "# 2 * 3 * 4\n",
    "d = np.array([[[1,2,3,4],\n",
    "              [5,6,7,8],\n",
    "              [9,10,11,12]],\n",
    "             [[13,14,15,16],\n",
    "              [17,18,19,20],\n",
    "              [21,22,23,24]]])"
   ]
  },
  {
   "cell_type": "markdown",
   "id": "4f098832-fc05-4c55-83f9-e3cffcb0b0ac",
   "metadata": {},
   "source": [
    "#### 배열의 차원과 크기 알아내기\n",
    "- 배열의 ndim 속성과 shape 속성을 이용 \n",
    "- ndim 은 배열의 차원, shape 배열의 크기를 반환"
   ]
  },
  {
   "cell_type": "code",
   "execution_count": 272,
   "id": "7c95bf63-5989-44fe-8e59-645bc9c72986",
   "metadata": {},
   "outputs": [
    {
     "name": "stdout",
     "output_type": "stream",
     "text": [
      "1\n",
      "(3,)\n"
     ]
    }
   ],
   "source": [
    "# a = np.array([1,2,3])\n",
    "print(a.ndim)\n",
    "print(a.shape)"
   ]
  },
  {
   "cell_type": "code",
   "execution_count": 273,
   "id": "c3ee7991-22cb-43ef-a4b0-a472a29f410f",
   "metadata": {},
   "outputs": [
    {
     "name": "stdout",
     "output_type": "stream",
     "text": [
      "2\n",
      "(2, 3)\n"
     ]
    }
   ],
   "source": [
    "# c = np.array([[0,1,2],[3,4,5]])\n",
    "print(c.ndim)\n",
    "print(c.shape)"
   ]
  },
  {
   "cell_type": "code",
   "execution_count": 274,
   "id": "d1c80ab9-20a9-4697-9290-1072ce4afe06",
   "metadata": {},
   "outputs": [
    {
     "name": "stdout",
     "output_type": "stream",
     "text": [
      "3\n",
      "(2, 3, 4)\n"
     ]
    }
   ],
   "source": [
    "print(d.ndim)\n",
    "print(d.shape)"
   ]
  },
  {
   "cell_type": "markdown",
   "id": "e06b80ce-b201-4a6e-b30e-7b76b2e6dfa7",
   "metadata": {},
   "source": [
    "- 일차원 배열의 인덱싱은 리스트와 비슷하다"
   ]
  },
  {
   "cell_type": "code",
   "execution_count": 277,
   "id": "891a3141-6df7-4e2a-a844-428e6b11a3d9",
   "metadata": {},
   "outputs": [
    {
     "data": {
      "text/plain": [
       "array([0, 1, 2, 3, 4])"
      ]
     },
     "execution_count": 277,
     "metadata": {},
     "output_type": "execute_result"
    }
   ],
   "source": [
    "a = np.array([_ for _ in range(5)])\n",
    "a"
   ]
  },
  {
   "cell_type": "code",
   "execution_count": 278,
   "id": "269a3cfc-ff7e-4440-9721-7a6aa3998a1d",
   "metadata": {},
   "outputs": [
    {
     "data": {
      "text/plain": [
       "4"
      ]
     },
     "execution_count": 278,
     "metadata": {},
     "output_type": "execute_result"
    }
   ],
   "source": [
    "a[-1]"
   ]
  },
  {
   "cell_type": "markdown",
   "id": "7769cb6d-4256-4a9b-907a-4ce877ca7625",
   "metadata": {},
   "source": [
    "- 다차원 배열의 인덱싱은 리스트와 다르다"
   ]
  },
  {
   "cell_type": "code",
   "execution_count": 283,
   "id": "871cdef5-4ea8-427c-a463-209e77aab882",
   "metadata": {},
   "outputs": [],
   "source": [
    "a = [[1,2,3],[4,5,6]]"
   ]
  },
  {
   "cell_type": "code",
   "execution_count": 284,
   "id": "081225e1-bde9-4cd7-b29a-cc91ab571091",
   "metadata": {},
   "outputs": [
    {
     "data": {
      "text/plain": [
       "1"
      ]
     },
     "execution_count": 284,
     "metadata": {},
     "output_type": "execute_result"
    }
   ],
   "source": [
    "list_samp[0][0]"
   ]
  },
  {
   "cell_type": "markdown",
   "id": "abf8d4f3-097b-4843-99a8-b9488862f92e",
   "metadata": {},
   "source": [
    "- 배열 객체로 구현한 다차원 배열의 원소 중\n",
    "- 복수 개를 접근 하려면 slicing , comma함께 사용하면 됨(슬라이싱, 콤마)"
   ]
  },
  {
   "cell_type": "code",
   "execution_count": 285,
   "id": "042a7609-c41d-4649-b701-cd016b7200cc",
   "metadata": {},
   "outputs": [
    {
     "data": {
      "text/plain": [
       "array([[0, 1, 2, 3],\n",
       "       [4, 5, 6, 7]])"
      ]
     },
     "execution_count": 285,
     "metadata": {},
     "output_type": "execute_result"
    }
   ],
   "source": [
    "a  = np.array([[0,1,2,3],[4,5,6,7]])\n",
    "a"
   ]
  },
  {
   "cell_type": "code",
   "execution_count": 290,
   "id": "bf7326c0-fcd4-4fc7-a962-8a86234717b8",
   "metadata": {},
   "outputs": [
    {
     "data": {
      "text/plain": [
       "array([0, 1, 2, 3])"
      ]
     },
     "execution_count": 290,
     "metadata": {},
     "output_type": "execute_result"
    }
   ],
   "source": [
    "a[0,:] # 첫번째 행 전체"
   ]
  },
  {
   "cell_type": "code",
   "execution_count": 291,
   "id": "264ddcb0-991c-415c-b6c8-46c15309cc39",
   "metadata": {},
   "outputs": [
    {
     "data": {
      "text/plain": [
       "array([0, 1, 2, 3])"
      ]
     },
     "execution_count": 291,
     "metadata": {},
     "output_type": "execute_result"
    }
   ],
   "source": [
    "a[0,:] # 두번째 열 전체"
   ]
  },
  {
   "cell_type": "code",
   "execution_count": 292,
   "id": "a603af84-49be-47ac-ac27-7b804ca2e93a",
   "metadata": {},
   "outputs": [
    {
     "data": {
      "text/plain": [
       "array([5, 6, 7])"
      ]
     },
     "execution_count": 292,
     "metadata": {},
     "output_type": "execute_result"
    }
   ],
   "source": [
    "a[1,1:] # 두번째 행의 두번째 열부터 끝열까지"
   ]
  },
  {
   "cell_type": "code",
   "execution_count": 294,
   "id": "c990082b-323c-403b-8606-68d645b7a433",
   "metadata": {},
   "outputs": [
    {
     "data": {
      "text/plain": [
       "array([[0, 1],\n",
       "       [4, 5]])"
      ]
     },
     "execution_count": 294,
     "metadata": {},
     "output_type": "execute_result"
    }
   ],
   "source": [
    "a[:2,:2]"
   ]
  },
  {
   "cell_type": "code",
   "execution_count": 289,
   "id": "ce99d065-d093-47e9-8116-1c1553ec16cc",
   "metadata": {},
   "outputs": [
    {
     "data": {
      "text/plain": [
       "array([[0, 1, 2, 3],\n",
       "       [4, 5, 6, 7]])"
      ]
     },
     "execution_count": 289,
     "metadata": {},
     "output_type": "execute_result"
    }
   ],
   "source": [
    "np.array([ _ for _ in range(8)]).reshape(2,4)"
   ]
  },
  {
   "cell_type": "code",
   "execution_count": 327,
   "id": "b8a9f079-6df1-4188-beda-9adaaa2513fc",
   "metadata": {},
   "outputs": [
    {
     "data": {
      "text/plain": [
       "array([[ 0,  1,  2,  3,  4],\n",
       "       [ 5,  6,  7,  8,  9],\n",
       "       [10, 11, 12, 13, 14]])"
      ]
     },
     "execution_count": 327,
     "metadata": {},
     "output_type": "execute_result"
    }
   ],
   "source": [
    "m = np.array([[0,1,2,3,4],\n",
    "              [5,6,7,8,9],               # 1,3,5\n",
    "              [10, 11, 12, 13, 14]])\n",
    "m"
   ]
  },
  {
   "cell_type": "code",
   "execution_count": 328,
   "id": "4a95c056-d84b-4af5-8e6b-dcfe323e0537",
   "metadata": {},
   "outputs": [],
   "source": [
    "num = np.array([_ for _ in range(15)]).reshape(3,5)"
   ]
  },
  {
   "cell_type": "code",
   "execution_count": 329,
   "id": "02bb7dea-db25-4b47-a107-b546cff86859",
   "metadata": {
    "tags": []
   },
   "outputs": [
    {
     "data": {
      "text/plain": [
       "7"
      ]
     },
     "execution_count": 329,
     "metadata": {},
     "output_type": "execute_result"
    }
   ],
   "source": [
    "num[1,2]"
   ]
  },
  {
   "cell_type": "code",
   "execution_count": 330,
   "id": "514e6492-54f5-43dc-8822-70b672cb983a",
   "metadata": {
    "tags": []
   },
   "outputs": [
    {
     "data": {
      "text/plain": [
       "14"
      ]
     },
     "execution_count": 330,
     "metadata": {},
     "output_type": "execute_result"
    }
   ],
   "source": [
    "num[2,4]"
   ]
  },
  {
   "cell_type": "code",
   "execution_count": 331,
   "id": "ee5496c1-c392-4729-a0d7-c42ee4683705",
   "metadata": {
    "tags": []
   },
   "outputs": [
    {
     "data": {
      "text/plain": [
       "array([6, 7])"
      ]
     },
     "execution_count": 331,
     "metadata": {},
     "output_type": "execute_result"
    }
   ],
   "source": [
    "num[1,1:3]"
   ]
  },
  {
   "cell_type": "code",
   "execution_count": 332,
   "id": "bdb97bc3-867a-45fa-a231-8562ba561a65",
   "metadata": {
    "tags": []
   },
   "outputs": [
    {
     "data": {
      "text/plain": [
       "array([ 7, 12])"
      ]
     },
     "execution_count": 332,
     "metadata": {},
     "output_type": "execute_result"
    }
   ],
   "source": [
    "num[1:,2]"
   ]
  },
  {
   "cell_type": "code",
   "execution_count": 333,
   "id": "5a38dd79-f391-451f-adbd-f2ad935879ec",
   "metadata": {
    "tags": []
   },
   "outputs": [
    {
     "data": {
      "text/plain": [
       "array([[3, 4],\n",
       "       [8, 9]])"
      ]
     },
     "execution_count": 333,
     "metadata": {},
     "output_type": "execute_result"
    }
   ],
   "source": [
    "num[:2,3:]"
   ]
  },
  {
   "cell_type": "markdown",
   "id": "06be509b-c3fb-429e-b16c-76893c5c3aa2",
   "metadata": {},
   "source": [
    "#### 배열 생성\n",
    "##### 몇가지 단순한 배열을 생성하는 메서드를 제공\n",
    "- zeros, ones\n",
    "- zeros_like, ones_like\n",
    "- empty ( 배열을 생성하고 특정한 값으로 초기화 하지 않는 명령어)\n",
    "- arange 명령. NumPy 버전의 range 명령. 특정한 규칙에 따라 증가하는 수열\n",
    "- linspace 나 logspace\n",
    "- 전치(transpose)연산은 행과 열을 바꾸는 작업 / 배열의 T속성으로 구할 수 있음 메서드 아님"
   ]
  },
  {
   "cell_type": "code",
   "execution_count": 378,
   "id": "a7ac3baf-9685-4d6b-b962-57e917530eaa",
   "metadata": {},
   "outputs": [
    {
     "data": {
      "text/plain": [
       "array([0., 0., 0., 0., 0.])"
      ]
     },
     "execution_count": 378,
     "metadata": {},
     "output_type": "execute_result"
    }
   ],
   "source": [
    "a = np.zeros(5)                         # <<<< float type\n",
    "a"
   ]
  },
  {
   "cell_type": "code",
   "execution_count": 361,
   "id": "f2661aa8-141c-47ad-b78d-538a0b0e4674",
   "metadata": {},
   "outputs": [
    {
     "data": {
      "text/plain": [
       "array([[0, 0],\n",
       "       [0, 0],\n",
       "       [0, 0],\n",
       "       [0, 0],\n",
       "       [0, 0]], dtype=int32)"
      ]
     },
     "execution_count": 361,
     "metadata": {},
     "output_type": "execute_result"
    }
   ],
   "source": [
    "c = np.zeros((5,2),dtype = \"i\")         # <<<<  i 는 int\n",
    "c"
   ]
  },
  {
   "cell_type": "code",
   "execution_count": 362,
   "id": "a6bdab89-9776-4442-879d-063c7edf77e7",
   "metadata": {},
   "outputs": [
    {
     "data": {
      "text/plain": [
       "array(['', '', '', '', ''], dtype='<U4')"
      ]
     },
     "execution_count": 362,
     "metadata": {},
     "output_type": "execute_result"
    }
   ],
   "source": [
    "d = np.zeros(5,dtype = \"U4\")            # U4 / 문자 4글자까지만\n",
    "d"
   ]
  },
  {
   "cell_type": "code",
   "execution_count": 363,
   "id": "d87b3e63-d4c6-45c3-98df-8421f05f0d88",
   "metadata": {},
   "outputs": [
    {
     "data": {
      "text/plain": [
       "array(['abc', 'abcd', 'abcd', '', ''], dtype='<U4')"
      ]
     },
     "execution_count": 363,
     "metadata": {},
     "output_type": "execute_result"
    }
   ],
   "source": [
    "d[0] = 'abc'\n",
    "d[1] = 'abcd'\n",
    "d[2] = 'abcde'\n",
    "d"
   ]
  },
  {
   "cell_type": "code",
   "execution_count": 364,
   "id": "d159afae-de82-4263-bb8a-dd4339438ff5",
   "metadata": {},
   "outputs": [
    {
     "data": {
      "text/plain": [
       "array([[[1, 1, 1, 1],\n",
       "        [1, 1, 1, 1],\n",
       "        [1, 1, 1, 1]],\n",
       "\n",
       "       [[1, 1, 1, 1],\n",
       "        [1, 1, 1, 1],\n",
       "        [1, 1, 1, 1]]], dtype=int64)"
      ]
     },
     "execution_count": 364,
     "metadata": {},
     "output_type": "execute_result"
    }
   ],
   "source": [
    "e = np.ones((2,3,4),dtype = \"i8\")       # 행의 깊이 \n",
    "e                                       # 2,3,4"
   ]
  },
  {
   "cell_type": "code",
   "execution_count": 365,
   "id": "ddfcc019-f3d0-4e8b-8cef-268be5134556",
   "metadata": {},
   "outputs": [
    {
     "data": {
      "text/plain": [
       "array([1., 1., 1.], dtype=float32)"
      ]
     },
     "execution_count": 365,
     "metadata": {},
     "output_type": "execute_result"
    }
   ],
   "source": [
    "f = np.ones_like(b, dtype = \"f\")       \n",
    "f"
   ]
  },
  {
   "cell_type": "code",
   "execution_count": 372,
   "id": "b144a60b-f3d6-48cd-aceb-daad5a3f7260",
   "metadata": {},
   "outputs": [
    {
     "data": {
      "text/plain": [
       "array([0, 1, 2, 3, 4, 5, 6, 7, 8, 9])"
      ]
     },
     "execution_count": 372,
     "metadata": {},
     "output_type": "execute_result"
    }
   ],
   "source": [
    "np.arange(10)               # 0 . . N-1"
   ]
  },
  {
   "cell_type": "code",
   "execution_count": 373,
   "id": "72f592d2-ff69-4aae-9358-514a76d6e817",
   "metadata": {},
   "outputs": [
    {
     "data": {
      "text/plain": [
       "array([ 3,  5,  7,  9, 11, 13, 15, 17, 19])"
      ]
     },
     "execution_count": 373,
     "metadata": {},
     "output_type": "execute_result"
    }
   ],
   "source": [
    "np.arange(3,21,2)           # 시작, 끝(포함하지 않음), 단계"
   ]
  },
  {
   "cell_type": "code",
   "execution_count": 374,
   "id": "4fb34871-2a41-4150-95d3-72d9dbf5bbaa",
   "metadata": {},
   "outputs": [
    {
     "data": {
      "text/plain": [
       "array([  0.,  25.,  50.,  75., 100.])"
      ]
     },
     "execution_count": 374,
     "metadata": {},
     "output_type": "execute_result"
    }
   ],
   "source": [
    "np.linspace(0, 100, 5)      #시작, 끝(포함), 갯수"
   ]
  },
  {
   "cell_type": "code",
   "execution_count": 375,
   "id": "3a4e26c2-1a2b-4601-82c3-9c66f9e18aeb",
   "metadata": {},
   "outputs": [
    {
     "data": {
      "text/plain": [
       "array([  0.,  25.,  50.,  75., 100.])"
      ]
     },
     "execution_count": 375,
     "metadata": {},
     "output_type": "execute_result"
    }
   ],
   "source": [
    "np.linspace(0, 100, 5)      #시작, 끝"
   ]
  },
  {
   "cell_type": "code",
   "execution_count": 377,
   "id": "591a4eeb-6db2-4da8-8fa9-4a5f89cc3305",
   "metadata": {},
   "outputs": [
    {
     "data": {
      "text/plain": [
       "array([  0.        ,   5.88235294,  11.76470588,  17.64705882,\n",
       "        23.52941176,  29.41176471,  35.29411765,  41.17647059,\n",
       "        47.05882353,  52.94117647,  58.82352941,  64.70588235,\n",
       "        70.58823529,  76.47058824,  82.35294118,  88.23529412,\n",
       "        94.11764706, 100.        ])"
      ]
     },
     "execution_count": 377,
     "metadata": {},
     "output_type": "execute_result"
    }
   ],
   "source": [
    "ex = np.linspace(0, 100, 18)\n",
    "ex"
   ]
  },
  {
   "cell_type": "code",
   "execution_count": 380,
   "id": "87a6a1aa-cae4-4e0f-86c6-18f95d471250",
   "metadata": {},
   "outputs": [
    {
     "data": {
      "text/plain": [
       "array([[1, 2, 3],\n",
       "       [4, 5, 6]])"
      ]
     },
     "execution_count": 380,
     "metadata": {},
     "output_type": "execute_result"
    }
   ],
   "source": [
    "A = np.array([[1,2,3],[4,5,6]])\n",
    "A"
   ]
  },
  {
   "cell_type": "markdown",
   "id": "32bf2ce7-be01-403f-b6b8-21d0eb07c764",
   "metadata": {},
   "source": [
    "#### 배열의 크기 변형\n",
    "- reshape\n",
    "- flatten 혹은 ravel"
   ]
  },
  {
   "cell_type": "code",
   "execution_count": 390,
   "id": "3c394547-869b-4f67-a183-87b204005292",
   "metadata": {},
   "outputs": [
    {
     "data": {
      "text/plain": [
       "array([[[ 0,  1,  2],\n",
       "        [ 3,  4,  5]],\n",
       "\n",
       "       [[ 6,  7,  8],\n",
       "        [ 9, 10, 11]]])"
      ]
     },
     "execution_count": 390,
     "metadata": {},
     "output_type": "execute_result"
    }
   ],
   "source": [
    "ex3 = np.arange(12)\n",
    "ex3.reshape(2,2,-1)"
   ]
  },
  {
   "cell_type": "markdown",
   "id": "90869ce2-98ca-45de-ab0b-2948f21626f9",
   "metadata": {},
   "source": [
    "#### 배열 연결 ####\n",
    "##### 행의 수나 열의 수가 같은 두 개 이상의 배열을 연결. 더 큰배열을 연결할때\n",
    "- hstack\n",
    "- vstack\n",
    "- dstack\n",
    "- stack\n",
    "- r_\n",
    "- c_\n",
    "- tile"
   ]
  },
  {
   "cell_type": "code",
   "execution_count": 393,
   "id": "42d0bf50-70b3-44ed-a4e5-f32e18bb8491",
   "metadata": {},
   "outputs": [
    {
     "name": "stdout",
     "output_type": "stream",
     "text": [
      "[[1. 1. 1.]\n",
      " [1. 1. 1.]]\n",
      "[[0. 0. 0.]\n",
      " [0. 0. 0.]\n",
      " [0. 0. 0.]]\n"
     ]
    }
   ],
   "source": [
    "b1 = np.ones((2,3))\n",
    "b2 = np.zeros((3,3))\n",
    "print(b1)\n",
    "print(b2)"
   ]
  },
  {
   "cell_type": "code",
   "execution_count": 420,
   "id": "575331b5-16d2-4a46-8569-5bf5e1104af3",
   "metadata": {},
   "outputs": [
    {
     "data": {
      "text/plain": [
       "array([[1., 1., 1., 0., 0.],\n",
       "       [1., 1., 1., 0., 0.]])"
      ]
     },
     "execution_count": 420,
     "metadata": {},
     "output_type": "execute_result"
    }
   ],
   "source": [
    "a1 = np.ones( (2, 3) )\n",
    "a2 = np.zeros( (2, 2) )\n",
    "np.hstack( [a1, a2] )"
   ]
  },
  {
   "cell_type": "code",
   "execution_count": 394,
   "id": "bd48c9eb-7de8-422f-9d71-9a409bcd5612",
   "metadata": {},
   "outputs": [
    {
     "data": {
      "text/plain": [
       "array([[1., 1., 1.],\n",
       "       [1., 1., 1.],\n",
       "       [0., 0., 0.],\n",
       "       [0., 0., 0.],\n",
       "       [0., 0., 0.]])"
      ]
     },
     "execution_count": 394,
     "metadata": {},
     "output_type": "execute_result"
    }
   ],
   "source": [
    "np.vstack([b1,b2])"
   ]
  },
  {
   "cell_type": "code",
   "execution_count": 395,
   "id": "eac111ad-5f5f-4771-8ebe-ce1826fa93f6",
   "metadata": {},
   "outputs": [
    {
     "data": {
      "text/plain": [
       "array([[1., 1., 1., 1.],\n",
       "       [1., 1., 1., 1.],\n",
       "       [1., 1., 1., 1.]])"
      ]
     },
     "execution_count": 395,
     "metadata": {},
     "output_type": "execute_result"
    }
   ],
   "source": [
    "c = np.ones((3,4))\n",
    "c "
   ]
  },
  {
   "cell_type": "code",
   "execution_count": 398,
   "id": "1cdd3430-641b-464e-aa3d-2e22514d39df",
   "metadata": {},
   "outputs": [
    {
     "data": {
      "text/plain": [
       "array([[0., 0., 0., 0.],\n",
       "       [0., 0., 0., 0.],\n",
       "       [0., 0., 0., 0.]])"
      ]
     },
     "execution_count": 398,
     "metadata": {},
     "output_type": "execute_result"
    }
   ],
   "source": [
    "c2 = np.zeros((3,4))\n",
    "c2"
   ]
  },
  {
   "cell_type": "code",
   "execution_count": 400,
   "id": "dc61e6db-7243-411a-9bba-2d6b19706521",
   "metadata": {},
   "outputs": [
    {
     "data": {
      "text/plain": [
       "array([[[1., 0.],\n",
       "        [1., 0.],\n",
       "        [1., 0.],\n",
       "        [1., 0.]],\n",
       "\n",
       "       [[1., 0.],\n",
       "        [1., 0.],\n",
       "        [1., 0.],\n",
       "        [1., 0.]],\n",
       "\n",
       "       [[1., 0.],\n",
       "        [1., 0.],\n",
       "        [1., 0.],\n",
       "        [1., 0.]]])"
      ]
     },
     "execution_count": 400,
     "metadata": {},
     "output_type": "execute_result"
    }
   ],
   "source": [
    "np.dstack([c,c2])"
   ]
  },
  {
   "cell_type": "code",
   "execution_count": 413,
   "id": "ed64caef-5d36-4fc2-8fe9-5594e64bbb30",
   "metadata": {},
   "outputs": [
    {
     "data": {
      "text/plain": [
       "array([[[1., 1., 1., 1.],\n",
       "        [0., 0., 0., 0.]],\n",
       "\n",
       "       [[1., 1., 1., 1.],\n",
       "        [0., 0., 0., 0.]],\n",
       "\n",
       "       [[1., 1., 1., 1.],\n",
       "        [0., 0., 0., 0.]]])"
      ]
     },
     "execution_count": 413,
     "metadata": {},
     "output_type": "execute_result"
    }
   ],
   "source": [
    "c1 = np.ones( (3, 4) )\n",
    "c2 = np.zeros( (3, 4) )\n",
    "np.stack( [c1, c2] ) # stack 메서드 안에 axis = 0(기본값)\n",
    "\n",
    "#3행 4열 짜리 배열 2개가 => 깊이가 2개인 3행 4열 됨\n",
    "(2 * 3 * 4)\n",
    "\n",
    "np.stack( [c1, c2], axis = 1 ) "
   ]
  },
  {
   "cell_type": "code",
   "execution_count": 405,
   "id": "47896ee2-2aa6-4ff4-8439-26f8e82c4758",
   "metadata": {},
   "outputs": [
    {
     "data": {
      "text/plain": [
       "array([1, 2, 3, 4, 5, 6])"
      ]
     },
     "execution_count": 405,
     "metadata": {},
     "output_type": "execute_result"
    }
   ],
   "source": [
    "np.r_[np.array([1,2,3]), np.array([4,5,6])]"
   ]
  },
  {
   "cell_type": "code",
   "execution_count": 406,
   "id": "38eb743c-2351-4f85-b687-bcf7e0a6a79c",
   "metadata": {},
   "outputs": [
    {
     "data": {
      "text/plain": [
       "array([[1, 4],\n",
       "       [2, 5],\n",
       "       [3, 6]])"
      ]
     },
     "execution_count": 406,
     "metadata": {},
     "output_type": "execute_result"
    }
   ],
   "source": [
    "np.c_[np.array([1,2,3]), np.array([4,5,6]) ]"
   ]
  },
  {
   "cell_type": "code",
   "execution_count": 407,
   "id": "0369430b-1493-4b99-b581-b73720ed1096",
   "metadata": {},
   "outputs": [
    {
     "data": {
      "text/plain": [
       "array([[0, 2, 3, 0, 2, 3],\n",
       "       [3, 4, 5, 3, 4, 5]])"
      ]
     },
     "execution_count": 407,
     "metadata": {},
     "output_type": "execute_result"
    }
   ],
   "source": [
    "a = np.array([[0,2,3],[3,4,5]])\n",
    "np.tile(a,2)"
   ]
  },
  {
   "cell_type": "code",
   "execution_count": 408,
   "id": "348ec30e-e604-4c67-91fb-327a34eed579",
   "metadata": {},
   "outputs": [
    {
     "data": {
      "text/plain": [
       "array([[0, 2, 3, 0, 2, 3],\n",
       "       [3, 4, 5, 3, 4, 5],\n",
       "       [0, 2, 3, 0, 2, 3],\n",
       "       [3, 4, 5, 3, 4, 5],\n",
       "       [0, 2, 3, 0, 2, 3],\n",
       "       [3, 4, 5, 3, 4, 5]])"
      ]
     },
     "execution_count": 408,
     "metadata": {},
     "output_type": "execute_result"
    }
   ],
   "source": [
    "np.tile(a,(3,2))"
   ]
  },
  {
   "cell_type": "code",
   "execution_count": 431,
   "id": "e503729b-7430-4769-85ab-3dd45c02ead1",
   "metadata": {},
   "outputs": [
    {
     "name": "stdout",
     "output_type": "stream",
     "text": [
      "[[0. 0. 0. 1. 1.]\n",
      " [0. 0. 0. 1. 1.]\n",
      " [0. 0. 0. 1. 1.]]\n",
      "[[ 10  20  30  40  50]\n",
      " [ 60  70  80  90 100]\n",
      " [110 120 130 140 150]]\n"
     ]
    }
   ],
   "source": [
    "a = np.zeros((3,3))\n",
    "a2 = np.ones((3,2))\n",
    "a3 = np.hstack([a,a2])\n",
    "print(a3)\n",
    "a4 = np.arange(10,160,10).reshape(-1,5)         #-1 알아서 해주세요 # 5행에 맞춰 알아서 해주세요\n",
    "print(a4)\n"
   ]
  },
  {
   "cell_type": "code",
   "execution_count": 435,
   "id": "592c0dee-7b4d-4961-a84a-1b8bf3da3773",
   "metadata": {},
   "outputs": [
    {
     "data": {
      "text/plain": [
       "array([[  0.,   0.,   0.,   1.,   1.],\n",
       "       [  0.,   0.,   0.,   1.,   1.],\n",
       "       [  0.,   0.,   0.,   1.,   1.],\n",
       "       [ 10.,  20.,  30.,  40.,  50.],\n",
       "       [ 60.,  70.,  80.,  90., 100.],\n",
       "       [110., 120., 130., 140., 150.]])"
      ]
     },
     "execution_count": 435,
     "metadata": {},
     "output_type": "execute_result"
    }
   ],
   "source": [
    "a5 = np.vstack([a3,a4])\n",
    "a5"
   ]
  },
  {
   "cell_type": "code",
   "execution_count": 436,
   "id": "dba3cfc3-e4a7-4407-805c-d0146a10032c",
   "metadata": {},
   "outputs": [
    {
     "data": {
      "text/plain": [
       "array([[  0.,   0.,   0.,   1.,   1.],\n",
       "       [  0.,   0.,   0.,   1.,   1.],\n",
       "       [  0.,   0.,   0.,   1.,   1.],\n",
       "       [ 10.,  20.,  30.,  40.,  50.],\n",
       "       [ 60.,  70.,  80.,  90., 100.],\n",
       "       [110., 120., 130., 140., 150.],\n",
       "       [  0.,   0.,   0.,   1.,   1.],\n",
       "       [  0.,   0.,   0.,   1.,   1.],\n",
       "       [  0.,   0.,   0.,   1.,   1.],\n",
       "       [ 10.,  20.,  30.,  40.,  50.],\n",
       "       [ 60.,  70.,  80.,  90., 100.],\n",
       "       [110., 120., 130., 140., 150.]])"
      ]
     },
     "execution_count": 436,
     "metadata": {},
     "output_type": "execute_result"
    }
   ],
   "source": [
    "np.vstack([a5,a5])"
   ]
  },
  {
   "cell_type": "markdown",
   "id": "f21406c2-3eeb-467f-b623-688187eb5df0",
   "metadata": {},
   "source": []
  }
 ],
 "metadata": {
  "kernelspec": {
   "display_name": "Python 3 (ipykernel)",
   "language": "python",
   "name": "python3"
  },
  "language_info": {
   "codemirror_mode": {
    "name": "ipython",
    "version": 3
   },
   "file_extension": ".py",
   "mimetype": "text/x-python",
   "name": "python",
   "nbconvert_exporter": "python",
   "pygments_lexer": "ipython3",
   "version": "3.9.13"
  }
 },
 "nbformat": 4,
 "nbformat_minor": 5
}
