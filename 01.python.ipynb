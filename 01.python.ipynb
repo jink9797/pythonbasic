{
 "cells": [
  {
   "cell_type": "code",
   "execution_count": 1,
   "id": "97abdea7-ea7a-4c50-8787-5ca38b2d4d5f",
   "metadata": {},
   "outputs": [
    {
     "name": "stdout",
     "output_type": "stream",
     "text": [
      "3.9.13 (main, Aug 25 2022, 23:51:50) [MSC v.1916 64 bit (AMD64)]\n"
     ]
    }
   ],
   "source": [
    "import sys\n",
    "print(sys.version)"
   ]
  },
  {
   "cell_type": "code",
   "execution_count": 2,
   "id": "383adee3-84e5-48c3-86a1-803dda776e42",
   "metadata": {},
   "outputs": [
    {
     "name": "stdout",
     "output_type": "stream",
     "text": [
      " C 드라이브의 볼륨에는 이름이 없습니다.\n",
      " 볼륨 일련 번호: 46F6-CA1E\n",
      "\n",
      " C:\\python 디렉터리\n",
      "\n",
      "2023-01-04  오전 10:14    <DIR>          .\n",
      "2023-01-04  오전 10:14    <DIR>          ..\n",
      "2023-01-04  오전 10:13    <DIR>          .ipynb_checkpoints\n",
      "2023-01-04  오전 10:14               666 01.python.ipynb\n",
      "               1개 파일                 666 바이트\n",
      "               3개 디렉터리  183,089,082,368 바이트 남음\n"
     ]
    }
   ],
   "source": [
    "!dir"
   ]
  },
  {
   "cell_type": "code",
   "execution_count": null,
   "id": "ea5fca9a-3e9e-4e4d-8b94-e33f54b1d620",
   "metadata": {},
   "outputs": [],
   "source": []
  }
 ],
 "metadata": {
  "kernelspec": {
   "display_name": "Python 3 (ipykernel)",
   "language": "python",
   "name": "python3"
  },
  "language_info": {
   "codemirror_mode": {
    "name": "ipython",
    "version": 3
   },
   "file_extension": ".py",
   "mimetype": "text/x-python",
   "name": "python",
   "nbconvert_exporter": "python",
   "pygments_lexer": "ipython3",
   "version": "3.9.13"
  }
 },
 "nbformat": 4,
 "nbformat_minor": 5
}
