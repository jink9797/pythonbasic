{
 "cells": [
  {
   "cell_type": "code",
   "execution_count": 4,
   "id": "ec95806d-145d-4f83-a837-9dddeac4acfe",
   "metadata": {},
   "outputs": [
    {
     "data": {
      "text/plain": [
       "135"
      ]
     },
     "execution_count": 4,
     "metadata": {},
     "output_type": "execute_result"
    }
   ],
   "source": [
    "7+3*2**7-256"
   ]
  },
  {
   "cell_type": "code",
   "execution_count": 31,
   "id": "1b581e9b-a217-4d05-b001-0abe7a78321b",
   "metadata": {},
   "outputs": [
    {
     "name": "stdout",
     "output_type": "stream",
     "text": [
      "t t l\n"
     ]
    }
   ],
   "source": [
    "x = \"don\\'t want no riddle\"\n",
    "print(x[4],x[9],x[18])"
   ]
  },
  {
   "cell_type": "code",
   "execution_count": 36,
   "id": "340d4c4f-fe1e-4e86-a441-49a5f2a12099",
   "metadata": {},
   "outputs": [
    {
     "name": "stdout",
     "output_type": "stream",
     "text": [
      "zxvtrpnlj\n"
     ]
    }
   ],
   "source": [
    "letters = 'abcdefghijklmnopqrstuvwxyz'\n",
    "print(letters[:8:-2])"
   ]
  },
  {
   "cell_type": "code",
   "execution_count": 35,
   "id": "db8d0e26-9b0b-4535-99c8-243ec64a5ae3",
   "metadata": {},
   "outputs": [
    {
     "name": "stdout",
     "output_type": "stream",
     "text": [
      "2023년\n",
      "100\n",
      "None\n",
      "False\n"
     ]
    }
   ],
   "source": [
    "a = \"2023년\"\n",
    "b = 100\n",
    "c = None\n",
    "d = False\n",
    "print(a)\n",
    "print(b)\n",
    "print(c)\n",
    "print(d)"
   ]
  },
  {
   "cell_type": "code",
   "execution_count": 39,
   "id": "d285a860-667c-41d1-9b84-78c82213ec23",
   "metadata": {},
   "outputs": [
    {
     "ename": "SyntaxError",
     "evalue": "invalid syntax (3229486218.py, line 3)",
     "output_type": "error",
     "traceback": [
      "\u001b[1;36m  File \u001b[1;32m\"C:\\Users\\Playdata\\AppData\\Local\\Temp\\ipykernel_6160\\3229486218.py\"\u001b[1;36m, line \u001b[1;32m3\u001b[0m\n\u001b[1;33m    60 < and False\u001b[0m\n\u001b[1;37m         ^\u001b[0m\n\u001b[1;31mSyntaxError\u001b[0m\u001b[1;31m:\u001b[0m invalid syntax\n"
     ]
    }
   ],
   "source": [
    "# [국어, 영어, 한국사, 선택 교과1, 선택 교과2]\n",
    "scores = [88, 73, 89, 59, 77]\n",
    "60 < and False"
   ]
  },
  {
   "cell_type": "code",
   "execution_count": 42,
   "id": "42cfecc7-1957-470d-b060-1933d04aa2b0",
   "metadata": {},
   "outputs": [
    {
     "name": "stdout",
     "output_type": "stream",
     "text": [
      "False\n"
     ]
    }
   ],
   "source": [
    "# [국어, 영어, 한국사, 선택 교과1, 선택 교과2]\n",
    "# | or /// & and\n",
    "scores = [88, 73, 89, 59, 77]\n",
    "print(scores[0] >= 60 and scores[1] >= 60 and scores[2] >= 60 and scores[3] >= 60 and scores[4] >= 60)"
   ]
  },
  {
   "cell_type": "code",
   "execution_count": 47,
   "id": "efc9456b-2ca4-493f-95fb-99984c7f332b",
   "metadata": {},
   "outputs": [
    {
     "name": "stdout",
     "output_type": "stream",
     "text": [
      "[1, 2, 3, 4, 5, 6, 7, 8, 9, 10, 8]\n"
     ]
    }
   ],
   "source": [
    "### append 맨뒤로\n",
    "numbers = [1, 2, 3, 4, 5, 6, 7, 8, 9, 10]\n",
    "numbers.append(8)\n",
    "print(numbers)"
   ]
  },
  {
   "cell_type": "markdown",
   "id": "046b4496-3d5b-4bd7-8a4e-6146ec69a2b7",
   "metadata": {
    "tags": []
   },
   "source": [
    "# 2. insert(인덱스, 요소) "
   ]
  },
  {
   "cell_type": "code",
   "execution_count": 51,
   "id": "36dc9420-0d12-4dd7-9939-db7559fcae4a",
   "metadata": {},
   "outputs": [
    {
     "name": "stdout",
     "output_type": "stream",
     "text": [
      "[0, 1, 2, 3, 0, 4, 0, 5, 6, 7, 8, 9, 10, 0]\n"
     ]
    }
   ],
   "source": [
    "numbers = [1, 2, 3, 4, 5, 6, 7, 8, 9, 10]\n",
    "numbers.insert(0, 0)\n",
    "numbers.insert(4, 0)\n",
    "numbers.insert(6, 0)\n",
    "numbers.insert(len(numbers),0)\n",
    "print(numbers)"
   ]
  },
  {
   "cell_type": "markdown",
   "id": "e5f7bd21-5923-4228-9a35-c471b3694290",
   "metadata": {},
   "source": [
    "## extend는 리스트1에 리스트2를 뒤로 붙인다.\n",
    "#### 리스트1.extend(리스트2)"
   ]
  },
  {
   "cell_type": "code",
   "execution_count": 49,
   "id": "1b6f7dcf-d1fc-47bb-956a-ded473919a0c",
   "metadata": {},
   "outputs": [
    {
     "name": "stdout",
     "output_type": "stream",
     "text": [
      "[0, 1, 2, 3, 0, 4, 0, 5, 6, 7, 8, 9, 10, 0, 9, 10, 11]\n"
     ]
    }
   ],
   "source": [
    "numbers.extend([9,10,11])\n",
    "print(numbers)"
   ]
  },
  {
   "cell_type": "markdown",
   "id": "22692a2c-2156-4b6c-af0a-ede9b4efd56d",
   "metadata": {},
   "source": [
    "# remove(요소) 리스트에서 요소와 같은걸 삭제\n",
    "##### remove는 숫자만 빠지는것\n",
    "##### 중복시 리스트 앞에 숫자를 삭제"
   ]
  },
  {
   "cell_type": "code",
   "execution_count": 124,
   "id": "00ef06a1-04e5-4f09-9a76-9c7848dec96e",
   "metadata": {},
   "outputs": [
    {
     "name": "stdout",
     "output_type": "stream",
     "text": [
      "[1, 2, 3, 4, 5, 6, 7, 8, 9, 10]\n",
      "[1, 2, 3, 4, 6, 7, 8, 9, 10]\n"
     ]
    }
   ],
   "source": [
    "numbers = [1, 2, 3, 4, 5, 6, 7, 8, 9, 10]\n",
    "print(numbers)\n",
    "numbers.remove(5)   # 앞쪽 11만 제거  \n",
    "print(numbers)"
   ]
  },
  {
   "cell_type": "markdown",
   "id": "095b9526-fa39-40e6-8e03-d5749ef786cd",
   "metadata": {},
   "source": [
    "## pop() 리스트 제일 마지막 요소(리스트[-1])를 리스트에서 제거한다. 제거한 요소는 반환됨"
   ]
  },
  {
   "cell_type": "code",
   "execution_count": 58,
   "id": "c8c117df-c9c7-4730-bed0-1f6d8e993d66",
   "metadata": {},
   "outputs": [
    {
     "name": "stdout",
     "output_type": "stream",
     "text": [
      "10\n",
      "[1, 2, 3, 4, 5, 6, 7, 8, 9]\n"
     ]
    }
   ],
   "source": [
    "numbers = [1, 2, 3, 4, 5, 6, 7, 8, 9, 10]\n",
    "print(numbers.pop())\n",
    "print(numbers)"
   ]
  },
  {
   "cell_type": "markdown",
   "id": "a3786605-91e6-4650-a099-adab1242aef6",
   "metadata": {},
   "source": [
    "### index(인자) 리스트 안에 인자와 같은 요소를 앞에서 부터 찾습니다. \n",
    "### 제일 처음 발견된 요소의 인덱스 위치를 반환합니다"
   ]
  },
  {
   "cell_type": "code",
   "execution_count": 110,
   "id": "664d0487-0636-4f4b-8aea-716b3a88c202",
   "metadata": {},
   "outputs": [
    {
     "name": "stdout",
     "output_type": "stream",
     "text": [
      "3\n"
     ]
    }
   ],
   "source": [
    "numbers = [1, 2, 3, 4, 5, 6, 7, 8, 9, 10]\n",
    "print(numbers.index(4))"
   ]
  },
  {
   "cell_type": "markdown",
   "id": "a6bd81aa-a75d-4e6e-8d91-42a24ae10a7d",
   "metadata": {},
   "source": [
    "### count(인자) 리스트 안에 인자와 같은 요소가 몇개가 있는지 반환한다."
   ]
  },
  {
   "cell_type": "code",
   "execution_count": 61,
   "id": "503bc86f-09c9-495e-917b-d4de86492262",
   "metadata": {},
   "outputs": [
    {
     "name": "stdout",
     "output_type": "stream",
     "text": [
      "[1, 2, 3, 4, 5, 6, 7, 8, 9, 10]\n",
      "0\n"
     ]
    }
   ],
   "source": [
    "numbers = [1, 2, 3, 4, 5, 6, 7, 8, 9, 10]\n",
    "print(numbers)\n",
    "print(numbers.count(0))"
   ]
  },
  {
   "cell_type": "markdown",
   "id": "b0d9f827-7134-4e16-8e91-e79ebfc87f28",
   "metadata": {},
   "source": [
    "## 리스트 정렬하기\n",
    "- sort() 는 오름차순\n",
    "- reverse() 는 순서를 뒤집는거\n",
    "반환 값은 둘 다 None"
   ]
  },
  {
   "cell_type": "code",
   "execution_count": 62,
   "id": "df791fce-105a-4584-8560-1f99dac840d6",
   "metadata": {},
   "outputs": [
    {
     "name": "stdout",
     "output_type": "stream",
     "text": [
      "[1, 2, 3, 4, 5, 6, 7, 8, 9, 10]\n",
      "[1, 2, 3, 4, 5, 6, 7, 8, 9, 10]\n"
     ]
    }
   ],
   "source": [
    "numbers = [1, 2, 3, 4, 5, 6, 7, 8, 9, 10]\n",
    "print(numbers)\n",
    "numbers.sort()\n",
    "\n",
    "print(numbers)"
   ]
  },
  {
   "cell_type": "markdown",
   "id": "4aad6306-c1b2-4331-ab20-69b072a92d69",
   "metadata": {},
   "source": [
    "## stack "
   ]
  },
  {
   "cell_type": "code",
   "execution_count": 65,
   "id": "9ba95354-aaf3-4a90-8bf6-6b8fdc22fb72",
   "metadata": {},
   "outputs": [
    {
     "name": "stdout",
     "output_type": "stream",
     "text": [
      "[3, 4, 5, 6, 7]\n",
      "7\n",
      "[3, 4, 5, 6]\n",
      "6\n",
      "[3, 4, 5]\n",
      "5\n",
      "[3, 4]\n"
     ]
    }
   ],
   "source": [
    "stack = [3,4,5]\n",
    "stack.append(6)\n",
    "stack.append(7)\n",
    "print(stack)\n",
    "\n",
    "print(stack.pop()) #7 반환\n",
    "\n",
    "print(stack)\n",
    "\n",
    "print(stack.pop()) #6 반환\n",
    "\n",
    "print(stack)\n",
    "\n",
    "print(stack.pop()) #5 반환\n",
    "\n",
    "print(stack)\n"
   ]
  },
  {
   "cell_type": "code",
   "execution_count": 66,
   "id": "1b9602ff-0c93-4544-a488-76a25dfaf14b",
   "metadata": {},
   "outputs": [
    {
     "ename": "TypeError",
     "evalue": "'tuple' object does not support item assignment",
     "output_type": "error",
     "traceback": [
      "\u001b[1;31m---------------------------------------------------------------------------\u001b[0m",
      "\u001b[1;31mTypeError\u001b[0m                                 Traceback (most recent call last)",
      "\u001b[1;32m~\\AppData\\Local\\Temp\\ipykernel_6160\\2651504771.py\u001b[0m in \u001b[0;36m<module>\u001b[1;34m\u001b[0m\n\u001b[0;32m      1\u001b[0m \u001b[1;31m## 튜플은 수정이 불가\u001b[0m\u001b[1;33m\u001b[0m\u001b[1;33m\u001b[0m\u001b[0m\n\u001b[0;32m      2\u001b[0m \u001b[0mtuple_variable\u001b[0m \u001b[1;33m=\u001b[0m \u001b[1;33m(\u001b[0m\u001b[1;36m1\u001b[0m\u001b[1;33m,\u001b[0m\u001b[1;36m2\u001b[0m\u001b[1;33m,\u001b[0m\u001b[1;36m3\u001b[0m\u001b[1;33m,\u001b[0m\u001b[1;36m4\u001b[0m\u001b[1;33m,\u001b[0m\u001b[1;36m5\u001b[0m\u001b[1;33m,\u001b[0m\u001b[1;34m\"hello\"\u001b[0m\u001b[1;33m)\u001b[0m\u001b[1;33m\u001b[0m\u001b[1;33m\u001b[0m\u001b[0m\n\u001b[1;32m----> 3\u001b[1;33m \u001b[0mtuple_variable\u001b[0m\u001b[1;33m[\u001b[0m\u001b[1;36m0\u001b[0m\u001b[1;33m]\u001b[0m \u001b[1;33m=\u001b[0m \u001b[1;36m0\u001b[0m\u001b[1;33m\u001b[0m\u001b[1;33m\u001b[0m\u001b[0m\n\u001b[0m",
      "\u001b[1;31mTypeError\u001b[0m: 'tuple' object does not support item assignment"
     ]
    }
   ],
   "source": [
    "## 튜플은 수정이 불가\n",
    "tuple_variable = (1,2,3,4,5,\"hello\")\n",
    "tuple_variable[0] = 0"
   ]
  },
  {
   "cell_type": "code",
   "execution_count": 67,
   "id": "8a61c93a-b2d5-4bf7-b9eb-410decb9a873",
   "metadata": {},
   "outputs": [
    {
     "ename": "TypeError",
     "evalue": "'tuple' object does not support item assignment",
     "output_type": "error",
     "traceback": [
      "\u001b[1;31m---------------------------------------------------------------------------\u001b[0m",
      "\u001b[1;31mTypeError\u001b[0m                                 Traceback (most recent call last)",
      "\u001b[1;32m~\\AppData\\Local\\Temp\\ipykernel_6160\\1517366210.py\u001b[0m in \u001b[0;36m<module>\u001b[1;34m\u001b[0m\n\u001b[0;32m      1\u001b[0m \u001b[1;31m## 슬라이싱으로도 수정 불가\u001b[0m\u001b[1;33m\u001b[0m\u001b[1;33m\u001b[0m\u001b[0m\n\u001b[1;32m----> 2\u001b[1;33m \u001b[0mtuple_variable\u001b[0m\u001b[1;33m[\u001b[0m\u001b[1;36m1\u001b[0m\u001b[1;33m:\u001b[0m\u001b[1;36m3\u001b[0m\u001b[1;33m]\u001b[0m \u001b[1;33m=\u001b[0m \u001b[1;33m(\u001b[0m\u001b[1;34m\"dd\"\u001b[0m\u001b[1;33m,\u001b[0m \u001b[1;34m\"ee\"\u001b[0m\u001b[1;33m)\u001b[0m\u001b[1;33m\u001b[0m\u001b[1;33m\u001b[0m\u001b[0m\n\u001b[0m",
      "\u001b[1;31mTypeError\u001b[0m: 'tuple' object does not support item assignment"
     ]
    }
   ],
   "source": [
    "## 슬라이싱으로도 수정 불가\n",
    "tuple_variable[1:3] = (\"dd\", \"ee\")"
   ]
  },
  {
   "cell_type": "code",
   "execution_count": 68,
   "id": "cbf6be9c-77e7-4857-9e6c-fd7180068fa3",
   "metadata": {},
   "outputs": [
    {
     "ename": "TypeError",
     "evalue": "'tuple' object doesn't support item deletion",
     "output_type": "error",
     "traceback": [
      "\u001b[1;31m---------------------------------------------------------------------------\u001b[0m",
      "\u001b[1;31mTypeError\u001b[0m                                 Traceback (most recent call last)",
      "\u001b[1;32m~\\AppData\\Local\\Temp\\ipykernel_6160\\26348219.py\u001b[0m in \u001b[0;36m<module>\u001b[1;34m\u001b[0m\n\u001b[0;32m      1\u001b[0m \u001b[1;31m## 삭제도 안됨;\u001b[0m\u001b[1;33m\u001b[0m\u001b[1;33m\u001b[0m\u001b[0m\n\u001b[1;32m----> 2\u001b[1;33m \u001b[1;32mdel\u001b[0m \u001b[0mtuple_variable\u001b[0m\u001b[1;33m[\u001b[0m\u001b[1;36m0\u001b[0m\u001b[1;33m]\u001b[0m\u001b[1;33m\u001b[0m\u001b[1;33m\u001b[0m\u001b[0m\n\u001b[0m",
      "\u001b[1;31mTypeError\u001b[0m: 'tuple' object doesn't support item deletion"
     ]
    }
   ],
   "source": [
    "## 삭제도 안됨;\n",
    "del tuple_variable[0]"
   ]
  },
  {
   "cell_type": "code",
   "execution_count": 70,
   "id": "c6f90dc7-1821-4db9-ac2c-93a49bf5fc71",
   "metadata": {},
   "outputs": [
    {
     "name": "stdout",
     "output_type": "stream",
     "text": [
      "<class 'tuple'>\n",
      "('음', '오', '아', '예')\n"
     ]
    }
   ],
   "source": [
    "## 튜플 자료형은 소괄호 생략이 가능 /// 명확하게 표현하는게 더좋음\n",
    "t_v = \"음\",\"오\",\"아\",\"예\"\n",
    "print(type(t_v))\n",
    "print(t_v)"
   ]
  },
  {
   "cell_type": "markdown",
   "id": "42518839-f511-491a-919b-5b2ff73e96a1",
   "metadata": {},
   "source": [
    "## 튜플(tuple) \n",
    "#### 리스트는 크기가 바뀔수 있어 그에 따른 초과할당까지 고려해 메모리에 데이터를 저장할 수 있을지 생각해야함\n",
    "#### 튜플은 빠르게 생성가능하고 리스트보다 용량이 적음"
   ]
  },
  {
   "cell_type": "code",
   "execution_count": 79,
   "id": "9e56c9f3-4992-4a21-b49e-a6554f9e116c",
   "metadata": {},
   "outputs": [
    {
     "name": "stdout",
     "output_type": "stream",
     "text": [
      "0.18724346160888672\n"
     ]
    }
   ],
   "source": [
    "# 튜플과 리스트의 소요시간 비교\n",
    "\n",
    "import time\n",
    "curr = time.time() #시작시간\n",
    "total = []\n",
    "\n",
    "for i in range(1000):\n",
    "    for j in range(1000):\n",
    "        total.append((i, j))#튜플 생성\n",
    "        \n",
    "last = time.time() #끝난 시간\n",
    "print(last - curr)"
   ]
  },
  {
   "cell_type": "code",
   "execution_count": 80,
   "id": "506e8098-f88c-4fa2-aec3-2be09bc81513",
   "metadata": {},
   "outputs": [
    {
     "name": "stdout",
     "output_type": "stream",
     "text": [
      "0.5731015205383301\n"
     ]
    }
   ],
   "source": [
    "import time\n",
    "curr = time.time()\n",
    "total = []\n",
    "\n",
    "for i in range(1000):\n",
    "    for j in range(1000):\n",
    "        total.append([i, j])\n",
    "        \n",
    "last = time.time()\n",
    "print(last - curr)"
   ]
  },
  {
   "cell_type": "markdown",
   "id": "a67a9f38-1367-428b-b2e2-1e3cddf76ab6",
   "metadata": {},
   "source": [
    "### 변수 여럿에 동시 할당하기\n",
    "- unpacking\n"
   ]
  },
  {
   "cell_type": "code",
   "execution_count": 81,
   "id": "5b9ff990-594e-46a6-a593-c278100740ec",
   "metadata": {},
   "outputs": [
    {
     "name": "stdout",
     "output_type": "stream",
     "text": [
      "text1\n",
      "text2\n"
     ]
    }
   ],
   "source": [
    "s1, s2 = \"text1\", \"text2\"\n",
    "print(s1)\n",
    "print(s2)"
   ]
  },
  {
   "cell_type": "code",
   "execution_count": 82,
   "id": "3c679e12-8a25-42fa-9490-5f519d14de48",
   "metadata": {},
   "outputs": [
    {
     "name": "stdout",
     "output_type": "stream",
     "text": [
      "이렇게 리스트도 가능합니다.\n"
     ]
    }
   ],
   "source": [
    "s3,s4,s5 = [\"이렇게\", \"리스트도\",\"가능합니다.\"]\n",
    "print(s3,s4,s5)\n"
   ]
  },
  {
   "cell_type": "code",
   "execution_count": 86,
   "id": "ccaea578-2b85-454c-92a8-0d7c98f6b378",
   "metadata": {},
   "outputs": [
    {
     "name": "stdout",
     "output_type": "stream",
     "text": [
      "문 자 열 도\n"
     ]
    }
   ],
   "source": [
    "s6,s7,s8,s9 = \"문자열도\"\n",
    "print(s6,s7,s8,s9)"
   ]
  },
  {
   "cell_type": "code",
   "execution_count": 94,
   "id": "0172e4db-bdf9-44af-bc20-b3d7e6b13eec",
   "metadata": {},
   "outputs": [
    {
     "name": "stdin",
     "output_type": "stream",
     "text": [
      "msg 789545548233\n"
     ]
    },
    {
     "name": "stdout",
     "output_type": "stream",
     "text": [
      "input_value: 789545548233 \n",
      "type: <class 'str'>\n",
      "789545548233\n"
     ]
    }
   ],
   "source": [
    "## 파이썬 입력 사용해보기\n",
    "\n",
    "# input() 내장 함수 사용해서 사용자로부터 값을 받아옴\n",
    "# 받아온 값은 문자열로 받음\n",
    "# input(\"msg\")>>>>return 사용자가 입력한 값(str)\n",
    "\n",
    "input_value = input(\"msg\")\n",
    "\n",
    "print(\"input_value:\", input_value, \"\\ntype:\", type(input_value))\n",
    "print(input_value)"
   ]
  },
  {
   "cell_type": "code",
   "execution_count": 103,
   "id": "98b72e2a-54e7-49b5-8b11-49744235df1f",
   "metadata": {},
   "outputs": [
    {
     "name": "stdin",
     "output_type": "stream",
     "text": [
      "정수외에 다른 값을 입력해 555\n"
     ]
    }
   ],
   "source": [
    "### 소괄호 먼저\n",
    "input_value2 = input(\"정수외에 다른 값을 입력해\")\n",
    "\n",
    "inpu_value2 = int(input_value2)"
   ]
  },
  {
   "cell_type": "code",
   "execution_count": 96,
   "id": "c067b623-87bf-4de3-b94a-0df34dbd138a",
   "metadata": {},
   "outputs": [
    {
     "name": "stdout",
     "output_type": "stream",
     "text": [
      "1.1\n",
      "1\n"
     ]
    }
   ],
   "source": [
    "input_value2 = float(input_value2)\n",
    "print(input_value2)\n",
    "\n",
    "input_value2 = int(input_value2)\n",
    "print(input_value2)"
   ]
  },
  {
   "cell_type": "code",
   "execution_count": 97,
   "id": "8f090b66-638e-4d4c-ab8d-99c1549b588a",
   "metadata": {},
   "outputs": [
    {
     "name": "stdin",
     "output_type": "stream",
     "text": [
      "정수 외에 다른 값을 입력해보세요 eng\n"
     ]
    },
    {
     "ename": "ValueError",
     "evalue": "invalid literal for int() with base 10: 'eng'",
     "output_type": "error",
     "traceback": [
      "\u001b[1;31m---------------------------------------------------------------------------\u001b[0m",
      "\u001b[1;31mValueError\u001b[0m                                Traceback (most recent call last)",
      "\u001b[1;32m~\\AppData\\Local\\Temp\\ipykernel_6160\\3778395232.py\u001b[0m in \u001b[0;36m<module>\u001b[1;34m\u001b[0m\n\u001b[0;32m      1\u001b[0m \u001b[0minput_value3\u001b[0m \u001b[1;33m=\u001b[0m \u001b[0minput\u001b[0m\u001b[1;33m(\u001b[0m\u001b[1;34m\"정수 외에 다른 값을 입력해보세요\"\u001b[0m\u001b[1;33m)\u001b[0m \u001b[1;31m# eng으로\u001b[0m\u001b[1;33m\u001b[0m\u001b[1;33m\u001b[0m\u001b[0m\n\u001b[0;32m      2\u001b[0m \u001b[1;33m\u001b[0m\u001b[0m\n\u001b[1;32m----> 3\u001b[1;33m \u001b[0mint\u001b[0m\u001b[1;33m(\u001b[0m\u001b[0minput_value3\u001b[0m\u001b[1;33m)\u001b[0m\u001b[1;33m\u001b[0m\u001b[1;33m\u001b[0m\u001b[0m\n\u001b[0m",
      "\u001b[1;31mValueError\u001b[0m: invalid literal for int() with base 10: 'eng'"
     ]
    }
   ],
   "source": [
    "input_value3 = input(\"정수 외에 다른 값을 입력해보세요\") # eng으로\n",
    "\n",
    "int(input_value3)"
   ]
  },
  {
   "cell_type": "code",
   "execution_count": null,
   "id": "de1135fd-fce3-40ac-8ca9-49e888224a0c",
   "metadata": {},
   "outputs": [
    {
     "name": "stdin",
     "output_type": "stream",
     "text": [
      "정수를 입력해주세요: 5\n"
     ]
    },
    {
     "name": "stdout",
     "output_type": "stream",
     "text": [
      "5\n"
     ]
    }
   ],
   "source": [
    "input_value4 = int(input(\"정수를 입력해주세요:\")) #5\n",
    "\n",
    "print(input_value4)"
   ]
  },
  {
   "cell_type": "code",
   "execution_count": 104,
   "id": "802d95e8-8998-426a-9ed6-f6c29d637a04",
   "metadata": {},
   "outputs": [
    {
     "name": "stdin",
     "output_type": "stream",
     "text": [
      "이름을 입력하시오: 엔코아\n"
     ]
    },
    {
     "name": "stdout",
     "output_type": "stream",
     "text": [
      "엔코아 씨, 안녕하세요? \n",
      "파이썬에 오신 것을 환영합니다.\n"
     ]
    },
    {
     "name": "stdin",
     "output_type": "stream",
     "text": [
      "첫 번째 정수를 입력하세요: 300\n",
      "두 번째 정수를 입력하세요: 400\n"
     ]
    },
    {
     "name": "stdout",
     "output_type": "stream",
     "text": [
      "300 과 400 의 합은 700 입니다.\n"
     ]
    }
   ],
   "source": [
    "name = input(\"이름을 입력하시오:\")\n",
    "print(name,\"씨, 안녕하세요? \\n파이썬에 오신 것을 환영합니다.\")\n",
    "first = int(input(\"첫 번째 정수를 입력하세요:\"))\n",
    "second = int(input(\"두 번째 정수를 입력하세요:\"))\n",
    "print(first,\"과\",second,\"의 합은\",first + second,\"입니다.\")"
   ]
  },
  {
   "cell_type": "code",
   "execution_count": 109,
   "id": "5d853cc5-ab53-409d-b65f-e386db0878da",
   "metadata": {},
   "outputs": [
    {
     "name": "stdin",
     "output_type": "stream",
     "text": [
      "경기장은 어디입니까? 고척\n",
      "이긴 팀은 어디입니까? KT\n",
      "진팀은 어디입니까? LG\n",
      "우수 선수는 누구입니까? 강백호\n",
      "스코어는 몇대몇입니까? 10:9\n"
     ]
    },
    {
     "name": "stdout",
     "output_type": "stream",
     "text": [
      "[속보] KT 가 10:9 로 승리...\n",
      "오늘 고척 경기장에서 야구 경기가 있었습니다.\n",
      "KT 와 LG 는 치열한 공방전을 펼쳤습니다.\n",
      "이 경기에서 강백호 가 맹활약을 했습니다.\n",
      "그 끝내 KT 가 LG 를 10:9 로 승리하였습니다.\n",
      "기사 끝\n"
     ]
    }
   ],
   "source": [
    "ground = input(\"경기장은 어디입니까?\")\n",
    "win = input(\"이긴 팀은 어디입니까?\")\n",
    "lose = input(\"진팀은 어디입니까?\")\n",
    "a = input(\"우수 선수는 누구입니까?\")\n",
    "score = input(\"스코어는 몇대몇입니까?\")\n",
    "\n",
    "print(\"[속보]\",win,\"가\",score,\"로 승리...\")\n",
    "print(\"오늘\", ground, \"경기장에서 야구 경기가 있었습니다.\")\n",
    "print(win,\"와\",lose,\"는 치열한 공방전을 펼쳤습니다.\")\n",
    "print(\"이 경기에서\",a,\"가 맹활약을 했습니다.\")\n",
    "print(\"그 끝내\", win,\"가\",lose,\"를\",score,\"로 승리하였습니다.\")\n",
    "print(\"기사 끝\")"
   ]
  },
  {
   "cell_type": "code",
   "execution_count": 148,
   "id": "7d3e8ad2-f61f-4fbb-8e3a-0bee9675aee9",
   "metadata": {},
   "outputs": [
    {
     "name": "stdout",
     "output_type": "stream",
     "text": [
      "<class 'list'>\n",
      "['1', '2', '3']\n"
     ]
    }
   ],
   "source": [
    "### 입력 값을 여러 개의 변수에 저장하기\n",
    "##\n",
    "\n",
    "result = '1,2,3'.split(',')\n",
    "print(type(result))\n",
    "print(result)"
   ]
  },
  {
   "cell_type": "code",
   "execution_count": 149,
   "id": "c686fb99-f16f-4514-9a7b-639fde350fed",
   "metadata": {},
   "outputs": [
    {
     "name": "stdin",
     "output_type": "stream",
     "text": [
      "hh:mm:ss의 형태로 시간을 입력해주세요 12:33:25\n"
     ]
    },
    {
     "name": "stdout",
     "output_type": "stream",
     "text": [
      "실행결과: 12:33:25\n",
      "시: 12\n",
      "분: 33\n",
      "초: 25\n"
     ]
    }
   ],
   "source": [
    "m = input(\"hh:mm:ss의 형태로 시간을 입력해주세요\")\n",
    "result = m.split(':')\n",
    "print(\"실행결과:\", m)\n",
    "print(\"시:\",result[0])\n",
    "print(\"분:\",result[1])\n",
    "print(\"초:\",result[2])"
   ]
  },
  {
   "cell_type": "code",
   "execution_count": 150,
   "id": "17eec4d2-11f9-4217-b8e1-4a4aae9dcc73",
   "metadata": {},
   "outputs": [
    {
     "name": "stdin",
     "output_type": "stream",
     "text": [
      "hh:mm:ss의 형태로 시간을 입력해주세요 12:33:25\n"
     ]
    },
    {
     "name": "stdout",
     "output_type": "stream",
     "text": [
      "시 : 12\n",
      "분 : 33\n",
      "초 : 25\n"
     ]
    }
   ],
   "source": [
    "### 해답\n",
    "\n",
    "h,m,s = input(\"hh:mm:ss의 형태로 시간을 입력해주세요\").split(\":\")\n",
    "print(\"시 :\", h)\n",
    "print(\"분 :\", m)\n",
    "print(\"초 :\", s)"
   ]
  },
  {
   "cell_type": "markdown",
   "id": "f14d6986-f243-499a-8412-b6a7561fb566",
   "metadata": {
    "tags": []
   },
   "source": [
    "#### map() 내장 함수 이용하기  \n",
    "#### 한번에 적용하는 방법  \n",
    "#### map(function, iterable) >> <class 'map'\n",
    "##### a = list(map(int(a)) int(a[0])   # (a)는 변환하고싶은 값"
   ]
  },
  {
   "cell_type": "code",
   "execution_count": 130,
   "id": "4e9a8802-b393-48b6-a89f-3a5a013e2859",
   "metadata": {},
   "outputs": [
    {
     "name": "stdout",
     "output_type": "stream",
     "text": [
      "[11, 2, 3, 4]\n"
     ]
    }
   ],
   "source": [
    "a = [11.2,2.5,3.7,4.6]\n",
    "a = list(map(int,a))\n",
    "print(a)"
   ]
  },
  {
   "cell_type": "code",
   "execution_count": 153,
   "id": "6febfec1-9815-4a8a-9dda-22fe8290c8f1",
   "metadata": {},
   "outputs": [
    {
     "name": "stdin",
     "output_type": "stream",
     "text": [
      "국어, 영어, 수학, 과학 점수를 입력해주세요 98,100,96,100\n"
     ]
    },
    {
     "name": "stdout",
     "output_type": "stream",
     "text": [
      "실행 결과:\n",
      "평균 점수는 98.5 점입니다.\n"
     ]
    }
   ],
   "source": [
    "kor, eng, mat, sci = input(\"국어, 영어, 수학, 과학 점수를 입력해주세요\").split(\",\")\n",
    "evg = (int(kor)+int(eng)+int(mat)+int(sci))/4\n",
    "print(\"실행 결과:\\n평균 점수는\",evg ,\"점입니다.\")\n"
   ]
  },
  {
   "cell_type": "code",
   "execution_count": 152,
   "id": "54c91b7c-d2d3-4c10-a510-9729d87f3d70",
   "metadata": {},
   "outputs": [
    {
     "name": "stdin",
     "output_type": "stream",
     "text": [
      "국어, 영어, 수학, 과학 점수를 입력해주세요 98,100,96,100\n"
     ]
    },
    {
     "name": "stdout",
     "output_type": "stream",
     "text": [
      "평균 점수는 98.5 점입니다.\n"
     ]
    }
   ],
   "source": [
    "#### 해답\n",
    "kor, eng, mat, sci = map(int,input(\"국어, 영어, 수학, 과학 점수를 입력해주세요\").split(\",\"))\n",
    "evg = (kor+eng+mat+sci)/4\n",
    "print(\"평균 점수는\",evg ,\"점입니다.\")"
   ]
  },
  {
   "cell_type": "code",
   "execution_count": 166,
   "id": "17ff093a-3dda-46c6-9aa1-25e01b874b1b",
   "metadata": {},
   "outputs": [
    {
     "name": "stdin",
     "output_type": "stream",
     "text": [
      "국어, 영어, 수학, 과학 점수를 입력해주세요 98,100,96,100\n"
     ]
    },
    {
     "name": "stdout",
     "output_type": "stream",
     "text": [
      "평균 점수는 98.5 점입니다.\n"
     ]
    }
   ],
   "source": [
    "#map은????/?\n",
    "ss = map(int,input(\"국어, 영어, 수학, 과학 점수를 입력해주세요\").split(\",\"))\n",
    "kor = 98\n",
    "eng = 100\n",
    "mat = 96\n",
    "sci = 100\n",
    "evg = (kor+eng+mat+sci)/4\n",
    "print(\"평균 점수는\",evg ,\"점입니다.\")"
   ]
  },
  {
   "cell_type": "code",
   "execution_count": 157,
   "id": "35f253d7-ec12-419a-bc97-b6226576c5d4",
   "metadata": {},
   "outputs": [],
   "source": [
    "#파이썬 출력 - 값과 값을 구분하는 단위 변경하기\n",
    "#print() 함수를 여러 인자 값으로 사용한다면, 값과 값을 구분하는 기본 문자는 공백으로 되어있는 걸 앞서 확인\n",
    "#맨 마지막에 ' sep = 구분기호 '를 작성하여 이를 공백이 아닌 다른 문자로 변경 가능\n",
    "#키워드로 지정된 값"
   ]
  },
  {
   "cell_type": "code",
   "execution_count": 156,
   "id": "f1de805e-3898-4a86-a92a-6447f01979b8",
   "metadata": {},
   "outputs": [
    {
     "name": "stdout",
     "output_type": "stream",
     "text": [
      "value, 1, 1.1, [1, 2, 'text']\n"
     ]
    }
   ],
   "source": [
    "print(\"value\",1,1.1,[1,2,'text'], sep = \", \")"
   ]
  },
  {
   "cell_type": "code",
   "execution_count": 168,
   "id": "c81b5ef6-65f1-4250-a9ee-c1e8a4a4abc6",
   "metadata": {},
   "outputs": [
    {
     "name": "stdout",
     "output_type": "stream",
     "text": [
      "줄이 바뀌지 않습니다.그 이유는 end=\"\\n\"과 같이 기본 설정된 값을 빈 스트링으로 변경했기 때문입니다.\n",
      "sep, end는 맨 뒤에 써야하며 둘 간 순서는 상관없습니다.어떻게 사용하는지\n",
      "이해가 되시나요?"
     ]
    }
   ],
   "source": [
    "#파이썬 출력 - 맨뒤 출력 문자 변경하기\n",
    "#출력되는 문자열 맨뒤에 개행 문자를 기본값으로 사용했기 때문, 이는 end=문자열을 맨뒤에 입력하여 변경할수있음.\n",
    "\n",
    "print(\"줄이 바뀌지 않습니다.\", end=\"\")\n",
    "print(\"그 이유는 end=\\\"\\\\n\\\"과 같이 기본 설정된 값을 빈 스트링으로 변경했기 때문입니다.\")\n",
    "print(\"sep\",\"end는 맨 뒤에 써야하며 둘 간 순서는 상관없습니다.\", sep=\", \", end=\"\")\n",
    "print(\"어떻게 사용하는지\", \"이해가 되시나요\", sep=\"\\n\", end=\"?\")\n",
    "\n",
    "#줄이 바뀌지 않음 . end=\"\\n\"와 같이 기본 설정된 값을 빈 스트링으로 변경했기 때문입니다\n",
    "#sep, end는 맨 뒤에 써야하며 둘 간 순서는 상관없습니다. "
   ]
  },
  {
   "cell_type": "code",
   "execution_count": 164,
   "id": "7aed3034-144c-4383-9cfd-47693c59680f",
   "metadata": {},
   "outputs": [
    {
     "name": "stdout",
     "output_type": "stream",
     "text": [
      "2021/02/03 18:33:23\n"
     ]
    }
   ],
   "source": [
    "year = '2021'\n",
    "month = '02'\n",
    "day = '03'\n",
    "hour = '18'\n",
    "minute = '33'\n",
    "second = '23'\n",
    "\n",
    "print(year, month, day, end=\" \", sep=\"/\" )\n",
    "print(hour, minute, second, sep=\":\")"
   ]
  },
  {
   "cell_type": "code",
   "execution_count": 176,
   "id": "c6cc40c4-b444-4b46-aedb-97f18317174d",
   "metadata": {},
   "outputs": [
    {
     "name": "stdin",
     "output_type": "stream",
     "text": [
      "사과와 귤을 몇개 드릴까요?  10,20\n"
     ]
    },
    {
     "name": "stdout",
     "output_type": "stream",
     "text": [
      "총 가격은 14000원입니다\n"
     ]
    }
   ],
   "source": [
    "ap, tan = map(int,input(\"사과와 귤을 몇개 드릴까요? \").split(\",\"))\n",
    "ap_p = 1000 * ap\n",
    "tan_p = 200 * tan\n",
    "print(\"총 가격은 \",ap_p + tan_p,\"원입니다\", sep=\"\")"
   ]
  },
  {
   "cell_type": "code",
   "execution_count": 178,
   "id": "ee7a8a4c-363c-42de-b08b-4a955009db93",
   "metadata": {},
   "outputs": [],
   "source": [
    "## 해답\n"
   ]
  },
  {
   "cell_type": "code",
   "execution_count": null,
   "id": "b582a69a-3cb1-4f5e-9307-4c1dfdf760ed",
   "metadata": {},
   "outputs": [],
   "source": [
    "## if 문\n",
    "## 만약 이조건이 True면 아래 들여쓰기한 부분을 실행해:\n",
    "## ` 들여쓰기(꼭 띄어쓰기 4칸 기억하기) `##\n",
    "\n",
    "## 만약 이조건이 False면 아래 들여쓰기한 부분을 패스해:\n",
    "## ` 들여쓰기(꼭 띄어쓰기 4칸 기억하기) `##"
   ]
  },
  {
   "cell_type": "code",
   "execution_count": 180,
   "id": "8eb0768d-ced1-4edb-b794-ca8431551cc2",
   "metadata": {},
   "outputs": [
    {
     "data": {
      "text/plain": [
       "True"
      ]
     },
     "execution_count": 180,
     "metadata": {},
     "output_type": "execute_result"
    }
   ],
   "source": [
    "# 객체 타입을 비교할 때는 \n",
    "## 좌 is 우 / 좌우 객체를 비교해 동일한 종류의 객체라면 True 다른객체라면 False\n",
    "type(input_value4) is int"
   ]
  },
  {
   "cell_type": "code",
   "execution_count": 181,
   "id": "8270834b-9570-47d3-b3e2-29bba3693e02",
   "metadata": {},
   "outputs": [
    {
     "name": "stdout",
     "output_type": "stream",
     "text": [
      "input_value4는 정수입니다.\n"
     ]
    }
   ],
   "source": [
    "# if문 예제\n",
    "다시 풀기\n",
    "if type(input_value4) is int:\n",
    "    print(\"input_value4는 정수입니다.\")"
   ]
  },
  {
   "cell_type": "code",
   "execution_count": 182,
   "id": "afdacf6d-c4ce-4fec-88e4-a5dfb4998419",
   "metadata": {},
   "outputs": [],
   "source": [
    "# 논리 연산 (and, or, not)"
   ]
  },
  {
   "cell_type": "code",
   "execution_count": 9,
   "id": "d7777013-3a4c-491a-89bf-8c2443412f2b",
   "metadata": {},
   "outputs": [],
   "source": [
    "# if문 > 만약 이 조건이 False면 아래 들여쓰기한 부분 패스해:\n",
    "# elif문 > 위 조건이 아니고 만약 이 조건이 True면 아래 들여쓰기한 부분을 실행해:\n",
    "# else문 > 위조건이 모두 아니라면 "
   ]
  },
  {
   "cell_type": "code",
   "execution_count": 185,
   "id": "c12bea5a-a82c-44cd-b863-85b374b36365",
   "metadata": {},
   "outputs": [
    {
     "name": "stdout",
     "output_type": "stream",
     "text": [
      "30대 입니다.\n",
      "감사합니다\n"
     ]
    }
   ],
   "source": [
    "age = 39\n",
    "if 20 <= age < 30:            # F\n",
    "    print(\"20대 입니다.\")\n",
    "elif 30 <= age < 40:          #T\n",
    "    print(\"30대 입니다.\") \n"
   ]
  },
  {
   "cell_type": "code",
   "execution_count": 186,
   "id": "dd1a31ee-d803-42af-ae89-aaf3e84e332c",
   "metadata": {},
   "outputs": [],
   "source": [
    "# 겹치지 않았을때 순서를 고려하지 않아도 무방\n",
    "# 상호 배타적이지 않은 경우(겹침x) if문과 elif문의 조건 순서를 반드시 고려해야한다."
   ]
  },
  {
   "cell_type": "code",
   "execution_count": 12,
   "id": "d56699af-3bf1-4b37-858a-b65619f8572b",
   "metadata": {},
   "outputs": [
    {
     "name": "stdin",
     "output_type": "stream",
     "text": [
      "실행결과:\n",
      "아이디를 입력하세요: biana\n",
      "회원 등급을 입력해주세요 3\n"
     ]
    },
    {
     "name": "stdout",
     "output_type": "stream",
     "text": [
      "\n",
      "제한적인 권한을 갖습니다.\n"
     ]
    }
   ],
   "source": [
    "# Q. 사용자로부터 아이디를 입력받습니다. 이때 아이디가 'admin'이면 '최고관리자, 모든 권한을 갖습니다.'를 출력하고 프로그램을 종료합니다.\n",
    "#    아이디가 'admin'이 아니면 회원 등급을 정수로 입력받습니다. 만약 회원 레벨이 1~3 사이 값이면 '제한적인 권한을 갖습니다.'를 출력하고,\n",
    "#    그렇지 않으면 '권한이 없습니다.'를 출력하는 프로그램을 작성해보세요.'''\n",
    "\n",
    "id = input(\"실행결과:\\n아이디를 입력하세요:\")\n",
    "if id == \"admin\":\n",
    "    print(\"최고 관리자, 모든 권한을 갖습니다.\")\n",
    "    exit()    # 프로그램 종료\n",
    "else:\n",
    "    lv = int(input(\"회원 등급을 입력해주세요\"))\n",
    "    if  1 <= lv <= 3:\n",
    "        print(\"\\n제한적인 권한을 갖습니다.\")\n",
    "    else:\n",
    "        print(\"\\n권한이 없습니다.\")\n",
    "        \n",
    "#문장 순서대로 차근차근 보기"
   ]
  },
  {
   "cell_type": "code",
   "execution_count": null,
   "id": "b0b52a34-526b-4995-8be6-f7634fca5cd8",
   "metadata": {},
   "outputs": [],
   "source": []
  }
 ],
 "metadata": {
  "kernelspec": {
   "display_name": "Python 3 (ipykernel)",
   "language": "python",
   "name": "python3"
  },
  "language_info": {
   "codemirror_mode": {
    "name": "ipython",
    "version": 3
   },
   "file_extension": ".py",
   "mimetype": "text/x-python",
   "name": "python",
   "nbconvert_exporter": "python",
   "pygments_lexer": "ipython3",
   "version": "3.9.13"
  }
 },
 "nbformat": 4,
 "nbformat_minor": 5
}
