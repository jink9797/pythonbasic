{
 "cells": [
  {
   "cell_type": "code",
   "execution_count": 1,
   "id": "b0fb85f0-0cc0-49e1-8339-6a92995ca091",
   "metadata": {},
   "outputs": [],
   "source": [
    "import pandas as pd\n",
    "import numpy as np\n",
    "import matplotlib as mpl\n",
    "import seaborn as sns\n",
    "import matplotlib.pyplot as plt\n",
    "%matplotlib inline"
   ]
  },
  {
   "cell_type": "code",
   "execution_count": 2,
   "id": "1e8b552c-ac69-4594-a6ab-8e7b60923944",
   "metadata": {},
   "outputs": [],
   "source": [
    "sns.set_style('darkgrid')\n",
    "mpl.rcParams['font.size'] = 13\n",
    "mpl.rcParams['figure.figsize'] = (10,5)\n",
    "mpl.rcParams['figure.facecolor'] = '#00000000'"
   ]
  },
  {
   "cell_type": "code",
   "execution_count": 3,
   "id": "3bf73bf0-7ffa-4932-b652-9c56f6127b5a",
   "metadata": {
    "scrolled": true,
    "tags": []
   },
   "outputs": [
    {
     "name": "stdout",
     "output_type": "stream",
     "text": [
      "Microsoft YaHei\n",
      "Dubai\n",
      "HYPost-Medium\n",
      "Perpetua Titling MT\n",
      "Times New Roman\n",
      "Segoe UI\n",
      "Ebrima\n",
      "Lucida Bright\n",
      "HoloLens MDL2 Assets\n",
      "Matura MT Script Capitals\n",
      "FZYaoTi\n",
      "STLiti\n",
      "Gill Sans MT\n",
      "Malgun Gothic\n",
      "Imprint MT Shadow\n",
      "Elephant\n",
      "Dubai\n",
      "Tw Cen MT\n",
      "HoloLens MDL2 Assets\n",
      "Pyunji R\n",
      "OCR A Extended\n",
      "Corbel\n",
      "Nirmala UI\n",
      "Courier New\n",
      "Tw Cen MT Condensed\n",
      "Parchment\n",
      "Franklin Gothic Medium\n",
      "Nirmala UI\n",
      "Segoe Print\n",
      "Gill Sans MT Condensed\n",
      "Microsoft PhagsPa\n",
      "Bodoni MT\n",
      "Franklin Gothic Book\n",
      "Calibri\n",
      "Lucida Sans Typewriter\n",
      "Microsoft YaHei\n",
      "Yu Gothic\n",
      "Franklin Gothic Medium Cond\n",
      "Kunstler Script\n",
      "Tahoma\n",
      "Vladimir Script\n",
      "Curlz MT\n",
      "Myanmar Text\n",
      "French Script MT\n",
      "Dubai\n",
      "Pyunji R\n",
      "Palatino Linotype\n",
      "Goudy Old Style\n",
      "MS Reference Specialty\n",
      "Microsoft Tai Le\n",
      "Calibri\n",
      "Bodoni MT\n",
      "Gadugi\n",
      "Franklin Gothic Demi Cond\n",
      "Rockwell Condensed\n",
      "Modern No. 20\n",
      "Courier New\n",
      "NanumGothic\n",
      "Garamond\n",
      "MV Boli\n",
      "HYSinMyeongJo-Medium\n",
      "Lucida Sans Typewriter\n",
      "Lucida Bright\n",
      "Rage Italic\n",
      "Georgia\n",
      "HYGraphic-Medium\n",
      "Goudy Stout\n",
      "MV Boli\n",
      "Bodoni MT\n",
      "Georgia\n",
      "Calisto MT\n",
      "HYMyeongJo-Extra\n",
      "Lucida Sans Typewriter\n",
      "Georgia\n",
      "Britannic Bold\n",
      "Dubai\n",
      "Goudy Old Style\n",
      "Bookman Old Style\n",
      "Microsoft New Tai Lue\n",
      "Leelawadee UI\n",
      "Microsoft YaHei\n",
      "Viner Hand ITC\n",
      "Comic Sans MS\n",
      "Candara\n",
      "Segoe Print\n",
      "Leelawadee UI\n",
      "SimSun-ExtB\n",
      "Lucida Sans\n",
      "Dubai\n",
      "STHupo\n",
      "Copperplate Gothic Bold\n",
      "Sitka Small\n",
      "Candara\n",
      "Candara\n",
      "HYShortSamul-Medium\n",
      "Bodoni MT\n",
      "Chiller\n",
      "Arial Rounded MT Bold\n",
      "Vivaldi\n",
      "Rage Italic\n",
      "HYPMokGak-Bold\n",
      "Franklin Gothic Book\n",
      "Bahnschrift\n",
      "Lucida Bright\n",
      "STSong\n",
      "Britannic Bold\n",
      "Franklin Gothic Book\n",
      "Matura MT Script Capitals\n",
      "Calisto MT\n",
      "Showcard Gothic\n",
      "Papyrus\n",
      "Microsoft JhengHei\n",
      "HYPMokGak-Bold\n",
      "Book Antiqua\n",
      "Tahoma\n",
      "Bookman Old Style\n",
      "Jokerman\n",
      "Gill Sans MT\n",
      "Gulim\n",
      "Sitka Small\n",
      "Trebuchet MS\n",
      "Niagara Solid\n",
      "NanumGothic\n",
      "Broadway\n",
      "Tw Cen MT\n",
      "Yet R\n",
      "Calibri\n",
      "Arial\n",
      "Wingdings 3\n",
      "Rockwell\n",
      "HYGungSo-Bold\n",
      "Bookman Old Style\n",
      "Courier New\n",
      "Sitka Small\n",
      "Corbel\n",
      "Harrington\n",
      "Segoe Print\n",
      "Lucida Sans\n",
      "NanumGothicOTF Eco\n",
      "Perpetua\n",
      "Calibri\n",
      "Comic Sans MS\n",
      "Segoe UI\n",
      "Dubai\n",
      "Javanese Text\n",
      "Corbel\n",
      "Perpetua Titling MT\n",
      "Sitka Small\n",
      "Franklin Gothic Medium Cond\n",
      "MoeumT R\n",
      "Lucida Fax\n",
      "Book Antiqua\n",
      "Ebrima\n",
      "Bodoni MT\n",
      "Juice ITC\n",
      "Bookman Old Style\n",
      "Lucida Sans Typewriter\n",
      "Microsoft Himalaya\n",
      "Bookman Old Style\n",
      "Segoe UI\n",
      "Lucida Bright\n",
      "Book Antiqua\n",
      "Comic Sans MS\n",
      "Lucida Fax\n",
      "Gill Sans MT\n",
      "Agency FB\n",
      "Lucida Bright\n",
      "Calisto MT\n",
      "Felix Titling\n",
      "Century Schoolbook\n",
      "Segoe UI\n",
      "Consolas\n",
      "Constantia\n",
      "Gadugi\n",
      "Cooper Black\n",
      "Wingdings\n",
      "Tahoma\n",
      "HYGothic-Extra\n",
      "Webdings\n",
      "Perpetua\n",
      "Comic Sans MS\n",
      "Century Gothic\n",
      "Verdana\n",
      "Palatino Linotype\n",
      "Segoe UI\n",
      "Microsoft YaHei\n",
      "Bookman Old Style\n",
      "Parchment\n",
      "Ravie\n",
      "Arial\n",
      "Palatino Linotype\n",
      "Bodoni MT\n",
      "FZShuTi\n",
      "STXihei\n",
      "Gill Sans MT\n",
      "HYGothic-Medium\n",
      "STXingkai\n",
      "Rockwell\n",
      "Constantia\n",
      "STXinwei\n",
      "Segoe MDL2 Assets\n",
      "Tw Cen MT\n",
      "Microsoft New Tai Lue\n",
      "FZYaoTi\n",
      "Nirmala UI\n",
      "Segoe UI Emoji\n",
      "Segoe UI Symbol\n",
      "Calibri\n",
      "MT Extra\n",
      "Viner Hand ITC\n",
      "Corbel\n",
      "Candara\n",
      "Bernard MT Condensed\n",
      "Century Gothic\n",
      "MoeumT R\n",
      "Lucida Fax\n",
      "Bell MT\n",
      "Palace Script MT\n",
      "Arial\n",
      "Garamond\n",
      "Lucida Bright\n",
      "Bodoni MT\n",
      "Goudy Old Style\n",
      "MingLiU-ExtB\n",
      "Gill Sans MT Ext Condensed Bold\n",
      "Gabriola\n",
      "Yu Gothic\n",
      "Corbel\n",
      "Headline R\n",
      "Perpetua Titling MT\n",
      "Blackadder ITC\n",
      "Franklin Gothic Heavy\n",
      "Ami R\n",
      "HYGothic-Medium\n",
      "Lucida Fax\n",
      "Palace Script MT\n",
      "Segoe UI\n",
      "STZhongsong\n",
      "Book Antiqua\n",
      "Calibri\n",
      "HYPost-Medium\n",
      "Century Schoolbook\n",
      "Lucida Calligraphy\n",
      "Poor Richard\n",
      "Constantia\n",
      "Consolas\n",
      "Symbol\n",
      "Magic R\n",
      "Forte\n",
      "Calisto MT\n",
      "Segoe UI Symbol\n",
      "Verdana\n",
      "Perpetua\n",
      "Segoe UI\n",
      "Segoe UI\n",
      "Magneto\n",
      "Gill Sans Ultra Bold Condensed\n",
      "Lucida Sans Typewriter\n",
      "NanumGothic\n",
      "STSong\n",
      "Impact\n",
      "Palatino Linotype\n",
      "Rockwell\n",
      "Lucida Bright\n",
      "Copperplate Gothic Bold\n",
      "Bodoni MT\n",
      "Lucida Sans\n",
      "Segoe UI\n",
      "Trebuchet MS\n",
      "Century Schoolbook\n",
      "Wingdings 3\n",
      "Segoe UI Historic\n",
      "Agency FB\n",
      "Bookman Old Style\n",
      "Candara\n",
      "Engravers MT\n",
      "Myanmar Text\n",
      "Franklin Gothic Demi\n",
      "STHupo\n",
      "Perpetua\n",
      "Segoe UI\n",
      "STKaiti\n",
      "Tempus Sans ITC\n",
      "MS Outlook\n",
      "Verdana\n",
      "Courier New\n",
      "Segoe UI\n",
      "HYMyeongJo-Extra\n",
      "Microsoft JhengHei\n",
      "Californian FB\n",
      "Sitka Small\n",
      "NanumGothic\n",
      "Batang\n",
      "Goudy Old Style\n",
      "Haettenschweiler\n",
      "Rockwell\n",
      "Arial Rounded MT Bold\n",
      "Bradley Hand ITC\n",
      "Goudy Old Style\n",
      "Gill Sans MT\n",
      "Niagara Engraved\n",
      "Californian FB\n",
      "Felix Titling\n",
      "Bell MT\n",
      "Gadugi\n",
      "HYSinMyeongJo-Medium\n",
      "HYGothic-Extra\n",
      "Informal Roman\n",
      "Symbol\n",
      "Microsoft PhagsPa\n",
      "Ebrima\n",
      "Candara\n",
      "Sitka Small\n",
      "Calibri\n",
      "Cambria\n",
      "Arial\n",
      "Colonna MT\n",
      "Gloucester MT Extra Condensed\n",
      "HYPost-Light\n",
      "Franklin Gothic Medium\n",
      "Agency FB\n",
      "Niagara Engraved\n",
      "Century Gothic\n",
      "Bodoni MT\n",
      "Arial\n",
      "Californian FB\n",
      "Harlow Solid Italic\n",
      "Eras Light ITC\n",
      "Yu Gothic\n",
      "Malgun Gothic\n",
      "Gadugi\n",
      "NanumGothic\n",
      "HYGungSo-Bold\n",
      "Myanmar Text\n",
      "Imprint MT Shadow\n",
      "Mongolian Baiti\n",
      "HYPost-Light\n",
      "Brush Script MT\n",
      "Microsoft Sans Serif\n",
      "Sylfaen\n",
      "Yu Gothic\n",
      "Footlight MT Light\n",
      "Corbel\n",
      "Californian FB\n",
      "Monotype Corsiva\n",
      "Lucida Sans\n",
      "HYHeadLine-Medium\n",
      "Malgun Gothic\n",
      "Old English Text MT\n",
      "Yu Gothic\n",
      "Californian FB\n",
      "Microsoft PhagsPa\n",
      "Rockwell Extra Bold\n",
      "Berlin Sans FB\n",
      "Berlin Sans FB\n",
      "Segoe UI\n",
      "Segoe UI\n",
      "Broadway\n",
      "New Gulim\n",
      "Arial\n",
      "Segoe UI\n",
      "STXihei\n",
      "STFangsong\n",
      "Sylfaen\n",
      "Onyx\n",
      "Blackadder ITC\n",
      "Calibri\n",
      "Mongolian Baiti\n",
      "Wingdings\n",
      "Myanmar Text\n",
      "Bell MT\n",
      "Segoe Script\n",
      "Maiandra GD\n",
      "Century Schoolbook\n",
      "Tw Cen MT Condensed Extra Bold\n",
      "Freestyle Script\n",
      "Yu Gothic\n",
      "Baskerville Old Face\n",
      "Microsoft New Tai Lue\n",
      "Wingdings 2\n",
      "Corbel\n",
      "Edwardian Script ITC\n",
      "Garamond\n",
      "Trebuchet MS\n",
      "Gulim\n",
      "Niagara Solid\n",
      "Nanum Pen Script\n",
      "Segoe UI\n",
      "Bodoni MT\n",
      "MT Extra\n",
      "Arial\n",
      "Cambria\n",
      "Gill Sans MT Condensed\n",
      "Segoe UI\n",
      "Eras Medium ITC\n",
      "Microsoft Himalaya\n",
      "Courier New\n",
      "Gloucester MT Extra Condensed\n",
      "Segoe UI\n",
      "Arial\n",
      "Vladimir Script\n",
      "Microsoft Yi Baiti\n",
      "Rockwell Condensed\n",
      "Kunstler Script\n",
      "Algerian\n",
      "Onyx\n",
      "STXingkai\n",
      "Lucida Sans Unicode\n",
      "Cambria\n",
      "Lucida Sans\n",
      "Arial\n",
      "Yu Gothic\n",
      "Bodoni MT\n",
      "Eras Demi ITC\n",
      "Perpetua\n",
      "Candara\n",
      "Comic Sans MS\n",
      "Footlight MT Light\n",
      "Bookshelf Symbol 7\n",
      "Lucida Sans\n",
      "Microsoft JhengHei\n",
      "Segoe UI\n",
      "Arial\n",
      "Playbill\n",
      "NanumGothic\n",
      "Times New Roman\n",
      "Lucida Handwriting\n",
      "Franklin Gothic Medium\n",
      "Segoe UI\n",
      "Wide Latin\n",
      "Copperplate Gothic Light\n",
      "Verdana\n",
      "Magneto\n",
      "Microsoft JhengHei\n",
      "Corbel\n",
      "Informal Roman\n",
      "Perpetua\n",
      "STXinwei\n",
      "Lucida Sans\n",
      "Arial\n",
      "Rockwell Condensed\n",
      "Century\n",
      "Georgia\n",
      "Franklin Gothic Demi\n",
      "YouYuan\n",
      "Comic Sans MS\n",
      "Century Schoolbook\n",
      "HYShortSamul-Medium\n",
      "Gill Sans Ultra Bold\n",
      "Constantia\n",
      "Gigi\n",
      "Consolas\n",
      "Tempus Sans ITC\n",
      "Gill Sans MT\n",
      "Cambria\n",
      "MS Gothic\n",
      "Stencil\n",
      "Rockwell Condensed\n",
      "Bodoni MT\n",
      "Gabriola\n",
      "Colonna MT\n",
      "Cooper Black\n",
      "Tw Cen MT Condensed\n",
      "Engravers MT\n",
      "Wingdings 2\n",
      "Comic Sans MS\n",
      "Calisto MT\n",
      "Calibri\n",
      "Bahnschrift\n",
      "Maiandra GD\n",
      "Segoe UI\n",
      "Rockwell Extra Bold\n",
      "High Tower Text\n",
      "Marlett\n",
      "Calibri\n",
      "Franklin Gothic Demi\n",
      "High Tower Text\n",
      "MS Reference Sans Serif\n",
      "SimSun\n",
      "Gill Sans MT Ext Condensed Bold\n",
      "Tahoma\n",
      "Cambria\n",
      "Castellar\n",
      "Microsoft Sans Serif\n",
      "Nirmala UI\n",
      "Candara\n",
      "Berlin Sans FB\n",
      "Bodoni MT\n",
      "Verdana\n",
      "Constantia\n",
      "Franklin Gothic Demi\n",
      "Lucida Handwriting\n",
      "Book Antiqua\n",
      "Ink Free\n",
      "Corbel\n",
      "Consolas\n",
      "STLiti\n",
      "Webdings\n",
      "Yu Gothic\n",
      "Gill Sans Ultra Bold\n",
      "Segoe UI\n",
      "Book Antiqua\n",
      "Garamond\n",
      "Cambria\n",
      "Century Schoolbook\n",
      "High Tower Text\n",
      "Snap ITC\n",
      "Harrington\n",
      "Gulim\n",
      "Ink Free\n",
      "Times New Roman\n",
      "Palatino Linotype\n",
      "Ravie\n",
      "Berlin Sans FB\n",
      "Bodoni MT\n",
      "Haettenschweiler\n",
      "Lucida Calligraphy\n",
      "MingLiU-ExtB\n",
      "Malgun Gothic\n",
      "Constantia\n",
      "Magic R\n",
      "Kristen ITC\n",
      "Arial\n",
      "Bell MT\n",
      "Bauhaus 93\n",
      "Century Gothic\n",
      "Script MT Bold\n",
      "Poor Richard\n",
      "Juice ITC\n",
      "Times New Roman\n",
      "Georgia\n",
      "Jokerman\n",
      "Perpetua\n",
      "Centaur\n",
      "Stencil\n",
      "Consolas\n",
      "Verdana\n",
      "MS Reference Specialty\n",
      "Malgun Gothic\n",
      "Curlz MT\n",
      "Bodoni MT\n",
      "Script MT Bold\n",
      "Constantia\n",
      "Eras Bold ITC\n",
      "Wide Latin\n",
      "Nirmala UI\n",
      "Tw Cen MT\n",
      "Microsoft Tai Le\n",
      "Century Gothic\n",
      "Mistral\n",
      "Arial\n",
      "HYHeadLine-Medium\n",
      "Segoe UI Emoji\n",
      "Microsoft Yi Baiti\n",
      "Bodoni MT\n",
      "Monotype Corsiva\n",
      "Garamond\n",
      "Bodoni MT\n",
      "Calisto MT\n",
      "Microsoft JhengHei\n",
      "Palatino Linotype\n",
      "YouYuan\n",
      "LiSu\n",
      "Bradley Hand ITC\n",
      "Centaur\n",
      "Nirmala UI\n",
      "Georgia\n",
      "Arial\n",
      "Elephant\n",
      "Tw Cen MT Condensed\n",
      "MS Gothic\n",
      "Century Gothic\n",
      "Calibri\n",
      "Calisto MT\n",
      "Eras Light ITC\n",
      "Rockwell\n",
      "Eras Bold ITC\n",
      "Palatino Linotype\n",
      "Sitka Small\n",
      "Impact\n",
      "Gigi\n",
      "Segoe Script\n",
      "Candara\n",
      "Times New Roman\n",
      "French Script MT\n",
      "STZhongsong\n",
      "Arial\n",
      "Perpetua Titling MT\n",
      "Segoe MDL2 Assets\n",
      "Snap ITC\n",
      "Century Gothic\n",
      "Rockwell\n",
      "Lucida Fax\n",
      "Segoe UI Historic\n",
      "Corbel\n",
      "Trebuchet MS\n",
      "Consolas\n",
      "Bodoni MT\n",
      "Bernard MT Condensed\n",
      "Corbel\n",
      "Copperplate Gothic Light\n",
      "Segoe Script\n",
      "Lucida Sans Unicode\n",
      "Vivaldi\n",
      "Lucida Sans Typewriter\n",
      "Century Gothic\n",
      "Tw Cen MT Condensed Extra Bold\n",
      "Perpetua\n",
      "Arial\n",
      "Freestyle Script\n",
      "Tw Cen MT\n",
      "Microsoft PhagsPa\n",
      "Harlow Solid Italic\n",
      "Bell MT\n",
      "Times New Roman\n",
      "SimSun-ExtB\n",
      "OCR A Extended\n",
      "Gill Sans MT\n",
      "Segoe UI\n",
      "Forte\n",
      "Lucida Sans Typewriter\n",
      "Trebuchet MS\n",
      "Franklin Gothic Heavy\n",
      "Eras Demi ITC\n",
      "Lucida Sans Typewriter\n",
      "Gill Sans MT\n",
      "Calibri\n",
      "Dubai\n",
      "Bodoni MT\n",
      "STFangsong\n",
      "Rockwell\n",
      "Playbill\n",
      "Corbel\n",
      "Goudy Stout\n",
      "Eras Medium ITC\n",
      "Georgia\n",
      "Garamond\n",
      "Lucida Console\n",
      "Tw Cen MT\n",
      "Tw Cen MT Condensed\n",
      "Ami R\n",
      "Dubai\n",
      "Bell MT\n",
      "Baskerville Old Face\n",
      "Cambria\n",
      "Franklin Gothic Heavy\n",
      "Headline R\n",
      "Old English Text MT\n",
      "Segoe Script\n",
      "Constantia\n",
      "Segoe UI\n",
      "Century Schoolbook\n",
      "Georgia\n",
      "Bookman Old Style\n",
      "HYGraphic-Medium\n",
      "Edwardian Script ITC\n",
      "Batang\n",
      "Microsoft YaHei\n",
      "Yet R\n",
      "Candara\n",
      "FZShuTi\n",
      "Verdana\n",
      "Consolas\n",
      "Gill Sans Ultra Bold Condensed\n",
      "Ebrima\n",
      "Leelawadee UI\n",
      "Sitka Small\n",
      "Elephant\n",
      "Candara\n",
      "Century\n",
      "Bauhaus 93\n",
      "Chiller\n",
      "MS Outlook\n",
      "Tw Cen MT\n",
      "LiSu\n",
      "Castellar\n",
      "Bodoni MT\n",
      "Consolas\n",
      "Courier New\n",
      "NanumGothic\n",
      "Courier New\n",
      "Agency FB\n",
      "MS Reference Sans Serif\n",
      "Lucida Sans\n",
      "Pristina\n",
      "Comic Sans MS\n",
      "Segoe UI\n",
      "Lucida Console\n",
      "Leelawadee UI\n",
      "Book Antiqua\n",
      "Trebuchet MS\n",
      "Pristina\n",
      "Calisto MT\n",
      "Elephant\n",
      "STCaiyun\n",
      "High Tower Text\n",
      "Century Schoolbook\n",
      "Berlin Sans FB Demi\n",
      "Javanese Text\n",
      "Tw Cen MT\n",
      "Berlin Sans FB Demi\n",
      "Microsoft JhengHei\n",
      "STKaiti\n",
      "Courier New\n",
      "Cambria\n",
      "Lucida Bright\n",
      "Modern No. 20\n",
      "Kristen ITC\n",
      "Bodoni MT\n",
      "Microsoft New Tai Lue\n",
      "Franklin Gothic Demi Cond\n",
      "Franklin Gothic Heavy\n",
      "New Gulim\n",
      "Trebuchet MS\n",
      "Franklin Gothic Medium\n",
      "Microsoft YaHei\n",
      "Brush Script MT\n",
      "Segoe Print\n",
      "Lucida Fax\n",
      "Arial\n",
      "Leelawadee UI\n",
      "STCaiyun\n",
      "Microsoft Tai Le\n",
      "Goudy Old Style\n",
      "Palatino Linotype\n",
      "Franklin Gothic Book\n",
      "SimSun\n",
      "Microsoft Tai Le\n",
      "Showcard Gothic\n",
      "Malgun Gothic\n",
      "Rockwell\n",
      "Algerian\n",
      "Mistral\n",
      "Leelawadee UI\n",
      "Lucida Fax\n",
      "NanumBarunpen\n",
      "Arial\n",
      "Times New Roman\n",
      "Candara\n",
      "Verdana\n",
      "Trebuchet MS\n",
      "Book Antiqua\n",
      "Papyrus\n",
      "Lucida Fax\n",
      "Californian FB\n",
      "Bookshelf Symbol 7\n",
      "Bodoni MT\n",
      "Times New Roman\n",
      "['NanumGothic']\n"
     ]
    }
   ],
   "source": [
    "import matplotlib.font_manager as font_manager\n",
    "import matplotlib as mpl\n",
    "# Add every font at the specified location\n",
    "font_dir = ['C:/python/fonts']\n",
    "for font in font_manager.findSystemFonts(fontpaths=None):\n",
    "    print(mpl.font_manager.FontProperties(fname=font).get_name()) \n",
    "    font_manager.fontManager.addfont(font)\n",
    "# Set font family globally\n",
    "mpl.rcParams['font.family'] = 'NanumGothic'\n",
    "print(mpl.rcParams['font.family'])"
   ]
  },
  {
   "cell_type": "code",
   "execution_count": 4,
   "id": "95a16bfe-d0aa-4ace-858f-47412575a978",
   "metadata": {},
   "outputs": [],
   "source": [
    "mpl.rcParams['axes.unicode_minus'] = False"
   ]
  },
  {
   "cell_type": "markdown",
   "id": "f0257f11-5e33-4e80-a342-d9b01454b7e9",
   "metadata": {},
   "source": [
    "> ## 출처 :  한국소비자원안전감시국 생활안전팀 - 자동심장충격기안전·교육 실태조사 (2017.12)"
   ]
  },
  {
   "cell_type": "markdown",
   "id": "7c6573b2-37ad-4b2a-962e-51b317b9bc8b",
   "metadata": {},
   "source": [
    "# AED 설치 인식도(거주자)"
   ]
  },
  {
   "cell_type": "code",
   "execution_count": 49,
   "id": "e9a2e3df-5f9f-44ed-94b1-bbf8cf7be9a1",
   "metadata": {},
   "outputs": [],
   "source": [
    "data = {\n",
    "    \"설치여부 모름\":[50.1],\n",
    "    \"설치 위치 알고 있음\":[20.6],\n",
    "    \"설치는 되어 있으나 설치 위치는 모름\":[16.7],\n",
    "    \"설치되어 있지 않음\":[12.6],\n",
    "}\n",
    "columns = [\"설치여부 모름\",\"설치 위치 알고 있음\",\"설치는 되어 있으나 설치 위치는 모름\",\"설치되어 있지 않음\"]\n",
    "index = [\"응답수\"]\n",
    "\n",
    "aed_install = pd.DataFrame(data, index = index, columns = columns)"
   ]
  },
  {
   "cell_type": "code",
   "execution_count": 50,
   "id": "404b7fdd-dc17-48e5-90fa-6aac557dbc9e",
   "metadata": {},
   "outputs": [
    {
     "data": {
      "text/html": [
       "<div>\n",
       "<style scoped>\n",
       "    .dataframe tbody tr th:only-of-type {\n",
       "        vertical-align: middle;\n",
       "    }\n",
       "\n",
       "    .dataframe tbody tr th {\n",
       "        vertical-align: top;\n",
       "    }\n",
       "\n",
       "    .dataframe thead th {\n",
       "        text-align: right;\n",
       "    }\n",
       "</style>\n",
       "<table border=\"1\" class=\"dataframe\">\n",
       "  <thead>\n",
       "    <tr style=\"text-align: right;\">\n",
       "      <th></th>\n",
       "      <th>설치여부 모름</th>\n",
       "      <th>설치 위치 알고 있음</th>\n",
       "      <th>설치는 되어 있으나 설치 위치는 모름</th>\n",
       "      <th>설치되어 있지 않음</th>\n",
       "    </tr>\n",
       "  </thead>\n",
       "  <tbody>\n",
       "    <tr>\n",
       "      <th>응답수</th>\n",
       "      <td>50.1</td>\n",
       "      <td>20.6</td>\n",
       "      <td>16.7</td>\n",
       "      <td>12.6</td>\n",
       "    </tr>\n",
       "  </tbody>\n",
       "</table>\n",
       "</div>"
      ],
      "text/plain": [
       "     설치여부 모름  설치 위치 알고 있음  설치는 되어 있으나 설치 위치는 모름  설치되어 있지 않음\n",
       "응답수     50.1         20.6                  16.7        12.6"
      ]
     },
     "execution_count": 50,
     "metadata": {},
     "output_type": "execute_result"
    }
   ],
   "source": [
    "aed_install"
   ]
  },
  {
   "cell_type": "code",
   "execution_count": 51,
   "id": "0c3e8691-d1e9-4116-a068-069d0df0cac8",
   "metadata": {},
   "outputs": [
    {
     "data": {
      "text/plain": [
       "array([50.1, 20.6, 16.7, 12.6])"
      ]
     },
     "execution_count": 51,
     "metadata": {},
     "output_type": "execute_result"
    }
   ],
   "source": [
    "install_p = aed_install.values.flatten()\n",
    "install_p"
   ]
  },
  {
   "cell_type": "code",
   "execution_count": 52,
   "id": "42b71c67-04ee-4bb4-81a1-afcd3e7024a5",
   "metadata": {},
   "outputs": [
    {
     "data": {
      "text/plain": [
       "Index(['설치여부 모름', '설치 위치 알고 있음', '설치는 되어 있으나 설치 위치는 모름', '설치되어 있지 않음'], dtype='object')"
      ]
     },
     "execution_count": 52,
     "metadata": {},
     "output_type": "execute_result"
    }
   ],
   "source": [
    "aed_install.columns"
   ]
  },
  {
   "cell_type": "code",
   "execution_count": 111,
   "id": "0ebcf05a-d9ed-4703-ac1a-29f69b383aa4",
   "metadata": {},
   "outputs": [
    {
     "data": {
      "image/png": "[encoded data removed]",
      "text/plain": [
       "<Figure size 1000x500 with 1 Axes>"
      ]
     },
     "metadata": {},
     "output_type": "display_data"
    }
   ],
   "source": [
    "labels = aed_install.columns\n",
    "sizes = install_p\n",
    "colors = ['yellowgreen','gold','lightskyblue','lightcoral']\n",
    "explode = (0,0.1,0,0)\n",
    "plt.title('AED 설치 인식도')\n",
    "plt.pie(sizes, explode = explode, labels = labels, colors=colors,\n",
    "        autopct = '%1.1f%%' , shadow = True, startangle = 220)\n",
    "plt.axis('equal') # 원의 형태를 유지\n",
    "plt.show()"
   ]
  },
  {
   "cell_type": "markdown",
   "id": "f9be6112-16e2-4dbe-b57b-9ad4e125a0c5",
   "metadata": {},
   "source": [
    "# AED 사용 의사"
   ]
  },
  {
   "cell_type": "code",
   "execution_count": 112,
   "id": "62bb73d6-d434-4b5a-866f-a01e5fcf1916",
   "metadata": {},
   "outputs": [
    {
     "data": {
      "text/html": [
       "<div>\n",
       "<style scoped>\n",
       "    .dataframe tbody tr th:only-of-type {\n",
       "        vertical-align: middle;\n",
       "    }\n",
       "\n",
       "    .dataframe tbody tr th {\n",
       "        vertical-align: top;\n",
       "    }\n",
       "\n",
       "    .dataframe thead th {\n",
       "        text-align: right;\n",
       "    }\n",
       "</style>\n",
       "<table border=\"1\" class=\"dataframe\">\n",
       "  <thead>\n",
       "    <tr style=\"text-align: right;\">\n",
       "      <th></th>\n",
       "      <th>사용의사 있음</th>\n",
       "      <th>사용의사 없음</th>\n",
       "    </tr>\n",
       "  </thead>\n",
       "  <tbody>\n",
       "    <tr>\n",
       "      <th>응답수</th>\n",
       "      <td>80.0</td>\n",
       "      <td>20.0</td>\n",
       "    </tr>\n",
       "  </tbody>\n",
       "</table>\n",
       "</div>"
      ],
      "text/plain": [
       "     사용의사 있음  사용의사 없음\n",
       "응답수     80.0     20.0"
      ]
     },
     "execution_count": 112,
     "metadata": {},
     "output_type": "execute_result"
    }
   ],
   "source": [
    "data = {\n",
    "    \"사용의사 있음\": 80.0,\n",
    "    \"사용의사 없음\": 20.0  \n",
    "}\n",
    "columns = [\"사용의사 있음\", \"사용의사 없음\"]\n",
    "index = [\"응답수\"]\n",
    "\n",
    "aed_used = pd.DataFrame(data, index = index, columns = columns)\n",
    "aed_used"
   ]
  },
  {
   "cell_type": "code",
   "execution_count": 113,
   "id": "e03ff035-4c63-4e64-80c7-ed7ebe8ea220",
   "metadata": {},
   "outputs": [
    {
     "data": {
      "text/plain": [
       "array([80., 20.])"
      ]
     },
     "execution_count": 113,
     "metadata": {},
     "output_type": "execute_result"
    }
   ],
   "source": [
    "used_na = aed_used.values.flatten()\n",
    "used_na"
   ]
  },
  {
   "cell_type": "code",
   "execution_count": 114,
   "id": "79addd75-7df9-414d-a5e2-e9bdd7f4724d",
   "metadata": {},
   "outputs": [
    {
     "data": {
      "text/plain": [
       "Index(['사용의사 있음', '사용의사 없음'], dtype='object')"
      ]
     },
     "execution_count": 114,
     "metadata": {},
     "output_type": "execute_result"
    }
   ],
   "source": [
    "aed_used.columns"
   ]
  },
  {
   "cell_type": "code",
   "execution_count": 115,
   "id": "6b9138a9-4d75-4d0b-b623-f89b8b0982c0",
   "metadata": {},
   "outputs": [
    {
     "data": {
      "image/png": "[encoded data removed]",
      "text/plain": [
       "<Figure size 1000x500 with 1 Axes>"
      ]
     },
     "metadata": {},
     "output_type": "display_data"
    }
   ],
   "source": [
    "labels = aed_used.columns\n",
    "sizes = used_na\n",
    "colors = ['lightskyblue','lightcoral']\n",
    "explode = (0,0.1)\n",
    "plt.title('AED 사용의사')\n",
    "plt.pie(sizes, explode = explode, labels = labels, colors=colors,\n",
    "        autopct = '%1.1f%%' , shadow = True, startangle = 90)\n",
    "plt.axis('equal') # 원의 형태를 유지\n",
    "plt.show()"
   ]
  },
  {
   "cell_type": "markdown",
   "id": "0ef571f3-f551-434a-b049-2e3561b06456",
   "metadata": {},
   "source": [
    "# AED 미사용 이유(복수응답)"
   ]
  },
  {
   "cell_type": "code",
   "execution_count": 116,
   "id": "f71384e3-afbc-493a-85d3-9af581448291",
   "metadata": {},
   "outputs": [
    {
     "data": {
      "text/html": [
       "<div>\n",
       "<style scoped>\n",
       "    .dataframe tbody tr th:only-of-type {\n",
       "        vertical-align: middle;\n",
       "    }\n",
       "\n",
       "    .dataframe tbody tr th {\n",
       "        vertical-align: top;\n",
       "    }\n",
       "\n",
       "    .dataframe thead th {\n",
       "        text-align: right;\n",
       "    }\n",
       "</style>\n",
       "<table border=\"1\" class=\"dataframe\">\n",
       "  <thead>\n",
       "    <tr style=\"text-align: right;\">\n",
       "      <th></th>\n",
       "      <th>사용법을 몰라서</th>\n",
       "      <th>만약의 경우 환자의 상태를 악화시킬까봐</th>\n",
       "      <th>자신감이 없어서</th>\n",
       "      <th>심정지 여부를판단할 수 없어서</th>\n",
       "      <th>소송 등 법적 분쟁이 우려돼서</th>\n",
       "      <th>기기 오작동이 우려돼서</th>\n",
       "    </tr>\n",
       "  </thead>\n",
       "  <tbody>\n",
       "    <tr>\n",
       "      <th>응답수</th>\n",
       "      <td>61.0</td>\n",
       "      <td>45.0</td>\n",
       "      <td>43.5</td>\n",
       "      <td>27.0</td>\n",
       "      <td>22.5</td>\n",
       "      <td>14.0</td>\n",
       "    </tr>\n",
       "  </tbody>\n",
       "</table>\n",
       "</div>"
      ],
      "text/plain": [
       "     사용법을 몰라서  만약의 경우 환자의 상태를 악화시킬까봐  자신감이 없어서  심정지 여부를판단할 수 없어서  \\\n",
       "응답수      61.0                   45.0      43.5              27.0   \n",
       "\n",
       "     소송 등 법적 분쟁이 우려돼서  기기 오작동이 우려돼서  \n",
       "응답수              22.5          14.0  "
      ]
     },
     "execution_count": 116,
     "metadata": {},
     "output_type": "execute_result"
    }
   ],
   "source": [
    "data = {\n",
    "    \"사용법을 몰라서\":[61.0],\n",
    "    \"만약의 경우 환자의 상태를 악화시킬까봐\":[45.0],\n",
    "    \"자신감이 없어서\":[43.5],\n",
    "    \"심정지 여부를판단할 수 없어서\":[27.0],\n",
    "    \"소송 등 법적 분쟁이 우려돼서\":[22.5],\n",
    "    \"기기 오작동이 우려돼서\":[14.0]\n",
    "}\n",
    "columns = [\"사용법을 몰라서\",\"만약의 경우 환자의 상태를 악화시킬까봐\",\"자신감이 없어서\",\n",
    "           \"심정지 여부를판단할 수 없어서\",\"소송 등 법적 분쟁이 우려돼서\",\"기기 오작동이 우려돼서\"]\n",
    "index = [\"응답수\"]\n",
    "\n",
    "aed_nu = pd.DataFrame(data, index = index, columns = columns)\n",
    "aed_nu"
   ]
  },
  {
   "cell_type": "code",
   "execution_count": 117,
   "id": "13f9f87c-ac70-4f41-af83-bc7691ec6b9a",
   "metadata": {},
   "outputs": [
    {
     "data": {
      "text/plain": [
       "array([61. , 45. , 43.5, 27. , 22.5, 14. ])"
      ]
     },
     "execution_count": 117,
     "metadata": {},
     "output_type": "execute_result"
    }
   ],
   "source": [
    "nu_servey = aed_nu.values.flatten()\n",
    "nu_servey"
   ]
  },
  {
   "cell_type": "code",
   "execution_count": 118,
   "id": "5b1e186b-c7fc-408a-94de-4898e556ec29",
   "metadata": {},
   "outputs": [
    {
     "data": {
      "text/plain": [
       "Index(['사용법을 몰라서', '만약의 경우 환자의 상태를 악화시킬까봐', '자신감이 없어서', '심정지 여부를판단할 수 없어서',\n",
       "       '소송 등 법적 분쟁이 우려돼서', '기기 오작동이 우려돼서'],\n",
       "      dtype='object')"
      ]
     },
     "execution_count": 118,
     "metadata": {},
     "output_type": "execute_result"
    }
   ],
   "source": [
    "aed_nu.columns"
   ]
  },
  {
   "cell_type": "code",
   "execution_count": 119,
   "id": "74787f74-6909-4091-a5d1-56683399c44a",
   "metadata": {},
   "outputs": [
    {
     "data": {
      "image/png": "[encoded data removed]",
      "text/plain": [
       "<Figure size 1000x500 with 1 Axes>"
      ]
     },
     "metadata": {},
     "output_type": "display_data"
    }
   ],
   "source": [
    "labels = aed_nu.columns\n",
    "sizes = nu_servey\n",
    "colors = ['yellowgreen','gold','lightskyblue','lightcoral','violet','lightpink']\n",
    "explode = (0.1,0,0,0,0,0)\n",
    "plt.title('AED 미사용이유(복수응답)')\n",
    "plt.pie(sizes, explode = explode, labels = labels, colors=colors,\n",
    "        autopct = '%1.1f%%' , shadow = True, startangle = 90)\n",
    "plt.axis('equal') # 원의 형태를 유지\n",
    "plt.show()"
   ]
  },
  {
   "cell_type": "markdown",
   "id": "1f65aaf1-9c11-4e42-b764-fb19c41d6c73",
   "metadata": {},
   "source": [
    "# AED 교육 필요성"
   ]
  },
  {
   "cell_type": "code",
   "execution_count": 120,
   "id": "4820dd80-f2cb-4c14-97eb-59bb94f1303f",
   "metadata": {},
   "outputs": [
    {
     "data": {
      "text/html": [
       "<div>\n",
       "<style scoped>\n",
       "    .dataframe tbody tr th:only-of-type {\n",
       "        vertical-align: middle;\n",
       "    }\n",
       "\n",
       "    .dataframe tbody tr th {\n",
       "        vertical-align: top;\n",
       "    }\n",
       "\n",
       "    .dataframe thead th {\n",
       "        text-align: right;\n",
       "    }\n",
       "</style>\n",
       "<table border=\"1\" class=\"dataframe\">\n",
       "  <thead>\n",
       "    <tr style=\"text-align: right;\">\n",
       "      <th></th>\n",
       "      <th>매우 필요</th>\n",
       "      <th>필요</th>\n",
       "      <th>보통</th>\n",
       "      <th>불필요</th>\n",
       "    </tr>\n",
       "  </thead>\n",
       "  <tbody>\n",
       "    <tr>\n",
       "      <th>응답수</th>\n",
       "      <td>37.9</td>\n",
       "      <td>53.3</td>\n",
       "      <td>8.5</td>\n",
       "      <td>0.3</td>\n",
       "    </tr>\n",
       "  </tbody>\n",
       "</table>\n",
       "</div>"
      ],
      "text/plain": [
       "     매우 필요    필요   보통  불필요\n",
       "응답수   37.9  53.3  8.5  0.3"
      ]
     },
     "execution_count": 120,
     "metadata": {},
     "output_type": "execute_result"
    }
   ],
   "source": [
    "data = {\n",
    "    \"매우 필요\":[37.9],\n",
    "    \"필요\":[53.3],\n",
    "    \"보통\":[8.5],\n",
    "    \"불필요\":[0.3],\n",
    "}\n",
    "columns = [\"매우 필요\",\"필요\",\"보통\",\"불필요\"]\n",
    "index = [\"응답수\"]\n",
    "\n",
    "aed_study = pd.DataFrame(data, index = index, columns = columns)\n",
    "aed_study"
   ]
  },
  {
   "cell_type": "code",
   "execution_count": 121,
   "id": "05e780d9-22a0-41ab-8ce2-dcfdb8d9b536",
   "metadata": {},
   "outputs": [
    {
     "data": {
      "text/plain": [
       "array([37.9, 53.3,  8.5,  0.3])"
      ]
     },
     "execution_count": 121,
     "metadata": {},
     "output_type": "execute_result"
    }
   ],
   "source": [
    "study_survey = aed_study.values.flatten()\n",
    "study_survey"
   ]
  },
  {
   "cell_type": "code",
   "execution_count": 122,
   "id": "f5ba5b46-842e-42e6-8209-2b8b72bccead",
   "metadata": {},
   "outputs": [
    {
     "data": {
      "text/plain": [
       "Index(['매우 필요', '필요', '보통', '불필요'], dtype='object')"
      ]
     },
     "execution_count": 122,
     "metadata": {},
     "output_type": "execute_result"
    }
   ],
   "source": [
    "aed_study.columns"
   ]
  },
  {
   "cell_type": "code",
   "execution_count": 128,
   "id": "d8a712da-18c2-44ee-9ea0-d6339e683dac",
   "metadata": {
    "collapsed": true,
    "jupyter": {
     "outputs_hidden": true
    },
    "tags": []
   },
   "outputs": [
    {
     "data": {
      "image/png": "[encoded data removed]",
      "text/plain": [
       "<Figure size 1000x500 with 1 Axes>"
      ]
     },
     "metadata": {},
     "output_type": "display_data"
    }
   ],
   "source": [
    "labels = aed_study.columns\n",
    "sizes = study_survey\n",
    "colors = ['lightskyblue','lightcoral','violet','lightpink']\n",
    "explode = (0,0.1,0,0)\n",
    "plt.title('AED 교육필요성')\n",
    "plt.pie(sizes, explode = explode, labels = labels, colors=colors,\n",
    "        autopct = '%1.1f%%' , shadow = True, startangle = 90)\n",
    "plt.axis('equal') # 원의 형태를 유지\n",
    "plt.show()"
   ]
  },
  {
   "cell_type": "code",
   "execution_count": 141,
   "id": "0a003517-e9e8-49b6-a91d-194f031f5b12",
   "metadata": {},
   "outputs": [
    {
     "data": {
      "image/png": "[encoded data removed]",
      "text/plain": [
       "<Figure size 1000x500 with 1 Axes>"
      ]
     },
     "metadata": {
      "needs_background": "light"
     },
     "output_type": "display_data"
    }
   ],
   "source": [
    "labels = aed_study.columns\n",
    "value = study_survey  \n",
    "colors = ['lightskyblue','pink','mediumpurple','lawngreen']\n",
    "\n",
    "plt.title('AED 교육 필요성')\n",
    "plt.barh(labels,value, color = colors)\n",
    "plt.show()"
   ]
  },
  {
   "cell_type": "markdown",
   "id": "cf96892a-f0c6-4cbd-97ab-c83dc6122ffc",
   "metadata": {},
   "source": [
    "# AED 효과적 교육 방법(복수응답)"
   ]
  },
  {
   "cell_type": "code",
   "execution_count": 138,
   "id": "54c86cfe-ef16-46ec-8489-14f093e36283",
   "metadata": {},
   "outputs": [
    {
     "data": {
      "text/html": [
       "<div>\n",
       "<style scoped>\n",
       "    .dataframe tbody tr th:only-of-type {\n",
       "        vertical-align: middle;\n",
       "    }\n",
       "\n",
       "    .dataframe tbody tr th {\n",
       "        vertical-align: top;\n",
       "    }\n",
       "\n",
       "    .dataframe thead th {\n",
       "        text-align: right;\n",
       "    }\n",
       "</style>\n",
       "<table border=\"1\" class=\"dataframe\">\n",
       "  <thead>\n",
       "    <tr style=\"text-align: right;\">\n",
       "      <th></th>\n",
       "      <th>개인별 실습</th>\n",
       "      <th>강사 시범</th>\n",
       "      <th>동영상</th>\n",
       "      <th>이론</th>\n",
       "      <th>시뮬레이션</th>\n",
       "      <th>TV 방송</th>\n",
       "    </tr>\n",
       "  </thead>\n",
       "  <tbody>\n",
       "    <tr>\n",
       "      <th>응답수</th>\n",
       "      <td>97.4</td>\n",
       "      <td>96.9</td>\n",
       "      <td>88.8</td>\n",
       "      <td>51.4</td>\n",
       "      <td>0.3</td>\n",
       "      <td>0.1</td>\n",
       "    </tr>\n",
       "  </tbody>\n",
       "</table>\n",
       "</div>"
      ],
      "text/plain": [
       "     개인별 실습  강사 시범   동영상    이론  시뮬레이션  TV 방송\n",
       "응답수    97.4   96.9  88.8  51.4    0.3    0.1"
      ]
     },
     "execution_count": 138,
     "metadata": {},
     "output_type": "execute_result"
    }
   ],
   "source": [
    " data = {\n",
    "    \"개인별 실습\":[97.4],\n",
    "    \"강사 시범\":[96.9],\n",
    "    \"동영상\":[88.8],\n",
    "    \"이론\":[51.4],\n",
    "    \"시뮬레이션\":[0.3],\n",
    "    \"TV 방송\":[0.1]\n",
    "}\n",
    "columns = [\"개인별 실습\",\"강사 시범\",\"동영상\",\"이론\",\"시뮬레이션\",\"TV 방송\"]\n",
    "index = [\"응답수\"]\n",
    "\n",
    "aed_effective = pd.DataFrame(data, index = index, columns = columns)\n",
    "aed_effective"
   ]
  },
  {
   "cell_type": "code",
   "execution_count": 139,
   "id": "326c11b5-9751-4ad8-8c85-74a332d5ba3a",
   "metadata": {},
   "outputs": [
    {
     "data": {
      "text/plain": [
       "array([97.4, 96.9, 88.8, 51.4,  0.3,  0.1])"
      ]
     },
     "execution_count": 139,
     "metadata": {},
     "output_type": "execute_result"
    }
   ],
   "source": [
    "effective_survey = aed_effective.values.flatten()\n",
    "effective_survey"
   ]
  },
  {
   "cell_type": "code",
   "execution_count": 140,
   "id": "6550b84a-0abd-4159-9553-65e80f0114b1",
   "metadata": {},
   "outputs": [
    {
     "data": {
      "text/plain": [
       "Index(['개인별 실습', '강사 시범', '동영상', '이론', '시뮬레이션', 'TV 방송'], dtype='object')"
      ]
     },
     "execution_count": 140,
     "metadata": {},
     "output_type": "execute_result"
    }
   ],
   "source": [
    "aed_effective.columns"
   ]
  },
  {
   "cell_type": "code",
   "execution_count": 154,
   "id": "2cbdb520-fc6d-49b3-8ca6-abef77bc4efc",
   "metadata": {},
   "outputs": [
    {
     "data": {
      "image/png": "[encoded data removed]",
      "text/plain": [
       "<Figure size 1000x500 with 1 Axes>"
      ]
     },
     "metadata": {
      "needs_background": "light"
     },
     "output_type": "display_data"
    }
   ],
   "source": [
    "labels = aed_effective.columns\n",
    "value = effective_survey  \n",
    "colors = ['lightskyblue','pink','mediumpurple','lawngreen','dodgerblue','moccasin']\n",
    "\n",
    "plt.title('AED 효과적 교육 방법(복수응답)')\n",
    "plt.barh(labels,value, color = colors)\n",
    "plt.show()"
   ]
  },
  {
   "cell_type": "markdown",
   "id": "87da183c-4f38-4692-a6b9-e0b24ad6598a",
   "metadata": {},
   "source": [
    "# AED 교육 반복 교육 적정 주기"
   ]
  },
  {
   "cell_type": "code",
   "execution_count": 212,
   "id": "127dffdb-1e28-407d-bf0c-190c92c6119c",
   "metadata": {},
   "outputs": [
    {
     "data": {
      "text/html": [
       "<div>\n",
       "<style scoped>\n",
       "    .dataframe tbody tr th:only-of-type {\n",
       "        vertical-align: middle;\n",
       "    }\n",
       "\n",
       "    .dataframe tbody tr th {\n",
       "        vertical-align: top;\n",
       "    }\n",
       "\n",
       "    .dataframe thead th {\n",
       "        text-align: right;\n",
       "    }\n",
       "</style>\n",
       "<table border=\"1\" class=\"dataframe\">\n",
       "  <thead>\n",
       "    <tr style=\"text-align: right;\">\n",
       "      <th></th>\n",
       "      <th>5년/1회</th>\n",
       "      <th>4년/1회</th>\n",
       "      <th>3년/1회</th>\n",
       "      <th>2년/1회</th>\n",
       "      <th>1년/1회</th>\n",
       "      <th>6개월/1회</th>\n",
       "    </tr>\n",
       "  </thead>\n",
       "  <tbody>\n",
       "    <tr>\n",
       "      <th>응답수</th>\n",
       "      <td>1.6</td>\n",
       "      <td>0.5</td>\n",
       "      <td>5.4</td>\n",
       "      <td>15.7</td>\n",
       "      <td>45.9</td>\n",
       "      <td>30.8</td>\n",
       "    </tr>\n",
       "  </tbody>\n",
       "</table>\n",
       "</div>"
      ],
      "text/plain": [
       "     5년/1회  4년/1회  3년/1회  2년/1회  1년/1회  6개월/1회\n",
       "응답수    1.6    0.5    5.4   15.7   45.9    30.8"
      ]
     },
     "execution_count": 212,
     "metadata": {},
     "output_type": "execute_result"
    }
   ],
   "source": [
    " data = {\n",
    "    \"6개월/1회\":[30.8],\n",
    "    \"1년/1회\":[45.9],\n",
    "    \"2년/1회\":[15.7],\n",
    "    \"3년/1회\":[5.4],\n",
    "    \"4년/1회\":[0.5],\n",
    "    \"5년/1회\":[1.6]\n",
    "}\n",
    "columns = [\"5년/1회\",\"4년/1회\",\"3년/1회\",\"2년/1회\", \"1년/1회\", \"6개월/1회\"]\n",
    "    #columns = [\"6개월/1회\",\"1년/1회\",\"2년/1회\",\"3년/1회\",\"4년/1회\",\"5년/1회\"]\n",
    "index = [\"응답수\"]\n",
    "\n",
    "aed_year = pd.DataFrame(data, index = index, columns = columns)\n",
    "aed_year"
   ]
  },
  {
   "cell_type": "code",
   "execution_count": 213,
   "id": "06fe35eb-7626-40e0-b0f6-fdcb769aa75e",
   "metadata": {},
   "outputs": [
    {
     "data": {
      "text/plain": [
       "Index(['5년/1회', '4년/1회', '3년/1회', '2년/1회', '1년/1회', '6개월/1회'], dtype='object')"
      ]
     },
     "execution_count": 213,
     "metadata": {},
     "output_type": "execute_result"
    }
   ],
   "source": [
    "aed_year.columns"
   ]
  },
  {
   "cell_type": "code",
   "execution_count": 214,
   "id": "132fb800-687c-4287-8fbb-52441b1866be",
   "metadata": {},
   "outputs": [
    {
     "data": {
      "text/plain": [
       "array([ 1.6,  0.5,  5.4, 15.7, 45.9, 30.8])"
      ]
     },
     "execution_count": 214,
     "metadata": {},
     "output_type": "execute_result"
    }
   ],
   "source": [
    "year_survey = aed_year.values.flatten()\n",
    "year_survey"
   ]
  },
  {
   "cell_type": "code",
   "execution_count": 215,
   "id": "00e4a27a-aedd-4ce3-9c4e-52b06bdf80ec",
   "metadata": {},
   "outputs": [
    {
     "data": {
      "image/png": "[encoded data removed]",
      "text/plain": [
       "<Figure size 1000x500 with 1 Axes>"
      ]
     },
     "metadata": {
      "needs_background": "light"
     },
     "output_type": "display_data"
    }
   ],
   "source": [
    "labels = aed_year.columns\n",
    "value = year_survey  \n",
    "colors = ['lightskyblue','pink','mediumpurple','lawngreen','dodgerblue','moccasin']\n",
    "\n",
    "plt.title('AED 효과적 교육 방법(복수응답)')\n",
    "plt.barh(labels,value, color = colors)\n",
    "plt.show()"
   ]
  },
  {
   "cell_type": "code",
   "execution_count": null,
   "id": "9aff2e7d-6345-4187-b634-28d552fbeb47",
   "metadata": {},
   "outputs": [],
   "source": []
  },
  {
   "cell_type": "code",
   "execution_count": null,
   "id": "8c425e8d-1805-43ae-b5b7-c5d2fb2b589a",
   "metadata": {},
   "outputs": [],
   "source": []
  }
 ],
 "metadata": {
  "kernelspec": {
   "display_name": "Python 3 (ipykernel)",
   "language": "python",
   "name": "python3"
  },
  "language_info": {
   "codemirror_mode": {
    "name": "ipython",
    "version": 3
   },
   "file_extension": ".py",
   "mimetype": "text/x-python",
   "name": "python",
   "nbconvert_exporter": "python",
   "pygments_lexer": "ipython3",
   "version": "3.9.13"
  }
 },
 "nbformat": 4,
 "nbformat_minor": 5
}
