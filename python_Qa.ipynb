{
 "cells": [
  {
   "cell_type": "markdown",
   "id": "9be266e7-11ef-4d40-b6bd-133afa01c158",
   "metadata": {},
   "source": [
    "#### 복습"
   ]
  },
  {
   "cell_type": "code",
   "execution_count": 22,
   "id": "02cd9852-14b3-4c42-8e3d-1f665538dbb9",
   "metadata": {
    "tags": []
   },
   "outputs": [
    {
     "name": "stdout",
     "output_type": "stream",
     "text": [
      "[0, 0, 0, 0, 0, 0]\n",
      "[0, 2, 1, 2, 1, 4]\n",
      "김태형 후보가 총 4표를 받아 당선되었습니다.\n"
     ]
    }
   ],
   "source": [
    "votes = [2, 5, 3, 4, 1, 5, 1, 5, 5, 3]     \n",
    "candidates = [\"\", \"전정국\", \"김남준\", \"박지민\",\"정호석\",\"김태형\"]\n",
    "counts = [0] * len(candidates)            #count 의 개수를 구하기 위해\n",
    "print(counts)\n",
    "for vote in votes:\n",
    "    counts[vote] += 1\n",
    "print(counts)\n",
    "i = 1\n",
    "max_c = 0   # 1, 2, 3, 4, 5\n",
    "elected_person = 0 #index 용\n",
    "while i < len(counts): # len(counts) => 6\n",
    "    if max_c < counts[i]:\n",
    "        max_c = counts[i]\n",
    "        elected_person = i\n",
    "    i += 1\n",
    "print(f'{candidates[elected_person]} 후보가 총 {max_c}표를 받아 당선되었습니다.')"
   ]
  },
  {
   "cell_type": "code",
   "execution_count": 42,
   "id": "81837962-0c8b-4508-9bde-927cb893ff6f",
   "metadata": {
    "collapsed": true,
    "jupyter": {
     "outputs_hidden": true
    },
    "tags": []
   },
   "outputs": [
    {
     "name": "stdin",
     "output_type": "stream",
     "text": [
      "순환할 숫자를 입력하세요: 10\n"
     ]
    },
    {
     "name": "stdout",
     "output_type": "stream",
     "text": [
      "1 2 3 4 5 6 7 8 9 10 \n",
      "2 3 4 5 6 7 8 9 10 1 \n",
      "3 4 5 6 7 8 9 10 1 2 \n",
      "4 5 6 7 8 9 10 1 2 3 \n",
      "5 6 7 8 9 10 1 2 3 4 \n",
      "6 7 8 9 10 1 2 3 4 5 \n",
      "7 8 9 10 1 2 3 4 5 6 \n",
      "8 9 10 1 2 3 4 5 6 7 \n",
      "9 10 1 2 3 4 5 6 7 8 \n",
      "10 1 2 3 4 5 6 7 8 9 \n"
     ]
    }
   ],
   "source": [
    "num = int(input(\"순환할 숫자를 입력하세요:\"))  #10 / 입력한 값을 ㄴ\n",
    "\n",
    "for i in range(1,num+1):\n",
    "    for j in range(i,num+i):\n",
    "        if j % num == 0:\n",
    "            print(num, end = \" \")\n",
    "        else:\n",
    "            print(j % num, end=\" \")\n",
    "    print()"
   ]
  },
  {
   "cell_type": "code",
   "execution_count": 43,
   "id": "a6950b27-f2c5-4060-bd53-00cd465db5e2",
   "metadata": {
    "tags": []
   },
   "outputs": [
    {
     "name": "stdin",
     "output_type": "stream",
     "text": [
      "순환할 숫자를 입력하세요: 10\n"
     ]
    },
    {
     "name": "stdout",
     "output_type": "stream",
     "text": [
      "1 2 3 4 5 6 7 8 9 10 \n",
      "2 3 4 5 6 7 8 9 10 1 \n",
      "3 4 5 6 7 8 9 10 1 2 \n",
      "4 5 6 7 8 9 10 1 2 3 \n",
      "5 6 7 8 9 10 1 2 3 4 \n",
      "6 7 8 9 10 1 2 3 4 5 \n",
      "7 8 9 10 1 2 3 4 5 6 \n",
      "8 9 10 1 2 3 4 5 6 7 \n",
      "9 10 1 2 3 4 5 6 7 8 \n",
      "10 1 2 3 4 5 6 7 8 9 \n"
     ]
    }
   ],
   "source": [
    "num = int(input(\"순환할 숫자를 입력하세요:\"))\n",
    "e = [i for i in range(1, num+1)]\n",
    "for j in range(len(e)):\n",
    "    j = 0\n",
    "    for i in e:\n",
    "        print(i,end=\" \")\n",
    "    print()\n",
    "    e.append(e[j])\n",
    "    e.remove(e[j])"
   ]
  },
  {
   "cell_type": "code",
   "execution_count": null,
   "id": "3474c86c-984f-4bf6-901f-f04bd6c7b0f0",
   "metadata": {},
   "outputs": [],
   "source": [
    "# Q 사용자가 공백을 구분자로 정수 두개를 입력합니다. 첫번째 입력값의 범위는 1~20, 두번째 입력 값의 범위는 10 ~ 30이며 첫 번째 입력 값은 두번째 입력 값보다\n",
    "# 항상 작습니다.                                # 2 첫번째 값 ~ 두번째값 \n",
    "# - 첫번째 정수부터 두 번째 정수까지를 지수로 하는 2의 거듭제곱 리스트를 출력하는 프로그램을 만드세요.\n",
    "# 단, 리스트의 두번째요소와 뒤에서 두번째 요소는 삭제한 뒤 출력. 출력 결과는 리스트 형태여야 함"
   ]
  },
  {
   "cell_type": "code",
   "execution_count": null,
   "id": "e05d5623-e5c8-45ea-9c66-efce4e9cf193",
   "metadata": {},
   "outputs": [],
   "source": [
    "num, num1 = map(int,input(\"정수 두개를 입력하세요:\").split())\n",
    "li = [2**n for n in range(num,num1+1)]\n",
    "print(li)"
   ]
  },
  {
   "cell_type": "code",
   "execution_count": 44,
   "id": "1696339e-61fb-4c9d-80dd-c0a9900250c6",
   "metadata": {},
   "outputs": [
    {
     "ename": "IndentationError",
     "evalue": "expected an indented block (296395147.py, line 7)",
     "output_type": "error",
     "traceback": [
      "\u001b[1;36m  File \u001b[1;32m\"C:\\Users\\Playdata\\AppData\\Local\\Temp\\ipykernel_9956\\296395147.py\"\u001b[1;36m, line \u001b[1;32m7\u001b[0m\n\u001b[1;33m    \u001b[0m\n\u001b[1;37m    ^\u001b[0m\n\u001b[1;31mIndentationError\u001b[0m\u001b[1;31m:\u001b[0m expected an indented block\n"
     ]
    }
   ],
   "source": [
    "i = 0\n",
    "while i < 100:\n",
    "    i += 1\n",
    "    if i **\n",
    "        "
   ]
  },
  {
   "cell_type": "code",
   "execution_count": 46,
   "id": "786e2d66-9971-42ec-b6b3-e7305515970f",
   "metadata": {},
   "outputs": [
    {
     "name": "stdout",
     "output_type": "stream",
     "text": [
      "- 1 + 4 - 9 + 16 - 25 + 36 - 49 + 64 - 81 + 100 \n",
      "- 121 + 144 - 169 + 196 - 225 + 256 - 289 + 324 - 361 + 400 \n",
      "- 441 + 484 - 529 + 576 - 625 + 676 - 729 + 784 - 841 + 900 \n",
      "- 961 + 1024 - 1089 + 1156 - 1225 + 1296 - 1369 + 1444 - 1521 + 1600 \n",
      "- 1681 + 1764 - 1849 + 1936 - 2025 + 2116 - 2209 + 2304 - 2401 + 2500 \n",
      "- 2601 + 2704 - 2809 + 2916 - 3025 + 3136 - 3249 + 3364 - 3481 + 3600 \n",
      "- 3721 + 3844 - 3969 + 4096 - 4225 + 4356 - 4489 + 4624 - 4761 + 4900 \n",
      "- 5041 + 5184 - 5329 + 5476 - 5625 + 5776 - 5929 + 6084 - 6241 + 6400 \n",
      "- 6561 + 6724 - 6889 + 7056 - 7225 + 7396 - 7569 + 7744 - 7921 + 8100 \n",
      "- 8281 + 8464 - 8649 + 8836 - 9025 + 9216 - 9409 + 9604 - 9801 + 10000 \n",
      "= 5050 입니다.\n"
     ]
    }
   ],
   "source": [
    "i = 1\n",
    "line = 0\n",
    "total = 0\n",
    "while i <= 100:\n",
    "    if i % 2 == 0:      #짝수: 제곱을 해서 더하기\n",
    "        total += i * i           \n",
    "        print(\"+\", i * i, end = \" \")\n",
    "    else:               #홀수: 제곱을 해서 빼기\n",
    "        total -= i * i\n",
    "        print(\"-\", i * i, end = \" \")\n",
    "    i += 1              \n",
    "    line += 1           #10줄마다 줄바꿈\n",
    "    if line == 10:\n",
    "        line = 0\n",
    "        print()\n",
    "        \n",
    "print(\"=\", total, \"입니다.\")"
   ]
  },
  {
   "cell_type": "code",
   "execution_count": null,
   "id": "ddfa6ca9-f8f2-473f-9320-a5f5bd6a4777",
   "metadata": {},
   "outputs": [],
   "source": []
  }
 ],
 "metadata": {
  "kernelspec": {
   "display_name": "Python 3 (ipykernel)",
   "language": "python",
   "name": "python3"
  },
  "language_info": {
   "codemirror_mode": {
    "name": "ipython",
    "version": 3
   },
   "file_extension": ".py",
   "mimetype": "text/x-python",
   "name": "python",
   "nbconvert_exporter": "python",
   "pygments_lexer": "ipython3",
   "version": "3.9.13"
  }
 },
 "nbformat": 4,
 "nbformat_minor": 5
}
