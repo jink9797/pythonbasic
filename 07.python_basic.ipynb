{
 "cells": [
  {
   "cell_type": "markdown",
   "id": "de6046d5-5585-4162-a237-234bb9492132",
   "metadata": {},
   "source": [
    "### 함수(function)\n",
    "###### 메인 코드 )  x = 함수명(인수,인수,...) \n",
    "######  --------------print(\"결과값:\", x)\n",
    "###### def 함수명(인자,인자,....):       #함수정의부\n",
    "###### (들여쓰기)함수코드....\n",
    "###### (들여쓰기)return 반환값"
   ]
  },
  {
   "cell_type": "code",
   "execution_count": 1,
   "id": "6c585fae-d281-44ff-96d7-c56db2d36725",
   "metadata": {},
   "outputs": [],
   "source": [
    "# 2호출 function_name(arg1,arg2)\n",
    "# 1정의 function_name(param1,param2,...):\n",
    "#     result = param1 + param2\n",
    "#     return result"
   ]
  },
  {
   "cell_type": "code",
   "execution_count": 2,
   "id": "d3b1b199-a8e0-4213-8727-3809cb28546d",
   "metadata": {},
   "outputs": [],
   "source": [
    "# function_name(param1,param2,...):\n",
    "#     result = param1 + param2\n",
    "#     return "
   ]
  },
  {
   "cell_type": "markdown",
   "id": "96cd502a-b3f2-4afd-9eb4-b43da334d43f",
   "metadata": {},
   "source": [
    "##### 함수\n",
    "###### 사용해온 print(), len(), list(), reversed() .... 모두 함수. 한번 정의 하고 필요할 때마다 재사용 가능\n",
    "###### 반복 사용되는 코드를 용도에 맞게 함수 바디에 모아두고 재사용/호출가능\n",
    "###### 1) 코드의 중복을 줄일수 있음(유지보수 좋음) 2) 목적에 맞게 코드사용 3) 중복 실수 감소 4) 재사용 가능"
   ]
  },
  {
   "cell_type": "markdown",
   "id": "dae51c53-0ef5-4011-a59d-9410f32d54e0",
   "metadata": {},
   "source": [
    "##### 함수 vs 메서드                              1) 함수는 클래스에 포함되지 않은채로 사용  함수명((인수1),(인수2),....)\n",
    "##### 메서드는 클래스에 포함되어 객체를 통해 호출  2) 객체.메서드명((인수1),(인수2),...)"
   ]
  },
  {
   "cell_type": "markdown",
   "id": "8c96d03e-87e2-4ee9-9ed5-9f93fe4520bd",
   "metadata": {},
   "source": [
    "##### 함수의 정의(define)/def\n",
    "- 함수는 미리 정의해둔 정의절을 실행해야 호출 가능"
   ]
  },
  {
   "cell_type": "code",
   "execution_count": 3,
   "id": "92edcfd9-6218-4373-9183-4a4a16141f74",
   "metadata": {},
   "outputs": [],
   "source": [
    "def function2():\n",
    "    \"\"\"\n",
    "    Docs String 부분입니다.\n",
    "    이곳에 함수의 설명에 대해 적어놓으면 좋습니다.\n",
    "    \"\"\"\n",
    "    pass"
   ]
  },
  {
   "cell_type": "code",
   "execution_count": 5,
   "id": "a3dedc59-a211-44ac-8b87-63cf20cd28cf",
   "metadata": {},
   "outputs": [
    {
     "name": "stdout",
     "output_type": "stream",
     "text": [
      "\n",
      "    Docs String 부분입니다.\n",
      "    이곳에 함수의 설명에 대해 적어놓으면 좋습니다.\n",
      "    \n",
      "Built-in mutable sequence.\n",
      "\n",
      "If no argument is given, the constructor creates a new empty list.\n",
      "The argument must be an iterable if specified.\n"
     ]
    }
   ],
   "source": [
    "print(function2.__doc__)\n",
    "print(list.__doc__)"
   ]
  },
  {
   "cell_type": "markdown",
   "id": "32d45e56-85c8-4377-800d-4d86b58ce585",
   "metadata": {},
   "source": [
    "#### 함수 정의 - 인자(parameter)\n",
    "###### 함수(또는 메서드) 정의에서 함수가 받을 수 있는 변수. 매개변수라고 함. 인자는 함수 정의절에서 소괄호 안에 정의\n",
    "- 위치- 키워드(positional or keyword): 위치로 키워드로 전달될 수 있는 인자 (매개변수 기본형태)\n",
    "- 위치 전용(positional - only): / 문자를 기준으로 좌측에 위치한 인자를 말함\n",
    "- 키워드 전용(keyword-only): * 문자를 기준으로 우측에 ..\n",
    "- 가변 위치(var positional): 위치 매개변수 외에 추가적인 위치 매개변수를 개수에 상관 x 받을수 있음\n",
    "- 가변 키워드(var keyword):: 키워드 매개변수 외에 추가적인 키워드 매개변수를 개수에 상관x 받을수 있음. 변수명 앞에 ** 두개붙여 표기"
   ]
  },
  {
   "cell_type": "code",
   "execution_count": 41,
   "id": "3a929ba6-0b1b-43cf-8040-761bfe7184a6",
   "metadata": {},
   "outputs": [],
   "source": [
    "# 함수 정의절                                 # args 개수에 상관없이 받아주는 친구\n",
    "def function_name(positional, positional2, * args, keyword1 = 1, ** kargs):\n",
    "    pass # body"
   ]
  },
  {
   "cell_type": "code",
   "execution_count": 24,
   "id": "86748f88-98de-4e73-9ec0-4267c4be6cf6",
   "metadata": {},
   "outputs": [],
   "source": [
    "# 함수 정의절       #기본값을 갖는 인자는 뒤에서 작성\n",
    "def get_grade(score, student_number, name = \"홍길동\"):    # () 안에 기본값넣어줄수 있음 # 기본값 설정안되있을 때 주의\n",
    "    \"\"\"\n",
    "    숫자로된 점수를 넣으시면 학점의 결과를 반환합니다.\n",
    "    \"\"\"\n",
    "    print(f'{student_number},{name}의 성적을 확인합니다.')\n",
    "    if 85 <= score <= 100:       # 분기 # return을 하게 되면 함수 정의절을 빠져나가서 호출부로 가게됨 #\n",
    "        return \"A\"\n",
    "    elif 70 <= score <= 84:\n",
    "        return \"B\"\n",
    "    elif 55 <= score <= 69:\n",
    "        return \"C\"\n",
    "    elif 40 <= score <= 54:\n",
    "        return \"D\"\n",
    "    elif 0 <= score <= 39:\n",
    "        return \"E\""
   ]
  },
  {
   "cell_type": "code",
   "execution_count": 27,
   "id": "a7e23dae-c671-47c3-9dbc-1335c984b9e0",
   "metadata": {},
   "outputs": [
    {
     "name": "stdout",
     "output_type": "stream",
     "text": [
      "19970429,강지인의 성적을 확인합니다.\n"
     ]
    },
    {
     "data": {
      "text/plain": [
       "'A'"
      ]
     },
     "execution_count": 27,
     "metadata": {},
     "output_type": "execute_result"
    }
   ],
   "source": [
    "#함수 호출\n",
    "#인수(arguments)           # score = 100, student_number = 19970429 처럼 keyword 명시해주면 위치 상관 x\n",
    "get_grade(100, \"19970429\" , name = \"강지인\")  #positional arguments - '100, 19970429' / key word arguments - 'name = '강지인''"
   ]
  },
  {
   "cell_type": "code",
   "execution_count": 17,
   "id": "adc503b4-b61a-40b9-ba3a-e1a68e4ee2a5",
   "metadata": {},
   "outputs": [
    {
     "name": "stdout",
     "output_type": "stream",
     "text": [
      "\n",
      "    숫자로된 점수를 넣으시면 학점의 결과를 반환합니다.\n",
      "    \n"
     ]
    }
   ],
   "source": [
    "print(get_grade.__doc__)"
   ]
  },
  {
   "cell_type": "code",
   "execution_count": 12,
   "id": "7daab433-59ac-4fc1-8d6a-9487910c9452",
   "metadata": {},
   "outputs": [
    {
     "name": "stdout",
     "output_type": "stream",
     "text": [
      "A\n"
     ]
    }
   ],
   "source": [
    "# 함수 호출  - 정의하는 이름과 호출하는 이름이 같아야 됨\n",
    "result = get_grade(100)\n",
    "print(result)"
   ]
  },
  {
   "cell_type": "code",
   "execution_count": 15,
   "id": "c0b25fa7-08cd-4a75-a16d-bbe1e7e8f373",
   "metadata": {},
   "outputs": [
    {
     "name": "stdout",
     "output_type": "stream",
     "text": [
      "[41, 53, 23, 63, 82, 95, 33, 92, 40, 95, 7, 100, 12, 76, 24, 47, 85, 8, 75, 46]\n"
     ]
    }
   ],
   "source": [
    "import random\n",
    "# 20명의 점수를 입력했다.\n",
    "scores = [random.randint(1,100) for _ in range(20)]\n",
    "print(scores)"
   ]
  },
  {
   "cell_type": "code",
   "execution_count": 16,
   "id": "cb3f9255-9a77-48c5-8da1-1ac33f17f6bf",
   "metadata": {},
   "outputs": [
    {
     "name": "stdout",
     "output_type": "stream",
     "text": [
      "['D', 'D', 'E', 'C', 'B', 'A', 'E', 'A', 'D', 'A', 'E', 'A', 'E', 'B', 'E', 'D', 'A', 'E', 'B', 'D']\n"
     ]
    }
   ],
   "source": [
    "grades = list(map(get_grade, scores))\n",
    "print(grades)"
   ]
  },
  {
   "cell_type": "code",
   "execution_count": 28,
   "id": "029c3b8e-72a5-414d-9f32-bc611adc4629",
   "metadata": {},
   "outputs": [
    {
     "name": "stdout",
     "output_type": "stream",
     "text": [
      " "
     ]
    }
   ],
   "source": [
    "print(sep = \" \", end = \" \")"
   ]
  },
  {
   "cell_type": "code",
   "execution_count": 34,
   "id": "73b7a766-3028-4c8e-b209-83eef0c77b5f",
   "metadata": {},
   "outputs": [],
   "source": [
    "# 함수 정의절\n",
    "# 인자(매개변수, parameter) - non-default, default 종류\n",
    "# positional-only: / 문자를 기준으로 왼편에 온다.\n",
    "def add_number(number2, number1 = 3, /):   #number1 이 positional-only\n",
    "    \"\"\"\n",
    "    숫자 number1과 숫자 number2를 전달 받아 더한 결과를 반환합니다.\n",
    "    \"\"\"\n",
    "    return number1 + number2"
   ]
  },
  {
   "cell_type": "code",
   "execution_count": 30,
   "id": "2b98ef3c-6398-4b69-9877-ba9c1aab9a38",
   "metadata": {},
   "outputs": [
    {
     "name": "stdout",
     "output_type": "stream",
     "text": [
      "\n",
      "    숫자 number1과 숫자 number2를 전달 받아 더한 결과를 반환합니다.\n",
      "    \n"
     ]
    }
   ],
   "source": [
    "print(add_number.__doc__)"
   ]
  },
  {
   "cell_type": "code",
   "execution_count": 39,
   "id": "ac53eef9-f511-4518-8d77-7bc52d9f1e8b",
   "metadata": {},
   "outputs": [],
   "source": [
    "# 인수(argument) - positional argument, keyword argument\n",
    "result = add_number(2) # 소괄호 --> call"
   ]
  },
  {
   "cell_type": "code",
   "execution_count": 40,
   "id": "85a3f52a-8dc5-4f58-b268-d9654d9d10f9",
   "metadata": {},
   "outputs": [
    {
     "name": "stdout",
     "output_type": "stream",
     "text": [
      "5\n"
     ]
    }
   ],
   "source": [
    "print(result)"
   ]
  },
  {
   "cell_type": "code",
   "execution_count": 80,
   "id": "8e22ec47-80fc-4ca1-b3a1-39d608b12576",
   "metadata": {},
   "outputs": [],
   "source": [
    "# 함수 정의절\n",
    "# 인자(매개변수, parameter) - non-default, default 종류\n",
    "# keyword- only : * 문자를 기준으로 왼편에 온다.\n",
    "def minuus_number(*, number1,number2):\n",
    "    \"\"\"\n",
    "    숫자 number1과 숫자 number2를 전달 받아 더한 결과를 반환합니다. \n",
    "    \"\"\"\n",
    "    return number1 - number2"
   ]
  },
  {
   "cell_type": "code",
   "execution_count": 81,
   "id": "5aa00e57-1dbd-4040-bcda-5dbeaba5ac1f",
   "metadata": {},
   "outputs": [
    {
     "name": "stdout",
     "output_type": "stream",
     "text": [
      "29\n"
     ]
    }
   ],
   "source": [
    "print(minuus_number(number1 = 30, number2 = 1))"
   ]
  },
  {
   "cell_type": "code",
   "execution_count": 45,
   "id": "3310682a-28b3-4a33-9d34-8d1e311c2faa",
   "metadata": {},
   "outputs": [],
   "source": [
    "def string_line(str_value,/,str_len,*,sep = \"#\"):\n",
    "    \"\"\"\n",
    "    str_vallue는 가운데 오는 텍스트입니다.\n",
    "    str_len은 텍스트의 설정할 길이입니다.\n",
    "    sep는 구분선을 사용할 떼 쓰는 문자입니다.\n",
    "    \"\"\"\n",
    "    \n",
    "    print(str_value.center(str_len,sep))"
   ]
  },
  {
   "cell_type": "code",
   "execution_count": 50,
   "id": "ee422262-655d-484a-985f-551928891d73",
   "metadata": {},
   "outputs": [
    {
     "name": "stdout",
     "output_type": "stream",
     "text": [
      "************************구분************************\n"
     ]
    }
   ],
   "source": [
    "string_line(\"구분\", 50, sep = \"*\")  #position"
   ]
  },
  {
   "cell_type": "code",
   "execution_count": 51,
   "id": "3a6b5c91-a66e-49b5-a111-d4e0a16f0e37",
   "metadata": {},
   "outputs": [
    {
     "name": "stdout",
     "output_type": "stream",
     "text": [
      "------------------------------------------------절취선-------------------------------------------------\n"
     ]
    }
   ],
   "source": [
    "string_line(\"절취선\", str_len = 100, sep = \"-\")  #keyword"
   ]
  },
  {
   "cell_type": "code",
   "execution_count": 52,
   "id": "2b5b3d31-cdb1-4a52-8147-cc53d6a16302",
   "metadata": {},
   "outputs": [
    {
     "name": "stdout",
     "output_type": "stream",
     "text": [
      "1 1 1 1 1 1 1 1 1\n"
     ]
    }
   ],
   "source": [
    "print(\"1\", \"1\", \"1\", \"1\", \"1\", \"1\", \"1\", \"1\", \"1\")"
   ]
  },
  {
   "cell_type": "code",
   "execution_count": 67,
   "id": "e5dc1dad-21ae-4d79-b91d-ac00eb1dc51a",
   "metadata": {},
   "outputs": [],
   "source": [
    "# * args : var positional 가변위치\n",
    "def test_func(a, b, c, * args):           # args --> 결과값 : '여기는','어딜까요','몇개','더' ----> unpacking\n",
    "    print(f'a: {a} b: {b} c: {c}')\n",
    "    print(type(args))\n",
    "    print(args)"
   ]
  },
  {
   "cell_type": "code",
   "execution_count": 63,
   "id": "14510a13-c436-4aaa-ab59-9a0325245a65",
   "metadata": {},
   "outputs": [
    {
     "name": "stdout",
     "output_type": "stream",
     "text": [
      "a: a 위치입니다. b: b 위치입니다. c: c 위치입니다.\n",
      "<class 'tuple'>\n",
      "('여기는', '어딜까요', '몇개', '더')\n"
     ]
    }
   ],
   "source": [
    "test_func('a 위치입니다.','b 위치입니다.', 'c 위치입니다.', '여기는', '어딜까요','몇개','더')"
   ]
  },
  {
   "cell_type": "code",
   "execution_count": 72,
   "id": "85e6eec7-143c-41bc-9f03-eaf884621f28",
   "metadata": {},
   "outputs": [],
   "source": [
    "# ** kargs : var keyword 가변키워드\n",
    "def test_func2(a = \"a\", b = \"b\", ** kargs):           # args --> 결과값 : '여기는','어딜까요','몇개','더' ----> packing\n",
    "    print(a,b)\n",
    "    print(type(kargs))\n",
    "    print(kargs)"
   ]
  },
  {
   "cell_type": "code",
   "execution_count": 66,
   "id": "aa2ad150-5fe4-4505-91e5-ca192e1fca6d",
   "metadata": {},
   "outputs": [
    {
     "name": "stdout",
     "output_type": "stream",
     "text": [
      "ab bc\n",
      "<class 'dict'>\n",
      "{'key': 'value', 'key2': 'value2'}\n"
     ]
    }
   ],
   "source": [
    "test_func2(a= 'ab', b = 'bc', key = 'value', key2 = 'value2')"
   ]
  },
  {
   "cell_type": "markdown",
   "id": "757393dc-f069-4461-98ff-f16c8feb0817",
   "metadata": {},
   "source": [
    "##### Arguments? Parameter? 같은 것 아닌가요?\n",
    "- 다르다\n",
    "- p 는 함수 정의절에서 사용하는 이름\n",
    "- a 는 함수 호출에서 사용하는 이름"
   ]
  },
  {
   "cell_type": "code",
   "execution_count": 78,
   "id": "fb247bf2-901d-46bd-890a-f30727d5bea5",
   "metadata": {},
   "outputs": [],
   "source": [
    "def plus_ten(n):\n",
    "    result = n + 10\n",
    "    return result"
   ]
  },
  {
   "cell_type": "code",
   "execution_count": 79,
   "id": "211f5bdb-2123-4a84-9501-d9a655a8f39d",
   "metadata": {},
   "outputs": [
    {
     "data": {
      "text/plain": [
       "80"
      ]
     },
     "execution_count": 79,
     "metadata": {},
     "output_type": "execute_result"
    }
   ],
   "source": [
    "plus_ten(70)"
   ]
  },
  {
   "cell_type": "code",
   "execution_count": null,
   "id": "1af42403-013b-4282-b3e4-0906b4a07b04",
   "metadata": {},
   "outputs": [],
   "source": []
  }
 ],
 "metadata": {
  "kernelspec": {
   "display_name": "Python 3 (ipykernel)",
   "language": "python",
   "name": "python3"
  },
  "language_info": {
   "codemirror_mode": {
    "name": "ipython",
    "version": 3
   },
   "file_extension": ".py",
   "mimetype": "text/x-python",
   "name": "python",
   "nbconvert_exporter": "python",
   "pygments_lexer": "ipython3",
   "version": "3.9.13"
  }
 },
 "nbformat": 4,
 "nbformat_minor": 5
}
