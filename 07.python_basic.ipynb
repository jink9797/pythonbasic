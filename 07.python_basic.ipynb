{
 "cells": [
  {
   "cell_type": "markdown",
   "id": "de6046d5-5585-4162-a237-234bb9492132",
   "metadata": {},
   "source": [
    "### 함수(function)\n",
    "###### 메인 코드 )  x = 함수명(인수,인수,...) \n",
    "######  --------------print(\"결과값:\", x)\n",
    "###### def 함수명(인자,인자,....):       #함수정의부\n",
    "###### (들여쓰기)함수코드....\n",
    "###### (들여쓰기)return 반환값"
   ]
  },
  {
   "cell_type": "code",
   "execution_count": 1,
   "id": "6c585fae-d281-44ff-96d7-c56db2d36725",
   "metadata": {},
   "outputs": [],
   "source": [
    "# 2호출 function_name(arg1,arg2)\n",
    "# 1정의 function_name(param1,param2,...):\n",
    "#     result = param1 + param2\n",
    "#     return result"
   ]
  },
  {
   "cell_type": "code",
   "execution_count": 2,
   "id": "d3b1b199-a8e0-4213-8727-3809cb28546d",
   "metadata": {},
   "outputs": [],
   "source": [
    "# function_name(param1,param2,...):\n",
    "#     result = param1 + param2\n",
    "#     return "
   ]
  },
  {
   "cell_type": "markdown",
   "id": "96cd502a-b3f2-4afd-9eb4-b43da334d43f",
   "metadata": {},
   "source": [
    "##### 함수\n",
    "###### 사용해온 print(), len(), list(), reversed() .... 모두 함수. 한번 정의 하고 필요할 때마다 재사용 가능\n",
    "###### 반복 사용되는 코드를 용도에 맞게 함수 바디에 모아두고 재사용/호출가능\n",
    "###### 1) 코드의 중복을 줄일수 있음(유지보수 좋음) 2) 목적에 맞게 코드사용 3) 중복 실수 감소 4) 재사용 가능"
   ]
  },
  {
   "cell_type": "markdown",
   "id": "dae51c53-0ef5-4011-a59d-9410f32d54e0",
   "metadata": {},
   "source": [
    "##### 함수 vs 메서드                              1) 함수는 클래스에 포함되지 않은채로 사용  함수명((인수1),(인수2),....)\n",
    "##### 메서드는 클래스에 포함되어 객체를 통해 호출  2) 객체.메서드명((인수1),(인수2),...)"
   ]
  },
  {
   "cell_type": "markdown",
   "id": "8c96d03e-87e2-4ee9-9ed5-9f93fe4520bd",
   "metadata": {},
   "source": [
    "##### 함수의 정의(define)/def\n",
    "- 함수는 미리 정의해둔 정의절을 실행해야 호출 가능"
   ]
  },
  {
   "cell_type": "code",
   "execution_count": 3,
   "id": "92edcfd9-6218-4373-9183-4a4a16141f74",
   "metadata": {},
   "outputs": [],
   "source": [
    "def function2():\n",
    "    \"\"\"\n",
    "    Docs String 부분입니다.\n",
    "    이곳에 함수의 설명에 대해 적어놓으면 좋습니다.\n",
    "    \"\"\"\n",
    "    pass"
   ]
  },
  {
   "cell_type": "code",
   "execution_count": 5,
   "id": "a3dedc59-a211-44ac-8b87-63cf20cd28cf",
   "metadata": {},
   "outputs": [
    {
     "name": "stdout",
     "output_type": "stream",
     "text": [
      "\n",
      "    Docs String 부분입니다.\n",
      "    이곳에 함수의 설명에 대해 적어놓으면 좋습니다.\n",
      "    \n",
      "Built-in mutable sequence.\n",
      "\n",
      "If no argument is given, the constructor creates a new empty list.\n",
      "The argument must be an iterable if specified.\n"
     ]
    }
   ],
   "source": [
    "print(function2.__doc__)\n",
    "print(list.__doc__)"
   ]
  },
  {
   "cell_type": "markdown",
   "id": "32d45e56-85c8-4377-800d-4d86b58ce585",
   "metadata": {},
   "source": [
    "#### 함수 정의 - 인자(parameter)\n",
    "###### 함수(또는 메서드) 정의에서 함수가 받을 수 있는 변수. 매개변수라고 함. 인자는 함수 정의절에서 소괄호 안에 정의\n",
    "- 위치- 키워드(positional or keyword): 위치로 키워드로 전달될 수 있는 인자 (매개변수 기본형태)\n",
    "- 위치 전용(positional - only): / 문자를 기준으로 좌측에 위치한 인자를 말함\n",
    "- 키워드 전용(keyword-only): * 문자를 기준으로 우측에 ..\n",
    "- 가변 위치(var positional): 위치 매개변수 외에 추가적인 위치 매개변수를 개수에 상관 x 받을수 있음\n",
    "- 가변 키워드(var keyword):: 키워드 매개변수 외에 추가적인 키워드 매개변수를 개수에 상관x 받을수 있음. 변수명 앞에 ** 두개붙여 표기"
   ]
  },
  {
   "cell_type": "code",
   "execution_count": 41,
   "id": "3a929ba6-0b1b-43cf-8040-761bfe7184a6",
   "metadata": {},
   "outputs": [],
   "source": [
    "# 함수 정의절                                 # args 개수에 상관없이 받아주는 친구\n",
    "def function_name(positional, positional2, * args, keyword1 = 1, ** kargs):\n",
    "    pass # body"
   ]
  },
  {
   "cell_type": "code",
   "execution_count": 24,
   "id": "86748f88-98de-4e73-9ec0-4267c4be6cf6",
   "metadata": {},
   "outputs": [],
   "source": [
    "# 함수 정의절       #기본값을 갖는 인자는 뒤에서 작성\n",
    "def get_grade(score, student_number, name = \"홍길동\"):    # () 안에 기본값넣어줄수 있음 # 기본값 설정안되있을 때 주의\n",
    "    \"\"\"\n",
    "    숫자로된 점수를 넣으시면 학점의 결과를 반환합니다.\n",
    "    \"\"\"\n",
    "    print(f'{student_number},{name}의 성적을 확인합니다.')\n",
    "    if 85 <= score <= 100:       # 분기 # return을 하게 되면 함수 정의절을 빠져나가서 호출부로 가게됨 #\n",
    "        return \"A\"\n",
    "    elif 70 <= score <= 84:\n",
    "        return \"B\"\n",
    "    elif 55 <= score <= 69:\n",
    "        return \"C\"\n",
    "    elif 40 <= score <= 54:\n",
    "        return \"D\"\n",
    "    elif 0 <= score <= 39:\n",
    "        return \"E\""
   ]
  },
  {
   "cell_type": "code",
   "execution_count": 27,
   "id": "a7e23dae-c671-47c3-9dbc-1335c984b9e0",
   "metadata": {},
   "outputs": [
    {
     "name": "stdout",
     "output_type": "stream",
     "text": [
      "19970429,강지인의 성적을 확인합니다.\n"
     ]
    },
    {
     "data": {
      "text/plain": [
       "'A'"
      ]
     },
     "execution_count": 27,
     "metadata": {},
     "output_type": "execute_result"
    }
   ],
   "source": [
    "#함수 호출\n",
    "#인수(arguments)           # score = 100, student_number = 19970429 처럼 keyword 명시해주면 위치 상관 x\n",
    "get_grade(100, \"19970429\" , name = \"강지인\")  #positional arguments - '100, 19970429' / key word arguments - 'name = '강지인''"
   ]
  },
  {
   "cell_type": "code",
   "execution_count": 17,
   "id": "adc503b4-b61a-40b9-ba3a-e1a68e4ee2a5",
   "metadata": {},
   "outputs": [
    {
     "name": "stdout",
     "output_type": "stream",
     "text": [
      "\n",
      "    숫자로된 점수를 넣으시면 학점의 결과를 반환합니다.\n",
      "    \n"
     ]
    }
   ],
   "source": [
    "print(get_grade.__doc__)"
   ]
  },
  {
   "cell_type": "code",
   "execution_count": 12,
   "id": "7daab433-59ac-4fc1-8d6a-9487910c9452",
   "metadata": {},
   "outputs": [
    {
     "name": "stdout",
     "output_type": "stream",
     "text": [
      "A\n"
     ]
    }
   ],
   "source": [
    "# 함수 호출  - 정의하는 이름과 호출하는 이름이 같아야 됨\n",
    "result = get_grade(100)\n",
    "print(result)"
   ]
  },
  {
   "cell_type": "code",
   "execution_count": 15,
   "id": "c0b25fa7-08cd-4a75-a16d-bbe1e7e8f373",
   "metadata": {},
   "outputs": [
    {
     "name": "stdout",
     "output_type": "stream",
     "text": [
      "[41, 53, 23, 63, 82, 95, 33, 92, 40, 95, 7, 100, 12, 76, 24, 47, 85, 8, 75, 46]\n"
     ]
    }
   ],
   "source": [
    "import random\n",
    "# 20명의 점수를 입력했다.\n",
    "scores = [random.randint(1,100) for _ in range(20)]\n",
    "print(scores)"
   ]
  },
  {
   "cell_type": "code",
   "execution_count": 16,
   "id": "cb3f9255-9a77-48c5-8da1-1ac33f17f6bf",
   "metadata": {},
   "outputs": [
    {
     "name": "stdout",
     "output_type": "stream",
     "text": [
      "['D', 'D', 'E', 'C', 'B', 'A', 'E', 'A', 'D', 'A', 'E', 'A', 'E', 'B', 'E', 'D', 'A', 'E', 'B', 'D']\n"
     ]
    }
   ],
   "source": [
    "grades = list(map(get_grade, scores))\n",
    "print(grades)"
   ]
  },
  {
   "cell_type": "code",
   "execution_count": 28,
   "id": "029c3b8e-72a5-414d-9f32-bc611adc4629",
   "metadata": {},
   "outputs": [
    {
     "name": "stdout",
     "output_type": "stream",
     "text": [
      " "
     ]
    }
   ],
   "source": [
    "print(sep = \" \", end = \" \")"
   ]
  },
  {
   "cell_type": "code",
   "execution_count": 34,
   "id": "73b7a766-3028-4c8e-b209-83eef0c77b5f",
   "metadata": {},
   "outputs": [],
   "source": [
    "# 함수 정의절\n",
    "# 인자(매개변수, parameter) - non-default, default 종류\n",
    "# positional-only: / 문자를 기준으로 왼편에 온다.\n",
    "def add_number(number2, number1 = 3, /):   #number1 이 positional-only\n",
    "    \"\"\"\n",
    "    숫자 number1과 숫자 number2를 전달 받아 더한 결과를 반환합니다.\n",
    "    \"\"\"\n",
    "    return number1 + number2"
   ]
  },
  {
   "cell_type": "code",
   "execution_count": 30,
   "id": "2b98ef3c-6398-4b69-9877-ba9c1aab9a38",
   "metadata": {},
   "outputs": [
    {
     "name": "stdout",
     "output_type": "stream",
     "text": [
      "\n",
      "    숫자 number1과 숫자 number2를 전달 받아 더한 결과를 반환합니다.\n",
      "    \n"
     ]
    }
   ],
   "source": [
    "print(add_number.__doc__)"
   ]
  },
  {
   "cell_type": "code",
   "execution_count": 39,
   "id": "ac53eef9-f511-4518-8d77-7bc52d9f1e8b",
   "metadata": {},
   "outputs": [],
   "source": [
    "# 인수(argument) - positional argument, keyword argument\n",
    "result = add_number(2) # 소괄호 --> call"
   ]
  },
  {
   "cell_type": "code",
   "execution_count": 40,
   "id": "85a3f52a-8dc5-4f58-b268-d9654d9d10f9",
   "metadata": {},
   "outputs": [
    {
     "name": "stdout",
     "output_type": "stream",
     "text": [
      "5\n"
     ]
    }
   ],
   "source": [
    "print(result)"
   ]
  },
  {
   "cell_type": "code",
   "execution_count": 80,
   "id": "8e22ec47-80fc-4ca1-b3a1-39d608b12576",
   "metadata": {},
   "outputs": [],
   "source": [
    "# 함수 정의절\n",
    "# 인자(매개변수, parameter) - non-default, default 종류\n",
    "# keyword- only : * 문자를 기준으로 왼편에 온다.\n",
    "def minuus_number(*, number1,number2):\n",
    "    \"\"\"\n",
    "    숫자 number1과 숫자 number2를 전달 받아 더한 결과를 반환합니다. \n",
    "    \"\"\"\n",
    "    return number1 - number2"
   ]
  },
  {
   "cell_type": "code",
   "execution_count": 81,
   "id": "5aa00e57-1dbd-4040-bcda-5dbeaba5ac1f",
   "metadata": {},
   "outputs": [
    {
     "name": "stdout",
     "output_type": "stream",
     "text": [
      "29\n"
     ]
    }
   ],
   "source": [
    "print(minuus_number(number1 = 30, number2 = 1))"
   ]
  },
  {
   "cell_type": "code",
   "execution_count": 45,
   "id": "3310682a-28b3-4a33-9d34-8d1e311c2faa",
   "metadata": {},
   "outputs": [],
   "source": [
    "def string_line(str_value,/,str_len,*,sep = \"#\"):\n",
    "    \"\"\"\n",
    "    str_vallue는 가운데 오는 텍스트입니다.\n",
    "    str_len은 텍스트의 설정할 길이입니다.\n",
    "    sep는 구분선을 사용할 떼 쓰는 문자입니다.\n",
    "    \"\"\"\n",
    "    \n",
    "    print(str_value.center(str_len,sep))"
   ]
  },
  {
   "cell_type": "code",
   "execution_count": 50,
   "id": "ee422262-655d-484a-985f-551928891d73",
   "metadata": {},
   "outputs": [
    {
     "name": "stdout",
     "output_type": "stream",
     "text": [
      "************************구분************************\n"
     ]
    }
   ],
   "source": [
    "string_line(\"구분\", 50, sep = \"*\")  #position"
   ]
  },
  {
   "cell_type": "code",
   "execution_count": 51,
   "id": "3a6b5c91-a66e-49b5-a111-d4e0a16f0e37",
   "metadata": {},
   "outputs": [
    {
     "name": "stdout",
     "output_type": "stream",
     "text": [
      "------------------------------------------------절취선-------------------------------------------------\n"
     ]
    }
   ],
   "source": [
    "string_line(\"절취선\", str_len = 100, sep = \"-\")  #keyword"
   ]
  },
  {
   "cell_type": "code",
   "execution_count": 52,
   "id": "2b5b3d31-cdb1-4a52-8147-cc53d6a16302",
   "metadata": {},
   "outputs": [
    {
     "name": "stdout",
     "output_type": "stream",
     "text": [
      "1 1 1 1 1 1 1 1 1\n"
     ]
    }
   ],
   "source": [
    "print(\"1\", \"1\", \"1\", \"1\", \"1\", \"1\", \"1\", \"1\", \"1\")"
   ]
  },
  {
   "cell_type": "code",
   "execution_count": 67,
   "id": "e5dc1dad-21ae-4d79-b91d-ac00eb1dc51a",
   "metadata": {},
   "outputs": [],
   "source": [
    "# * args : var positional 가변위치\n",
    "def test_func(a, b, c, * args):           # args --> 결과값 : '여기는','어딜까요','몇개','더' ----> unpacking\n",
    "    print(f'a: {a} b: {b} c: {c}')\n",
    "    print(type(args))\n",
    "    print(args)"
   ]
  },
  {
   "cell_type": "code",
   "execution_count": 63,
   "id": "14510a13-c436-4aaa-ab59-9a0325245a65",
   "metadata": {},
   "outputs": [
    {
     "name": "stdout",
     "output_type": "stream",
     "text": [
      "a: a 위치입니다. b: b 위치입니다. c: c 위치입니다.\n",
      "<class 'tuple'>\n",
      "('여기는', '어딜까요', '몇개', '더')\n"
     ]
    }
   ],
   "source": [
    "test_func('a 위치입니다.','b 위치입니다.', 'c 위치입니다.', '여기는', '어딜까요','몇개','더')"
   ]
  },
  {
   "cell_type": "code",
   "execution_count": 72,
   "id": "85e6eec7-143c-41bc-9f03-eaf884621f28",
   "metadata": {},
   "outputs": [],
   "source": [
    "# ** kargs : var keyword 가변키워드\n",
    "def test_func2(a = \"a\", b = \"b\", ** kargs):           # args --> 결과값 : '여기는','어딜까요','몇개','더' ----> packing\n",
    "    print(a,b)\n",
    "    print(type(kargs))\n",
    "    print(kargs)"
   ]
  },
  {
   "cell_type": "code",
   "execution_count": 66,
   "id": "aa2ad150-5fe4-4505-91e5-ca192e1fca6d",
   "metadata": {},
   "outputs": [
    {
     "name": "stdout",
     "output_type": "stream",
     "text": [
      "ab bc\n",
      "<class 'dict'>\n",
      "{'key': 'value', 'key2': 'value2'}\n"
     ]
    }
   ],
   "source": [
    "test_func2(a= 'ab', b = 'bc', key = 'value', key2 = 'value2')"
   ]
  },
  {
   "cell_type": "markdown",
   "id": "757393dc-f069-4461-98ff-f16c8feb0817",
   "metadata": {},
   "source": [
    "##### Arguments? Parameter? 같은 것 아닌가요?\n",
    "- 다르다\n",
    "- p 는 함수 정의절에서 사용하는 이름\n",
    "- a 는 함수 호출에서 사용하는 이름"
   ]
  },
  {
   "cell_type": "code",
   "execution_count": null,
   "id": "fb247bf2-901d-46bd-890a-f30727d5bea5",
   "metadata": {},
   "outputs": [],
   "source": [
    "def plus_ten(n):\n",
    "    result = n + 10\n",
    "    return result"
   ]
  },
  {
   "cell_type": "code",
   "execution_count": 79,
   "id": "211f5bdb-2123-4a84-9501-d9a655a8f39d",
   "metadata": {
    "tags": []
   },
   "outputs": [
    {
     "data": {
      "text/plain": [
       "80"
      ]
     },
     "execution_count": 79,
     "metadata": {},
     "output_type": "execute_result"
    }
   ],
   "source": [
    "plus_ten(70)"
   ]
  },
  {
   "cell_type": "code",
   "execution_count": 5,
   "id": "7604941a-fe12-4f8a-9177-56ae386229b0",
   "metadata": {},
   "outputs": [],
   "source": [
    "# ARGumentS\n",
    "def function_name2(*args):\n",
    "    print(type(args))\n",
    "    for arg in args:\n",
    "        print(arg)"
   ]
  },
  {
   "cell_type": "code",
   "execution_count": 6,
   "id": "8d5be1a3-c5e0-4806-91d7-ad00ffc95007",
   "metadata": {},
   "outputs": [
    {
     "name": "stdout",
     "output_type": "stream",
     "text": [
      "<class 'tuple'>\n",
      "args\n",
      "는\n",
      "가변 위치\n",
      "인수입니다.\n"
     ]
    }
   ],
   "source": [
    "function_name2('args','는','가변 위치','인수입니다.')"
   ]
  },
  {
   "cell_type": "code",
   "execution_count": 8,
   "id": "8aab3797-a8fe-4688-aa5f-1f5780d69329",
   "metadata": {},
   "outputs": [
    {
     "name": "stdout",
     "output_type": "stream",
     "text": [
      "0 1 2 3\n"
     ]
    }
   ],
   "source": [
    "# unpacking\n",
    "# 시퀀스 자료형의 개수만큼 좌측에 변수 맞춰줘서 한번 할당\n",
    "a, b, c, d = [_ for _ in range(4)]\n",
    "print(a, b, c, d)"
   ]
  },
  {
   "cell_type": "markdown",
   "id": "4b198cff-0991-4a89-8ebd-50183942094d",
   "metadata": {},
   "source": [
    "### 문자열 메서드 join()"
   ]
  },
  {
   "cell_type": "code",
   "execution_count": 130,
   "id": "00808d19-7784-4810-9add-aa884204a0cc",
   "metadata": {},
   "outputs": [
    {
     "name": "stdout",
     "output_type": "stream",
     "text": [
      "list_strs = ['a', 'b', 'c', 'd', 'e', 'f', 'g', 'h', 'i', 'j', 'k', 'l', 'm', 'n', 'o', 'p', 'q', 'r', 's', 't', 'u', 'v', 'w', 'x', 'y', 'z']\n",
      "\n",
      "whole_str = a*b*c*d*e*f*g*h*i*j*k*l*m*n*o*p*q*r*s*t*u*v*w*x*y*z\n"
     ]
    }
   ],
   "source": [
    "list_strs = [_ for _ in \"abcdefghijklmnopqrstuvwxyz\"]\n",
    "print(f'list_strs = {list_strs}')\n",
    "\n",
    "#str.join(list)\n",
    "#str 요소들로 이뤄진 list를 합쳐 하나의 문자열로 만듭니다.\n",
    "whole_str = \"*\".join(list_strs)\n",
    "print(f'\\nwhole_str = {whole_str}')"
   ]
  },
  {
   "cell_type": "code",
   "execution_count": 132,
   "id": "f9ca4f21-e192-4d59-9aa2-303401f7f10a",
   "metadata": {},
   "outputs": [
    {
     "name": "stdin",
     "output_type": "stream",
     "text": [
      "1 ~ 100 중 숫자를 맞춰보세요 50\n"
     ]
    },
    {
     "name": "stdout",
     "output_type": "stream",
     "text": [
      "그보다 작습니다\n"
     ]
    },
    {
     "name": "stdin",
     "output_type": "stream",
     "text": [
      "1 ~ 100 중 숫자를 맞춰보세요 30\n"
     ]
    },
    {
     "name": "stdout",
     "output_type": "stream",
     "text": [
      "그보다 작습니다\n"
     ]
    },
    {
     "name": "stdin",
     "output_type": "stream",
     "text": [
      "1 ~ 100 중 숫자를 맞춰보세요 20\n"
     ]
    },
    {
     "name": "stdout",
     "output_type": "stream",
     "text": [
      "그보다 작습니다\n"
     ]
    },
    {
     "name": "stdin",
     "output_type": "stream",
     "text": [
      "1 ~ 100 중 숫자를 맞춰보세요 10\n"
     ]
    },
    {
     "name": "stdout",
     "output_type": "stream",
     "text": [
      "그보다 작습니다\n"
     ]
    },
    {
     "name": "stdin",
     "output_type": "stream",
     "text": [
      "1 ~ 100 중 숫자를 맞춰보세요 5\n"
     ]
    },
    {
     "name": "stdout",
     "output_type": "stream",
     "text": [
      "그보다 작습니다\n"
     ]
    },
    {
     "name": "stdin",
     "output_type": "stream",
     "text": [
      "1 ~ 100 중 숫자를 맞춰보세요 1\n"
     ]
    },
    {
     "name": "stdout",
     "output_type": "stream",
     "text": [
      "그보다 큽니다\n"
     ]
    },
    {
     "name": "stdin",
     "output_type": "stream",
     "text": [
      "1 ~ 100 중 숫자를 맞춰보세요 4\n"
     ]
    },
    {
     "name": "stdout",
     "output_type": "stream",
     "text": [
      "맞췄습니다!\n",
      "6번만에 맞추셨습니다\n",
      "입력한 숫자는 다음과 같습니다. 50,30,20,10,5,1\n"
     ]
    }
   ],
   "source": [
    "# Q 1부터 100까지 범위의 업다운 게임을 완성해보세요.                 시작,끝\n",
    "# 1. 게임을 시작할 때 랜덤하게 숫자를 만듭니다(PSL의 random.randint() 활용)\n",
    "# 2. 사용자로부터 값을 입력을 받습니다.\n",
    "#   -1. 입력받은 값이 랜덤 숫자보다 크면 '그보다 작습니다' 출력\n",
    "#   -2. 입력받은 값이 랜덤 숫자보다 작으면 '그보다 큽니다' 출력\n",
    "#   -3. 범위를 벗어난 값을 입력하면 ' 1 ~ 100 사이의 숫자를 입력하세요' 를 출력\n",
    "#   -4. 입력받은 값과 랜덤 숫자가 같다면 '맞췄습니다!'를 출력\n",
    "# 3. 몇 번만에 맞췄는지 출력 '6번만에 맞추셨습니다'\n",
    "# 4. 그동안 입력했던 숫자를 출력합니다.\n",
    "#    ' 입력한 숫자는 다음과 같습니다. '-1, 101, 50, 10, 5, 3' (str.join(list)활용)\n",
    "\n",
    "import random\n",
    "\n",
    "game_r = random.randint(1,100)\n",
    "numList = []\n",
    "count = 0\n",
    "while True:\n",
    "    num = int(input('1 ~ 100 중 숫자를 맞춰보세요'))\n",
    "    if 100 < num or 1 > num:\n",
    "        print('1 ~ 100사이의 숫자를 입력하세요')\n",
    "    elif num == game_r:\n",
    "        print('맞췄습니다!')\n",
    "        break\n",
    "    elif num > game_r:\n",
    "        print('그보다 작습니다')\n",
    "    elif num < game_r:\n",
    "        print('그보다 큽니다')\n",
    "    count += 1\n",
    "    numList.append(num)  # 리스트에 입력한 값을 하나씩 추가\n",
    "    \n",
    "numList = list(map(str,numList))\n",
    "numbers = \",\".join(numList)\n",
    "print(f'{count}번만에 맞추셨습니다')\n",
    "print(f'입력한 숫자는 다음과 같습니다. {numbers}')"
   ]
  },
  {
   "cell_type": "code",
   "execution_count": 10,
   "id": "f4e9f4ac-ac45-4193-a19f-a37c18f47af2",
   "metadata": {},
   "outputs": [],
   "source": [
    "# Q 화씨온도를 섭씨 온도로 변경하는 함수를 만들어보세요. 화씨 온도를 섭씨 온도로 변경하는 공식은 아래와 같습니다.\n",
    "#   c = (f - 32) * 5/9\n",
    "#   함수명: to_celsius\n",
    "#   인자: fahrengeit\n",
    "#   반환: 섭씨 온도\n",
    "\n",
    "def to_celsius(fahrengeit):\n",
    "    return (fahrengeit - 32)* 5/9"
   ]
  },
  {
   "cell_type": "code",
   "execution_count": 12,
   "id": "feb61232-dcba-4d5b-a1c2-cbf21182a178",
   "metadata": {},
   "outputs": [
    {
     "data": {
      "text/plain": [
       "21.11111111111111"
      ]
     },
     "execution_count": 12,
     "metadata": {},
     "output_type": "execute_result"
    }
   ],
   "source": [
    "to_celsius(70)"
   ]
  },
  {
   "cell_type": "code",
   "execution_count": 129,
   "id": "b43ca23e-a5b4-43b0-86ba-0e7e9ee62d4a",
   "metadata": {},
   "outputs": [],
   "source": [
    "# Q 자연수를 인수로 전달하면 짝수일 때 \"짝수\"라는 문자열을, 홀수일 때 \"홀수\"라는 문자열을 반환하는 함수를 만들어보자\n",
    "# - 자연수에 대해서만 \"짝수\",\"홀수\" 반환한다\n",
    "# - 자연수가 아닌 값이 들어왔을 때 반환값 없이 함수를 즉시 종료한다. \n",
    "\n",
    "# 함수에서 return을 만나면 함수 즉시 빠져나감. --> 빠져나가면 함수를 호출한 부분부터 다시 시작됨\n",
    "\n",
    "def odd_even(n):\n",
    "    \"\"\"number가 짝수면 \"짝수\", 홀수면 \"홀수\" 반환\"\"\"\n",
    "    if type(n) is not int:          # int가 아닐때\n",
    "        return\n",
    "    elif n % 2 == 0:    \n",
    "        return \"짝수\"\n",
    "    elif n % 2 != 0:\n",
    "        return \"홀수\"\n",
    "                               # None 은 '반환값없이' 라는 뜻"
   ]
  },
  {
   "cell_type": "code",
   "execution_count": 33,
   "id": "f71e4b35-e3d6-44e7-a39f-4e817642fba1",
   "metadata": {},
   "outputs": [
    {
     "name": "stdout",
     "output_type": "stream",
     "text": [
      "number가 짝수면 \"짝수\", 홀수면 \"홀수\" 반환\n",
      "짝수\n",
      "홀수\n",
      "None\n"
     ]
    }
   ],
   "source": [
    "print(odd_even.__doc__)\n",
    "print(odd_even(10))\n",
    "print(odd_even(9))\n",
    "print(odd_even(\"가\"))"
   ]
  },
  {
   "cell_type": "code",
   "execution_count": 38,
   "id": "d908d1ea-b2d5-409e-a15e-eab8268eb419",
   "metadata": {},
   "outputs": [],
   "source": [
    "# 강사님이 푸신것\n",
    "def odd_even(n):\n",
    "    \"\"\"number가 짝수면 \"짝수\", 홀수면 \"홀수\" 반환\"\"\"\n",
    "    if type(n) is int and n >0:\n",
    "        return \"짝수\" * (n % 2 == 0) or \"홀수\"        # 논리연산자 or은 앞에 값이 T 라면, 뒤에 값도 T\n",
    "    else:\n",
    "        return"
   ]
  },
  {
   "cell_type": "code",
   "execution_count": 39,
   "id": "1af31194-ecaa-4944-860b-395488e51191",
   "metadata": {},
   "outputs": [
    {
     "name": "stdout",
     "output_type": "stream",
     "text": [
      "number가 짝수면 \"짝수\", 홀수면 \"홀수\" 반환\n",
      "짝수\n",
      "홀수\n",
      "None\n"
     ]
    }
   ],
   "source": [
    "print(odd_even.__doc__)\n",
    "print(odd_even(10))\n",
    "print(odd_even(9))\n",
    "print(odd_even(\"가\"))"
   ]
  },
  {
   "cell_type": "code",
   "execution_count": 40,
   "id": "4816cc7c-8022-4ce3-b95b-52fc76d922dd",
   "metadata": {},
   "outputs": [],
   "source": [
    "# Q 인수로 연도 값을 입력 받습니다. 윤년을 나타나는 연도가 입력되면 윤년이라는 문자열을 반환하고,\n",
    "#   그렇지 않은 수가 입력되면 평년이라는 문자열을 반환하는 함수를 만들어보세요\n",
    "# - 윤년은 기본적으로 4로 나눠지는 연도입니다.\n",
    "# - 예외사항: 100으로 나눠지면서 400으로 나눠지지 않는 연도는 평년입니다.\n",
    "\n",
    "def check_leap_year(n):\n",
    "    if n % 100 == 0 and n % 400 != 0:\n",
    "        return \"평년\"\n",
    "    elif n % 4 == 0:\n",
    "        return \"윤년\" "
   ]
  },
  {
   "cell_type": "code",
   "execution_count": 44,
   "id": "a00c72d3-7b48-4ba7-b856-ce56ab0f3484",
   "metadata": {},
   "outputs": [
    {
     "data": {
      "text/plain": [
       "'평년'"
      ]
     },
     "execution_count": 44,
     "metadata": {},
     "output_type": "execute_result"
    }
   ],
   "source": [
    "check_leap_year(1900)"
   ]
  },
  {
   "cell_type": "code",
   "execution_count": 56,
   "id": "0f1c4ef7-f0d5-454a-a1e8-8f19c1e87ce7",
   "metadata": {},
   "outputs": [],
   "source": [
    "# Q 연도가 평년일 때 1월, 3월, 5월, 7월, 8월, 10월, 12월은 31일, 4월, 6월, 9월, 11월은 30일, 2월은 28일입니다.\n",
    "#   월을 나타내는 숫자를 인수로 전달하면 그 달의 날짜 개수를 반환하는 함수 days를 만들어보세요.\n",
    "\n",
    "month1 = [1, 3, 5, 7, 8, 10, 12]\n",
    "month2 = [4, 6, 9, 11]\n",
    "month3 = [2]\n",
    "\n",
    "def days(n):\n",
    "    if n in month1:\n",
    "        return 31\n",
    "    elif n in month3:\n",
    "        return 28\n",
    "    elif n in month2:\n",
    "        return 30"
   ]
  },
  {
   "cell_type": "code",
   "execution_count": 57,
   "id": "ffb237c4-8e27-4d3a-88e5-6fa045c8fad0",
   "metadata": {},
   "outputs": [
    {
     "data": {
      "text/plain": [
       "28"
      ]
     },
     "execution_count": 57,
     "metadata": {},
     "output_type": "execute_result"
    }
   ],
   "source": [
    "days(2)"
   ]
  },
  {
   "cell_type": "code",
   "execution_count": 63,
   "id": "4073717c-04ef-44cf-bbb8-bb386908ec4e",
   "metadata": {},
   "outputs": [],
   "source": [
    "# Q 연도를 나타내는 숫자와 월을 나타내는 숫자를 인수 값으로 각각 전달하면 그 달의 날짜 개수를 반환하는 함수 days를 만들어보자\n",
    "#   -윤년(2 ~ 29)/-평년(2 ~ 28) 도 계산해야 함\n",
    "month1 = [1, 3, 5, 7, 8, 10, 12]\n",
    "month2 = [4, 6, 9, 11]\n",
    "month3 = [2]\n",
    "\n",
    "def mon_y(y,m):\n",
    "    if m in month1:\n",
    "        return 31\n",
    "    elif m in month2:\n",
    "        return 30\n",
    "    elif m in month3:\n",
    "        if y % 100 == 0 and y % 400 != 0:\n",
    "            return 28\n",
    "        else :\n",
    "            return 29"
   ]
  },
  {
   "cell_type": "code",
   "execution_count": 60,
   "id": "936ce953-be32-4d6d-adeb-b7152cd54965",
   "metadata": {},
   "outputs": [
    {
     "data": {
      "text/plain": [
       "30"
      ]
     },
     "execution_count": 60,
     "metadata": {},
     "output_type": "execute_result"
    }
   ],
   "source": [
    "mon_y(1900,11)"
   ]
  },
  {
   "cell_type": "code",
   "execution_count": 61,
   "id": "cd6e437b-448b-47cd-9fc5-f3558b83837b",
   "metadata": {},
   "outputs": [
    {
     "data": {
      "text/plain": [
       "31"
      ]
     },
     "execution_count": 61,
     "metadata": {},
     "output_type": "execute_result"
    }
   ],
   "source": [
    "mon_y(2004,10)"
   ]
  },
  {
   "cell_type": "code",
   "execution_count": 64,
   "id": "44d708fd-0af3-4898-8dc9-bbbe9110eaf0",
   "metadata": {},
   "outputs": [
    {
     "data": {
      "text/plain": [
       "28"
      ]
     },
     "execution_count": 64,
     "metadata": {},
     "output_type": "execute_result"
    }
   ],
   "source": [
    "mon_y(1900,2)"
   ]
  },
  {
   "cell_type": "code",
   "execution_count": 65,
   "id": "9df547b1-ef6c-49cd-abf1-227492e112cf",
   "metadata": {},
   "outputs": [
    {
     "data": {
      "text/plain": [
       "29"
      ]
     },
     "execution_count": 65,
     "metadata": {},
     "output_type": "execute_result"
    }
   ],
   "source": [
    "mon_y(2000,2)"
   ]
  },
  {
   "cell_type": "code",
   "execution_count": 74,
   "id": "d4f2c436-170a-40a5-9c93-455eab3fe091",
   "metadata": {},
   "outputs": [
    {
     "name": "stdout",
     "output_type": "stream",
     "text": [
      "몫:3,나머지:1\n"
     ]
    }
   ],
   "source": [
    "x = 10\n",
    "y = 3\n",
    "\n",
    "def get_quotient_remainder(n,i):\n",
    "    return n // i, n % i\n",
    "quitient, remainder = get_quotient_remainder(x,y)  # 함수 호출 / 반환을 한게 리턴 / 좌에 unpackingretrun \n",
    "print(f'몫:{quitient},나머지:{remainder}')"
   ]
  },
  {
   "cell_type": "markdown",
   "id": "21dab643-1c02-4088-b242-8cf22f234d1d",
   "metadata": {},
   "source": [
    "##### divmod(나눠질 수, 나눌 수):\n",
    "##### -----return '''',''''"
   ]
  },
  {
   "cell_type": "markdown",
   "id": "d13316cc-7ed8-4f1f-b118-a80b3d1d0dc9",
   "metadata": {},
   "source": [
    "### 변수\n",
    "###### 전역 변수(global variable) -\n",
    "###### 지역 변수(local variable) - \n",
    "###### 지역 범위에서 전역 변수 할당하기"
   ]
  },
  {
   "cell_type": "markdown",
   "id": "15cbee79-c4cf-48b3-92b2-f4444fe553f4",
   "metadata": {},
   "source": [
    "##### 함수 바디에 함수를 중첩해서 만들기\n",
    "###### 바디 안에 def를 써서 다시 함수만들기 가능. "
   ]
  },
  {
   "cell_type": "code",
   "execution_count": 75,
   "id": "abf563f3-8eca-4a69-9483-6ce655ab51f4",
   "metadata": {},
   "outputs": [],
   "source": [
    "# 함수 중첩 \n",
    "def level1():\n",
    "    message = 'this is level 1.'\n",
    "    def level2():\n",
    "        print(message)\n",
    "    level2()"
   ]
  },
  {
   "cell_type": "code",
   "execution_count": 77,
   "id": "137ca746-f0a7-4509-b597-c6ed9dc2ac25",
   "metadata": {},
   "outputs": [
    {
     "name": "stdout",
     "output_type": "stream",
     "text": [
      "this is level 1.\n"
     ]
    }
   ],
   "source": [
    "level1()"
   ]
  },
  {
   "cell_type": "markdown",
   "id": "600358ec-5310-4d9f-ac5a-c67061553662",
   "metadata": {},
   "source": [
    "##### 안쪽 함수에서 바깥쪽 함수의 변수 변경해보기\n",
    "###### 안쪽 함수에서 바깥쪽 함수에 선언된 변수에 대한 출력이 가능.\n",
    "###### 변경도 가능할까? (안됨)/ nonlocal 사용하면 변경가능"
   ]
  },
  {
   "cell_type": "code",
   "execution_count": 86,
   "id": "0fda62cb-9209-46f9-9105-2e8b6e1081bd",
   "metadata": {},
   "outputs": [],
   "source": [
    "def level1():\n",
    "    message = 'this is level 1.'\n",
    "    def level2():\n",
    "        nonlocal message \n",
    "        message = 'level2 is better than level1'\n",
    "    level2()\n",
    "    print(message)"
   ]
  },
  {
   "cell_type": "code",
   "execution_count": 87,
   "id": "9d1790fd-dc58-4be5-b521-d2a4d36228cd",
   "metadata": {},
   "outputs": [
    {
     "name": "stdout",
     "output_type": "stream",
     "text": [
      "level2 is better than level1\n"
     ]
    }
   ],
   "source": [
    "level1()"
   ]
  },
  {
   "cell_type": "markdown",
   "id": "1f0db81f-77ff-4d2f-a4dd-2dd4b1d2ca92",
   "metadata": {},
   "source": [
    "##### global, nonlocal 특징과 권고사항 #####\n",
    "- global키워드: 함수의 중첩된 정도와 상관없이 전역 범위의 변수를 매칭\n",
    "- 중첩된 함수마다 같은 이름의 변수가 있다면 : nonlocal키워드는 제일 가까운 바깥 변수를 매칭\n",
    "- 가급적 함수마다 이름이 같은 변수를 사용하기보단 다른 변수명을 사용하는게 좋다"
   ]
  },
  {
   "cell_type": "markdown",
   "id": "e847e08f-3a94-4577-a4e5-053ed10b73ad",
   "metadata": {},
   "source": [
    "#### 변수 범위 정리 ####\n",
    "- 선언한 변수(함수안에서) 함수를 호출 해 실행되는 동안만 사용가능\n",
    "- 범위마다 같은 이름의 변수를 사용해도 각각 독립적으로 동작\n",
    "- 지역 변수를 저장하는 이름 공간 -> 지역 영역(local scope)\n",
    "- 전역 변수를 저장하는 이름 공간 -> 전역 영역(global scope)\n",
    "- 내장 영역(built-in scope): python자체에서 정의한 이름 공간\n",
    "- 함수에서 변수를 호출하면 지역 영역 -> 전역 영역 -> 내장 영역 순으로 해당하는 변수 확인"
   ]
  },
  {
   "cell_type": "code",
   "execution_count": 89,
   "id": "6db64dce-47ce-4a5b-9bf4-d5ebb507fea5",
   "metadata": {},
   "outputs": [
    {
     "name": "stdout",
     "output_type": "stream",
     "text": [
      "전역 변수입니다.\n"
     ]
    }
   ],
   "source": [
    "# 지역 범위(local scope) 전역 변수(global variable)에 접근 출력\n",
    "global_v = \"전역 변수입니다.\"\n",
    "\n",
    "def local_scope():     #호출\n",
    "    print(global_v)\n",
    "    \n",
    "local_scope()           "
   ]
  },
  {
   "cell_type": "code",
   "execution_count": 104,
   "id": "f2c58ff2-9f71-43f6-bb58-b2ab46b50bb7",
   "metadata": {},
   "outputs": [
    {
     "name": "stdout",
     "output_type": "stream",
     "text": [
      "전역 변수입니다.\n"
     ]
    }
   ],
   "source": [
    "# 지역 범위(local scope) 전역 변수(global variable)에 접근 후 재 할당\n",
    "global_v2 = \"전역 변수입니다.\"\n",
    "\n",
    "def local_scope2():     \n",
    "    global_v2 = '지역 범위입니다.'\n",
    "    \n",
    "local_scope2()\n",
    "print(global_v2)\n",
    "\n",
    "# 사실은 전역 범위에서 global_v2를 만들어 할당한 것과\n",
    "# 로컬 범위에서 global_v2를 만들어 할당한 것\n",
    "# 두 가지 일을 각각 독립적으로 실행한 결과를 확인했다."
   ]
  },
  {
   "cell_type": "code",
   "execution_count": 105,
   "id": "a8ba28b0-e099-4e58-bc65-32400e853c7b",
   "metadata": {},
   "outputs": [
    {
     "name": "stdout",
     "output_type": "stream",
     "text": [
      "지역 범위입니다.\n"
     ]
    }
   ],
   "source": [
    "# 지역 범위(local scope) 전역 변수(global variable)에 접근 후 재 할당\n",
    "global_v3 = \"전역 변수입니다.\"\n",
    "\n",
    "def local_scope3():         # global 키워드를 사용함으로 값이 해당이 되게 만듬\n",
    "    global global_v3        # 전역 범위에 있는 전역 변수인 global_v3를 사용하겠다.\n",
    "    global_v3 = '지역 범위입니다.'\n",
    "    \n",
    "local_scope3()\n",
    "print(global_v3)\n",
    "# global 키워드를 활용하면 지역 범위에 있어도 \n",
    "# 전역 변수에 대한 변경이 가능하도록 할 수 있었다."
   ]
  },
  {
   "cell_type": "code",
   "execution_count": 106,
   "id": "d3f61ac3-6454-4648-a0b3-7566c4419f85",
   "metadata": {},
   "outputs": [
    {
     "name": "stdout",
     "output_type": "stream",
     "text": [
      "바깥 지역 범위입니다.\n"
     ]
    }
   ],
   "source": [
    "# 지역 범위(local scope) 안에 지역 범위가 중첩되어 있을 경우\n",
    "# 비교적 바깥에 있는 지역 범위의 지역 변수에 접근하여 출력\n",
    "global_v2 = \"전역 변수입니다.\"\n",
    "\n",
    "def local_scope4():     \n",
    "    global_v4 = '바깥 지역 범위입니다.'        # local 범위 안에 있어서 출력가능\n",
    "    def local_scope5():\n",
    "        print(global_v4)\n",
    "    local_scope5()\n",
    "    \n",
    "local_scope4()"
   ]
  },
  {
   "cell_type": "code",
   "execution_count": 107,
   "id": "d53e7ef6-7ccf-48a7-8b14-abd75e2235cc",
   "metadata": {},
   "outputs": [
    {
     "ename": "NameError",
     "evalue": "name 'global_v4' is not defined",
     "output_type": "error",
     "traceback": [
      "\u001b[1;31m---------------------------------------------------------------------------\u001b[0m",
      "\u001b[1;31mNameError\u001b[0m                                 Traceback (most recent call last)",
      "\u001b[1;32m~\\AppData\\Local\\Temp\\ipykernel_10376\\4098267204.py\u001b[0m in \u001b[0;36m<module>\u001b[1;34m\u001b[0m\n\u001b[0;32m      9\u001b[0m \u001b[1;33m\u001b[0m\u001b[0m\n\u001b[0;32m     10\u001b[0m     \u001b[0mlocal_scope5\u001b[0m\u001b[1;33m(\u001b[0m\u001b[1;33m)\u001b[0m\u001b[1;33m\u001b[0m\u001b[1;33m\u001b[0m\u001b[0m\n\u001b[1;32m---> 11\u001b[1;33m \u001b[0mprint\u001b[0m\u001b[1;33m(\u001b[0m\u001b[0mglobal_v4\u001b[0m\u001b[1;33m)\u001b[0m   \u001b[1;31m# 접근 불가. 없음\u001b[0m\u001b[1;33m\u001b[0m\u001b[1;33m\u001b[0m\u001b[0m\n\u001b[0m\u001b[0;32m     12\u001b[0m \u001b[1;33m\u001b[0m\u001b[0m\n\u001b[0;32m     13\u001b[0m \u001b[1;31m#지역 범위 안에 있는 지역 변수는 그 함수 실행과 반환 사이동안만 살아있었다.\u001b[0m\u001b[1;33m\u001b[0m\u001b[1;33m\u001b[0m\u001b[0m\n",
      "\u001b[1;31mNameError\u001b[0m: name 'global_v4' is not defined"
     ]
    }
   ],
   "source": [
    "# 지역 범위(local scope) 안에 지역 범위가 중첩되어 있을 경우\n",
    "# 비교적 바깥에 있는 지역 범위의 지역 변수에 접근하여 출력\n",
    "global_v2 = \"전역 변수입니다.\"\n",
    "\n",
    "def local_scope4():     \n",
    "    global_v4 = '바깥 지역 범위입니다.'        \n",
    "    def local_scope5():\n",
    "        print(global_v4)\n",
    "    \n",
    "    local_scope5()\n",
    "print(global_v4)   # 접근 불가. 없음\n",
    "\n",
    "#지역 범위 안에 있는 지역 변수는 그 함수 실행과 반환 사이동안만 살아있었다.\n",
    " \n",
    "local_scope4()"
   ]
  },
  {
   "cell_type": "code",
   "execution_count": 108,
   "id": "7e0b8f4e-61a7-48ca-9336-cd0efb708e72",
   "metadata": {},
   "outputs": [
    {
     "name": "stdout",
     "output_type": "stream",
     "text": [
      "바깥 지역 범위입니다.\n"
     ]
    }
   ],
   "source": [
    "# 지역 범위(local scope) 안에 지역 범위가 중첩되어 있을 경우\n",
    "# 비교적 바깥에 있는 지역 범위의 지역 변수에 접근하여 출력\n",
    "global_v2 = \"전역 변수입니다.\"\n",
    "                                                 # 각각의 v5가 독립적으로 존재했다\n",
    "def local_scope6():    \n",
    "    global_v5 = '바깥 지역 범위입니다.'        # 더 넓은 범위의 로컬 변수로 선언\n",
    "    def local_scope7():\n",
    "        global_v5 = '안쪽 지역 범위입니다.'    # 더 좁은 범위의 로컬 변수로 선언\n",
    "    local_scope7()\n",
    "    print(global_v5)\n",
    "    \n",
    "local_scope6()\n",
    "\n",
    "# 그래서 local_scope6 범위의 global_v5는\n",
    "# local_scope7 범위의 global_v5와 각각 독립적으로 생성이 된 것을 봤다"
   ]
  },
  {
   "cell_type": "code",
   "execution_count": 110,
   "id": "80517956-1d44-4414-8053-1cf649bd0eaf",
   "metadata": {},
   "outputs": [
    {
     "name": "stdout",
     "output_type": "stream",
     "text": [
      "안쪽 지역 범위입니다.\n"
     ]
    }
   ],
   "source": [
    "# 지역 범위(local scope) 안에 지역 범위가 중첩되어 있을 경우\n",
    "# 비교적 바깥에 있는 지역 범위의 지역 변수에 접근하여 출력\n",
    "                               \n",
    "def local_scope8():     \n",
    "    global_v6 = '바깥 지역 범위입니다.'       \n",
    "    def local_scope9():                    # 현 영역 (지금의 로컬 영역 바깥의 변수 global_v6 를 찾아서 사용하겠다.)\n",
    "        nonlocal global_v6                 \n",
    "        global_v6 = '안쪽 지역 범위입니다.'    \n",
    "    local_scope9()\n",
    "    print(global_v6)\n",
    "    \n",
    "local_scope8()"
   ]
  },
  {
   "cell_type": "markdown",
   "id": "5d07cd1a-1896-464a-b095-edcd1b727a65",
   "metadata": {},
   "source": [
    "#### 람다(Lambda)\n",
    "- 호출될 때 값이 구해지는 하나의 표현식. 이름이 없는 인라인 함수\n",
    "- 표현식과 정의절의 차이점 -> 람다는 이름이 없다\n",
    "- 소괄호로 람다식을 호출. 소괄호 닫고 인수를 넣으면 됨\n",
    "- 람다로 만든 익명함수 호출하려면, 변수에 할당해 사용(python에서 함수는 객체)\n",
    "- 람다 expression 부분은 변수 없이 식 한 줄로 표현 가능(인라인). 표현식 안에 새 변수 만들 수 있음. 변수 필요한 경우 def를 써서 함수 정의해라\n",
    "###### lambda [parameters]:expression  ---> Lambda표현식\n",
    "###### ---------매개변수지정 -----반환값으로 사용할 식\n",
    "###### 일반 함수 정의절 ---> def func(parameters):\n",
    "###### --------------------(들여쓰기) return expression"
   ]
  },
  {
   "cell_type": "code",
   "execution_count": 112,
   "id": "53035ab0-2ce1-4ca1-9003-3dd8966843a7",
   "metadata": {},
   "outputs": [
    {
     "data": {
      "text/plain": [
       "20"
      ]
     },
     "execution_count": 112,
     "metadata": {},
     "output_type": "execute_result"
    }
   ],
   "source": [
    "(lambda x : x + 10)(10)"
   ]
  },
  {
   "cell_type": "markdown",
   "id": "a022f969-3bb7-4588-a473-26b5e23b492b",
   "metadata": {},
   "source": [
    "#### (lambda [parameters] : expression)(arguments) ####"
   ]
  },
  {
   "cell_type": "code",
   "execution_count": 114,
   "id": "353acab4-bb3d-4b1b-a262-e6971a874b6b",
   "metadata": {},
   "outputs": [
    {
     "name": "stdout",
     "output_type": "stream",
     "text": [
      "20\n"
     ]
    }
   ],
   "source": [
    "twice = lambda x : x * 2\n",
    "print(twice(10))"
   ]
  },
  {
   "cell_type": "markdown",
   "id": "cb9ab33e-923b-4bda-b05a-cf76116b921c",
   "metadata": {},
   "source": [
    "#### 조건 표현식(comditional expression).inline if else\n",
    "- 인라인으로 이루어져서 if와 else를 한줄로 작성해야함 (무조건 같이 사용, 중첩은 가독성좋게)\n",
    "#### T 일때 값 if 조건식 else F 일때 값#### if 조건식이 T일 때 왼쪽, 반대일 경우 F라서 오른쪽\n"
   ]
  },
  {
   "cell_type": "code",
   "execution_count": 116,
   "id": "51a5aa2b-354f-44bf-9af9-6458f4816fc8",
   "metadata": {},
   "outputs": [
    {
     "data": {
      "text/plain": [
       "'b'"
      ]
     },
     "execution_count": 116,
     "metadata": {},
     "output_type": "execute_result"
    }
   ],
   "source": [
    "score = 90\n",
    "'a' if 90 < score <= 100 else 'b' if 80 < score else 'c'\n",
    "\n",
    "# 굳이 이렇게 중첩을 많이 안써도 된다. 한눈에 보기 어려움"
   ]
  },
  {
   "cell_type": "markdown",
   "id": "31830acb-7e8e-4b0a-97d2-4049802755ae",
   "metadata": {},
   "source": [
    "#### 람다(Lambda) feat. map()\n",
    "- 람다와 map() 함수를 같이 쓸 때 사용.\n",
    "- 필요에 따라 parameter와 iterable의 개수를 맞춰 사용\n",
    "- 길이가 짧아도 상관없이 동작. 길이가 작은 쪽에 맞춰 값을 반환(iterable길이)"
   ]
  },
  {
   "cell_type": "markdown",
   "id": "6e144f48-69b9-4b9c-ad4d-dbffb601300e",
   "metadata": {},
   "source": [
    "#### map(lambda parameter1, parameter2,....:expression,\n",
    "#### iterable1, iterable2,...)"
   ]
  },
  {
   "cell_type": "code",
   "execution_count": 123,
   "id": "be87d48b-a8f2-4742-b7fb-7e28af23e480",
   "metadata": {},
   "outputs": [
    {
     "name": "stdout",
     "output_type": "stream",
     "text": [
      "[2, 8, 18, 32, 50]\n"
     ]
    }
   ],
   "source": [
    "a = [ n for n in range(1,6)]\n",
    "b = [ n for n in range(2,11,2)]\n",
    "print(list(map(lambda x, y : x * y, a, b)))\n"
   ]
  },
  {
   "cell_type": "code",
   "execution_count": 124,
   "id": "d336ddca-25c3-486c-b01d-eeee76e8886f",
   "metadata": {},
   "outputs": [
    {
     "name": "stdout",
     "output_type": "stream",
     "text": [
      "[0, 4, 12, 24, 40]\n",
      "100\n"
     ]
    }
   ],
   "source": [
    "a = [ _ for _ in range(5)] # 0, 1, 2, 3, 4\n",
    "b = [ _ for _ in range(2, 11, 2)] # 2, 4, 6, 8, 10\n",
    "\n",
    "c = list(map(lambda x, y : x * y, a, b))\n",
    "\n",
    "print(c)\n",
    "print((lambda x : x ** 2)(10))"
   ]
  },
  {
   "cell_type": "markdown",
   "id": "371db090-58c7-47f3-ac71-e738874a7f56",
   "metadata": {},
   "source": [
    "#### 람다(Lambda) feat. filter()\n",
    "- filter의 첫인수로 들어가는 반환 값이 T일때만 해당 요소를 가져욤\n",
    "- 리스트 컴프리헨션으로도 표현 가능(속도와 가독성 모두 list comprehension이 나음)\n",
    "#### map(lambda parameter : expression, iterable)"
   ]
  },
  {
   "cell_type": "code",
   "execution_count": 127,
   "id": "fca3c6ca-6178-4fa9-b557-e5fc7c3df3c6",
   "metadata": {},
   "outputs": [
    {
     "data": {
      "text/plain": [
       "[3, 9, 9]"
      ]
     },
     "execution_count": 127,
     "metadata": {},
     "output_type": "execute_result"
    }
   ],
   "source": [
    "a = [3, 2, 8, 22, 10, 7, 0, 11, 9, 9]\n",
    "list(filter(lambda x : x % 3 == 0 and 0 < x < 10, a))"
   ]
  },
  {
   "cell_type": "markdown",
   "id": "8b9a1bee-02a1-43a2-a8e2-a1f09507a95f",
   "metadata": {},
   "source": [
    "#### 객체 지향(Object Oriented) 프로그래밍\n",
    "- 복잡한 문제를 잘게 나누어 객체로 만듬 -> 객체를 조합해 문제 해결\n",
    "- 복잡한 문제 처리 유용하고, 기능을 개선 발전 시 클래스만 수정하면 됨( 큰 프로젝트 유지보수에 효율적 )\n",
    "- 객체가 가진 데이터를 클래스의 속성(Attribute)이라 부름. \n",
    "- 객체가 갖는 기능을 메서드(Method)라고 부름"
   ]
  },
  {
   "cell_type": "markdown",
   "id": "d42f3ae6-75fd-4620-a830-08f88c71c01a",
   "metadata": {},
   "source": [
    "### 클래스(class)\n",
    "- 사용자 정의 객체를 만들기 위한 주형(이라고 생각하면 된다)\n",
    "- 정의는 보통 클래스의 인스턴스를 대상으로 연산하는 메스드 정의를 포함\n",
    "- class ClassName:                    ----> 클래스명은 주로 PascalCase(UpperCamelCase)를 씁니다.\n",
    "-  (들여쓰기) def method_name(self):   \n",
    "-            (들여쓰기) method_body\n",
    "\n",
    "-  (들여쓰기)class_body\n",
    "-  ....."
   ]
  },
  {
   "cell_type": "markdown",
   "id": "f36d759c-26fa-4278-8e2d-bce62d0e5276",
   "metadata": {},
   "source": [
    "#### 클래스(class)\n",
    "- int, list, dict 등도 클래스 : \n",
    "#### 객체? 인스턴스?\n",
    "- 인스턴스(Instance)는 특정 클래스로부터 만들어진 실체로 언급을 많이 한다.\n",
    "- 인스턴스 생성 -> 클래스명 오른편에 소괄호를 붙여서 만듬\n",
    "###### instance_variable = ClassName()"
   ]
  },
  {
   "cell_type": "markdown",
   "id": "adf8e033-19a5-406c-9add-93270418568e",
   "metadata": {},
   "source": [
    "### 메서드(Method)\n",
    "- 클래스 바디 안에서 정의되는 함수\n",
    "- 클래스의 인스턴스의 어트리뷰트(attribute)로서 호출되면... -> 첫번째 인자로 인스턴스 객체(self)를 받는다\n",
    "- 첫번째 인자를 설정 안하면 에러 발생 (첫 번째 인자를 'self'라고 쓴다)"
   ]
  },
  {
   "cell_type": "code",
   "execution_count": 145,
   "id": "0399a90c-88a9-48bc-8169-0e9f8abaff2a",
   "metadata": {},
   "outputs": [],
   "source": [
    "class Student:\n",
    "    def __init__(self):                # __(언더바두번): double under score : 던더라고 부름\n",
    "        pass"
   ]
  },
  {
   "cell_type": "code",
   "execution_count": 146,
   "id": "935a613d-2498-4a2f-99f9-aa2080c82fe6",
   "metadata": {},
   "outputs": [],
   "source": [
    "ji = Student()  # 독립적인 값을 보장하는 인스턴스로 생성된다."
   ]
  },
  {
   "cell_type": "code",
   "execution_count": 156,
   "id": "2c621550-655e-4d86-a50f-f9381a8140d7",
   "metadata": {},
   "outputs": [],
   "source": [
    "class Person:\n",
    "    def __init__(self):\n",
    "        self.hello = \"안녕하세요\""
   ]
  },
  {
   "cell_type": "code",
   "execution_count": 157,
   "id": "901d0e25-fa03-4152-940c-d2581319954a",
   "metadata": {},
   "outputs": [],
   "source": [
    "james = Person()"
   ]
  },
  {
   "cell_type": "code",
   "execution_count": 158,
   "id": "2fb501d0-813b-43f8-a99f-4c4e1ea322e5",
   "metadata": {},
   "outputs": [
    {
     "name": "stdout",
     "output_type": "stream",
     "text": [
      "안녕하세요\n"
     ]
    }
   ],
   "source": [
    "print(james.hello)"
   ]
  },
  {
   "cell_type": "markdown",
   "id": "3b23834f-b62c-48ab-882a-ed83f736ee7f",
   "metadata": {},
   "source": [
    "#### 클래스 속성(Attribute)\n",
    "- __init__ 메서드는 james = Person()처럼 클래스에 소괄호를 붙여 인스턴스를 만들때 호출되는 special method, magic method이다\n",
    "- __init__은 initialize의 줄임말. 인스턴스(객체)를 초기화(메모리에 공간을 할당,값을 부여)한다\n",
    "- __(언더바두번): double under score : 던더라고 부름. 파이썬이 자동으로 부여하는 메서드\n",
    "- 속성 : __init__은 메서드에서 만듬. self에 마침표(.) 를 붙여 속성명 부여. 값을 할당 (클래스 바디에도 동일하게)"
   ]
  },
  {
   "cell_type": "markdown",
   "id": "20bc4e6e-3ccc-49e2-bc81-3ac0889ee52f",
   "metadata": {},
   "source": [
    "#### self란 \n",
    "- self : 인스턴스 자기 자신을 의미\n",
    "- 인스턴스 생성 될 때 self.hello = 'hi' 처럼 자신에 대해 속성을 추가해 사용\n",
    "- __init__의 매개변수 self에 들어가는 값은 Person()인스턴스라고 할 수 있음(예제참고). self 완성 이후 변수에 할당 됨\n",
    "- 이후 메서드 호출 시 현 인스턴스가 자동으로 매개변수 self에 들어옴"
   ]
  },
  {
   "cell_type": "code",
   "execution_count": 159,
   "id": "bfa09488-8e80-44df-b96d-1b8ced21b670",
   "metadata": {},
   "outputs": [
    {
     "name": "stdout",
     "output_type": "stream",
     "text": [
      "안녕하세요\n"
     ]
    }
   ],
   "source": [
    "class Person:\n",
    "    def __init__(self):\n",
    "        self.hello = \"안녕하세요\"\n",
    "        \n",
    "    def greeting(self):\n",
    "        print(self.hello)\n",
    "        \n",
    "james = Person()\n",
    "james.greeting()"
   ]
  },
  {
   "cell_type": "code",
   "execution_count": null,
   "id": "829aa077-b6a3-44cd-9b46-1467edff6af3",
   "metadata": {},
   "outputs": [],
   "source": []
  }
 ],
 "metadata": {
  "kernelspec": {
   "display_name": "Python 3 (ipykernel)",
   "language": "python",
   "name": "python3"
  },
  "language_info": {
   "codemirror_mode": {
    "name": "ipython",
    "version": 3
   },
   "file_extension": ".py",
   "mimetype": "text/x-python",
   "name": "python",
   "nbconvert_exporter": "python",
   "pygments_lexer": "ipython3",
   "version": "3.9.13"
  }
 },
 "nbformat": 4,
 "nbformat_minor": 5
}
